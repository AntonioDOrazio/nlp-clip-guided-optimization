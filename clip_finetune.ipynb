{
 "cells": [
  {
   "cell_type": "markdown",
   "id": "0e869e62",
   "metadata": {},
   "source": [
    "Source notebook: https://github.com/statscol/clip-fine-tuning/blob/main/clip-fine-tuning.ipynb"
   ]
  },
  {
   "cell_type": "markdown",
   "id": "905f2825",
   "metadata": {
    "execution": {
     "iopub.execute_input": "2022-10-13T21:02:07.685920Z",
     "iopub.status.busy": "2022-10-13T21:02:07.685173Z",
     "iopub.status.idle": "2022-10-13T21:02:07.690292Z",
     "shell.execute_reply": "2022-10-13T21:02:07.689298Z",
     "shell.execute_reply.started": "2022-10-13T21:02:07.685882Z"
    },
    "papermill": {
     "duration": 0.005465,
     "end_time": "2022-10-19T14:32:58.594345",
     "exception": false,
     "start_time": "2022-10-19T14:32:58.588880",
     "status": "completed"
    },
    "tags": []
   },
   "source": [
    "## Fine-tuning Clip on PolyHaven dataset\n",
    "\n",
    "\n",
    "The following graph shows the approach, where basically we need an image an text encoder to compute representations on each source and compute similarities later on\n",
    "\n",
    "![image.png](https://miro.medium.com/max/786/1*tg7akErlMSyCLQxrMtQIYw.png)"
   ]
  },
  {
   "cell_type": "code",
   "execution_count": 1,
   "id": "ed3c2c3f",
   "metadata": {
    "execution": {
     "iopub.execute_input": "2022-10-19T14:33:23.072611Z",
     "iopub.status.busy": "2022-10-19T14:33:23.072255Z",
     "iopub.status.idle": "2022-10-19T14:33:26.094441Z",
     "shell.execute_reply": "2022-10-19T14:33:26.092801Z"
    },
    "papermill": {
     "duration": 3.031208,
     "end_time": "2022-10-19T14:33:26.096660",
     "exception": false,
     "start_time": "2022-10-19T14:33:23.065452",
     "status": "completed"
    },
    "tags": []
   },
   "outputs": [
    {
     "name": "stdout",
     "output_type": "stream",
     "text": [
      "Torch version: 2.0.1\n"
     ]
    }
   ],
   "source": [
    "import numpy as np\n",
    "import clip\n",
    "import torch\n",
    "from tqdm.notebook import tqdm\n",
    "from pkg_resources import packaging\n",
    "import os\n",
    "import torch\n",
    "from torchvision import datasets, transforms\n",
    "from torch.utils.data import Dataset, DataLoader\n",
    "import matplotlib.pyplot as plt\n",
    "from sklearn.model_selection import train_test_split\n",
    "import numpy as np\n",
    "from PIL import Image\n",
    "from torch.utils.data.sampler import SubsetRandomSampler\n",
    "print(\"Torch version:\", torch.__version__)"
   ]
  },
  {
   "cell_type": "markdown",
   "id": "e55df4a0",
   "metadata": {},
   "source": [
    "## Load CLIP and VAE"
   ]
  },
  {
   "cell_type": "code",
   "execution_count": 2,
   "id": "c56dd6eb",
   "metadata": {},
   "outputs": [
    {
     "name": "stdout",
     "output_type": "stream",
     "text": [
      "dummy input shape  torch.Size([4096])\n"
     ]
    },
    {
     "data": {
      "text/plain": [
       "<All keys matched successfully>"
      ]
     },
     "execution_count": 2,
     "metadata": {},
     "output_type": "execute_result"
    }
   ],
   "source": [
    "DEVICE=\"cuda:0\" if torch.cuda.is_available() else \"cpu\"\n",
    "\n",
    "from model import VAE\n",
    "vae = VAE().to(DEVICE)\n",
    "\n",
    "to_tensor = transforms.ToTensor()\n",
    "\n",
    "vae_transform = transforms.Compose([\n",
    "        transforms.Normalize(\n",
    "            mean=[0.485, 0.456, 0.406],\n",
    "            std=[0.229, 0.224, 0.225])\n",
    "    ])\n",
    "\n",
    "vae.load_state_dict(torch.load(\"train_results/model_weights_final.pth\"))"
   ]
  },
  {
   "cell_type": "code",
   "execution_count": 3,
   "id": "fe67b4b4",
   "metadata": {},
   "outputs": [],
   "source": [
    "torch.cuda.empty_cache()\n",
    "model, preprocess = clip.load(\"ViT-B/32\", jit=False)"
   ]
  },
  {
   "cell_type": "code",
   "execution_count": 4,
   "id": "a962f710",
   "metadata": {},
   "outputs": [],
   "source": [
    "preprocess_tensor = transforms.Compose([\n",
    "        preprocess.transforms[0],\n",
    "        preprocess.transforms[1],\n",
    "        preprocess.transforms[4]\n",
    "])\n",
    "\n",
    "def apply_vae(img, model_vae, preprocess_fn):\n",
    "\n",
    "    img_vae = model_vae(vae_transform(img))[0]\n",
    "    return preprocess_fn(img_vae).detach()"
   ]
  },
  {
   "cell_type": "markdown",
   "id": "1b0ab759",
   "metadata": {
    "papermill": {
     "duration": 0.005363,
     "end_time": "2022-10-19T14:33:26.107979",
     "exception": false,
     "start_time": "2022-10-19T14:33:26.102616",
     "status": "completed"
    },
    "tags": []
   },
   "source": [
    "## Load Data"
   ]
  },
  {
   "cell_type": "code",
   "execution_count": 5,
   "id": "5b995613",
   "metadata": {
    "execution": {
     "iopub.execute_input": "2022-10-19T14:33:26.120568Z",
     "iopub.status.busy": "2022-10-19T14:33:26.119385Z",
     "iopub.status.idle": "2022-10-19T14:33:27.107706Z",
     "shell.execute_reply": "2022-10-19T14:33:27.106772Z"
    },
    "papermill": {
     "duration": 0.996497,
     "end_time": "2022-10-19T14:33:27.109711",
     "exception": false,
     "start_time": "2022-10-19T14:33:26.113214",
     "status": "completed"
    },
    "tags": []
   },
   "outputs": [
    {
     "data": {
      "text/html": [
       "<div>\n",
       "<style scoped>\n",
       "    .dataframe tbody tr th:only-of-type {\n",
       "        vertical-align: middle;\n",
       "    }\n",
       "\n",
       "    .dataframe tbody tr th {\n",
       "        vertical-align: top;\n",
       "    }\n",
       "\n",
       "    .dataframe thead th {\n",
       "        text-align: right;\n",
       "    }\n",
       "</style>\n",
       "<table border=\"1\" class=\"dataframe\">\n",
       "  <thead>\n",
       "    <tr style=\"text-align: right;\">\n",
       "      <th></th>\n",
       "      <th>name</th>\n",
       "      <th>tags</th>\n",
       "      <th>categories</th>\n",
       "      <th>caption</th>\n",
       "    </tr>\n",
       "  </thead>\n",
       "  <tbody>\n",
       "    <tr>\n",
       "      <th>0</th>\n",
       "      <td>abandoned_bakery_1k</td>\n",
       "      <td>[abandoned, empty, industrial, windows, bare, ...</td>\n",
       "      <td>[natural light, artificial light, urban, indoo...</td>\n",
       "      <td>[abandoned, empty, industrial, windows, bare, ...</td>\n",
       "    </tr>\n",
       "    <tr>\n",
       "      <th>1</th>\n",
       "      <td>abandoned_church_1k</td>\n",
       "      <td>[tree, autumn, church, abandoned, leaves]</td>\n",
       "      <td>[outdoor, nature, morning-afternoon, partly cl...</td>\n",
       "      <td>[tree, autumn, church, abandoned, leaves, outd...</td>\n",
       "    </tr>\n",
       "    <tr>\n",
       "      <th>2</th>\n",
       "      <td>abandoned_construction_1k</td>\n",
       "      <td>[brick, pillar, warehouse, rubble, abandoned, ...</td>\n",
       "      <td>[indoor, urban, natural light, medium contrast...</td>\n",
       "      <td>[brick, pillar, warehouse, rubble, abandoned, ...</td>\n",
       "    </tr>\n",
       "    <tr>\n",
       "      <th>3</th>\n",
       "      <td>abandoned_factory_canteen_01_1k</td>\n",
       "      <td>[hall, abandoned, fluorescent, industrial, bac...</td>\n",
       "      <td>[indoor, urban, low contrast, natural light]</td>\n",
       "      <td>[hall, abandoned, fluorescent, industrial, bac...</td>\n",
       "    </tr>\n",
       "    <tr>\n",
       "      <th>4</th>\n",
       "      <td>abandoned_factory_canteen_02_1k</td>\n",
       "      <td>[hall, abandoned, industrial, boxes, backplates]</td>\n",
       "      <td>[indoor, urban, natural light, medium contrast]</td>\n",
       "      <td>[hall, abandoned, industrial, boxes, backplate...</td>\n",
       "    </tr>\n",
       "  </tbody>\n",
       "</table>\n",
       "</div>"
      ],
      "text/plain": [
       "                              name  \\\n",
       "0              abandoned_bakery_1k   \n",
       "1              abandoned_church_1k   \n",
       "2        abandoned_construction_1k   \n",
       "3  abandoned_factory_canteen_01_1k   \n",
       "4  abandoned_factory_canteen_02_1k   \n",
       "\n",
       "                                                tags  \\\n",
       "0  [abandoned, empty, industrial, windows, bare, ...   \n",
       "1          [tree, autumn, church, abandoned, leaves]   \n",
       "2  [brick, pillar, warehouse, rubble, abandoned, ...   \n",
       "3  [hall, abandoned, fluorescent, industrial, bac...   \n",
       "4   [hall, abandoned, industrial, boxes, backplates]   \n",
       "\n",
       "                                          categories  \\\n",
       "0  [natural light, artificial light, urban, indoo...   \n",
       "1  [outdoor, nature, morning-afternoon, partly cl...   \n",
       "2  [indoor, urban, natural light, medium contrast...   \n",
       "3       [indoor, urban, low contrast, natural light]   \n",
       "4    [indoor, urban, natural light, medium contrast]   \n",
       "\n",
       "                                             caption  \n",
       "0  [abandoned, empty, industrial, windows, bare, ...  \n",
       "1  [tree, autumn, church, abandoned, leaves, outd...  \n",
       "2  [brick, pillar, warehouse, rubble, abandoned, ...  \n",
       "3  [hall, abandoned, fluorescent, industrial, bac...  \n",
       "4  [hall, abandoned, industrial, boxes, backplate...  "
      ]
     },
     "execution_count": 5,
     "metadata": {},
     "output_type": "execute_result"
    }
   ],
   "source": [
    "## Get labels\n",
    "from pathlib import Path\n",
    "import pandas as pd\n",
    "labels=pd.read_json(\"dataset/polyhaven.json\")\n",
    "labels.head()"
   ]
  },
  {
   "cell_type": "code",
   "execution_count": 6,
   "id": "ed183e55",
   "metadata": {},
   "outputs": [
    {
     "name": "stdout",
     "output_type": "stream",
     "text": [
      "(477, 4)\n"
     ]
    }
   ],
   "source": [
    "train = labels\n",
    "train.sort_values(by=\"name\", ascending=True, inplace=True)\n",
    "print(train.shape)"
   ]
  },
  {
   "cell_type": "code",
   "execution_count": 7,
   "id": "1dd043d4",
   "metadata": {
    "execution": {
     "iopub.execute_input": "2022-10-19T14:37:02.926636Z",
     "iopub.status.busy": "2022-10-19T14:37:02.926294Z",
     "iopub.status.idle": "2022-10-19T14:37:03.049287Z",
     "shell.execute_reply": "2022-10-19T14:37:03.048356Z"
    },
    "papermill": {
     "duration": 0.245791,
     "end_time": "2022-10-19T14:37:03.051592",
     "exception": false,
     "start_time": "2022-10-19T14:37:02.805801",
     "status": "completed"
    },
    "tags": []
   },
   "outputs": [],
   "source": [
    "#using datasets.ImageFolder makes loading images and preprocessing easier\n",
    "image_folder = datasets.ImageFolder(\"dataset/polyhaven_clip\",transform=to_tensor) #before transform=preprocess"
   ]
  },
  {
   "cell_type": "code",
   "execution_count": 8,
   "id": "ea0461e9",
   "metadata": {
    "execution": {
     "iopub.execute_input": "2022-10-19T14:37:03.256395Z",
     "iopub.status.busy": "2022-10-19T14:37:03.255786Z",
     "iopub.status.idle": "2022-10-19T14:37:03.267453Z",
     "shell.execute_reply": "2022-10-19T14:37:03.266555Z"
    },
    "papermill": {
     "duration": 0.115815,
     "end_time": "2022-10-19T14:37:03.270052",
     "exception": false,
     "start_time": "2022-10-19T14:37:03.154237",
     "status": "completed"
    },
    "tags": []
   },
   "outputs": [
    {
     "data": {
      "text/plain": [
       "477"
      ]
     },
     "execution_count": 8,
     "metadata": {},
     "output_type": "execute_result"
    }
   ],
   "source": [
    "## Create datasets\n",
    "class PolyHaven(Dataset):\n",
    "    def __init__(self,captions,image_tensors):\n",
    "        self.captions=captions\n",
    "        self.images=image_tensors\n",
    "        \n",
    "    def __getitem__(self,idx):\n",
    "        image_idx,_=self.images[idx]\n",
    "        caption_idx=self.captions[idx]\n",
    "        return {'image':image_idx,'caption': \" \".join(caption_idx)}\n",
    "        \n",
    "    def __len__(self):\n",
    "        return len(self.captions)\n",
    "    \n",
    "dataset = PolyHaven(train.caption.values.tolist(), image_folder)\n",
    "len(dataset)"
   ]
  },
  {
   "cell_type": "code",
   "execution_count": 9,
   "id": "9f54e00c",
   "metadata": {
    "execution": {
     "iopub.execute_input": "2022-10-19T14:37:03.472451Z",
     "iopub.status.busy": "2022-10-19T14:37:03.472023Z",
     "iopub.status.idle": "2022-10-19T14:37:03.479735Z",
     "shell.execute_reply": "2022-10-19T14:37:03.478902Z"
    },
    "papermill": {
     "duration": 0.111519,
     "end_time": "2022-10-19T14:37:03.481784",
     "exception": false,
     "start_time": "2022-10-19T14:37:03.370265",
     "status": "completed"
    },
    "tags": []
   },
   "outputs": [],
   "source": [
    "## create dataloaders\n",
    "BATCH_SIZE  =  8\n",
    "TEST_SPLIT  = .2\n",
    "RANDOM_SEED = 128\n",
    "\n",
    "dataset_size = train.shape[0]\n",
    "indices = list(range(dataset_size))\n",
    "split = int(np.floor(TEST_SPLIT * dataset_size))\n",
    "np.random.seed(RANDOM_SEED)\n",
    "np.random.shuffle(indices)\n",
    "train_indices, val_indices = indices[split:], indices[:split]\n",
    "\n",
    "# Creating PT data samplers and loaders:\n",
    "train_sampler = SubsetRandomSampler(train_indices)\n",
    "valid_sampler = SubsetRandomSampler(val_indices)\n",
    "\n",
    "tr_dl = DataLoader(dataset, batch_size=BATCH_SIZE, sampler=train_sampler)\n",
    "ts_dl = DataLoader(dataset, batch_size=BATCH_SIZE, sampler=valid_sampler)"
   ]
  },
  {
   "cell_type": "code",
   "execution_count": 10,
   "id": "5850236a",
   "metadata": {
    "execution": {
     "iopub.execute_input": "2022-10-19T14:37:03.682186Z",
     "iopub.status.busy": "2022-10-19T14:37:03.681879Z",
     "iopub.status.idle": "2022-10-19T14:37:03.689579Z",
     "shell.execute_reply": "2022-10-19T14:37:03.688578Z"
    },
    "papermill": {
     "duration": 0.1109,
     "end_time": "2022-10-19T14:37:03.691749",
     "exception": false,
     "start_time": "2022-10-19T14:37:03.580849",
     "status": "completed"
    },
    "tags": []
   },
   "outputs": [],
   "source": [
    "import torch.nn as nn\n",
    "import torch.optim as optim\n",
    "\n",
    "N_EPOCHS = 500\n",
    "loss_img = nn.CrossEntropyLoss()\n",
    "loss_caption = nn.CrossEntropyLoss()\n",
    "\n",
    "optimizer = optim.Adam(model.parameters(), lr=1e-5)\n",
    "scheduler = optim.lr_scheduler.CosineAnnealingLR(optimizer, len(tr_dl)*N_EPOCHS)"
   ]
  },
  {
   "cell_type": "markdown",
   "id": "9293d4b5",
   "metadata": {
    "papermill": {
     "duration": 0.11322,
     "end_time": "2022-10-19T14:37:03.906649",
     "exception": false,
     "start_time": "2022-10-19T14:37:03.793429",
     "status": "completed"
    },
    "tags": []
   },
   "source": [
    "## Training code"
   ]
  },
  {
   "cell_type": "code",
   "execution_count": 11,
   "id": "b6fc6b81",
   "metadata": {},
   "outputs": [],
   "source": [
    "import random\n",
    "import re\n",
    "\n",
    "def get_random_words(sentence):\n",
    "    # Tokenize the sentence into words using regular expression\n",
    "    words = re.findall(r'\\b\\w+\\b', sentence)\n",
    "    \n",
    "    # Check if there are at least three words in the sentence\n",
    "    if len(words) < 3:\n",
    "        return None\n",
    "    \n",
    "    # Choose three random words from the list\n",
    "    random_words = random.sample(words, 3)\n",
    "    \n",
    "    # Create a new string by joining the selected random words\n",
    "    random_words_string = ' '.join(random_words)\n",
    "    \n",
    "    return random_words_string"
   ]
  },
  {
   "cell_type": "code",
   "execution_count": 12,
   "id": "eebfead4",
   "metadata": {},
   "outputs": [],
   "source": [
    "DEVICE=\"cuda:0\" if torch.cuda.is_available() else \"cpu\"\n",
    "\n",
    "vae.eval()\n",
    "vae.requires_grad_(False)\n",
    "\n",
    "model.to(DEVICE)\n",
    "\n",
    "\n",
    "## to avoid problems with mixed precision, taken from here https://github.com/openai/CLIP/issues/57\n",
    "def convert_models_to_fp32(model): \n",
    "    for p in model.parameters(): \n",
    "        p.data = p.data.float() \n",
    "        p.grad.data = p.grad.data.float()\n",
    "\n",
    "\n",
    "def validate(test_dl, use_vae=False):\n",
    "    model.eval()\n",
    "    test_loss=0.0\n",
    "    for data in tqdm(test_dl,desc=\"Evaluating in validation set\"):\n",
    "        if use_vae == True:\n",
    "            img_batch=apply_vae(data['image'].to(DEVICE), vae, preprocess_tensor)\n",
    "        else: \n",
    "            img_batch=preprocess_tensor(data['image'].to(DEVICE))        \n",
    "        captions_batch=clip.tokenize(data['caption'],truncate=True).to(DEVICE)\n",
    "        with torch.no_grad():\n",
    "            logits_image, logits_caption = model(img_batch, captions_batch)\n",
    "        labels = torch.arange(len(img_batch)).to(DEVICE)  ## we are interested on predicting the right caption which is the caption position of every image\n",
    "        total_loss = (loss_img(logits_image,labels) + loss_caption(logits_caption,labels))/2\n",
    "        test_loss+=total_loss.item()\n",
    "    \n",
    "    test_total_loss=test_loss/len(test_dl)\n",
    "    print(f\"Validation Loss {test_total_loss:.3f}\")\n",
    "    return test_total_loss\n",
    "\n",
    "\n",
    "def train_model(n_epochs,train_dataloader,checkpoint_path:str=\"./clip_checkpoints\", use_vae=False, model_name=\"default\"):\n",
    "    if not os.path.isdir(checkpoint_path):\n",
    "        os.makedirs(checkpoint_path)\n",
    "        \n",
    "    print(f\"Using {DEVICE} for training\")\n",
    "    best_score=9999999\n",
    "    history={'train_loss':[],'val_loss':[]}\n",
    "    for epoch in tqdm(range(n_epochs)):\n",
    "        total_steps=0\n",
    "        train_loss=0.0\n",
    "        model.train()\n",
    "        for step,data in enumerate(train_dataloader,1):\n",
    "            \n",
    "            optimizer.zero_grad()\n",
    "            if use_vae == True:\n",
    "                img_batch=apply_vae(data['image'].to(DEVICE), vae, preprocess_tensor)\n",
    "            else: \n",
    "                img_batch=preprocess_tensor(data['image'].to(DEVICE))\n",
    "\n",
    "            #words = [get_random_words(caption) for caption in data['caption']]\n",
    "            captions_batch=clip.tokenize(data['caption'],truncate=True).to(DEVICE)\n",
    "            with torch.cuda.amp.autocast():\n",
    "                logits_image, logits_caption = model(img_batch, captions_batch)\n",
    "            labels = torch.arange(len(img_batch)).to(DEVICE)  ## we are interested on predicting the right caption which is the caption position of every image\n",
    "            img_loss=loss_img(logits_image,labels)\n",
    "            caption_loss=loss_caption(logits_caption,labels)\n",
    "            total_loss = (img_loss+caption_loss)/2\n",
    "            total_loss.backward()\n",
    "            train_loss+=total_loss.item()\n",
    "            convert_models_to_fp32(model)\n",
    "            optimizer.step()\n",
    "            #torch.nn.utils.clip_grad_norm_(model.parameters(), 1.0)\n",
    "            total_steps+=1\n",
    "            scheduler.step() ##per step scheduler\n",
    "            if step%100==0:\n",
    "                print(f\"Epoch {epoch} step loss:{train_loss/total_steps}\")\n",
    "                print(f\"Lr at step {step}: {optimizer.param_groups[0]['lr']:.5f}\")\n",
    "            \n",
    "        history['train_loss'].append(train_loss/len(train_dataloader))\n",
    "        val_metrics=validate(ts_dl, use_vae=use_vae)\n",
    "        history['val_loss'].append(val_metrics)\n",
    "\n",
    "        if epoch+1==n_epochs:\n",
    "            print(\"TRAINING COMPLETE!\")\n",
    "            if os.path.exists(Path(checkpoint_path)/\"clip_finetuned_{}.pt\".format(model_name)):\n",
    "                os.remove(Path(checkpoint_path)/\"clip_finetuned_{}.pt\".format(model_name))\n",
    "            best_score=val_metrics\n",
    "            torch.save(model.state_dict(), Path(checkpoint_path)/\"clip_finetuned_{}.pt\".format(model_name))\n",
    "            \n",
    "    return history\n",
    "            \n"
   ]
  },
  {
   "cell_type": "markdown",
   "id": "f68aff24",
   "metadata": {},
   "source": [
    "## Train on the PolyHaven Dataset"
   ]
  },
  {
   "cell_type": "code",
   "execution_count": 13,
   "id": "778b2954",
   "metadata": {},
   "outputs": [
    {
     "name": "stdout",
     "output_type": "stream",
     "text": [
      "Using cuda:0 for training\n"
     ]
    },
    {
     "data": {
      "application/vnd.jupyter.widget-view+json": {
       "model_id": "fbaca032a6f9496391ea47899ae9bf99",
       "version_major": 2,
       "version_minor": 0
      },
      "text/plain": [
       "  0%|          | 0/500 [00:00<?, ?it/s]"
      ]
     },
     "metadata": {},
     "output_type": "display_data"
    },
    {
     "name": "stderr",
     "output_type": "stream",
     "text": [
      "/home/antonio/miniconda3/envs/nlp-env/lib/python3.11/site-packages/torchvision/transforms/functional.py:1603: UserWarning: The default value of the antialias parameter of all the resizing transforms (Resize(), RandomResizedCrop(), etc.) will change from None to True in v0.17, in order to be consistent across the PIL and Tensor backends. To suppress this warning, directly pass antialias=True (recommended, future default), antialias=None (current default, which means False for Tensors and True for PIL), or antialias=False (only works on Tensors - PIL will still use antialiasing). This also applies if you are using the inference transforms from the models weights: update the call to weights.transforms(antialias=True).\n",
      "  warnings.warn(\n",
      "/home/antonio/miniconda3/envs/nlp-env/lib/python3.11/site-packages/torch/nn/modules/conv.py:459: UserWarning: Applied workaround for CuDNN issue, install nvrtc.so (Triggered internally at /opt/conda/conda-bld/pytorch_1682343995622/work/aten/src/ATen/native/cudnn/Conv_v8.cpp:80.)\n",
      "  return F.conv2d(input, weight, bias, self.stride,\n"
     ]
    },
    {
     "data": {
      "application/vnd.jupyter.widget-view+json": {
       "model_id": "95357fd2b79a423e8cebd673c875c681",
       "version_major": 2,
       "version_minor": 0
      },
      "text/plain": [
       "Evaluating in validation set:   0%|          | 0/12 [00:00<?, ?it/s]"
      ]
     },
     "metadata": {},
     "output_type": "display_data"
    },
    {
     "name": "stdout",
     "output_type": "stream",
     "text": [
      "Validation Loss 0.551\n"
     ]
    },
    {
     "data": {
      "application/vnd.jupyter.widget-view+json": {
       "model_id": "479b02fd3c4d4a1abfb4c16d05151de2",
       "version_major": 2,
       "version_minor": 0
      },
      "text/plain": [
       "Evaluating in validation set:   0%|          | 0/12 [00:00<?, ?it/s]"
      ]
     },
     "metadata": {},
     "output_type": "display_data"
    },
    {
     "name": "stdout",
     "output_type": "stream",
     "text": [
      "Validation Loss 0.618\n"
     ]
    },
    {
     "data": {
      "application/vnd.jupyter.widget-view+json": {
       "model_id": "b1df8df0e89d45bbad294bc44d1c7ad0",
       "version_major": 2,
       "version_minor": 0
      },
      "text/plain": [
       "Evaluating in validation set:   0%|          | 0/12 [00:00<?, ?it/s]"
      ]
     },
     "metadata": {},
     "output_type": "display_data"
    },
    {
     "name": "stdout",
     "output_type": "stream",
     "text": [
      "Validation Loss 0.550\n"
     ]
    },
    {
     "data": {
      "application/vnd.jupyter.widget-view+json": {
       "model_id": "dba107c0347c4eec8852081d87aed82d",
       "version_major": 2,
       "version_minor": 0
      },
      "text/plain": [
       "Evaluating in validation set:   0%|          | 0/12 [00:00<?, ?it/s]"
      ]
     },
     "metadata": {},
     "output_type": "display_data"
    },
    {
     "name": "stdout",
     "output_type": "stream",
     "text": [
      "Validation Loss 0.560\n"
     ]
    },
    {
     "data": {
      "application/vnd.jupyter.widget-view+json": {
       "model_id": "536f6ff853c847e2b07a6776adccbcdd",
       "version_major": 2,
       "version_minor": 0
      },
      "text/plain": [
       "Evaluating in validation set:   0%|          | 0/12 [00:00<?, ?it/s]"
      ]
     },
     "metadata": {},
     "output_type": "display_data"
    },
    {
     "name": "stdout",
     "output_type": "stream",
     "text": [
      "Validation Loss 0.810\n"
     ]
    },
    {
     "data": {
      "application/vnd.jupyter.widget-view+json": {
       "model_id": "07d9e2643ba4435780e292b3d4e08da2",
       "version_major": 2,
       "version_minor": 0
      },
      "text/plain": [
       "Evaluating in validation set:   0%|          | 0/12 [00:00<?, ?it/s]"
      ]
     },
     "metadata": {},
     "output_type": "display_data"
    },
    {
     "name": "stdout",
     "output_type": "stream",
     "text": [
      "Validation Loss 0.477\n"
     ]
    },
    {
     "data": {
      "application/vnd.jupyter.widget-view+json": {
       "model_id": "dbf37017c7f84766bd590ef45c9747db",
       "version_major": 2,
       "version_minor": 0
      },
      "text/plain": [
       "Evaluating in validation set:   0%|          | 0/12 [00:00<?, ?it/s]"
      ]
     },
     "metadata": {},
     "output_type": "display_data"
    },
    {
     "name": "stdout",
     "output_type": "stream",
     "text": [
      "Validation Loss 0.489\n"
     ]
    },
    {
     "data": {
      "application/vnd.jupyter.widget-view+json": {
       "model_id": "ff2c3160e9b04a8c9a076f330c5dd289",
       "version_major": 2,
       "version_minor": 0
      },
      "text/plain": [
       "Evaluating in validation set:   0%|          | 0/12 [00:00<?, ?it/s]"
      ]
     },
     "metadata": {},
     "output_type": "display_data"
    },
    {
     "name": "stdout",
     "output_type": "stream",
     "text": [
      "Validation Loss 0.477\n"
     ]
    },
    {
     "data": {
      "application/vnd.jupyter.widget-view+json": {
       "model_id": "2ed7ec148eba4a31bf5b60ef9b010e85",
       "version_major": 2,
       "version_minor": 0
      },
      "text/plain": [
       "Evaluating in validation set:   0%|          | 0/12 [00:00<?, ?it/s]"
      ]
     },
     "metadata": {},
     "output_type": "display_data"
    },
    {
     "name": "stdout",
     "output_type": "stream",
     "text": [
      "Validation Loss 0.413\n"
     ]
    },
    {
     "data": {
      "application/vnd.jupyter.widget-view+json": {
       "model_id": "9183c6ce86fb4e04a202dc37b163f46b",
       "version_major": 2,
       "version_minor": 0
      },
      "text/plain": [
       "Evaluating in validation set:   0%|          | 0/12 [00:00<?, ?it/s]"
      ]
     },
     "metadata": {},
     "output_type": "display_data"
    },
    {
     "name": "stdout",
     "output_type": "stream",
     "text": [
      "Validation Loss 0.347\n"
     ]
    },
    {
     "data": {
      "application/vnd.jupyter.widget-view+json": {
       "model_id": "3914ee6bf4634fe1a2aa394a508c24eb",
       "version_major": 2,
       "version_minor": 0
      },
      "text/plain": [
       "Evaluating in validation set:   0%|          | 0/12 [00:00<?, ?it/s]"
      ]
     },
     "metadata": {},
     "output_type": "display_data"
    },
    {
     "name": "stdout",
     "output_type": "stream",
     "text": [
      "Validation Loss 0.302\n"
     ]
    },
    {
     "data": {
      "application/vnd.jupyter.widget-view+json": {
       "model_id": "50b8f324ca7b424e964b246451e936e3",
       "version_major": 2,
       "version_minor": 0
      },
      "text/plain": [
       "Evaluating in validation set:   0%|          | 0/12 [00:00<?, ?it/s]"
      ]
     },
     "metadata": {},
     "output_type": "display_data"
    },
    {
     "name": "stdout",
     "output_type": "stream",
     "text": [
      "Validation Loss 0.479\n"
     ]
    },
    {
     "data": {
      "application/vnd.jupyter.widget-view+json": {
       "model_id": "ae823f6e182645e9a291edfe33f43072",
       "version_major": 2,
       "version_minor": 0
      },
      "text/plain": [
       "Evaluating in validation set:   0%|          | 0/12 [00:00<?, ?it/s]"
      ]
     },
     "metadata": {},
     "output_type": "display_data"
    },
    {
     "name": "stdout",
     "output_type": "stream",
     "text": [
      "Validation Loss 0.459\n"
     ]
    },
    {
     "data": {
      "application/vnd.jupyter.widget-view+json": {
       "model_id": "46cdaf5b52b74de8bb14926aa266ee64",
       "version_major": 2,
       "version_minor": 0
      },
      "text/plain": [
       "Evaluating in validation set:   0%|          | 0/12 [00:00<?, ?it/s]"
      ]
     },
     "metadata": {},
     "output_type": "display_data"
    },
    {
     "name": "stdout",
     "output_type": "stream",
     "text": [
      "Validation Loss 0.334\n"
     ]
    },
    {
     "data": {
      "application/vnd.jupyter.widget-view+json": {
       "model_id": "9c0a20988ed3452896fa7694ee38b6aa",
       "version_major": 2,
       "version_minor": 0
      },
      "text/plain": [
       "Evaluating in validation set:   0%|          | 0/12 [00:00<?, ?it/s]"
      ]
     },
     "metadata": {},
     "output_type": "display_data"
    },
    {
     "name": "stdout",
     "output_type": "stream",
     "text": [
      "Validation Loss 0.532\n"
     ]
    },
    {
     "data": {
      "application/vnd.jupyter.widget-view+json": {
       "model_id": "0722c5d9c18348cbb6f6c3689e18f3c9",
       "version_major": 2,
       "version_minor": 0
      },
      "text/plain": [
       "Evaluating in validation set:   0%|          | 0/12 [00:00<?, ?it/s]"
      ]
     },
     "metadata": {},
     "output_type": "display_data"
    },
    {
     "name": "stdout",
     "output_type": "stream",
     "text": [
      "Validation Loss 0.461\n"
     ]
    },
    {
     "data": {
      "application/vnd.jupyter.widget-view+json": {
       "model_id": "73c8f4d0c70247879b0fe801888afcb9",
       "version_major": 2,
       "version_minor": 0
      },
      "text/plain": [
       "Evaluating in validation set:   0%|          | 0/12 [00:00<?, ?it/s]"
      ]
     },
     "metadata": {},
     "output_type": "display_data"
    },
    {
     "name": "stdout",
     "output_type": "stream",
     "text": [
      "Validation Loss 0.460\n"
     ]
    },
    {
     "data": {
      "application/vnd.jupyter.widget-view+json": {
       "model_id": "930f919dfa0c44c9a4369cf21127bdd4",
       "version_major": 2,
       "version_minor": 0
      },
      "text/plain": [
       "Evaluating in validation set:   0%|          | 0/12 [00:00<?, ?it/s]"
      ]
     },
     "metadata": {},
     "output_type": "display_data"
    },
    {
     "name": "stdout",
     "output_type": "stream",
     "text": [
      "Validation Loss 0.446\n"
     ]
    },
    {
     "data": {
      "application/vnd.jupyter.widget-view+json": {
       "model_id": "0d14a5c630c6480fad33c2ca554f8970",
       "version_major": 2,
       "version_minor": 0
      },
      "text/plain": [
       "Evaluating in validation set:   0%|          | 0/12 [00:00<?, ?it/s]"
      ]
     },
     "metadata": {},
     "output_type": "display_data"
    },
    {
     "name": "stdout",
     "output_type": "stream",
     "text": [
      "Validation Loss 0.464\n"
     ]
    },
    {
     "data": {
      "application/vnd.jupyter.widget-view+json": {
       "model_id": "9baa88c2b1f043d98e3e78b0b821c73d",
       "version_major": 2,
       "version_minor": 0
      },
      "text/plain": [
       "Evaluating in validation set:   0%|          | 0/12 [00:00<?, ?it/s]"
      ]
     },
     "metadata": {},
     "output_type": "display_data"
    },
    {
     "name": "stdout",
     "output_type": "stream",
     "text": [
      "Validation Loss 0.551\n"
     ]
    },
    {
     "data": {
      "application/vnd.jupyter.widget-view+json": {
       "model_id": "856c0d3249874514bcb4ba313fb820c2",
       "version_major": 2,
       "version_minor": 0
      },
      "text/plain": [
       "Evaluating in validation set:   0%|          | 0/12 [00:00<?, ?it/s]"
      ]
     },
     "metadata": {},
     "output_type": "display_data"
    },
    {
     "name": "stdout",
     "output_type": "stream",
     "text": [
      "Validation Loss 0.489\n"
     ]
    },
    {
     "data": {
      "application/vnd.jupyter.widget-view+json": {
       "model_id": "3da941aec33d4ca2a0c27d6a92e7060a",
       "version_major": 2,
       "version_minor": 0
      },
      "text/plain": [
       "Evaluating in validation set:   0%|          | 0/12 [00:00<?, ?it/s]"
      ]
     },
     "metadata": {},
     "output_type": "display_data"
    },
    {
     "name": "stdout",
     "output_type": "stream",
     "text": [
      "Validation Loss 0.553\n"
     ]
    },
    {
     "data": {
      "application/vnd.jupyter.widget-view+json": {
       "model_id": "098a94fa311a4678b06bdd4b7d48e6f5",
       "version_major": 2,
       "version_minor": 0
      },
      "text/plain": [
       "Evaluating in validation set:   0%|          | 0/12 [00:00<?, ?it/s]"
      ]
     },
     "metadata": {},
     "output_type": "display_data"
    },
    {
     "name": "stdout",
     "output_type": "stream",
     "text": [
      "Validation Loss 0.654\n"
     ]
    },
    {
     "data": {
      "application/vnd.jupyter.widget-view+json": {
       "model_id": "1dc48d09620d46dca28745536db835ea",
       "version_major": 2,
       "version_minor": 0
      },
      "text/plain": [
       "Evaluating in validation set:   0%|          | 0/12 [00:00<?, ?it/s]"
      ]
     },
     "metadata": {},
     "output_type": "display_data"
    },
    {
     "name": "stdout",
     "output_type": "stream",
     "text": [
      "Validation Loss 0.808\n"
     ]
    },
    {
     "data": {
      "application/vnd.jupyter.widget-view+json": {
       "model_id": "57738cdf23174506b485169b650927fd",
       "version_major": 2,
       "version_minor": 0
      },
      "text/plain": [
       "Evaluating in validation set:   0%|          | 0/12 [00:00<?, ?it/s]"
      ]
     },
     "metadata": {},
     "output_type": "display_data"
    },
    {
     "name": "stdout",
     "output_type": "stream",
     "text": [
      "Validation Loss 0.534\n"
     ]
    },
    {
     "data": {
      "application/vnd.jupyter.widget-view+json": {
       "model_id": "959dba6de40c42f9b3689edf47de95f8",
       "version_major": 2,
       "version_minor": 0
      },
      "text/plain": [
       "Evaluating in validation set:   0%|          | 0/12 [00:00<?, ?it/s]"
      ]
     },
     "metadata": {},
     "output_type": "display_data"
    },
    {
     "name": "stdout",
     "output_type": "stream",
     "text": [
      "Validation Loss 0.489\n"
     ]
    },
    {
     "data": {
      "application/vnd.jupyter.widget-view+json": {
       "model_id": "0b20757df20f4da088239ddac32e3f06",
       "version_major": 2,
       "version_minor": 0
      },
      "text/plain": [
       "Evaluating in validation set:   0%|          | 0/12 [00:00<?, ?it/s]"
      ]
     },
     "metadata": {},
     "output_type": "display_data"
    },
    {
     "name": "stdout",
     "output_type": "stream",
     "text": [
      "Validation Loss 0.462\n"
     ]
    },
    {
     "data": {
      "application/vnd.jupyter.widget-view+json": {
       "model_id": "379fa5b4e59e45a98f0874fe7a961f8a",
       "version_major": 2,
       "version_minor": 0
      },
      "text/plain": [
       "Evaluating in validation set:   0%|          | 0/12 [00:00<?, ?it/s]"
      ]
     },
     "metadata": {},
     "output_type": "display_data"
    },
    {
     "name": "stdout",
     "output_type": "stream",
     "text": [
      "Validation Loss 0.497\n"
     ]
    },
    {
     "data": {
      "application/vnd.jupyter.widget-view+json": {
       "model_id": "1212b13b29344ba9abd619008cb4b522",
       "version_major": 2,
       "version_minor": 0
      },
      "text/plain": [
       "Evaluating in validation set:   0%|          | 0/12 [00:00<?, ?it/s]"
      ]
     },
     "metadata": {},
     "output_type": "display_data"
    },
    {
     "name": "stdout",
     "output_type": "stream",
     "text": [
      "Validation Loss 0.485\n"
     ]
    },
    {
     "data": {
      "application/vnd.jupyter.widget-view+json": {
       "model_id": "3b4b9f8dbfcb47db9109dfcc05eea998",
       "version_major": 2,
       "version_minor": 0
      },
      "text/plain": [
       "Evaluating in validation set:   0%|          | 0/12 [00:00<?, ?it/s]"
      ]
     },
     "metadata": {},
     "output_type": "display_data"
    },
    {
     "name": "stdout",
     "output_type": "stream",
     "text": [
      "Validation Loss 0.272\n"
     ]
    },
    {
     "data": {
      "application/vnd.jupyter.widget-view+json": {
       "model_id": "bdcdf3efc7d14d98b621dd3f37211b8e",
       "version_major": 2,
       "version_minor": 0
      },
      "text/plain": [
       "Evaluating in validation set:   0%|          | 0/12 [00:00<?, ?it/s]"
      ]
     },
     "metadata": {},
     "output_type": "display_data"
    },
    {
     "name": "stdout",
     "output_type": "stream",
     "text": [
      "Validation Loss 0.315\n"
     ]
    },
    {
     "data": {
      "application/vnd.jupyter.widget-view+json": {
       "model_id": "798cc36d239f45b1a37fb9338b5e2e82",
       "version_major": 2,
       "version_minor": 0
      },
      "text/plain": [
       "Evaluating in validation set:   0%|          | 0/12 [00:00<?, ?it/s]"
      ]
     },
     "metadata": {},
     "output_type": "display_data"
    },
    {
     "name": "stdout",
     "output_type": "stream",
     "text": [
      "Validation Loss 0.358\n"
     ]
    },
    {
     "data": {
      "application/vnd.jupyter.widget-view+json": {
       "model_id": "bfa89f809e99483ebb7996f625ed27c0",
       "version_major": 2,
       "version_minor": 0
      },
      "text/plain": [
       "Evaluating in validation set:   0%|          | 0/12 [00:00<?, ?it/s]"
      ]
     },
     "metadata": {},
     "output_type": "display_data"
    },
    {
     "name": "stdout",
     "output_type": "stream",
     "text": [
      "Validation Loss 0.434\n"
     ]
    },
    {
     "data": {
      "application/vnd.jupyter.widget-view+json": {
       "model_id": "00b4acb75f5045ee978af01b265548de",
       "version_major": 2,
       "version_minor": 0
      },
      "text/plain": [
       "Evaluating in validation set:   0%|          | 0/12 [00:00<?, ?it/s]"
      ]
     },
     "metadata": {},
     "output_type": "display_data"
    },
    {
     "name": "stdout",
     "output_type": "stream",
     "text": [
      "Validation Loss 0.431\n"
     ]
    },
    {
     "data": {
      "application/vnd.jupyter.widget-view+json": {
       "model_id": "dfd97895736947f7b551c3862631d917",
       "version_major": 2,
       "version_minor": 0
      },
      "text/plain": [
       "Evaluating in validation set:   0%|          | 0/12 [00:00<?, ?it/s]"
      ]
     },
     "metadata": {},
     "output_type": "display_data"
    },
    {
     "name": "stdout",
     "output_type": "stream",
     "text": [
      "Validation Loss 0.403\n"
     ]
    },
    {
     "data": {
      "application/vnd.jupyter.widget-view+json": {
       "model_id": "e41ccf45fb1845f59c121505494670ca",
       "version_major": 2,
       "version_minor": 0
      },
      "text/plain": [
       "Evaluating in validation set:   0%|          | 0/12 [00:00<?, ?it/s]"
      ]
     },
     "metadata": {},
     "output_type": "display_data"
    },
    {
     "name": "stdout",
     "output_type": "stream",
     "text": [
      "Validation Loss 0.542\n"
     ]
    },
    {
     "data": {
      "application/vnd.jupyter.widget-view+json": {
       "model_id": "108e3ff1aac84b10bddabdf964e60636",
       "version_major": 2,
       "version_minor": 0
      },
      "text/plain": [
       "Evaluating in validation set:   0%|          | 0/12 [00:00<?, ?it/s]"
      ]
     },
     "metadata": {},
     "output_type": "display_data"
    },
    {
     "name": "stdout",
     "output_type": "stream",
     "text": [
      "Validation Loss 0.722\n"
     ]
    },
    {
     "data": {
      "application/vnd.jupyter.widget-view+json": {
       "model_id": "62a53a09ba35437eab8f12a7e76cc2a2",
       "version_major": 2,
       "version_minor": 0
      },
      "text/plain": [
       "Evaluating in validation set:   0%|          | 0/12 [00:00<?, ?it/s]"
      ]
     },
     "metadata": {},
     "output_type": "display_data"
    },
    {
     "name": "stdout",
     "output_type": "stream",
     "text": [
      "Validation Loss 0.769\n"
     ]
    },
    {
     "data": {
      "application/vnd.jupyter.widget-view+json": {
       "model_id": "4a7af8b0dc1844d29cbba0ee8aaf0283",
       "version_major": 2,
       "version_minor": 0
      },
      "text/plain": [
       "Evaluating in validation set:   0%|          | 0/12 [00:00<?, ?it/s]"
      ]
     },
     "metadata": {},
     "output_type": "display_data"
    },
    {
     "name": "stdout",
     "output_type": "stream",
     "text": [
      "Validation Loss 0.875\n"
     ]
    },
    {
     "data": {
      "application/vnd.jupyter.widget-view+json": {
       "model_id": "0e51e83b6a6d4aa69dd3441747c7e018",
       "version_major": 2,
       "version_minor": 0
      },
      "text/plain": [
       "Evaluating in validation set:   0%|          | 0/12 [00:00<?, ?it/s]"
      ]
     },
     "metadata": {},
     "output_type": "display_data"
    },
    {
     "name": "stdout",
     "output_type": "stream",
     "text": [
      "Validation Loss 0.738\n"
     ]
    },
    {
     "data": {
      "application/vnd.jupyter.widget-view+json": {
       "model_id": "c26634bce2f84c4991e4955592e8b4bd",
       "version_major": 2,
       "version_minor": 0
      },
      "text/plain": [
       "Evaluating in validation set:   0%|          | 0/12 [00:00<?, ?it/s]"
      ]
     },
     "metadata": {},
     "output_type": "display_data"
    },
    {
     "name": "stdout",
     "output_type": "stream",
     "text": [
      "Validation Loss 0.421\n"
     ]
    },
    {
     "data": {
      "application/vnd.jupyter.widget-view+json": {
       "model_id": "bda3c2a9eedd4cc699ac2d97c78871fa",
       "version_major": 2,
       "version_minor": 0
      },
      "text/plain": [
       "Evaluating in validation set:   0%|          | 0/12 [00:00<?, ?it/s]"
      ]
     },
     "metadata": {},
     "output_type": "display_data"
    },
    {
     "name": "stdout",
     "output_type": "stream",
     "text": [
      "Validation Loss 0.599\n"
     ]
    },
    {
     "data": {
      "application/vnd.jupyter.widget-view+json": {
       "model_id": "d251ac34298c4b22bc2b7e5cc43231d8",
       "version_major": 2,
       "version_minor": 0
      },
      "text/plain": [
       "Evaluating in validation set:   0%|          | 0/12 [00:00<?, ?it/s]"
      ]
     },
     "metadata": {},
     "output_type": "display_data"
    },
    {
     "name": "stdout",
     "output_type": "stream",
     "text": [
      "Validation Loss 0.552\n"
     ]
    },
    {
     "data": {
      "application/vnd.jupyter.widget-view+json": {
       "model_id": "778dd6eab9714c5aabfe647a26ca9319",
       "version_major": 2,
       "version_minor": 0
      },
      "text/plain": [
       "Evaluating in validation set:   0%|          | 0/12 [00:00<?, ?it/s]"
      ]
     },
     "metadata": {},
     "output_type": "display_data"
    },
    {
     "name": "stdout",
     "output_type": "stream",
     "text": [
      "Validation Loss 0.319\n"
     ]
    },
    {
     "data": {
      "application/vnd.jupyter.widget-view+json": {
       "model_id": "a8a88d4a1d4a4f18ae56ec5c7c48a8a2",
       "version_major": 2,
       "version_minor": 0
      },
      "text/plain": [
       "Evaluating in validation set:   0%|          | 0/12 [00:00<?, ?it/s]"
      ]
     },
     "metadata": {},
     "output_type": "display_data"
    },
    {
     "name": "stdout",
     "output_type": "stream",
     "text": [
      "Validation Loss 0.410\n"
     ]
    },
    {
     "data": {
      "application/vnd.jupyter.widget-view+json": {
       "model_id": "9f226435c23d4aa48bfa609b4effb9ad",
       "version_major": 2,
       "version_minor": 0
      },
      "text/plain": [
       "Evaluating in validation set:   0%|          | 0/12 [00:00<?, ?it/s]"
      ]
     },
     "metadata": {},
     "output_type": "display_data"
    },
    {
     "name": "stdout",
     "output_type": "stream",
     "text": [
      "Validation Loss 0.388\n"
     ]
    },
    {
     "data": {
      "application/vnd.jupyter.widget-view+json": {
       "model_id": "09e41709702f47f19aacaf86605ad328",
       "version_major": 2,
       "version_minor": 0
      },
      "text/plain": [
       "Evaluating in validation set:   0%|          | 0/12 [00:00<?, ?it/s]"
      ]
     },
     "metadata": {},
     "output_type": "display_data"
    },
    {
     "name": "stdout",
     "output_type": "stream",
     "text": [
      "Validation Loss 0.456\n"
     ]
    },
    {
     "data": {
      "application/vnd.jupyter.widget-view+json": {
       "model_id": "9ccff6d723b44914a3d96b9da62da8af",
       "version_major": 2,
       "version_minor": 0
      },
      "text/plain": [
       "Evaluating in validation set:   0%|          | 0/12 [00:00<?, ?it/s]"
      ]
     },
     "metadata": {},
     "output_type": "display_data"
    },
    {
     "name": "stdout",
     "output_type": "stream",
     "text": [
      "Validation Loss 0.531\n"
     ]
    },
    {
     "data": {
      "application/vnd.jupyter.widget-view+json": {
       "model_id": "a7293b715f3c460590165b653f3dd14c",
       "version_major": 2,
       "version_minor": 0
      },
      "text/plain": [
       "Evaluating in validation set:   0%|          | 0/12 [00:00<?, ?it/s]"
      ]
     },
     "metadata": {},
     "output_type": "display_data"
    },
    {
     "name": "stdout",
     "output_type": "stream",
     "text": [
      "Validation Loss 0.476\n"
     ]
    },
    {
     "data": {
      "application/vnd.jupyter.widget-view+json": {
       "model_id": "e37b90a9625d4fb986b07d6c71e2be9d",
       "version_major": 2,
       "version_minor": 0
      },
      "text/plain": [
       "Evaluating in validation set:   0%|          | 0/12 [00:00<?, ?it/s]"
      ]
     },
     "metadata": {},
     "output_type": "display_data"
    },
    {
     "name": "stdout",
     "output_type": "stream",
     "text": [
      "Validation Loss 0.499\n"
     ]
    },
    {
     "data": {
      "application/vnd.jupyter.widget-view+json": {
       "model_id": "94a8d1e8e9484611a7e10989edfc4595",
       "version_major": 2,
       "version_minor": 0
      },
      "text/plain": [
       "Evaluating in validation set:   0%|          | 0/12 [00:00<?, ?it/s]"
      ]
     },
     "metadata": {},
     "output_type": "display_data"
    },
    {
     "name": "stdout",
     "output_type": "stream",
     "text": [
      "Validation Loss 0.617\n"
     ]
    },
    {
     "data": {
      "application/vnd.jupyter.widget-view+json": {
       "model_id": "7475d68afa84414ab1fcb0fa3ff998ea",
       "version_major": 2,
       "version_minor": 0
      },
      "text/plain": [
       "Evaluating in validation set:   0%|          | 0/12 [00:00<?, ?it/s]"
      ]
     },
     "metadata": {},
     "output_type": "display_data"
    },
    {
     "name": "stdout",
     "output_type": "stream",
     "text": [
      "Validation Loss 0.548\n"
     ]
    },
    {
     "data": {
      "application/vnd.jupyter.widget-view+json": {
       "model_id": "637b29cd4ed645c89fe0dc4eddd7ec17",
       "version_major": 2,
       "version_minor": 0
      },
      "text/plain": [
       "Evaluating in validation set:   0%|          | 0/12 [00:00<?, ?it/s]"
      ]
     },
     "metadata": {},
     "output_type": "display_data"
    },
    {
     "name": "stdout",
     "output_type": "stream",
     "text": [
      "Validation Loss 0.596\n"
     ]
    },
    {
     "data": {
      "application/vnd.jupyter.widget-view+json": {
       "model_id": "7a7caa48eda243b493f5b44b2c07cb46",
       "version_major": 2,
       "version_minor": 0
      },
      "text/plain": [
       "Evaluating in validation set:   0%|          | 0/12 [00:00<?, ?it/s]"
      ]
     },
     "metadata": {},
     "output_type": "display_data"
    },
    {
     "name": "stdout",
     "output_type": "stream",
     "text": [
      "Validation Loss 0.609\n"
     ]
    },
    {
     "data": {
      "application/vnd.jupyter.widget-view+json": {
       "model_id": "742c4d5ee9684a968171a893f3a1d8a8",
       "version_major": 2,
       "version_minor": 0
      },
      "text/plain": [
       "Evaluating in validation set:   0%|          | 0/12 [00:00<?, ?it/s]"
      ]
     },
     "metadata": {},
     "output_type": "display_data"
    },
    {
     "name": "stdout",
     "output_type": "stream",
     "text": [
      "Validation Loss 0.602\n"
     ]
    },
    {
     "data": {
      "application/vnd.jupyter.widget-view+json": {
       "model_id": "45ba059a975f40d7a95d32e22d09eb6c",
       "version_major": 2,
       "version_minor": 0
      },
      "text/plain": [
       "Evaluating in validation set:   0%|          | 0/12 [00:00<?, ?it/s]"
      ]
     },
     "metadata": {},
     "output_type": "display_data"
    },
    {
     "name": "stdout",
     "output_type": "stream",
     "text": [
      "Validation Loss 0.669\n"
     ]
    },
    {
     "data": {
      "application/vnd.jupyter.widget-view+json": {
       "model_id": "e3b2ffe134cf42998fd42cbddd4f1700",
       "version_major": 2,
       "version_minor": 0
      },
      "text/plain": [
       "Evaluating in validation set:   0%|          | 0/12 [00:00<?, ?it/s]"
      ]
     },
     "metadata": {},
     "output_type": "display_data"
    },
    {
     "name": "stdout",
     "output_type": "stream",
     "text": [
      "Validation Loss 0.737\n"
     ]
    },
    {
     "data": {
      "application/vnd.jupyter.widget-view+json": {
       "model_id": "1fe75043ac7a4c8c87d040672e322499",
       "version_major": 2,
       "version_minor": 0
      },
      "text/plain": [
       "Evaluating in validation set:   0%|          | 0/12 [00:00<?, ?it/s]"
      ]
     },
     "metadata": {},
     "output_type": "display_data"
    },
    {
     "name": "stdout",
     "output_type": "stream",
     "text": [
      "Validation Loss 0.799\n"
     ]
    },
    {
     "data": {
      "application/vnd.jupyter.widget-view+json": {
       "model_id": "638961103c914c7ab2e31b9e970a9944",
       "version_major": 2,
       "version_minor": 0
      },
      "text/plain": [
       "Evaluating in validation set:   0%|          | 0/12 [00:00<?, ?it/s]"
      ]
     },
     "metadata": {},
     "output_type": "display_data"
    },
    {
     "name": "stdout",
     "output_type": "stream",
     "text": [
      "Validation Loss 0.669\n"
     ]
    },
    {
     "data": {
      "application/vnd.jupyter.widget-view+json": {
       "model_id": "dba014fd13b64d0bb41a8c30e16d5df1",
       "version_major": 2,
       "version_minor": 0
      },
      "text/plain": [
       "Evaluating in validation set:   0%|          | 0/12 [00:00<?, ?it/s]"
      ]
     },
     "metadata": {},
     "output_type": "display_data"
    },
    {
     "name": "stdout",
     "output_type": "stream",
     "text": [
      "Validation Loss 0.615\n"
     ]
    },
    {
     "data": {
      "application/vnd.jupyter.widget-view+json": {
       "model_id": "9c2304cc20764c528afda271cdf62830",
       "version_major": 2,
       "version_minor": 0
      },
      "text/plain": [
       "Evaluating in validation set:   0%|          | 0/12 [00:00<?, ?it/s]"
      ]
     },
     "metadata": {},
     "output_type": "display_data"
    },
    {
     "name": "stdout",
     "output_type": "stream",
     "text": [
      "Validation Loss 0.695\n"
     ]
    },
    {
     "data": {
      "application/vnd.jupyter.widget-view+json": {
       "model_id": "6148ea3514394f6bb6b733c9bd7edfbf",
       "version_major": 2,
       "version_minor": 0
      },
      "text/plain": [
       "Evaluating in validation set:   0%|          | 0/12 [00:00<?, ?it/s]"
      ]
     },
     "metadata": {},
     "output_type": "display_data"
    },
    {
     "name": "stdout",
     "output_type": "stream",
     "text": [
      "Validation Loss 0.442\n"
     ]
    },
    {
     "data": {
      "application/vnd.jupyter.widget-view+json": {
       "model_id": "21e645dcaf8147d0a7ca9d406a07c12e",
       "version_major": 2,
       "version_minor": 0
      },
      "text/plain": [
       "Evaluating in validation set:   0%|          | 0/12 [00:00<?, ?it/s]"
      ]
     },
     "metadata": {},
     "output_type": "display_data"
    },
    {
     "name": "stdout",
     "output_type": "stream",
     "text": [
      "Validation Loss 0.539\n"
     ]
    },
    {
     "data": {
      "application/vnd.jupyter.widget-view+json": {
       "model_id": "9afe731f935c4e32b085f143985d5797",
       "version_major": 2,
       "version_minor": 0
      },
      "text/plain": [
       "Evaluating in validation set:   0%|          | 0/12 [00:00<?, ?it/s]"
      ]
     },
     "metadata": {},
     "output_type": "display_data"
    },
    {
     "name": "stdout",
     "output_type": "stream",
     "text": [
      "Validation Loss 0.558\n"
     ]
    },
    {
     "data": {
      "application/vnd.jupyter.widget-view+json": {
       "model_id": "0008ccaaa369402f8d25222b6d9dedae",
       "version_major": 2,
       "version_minor": 0
      },
      "text/plain": [
       "Evaluating in validation set:   0%|          | 0/12 [00:00<?, ?it/s]"
      ]
     },
     "metadata": {},
     "output_type": "display_data"
    },
    {
     "name": "stdout",
     "output_type": "stream",
     "text": [
      "Validation Loss 0.434\n"
     ]
    },
    {
     "data": {
      "application/vnd.jupyter.widget-view+json": {
       "model_id": "81757ee901f541be98a174098576cc4e",
       "version_major": 2,
       "version_minor": 0
      },
      "text/plain": [
       "Evaluating in validation set:   0%|          | 0/12 [00:00<?, ?it/s]"
      ]
     },
     "metadata": {},
     "output_type": "display_data"
    },
    {
     "name": "stdout",
     "output_type": "stream",
     "text": [
      "Validation Loss 0.298\n"
     ]
    },
    {
     "data": {
      "application/vnd.jupyter.widget-view+json": {
       "model_id": "c18f3c3ced704863aef0140a122d1aa6",
       "version_major": 2,
       "version_minor": 0
      },
      "text/plain": [
       "Evaluating in validation set:   0%|          | 0/12 [00:00<?, ?it/s]"
      ]
     },
     "metadata": {},
     "output_type": "display_data"
    },
    {
     "name": "stdout",
     "output_type": "stream",
     "text": [
      "Validation Loss 0.499\n"
     ]
    },
    {
     "data": {
      "application/vnd.jupyter.widget-view+json": {
       "model_id": "16c404a6eeb84e5cbfce765c3ec61078",
       "version_major": 2,
       "version_minor": 0
      },
      "text/plain": [
       "Evaluating in validation set:   0%|          | 0/12 [00:00<?, ?it/s]"
      ]
     },
     "metadata": {},
     "output_type": "display_data"
    },
    {
     "name": "stdout",
     "output_type": "stream",
     "text": [
      "Validation Loss 0.447\n"
     ]
    },
    {
     "data": {
      "application/vnd.jupyter.widget-view+json": {
       "model_id": "604e3c43c4184646b7bee4b3762032e6",
       "version_major": 2,
       "version_minor": 0
      },
      "text/plain": [
       "Evaluating in validation set:   0%|          | 0/12 [00:00<?, ?it/s]"
      ]
     },
     "metadata": {},
     "output_type": "display_data"
    },
    {
     "name": "stdout",
     "output_type": "stream",
     "text": [
      "Validation Loss 0.619\n"
     ]
    },
    {
     "data": {
      "application/vnd.jupyter.widget-view+json": {
       "model_id": "ced777e9221c49f79722dae507a01cde",
       "version_major": 2,
       "version_minor": 0
      },
      "text/plain": [
       "Evaluating in validation set:   0%|          | 0/12 [00:00<?, ?it/s]"
      ]
     },
     "metadata": {},
     "output_type": "display_data"
    },
    {
     "name": "stdout",
     "output_type": "stream",
     "text": [
      "Validation Loss 0.420\n"
     ]
    },
    {
     "data": {
      "application/vnd.jupyter.widget-view+json": {
       "model_id": "37a0ad0541834113babc8541d9eed6d8",
       "version_major": 2,
       "version_minor": 0
      },
      "text/plain": [
       "Evaluating in validation set:   0%|          | 0/12 [00:00<?, ?it/s]"
      ]
     },
     "metadata": {},
     "output_type": "display_data"
    },
    {
     "name": "stdout",
     "output_type": "stream",
     "text": [
      "Validation Loss 0.549\n"
     ]
    },
    {
     "data": {
      "application/vnd.jupyter.widget-view+json": {
       "model_id": "7cda5fa1a8a54788a27d65a149fee3de",
       "version_major": 2,
       "version_minor": 0
      },
      "text/plain": [
       "Evaluating in validation set:   0%|          | 0/12 [00:00<?, ?it/s]"
      ]
     },
     "metadata": {},
     "output_type": "display_data"
    },
    {
     "name": "stdout",
     "output_type": "stream",
     "text": [
      "Validation Loss 0.614\n"
     ]
    },
    {
     "data": {
      "application/vnd.jupyter.widget-view+json": {
       "model_id": "de7db44882f143d28f4332a580835ac9",
       "version_major": 2,
       "version_minor": 0
      },
      "text/plain": [
       "Evaluating in validation set:   0%|          | 0/12 [00:00<?, ?it/s]"
      ]
     },
     "metadata": {},
     "output_type": "display_data"
    },
    {
     "name": "stdout",
     "output_type": "stream",
     "text": [
      "Validation Loss 0.843\n"
     ]
    },
    {
     "data": {
      "application/vnd.jupyter.widget-view+json": {
       "model_id": "b3a9acb031d34e3fb3f4281c2a213455",
       "version_major": 2,
       "version_minor": 0
      },
      "text/plain": [
       "Evaluating in validation set:   0%|          | 0/12 [00:00<?, ?it/s]"
      ]
     },
     "metadata": {},
     "output_type": "display_data"
    },
    {
     "name": "stdout",
     "output_type": "stream",
     "text": [
      "Validation Loss 0.456\n"
     ]
    },
    {
     "data": {
      "application/vnd.jupyter.widget-view+json": {
       "model_id": "862f7cf2dd2a4ee88173ff527c55b027",
       "version_major": 2,
       "version_minor": 0
      },
      "text/plain": [
       "Evaluating in validation set:   0%|          | 0/12 [00:00<?, ?it/s]"
      ]
     },
     "metadata": {},
     "output_type": "display_data"
    },
    {
     "name": "stdout",
     "output_type": "stream",
     "text": [
      "Validation Loss 0.695\n"
     ]
    },
    {
     "data": {
      "application/vnd.jupyter.widget-view+json": {
       "model_id": "107ad176664a4e8d85f77266d1c4a2bd",
       "version_major": 2,
       "version_minor": 0
      },
      "text/plain": [
       "Evaluating in validation set:   0%|          | 0/12 [00:00<?, ?it/s]"
      ]
     },
     "metadata": {},
     "output_type": "display_data"
    },
    {
     "name": "stdout",
     "output_type": "stream",
     "text": [
      "Validation Loss 0.597\n"
     ]
    },
    {
     "data": {
      "application/vnd.jupyter.widget-view+json": {
       "model_id": "d339816a8eb549988556dba986001743",
       "version_major": 2,
       "version_minor": 0
      },
      "text/plain": [
       "Evaluating in validation set:   0%|          | 0/12 [00:00<?, ?it/s]"
      ]
     },
     "metadata": {},
     "output_type": "display_data"
    },
    {
     "name": "stdout",
     "output_type": "stream",
     "text": [
      "Validation Loss 0.420\n"
     ]
    },
    {
     "data": {
      "application/vnd.jupyter.widget-view+json": {
       "model_id": "97b9044623db47a9bbd984ae71fab36c",
       "version_major": 2,
       "version_minor": 0
      },
      "text/plain": [
       "Evaluating in validation set:   0%|          | 0/12 [00:00<?, ?it/s]"
      ]
     },
     "metadata": {},
     "output_type": "display_data"
    },
    {
     "name": "stdout",
     "output_type": "stream",
     "text": [
      "Validation Loss 0.772\n"
     ]
    },
    {
     "data": {
      "application/vnd.jupyter.widget-view+json": {
       "model_id": "3bc28d598fd74b7987d0ffabe0ac7ef4",
       "version_major": 2,
       "version_minor": 0
      },
      "text/plain": [
       "Evaluating in validation set:   0%|          | 0/12 [00:00<?, ?it/s]"
      ]
     },
     "metadata": {},
     "output_type": "display_data"
    },
    {
     "name": "stdout",
     "output_type": "stream",
     "text": [
      "Validation Loss 0.589\n"
     ]
    },
    {
     "data": {
      "application/vnd.jupyter.widget-view+json": {
       "model_id": "6ec9153b771840759389a459ede84c73",
       "version_major": 2,
       "version_minor": 0
      },
      "text/plain": [
       "Evaluating in validation set:   0%|          | 0/12 [00:00<?, ?it/s]"
      ]
     },
     "metadata": {},
     "output_type": "display_data"
    },
    {
     "name": "stdout",
     "output_type": "stream",
     "text": [
      "Validation Loss 0.651\n"
     ]
    },
    {
     "data": {
      "application/vnd.jupyter.widget-view+json": {
       "model_id": "54e531150e9d47e59a3babd71be30c2c",
       "version_major": 2,
       "version_minor": 0
      },
      "text/plain": [
       "Evaluating in validation set:   0%|          | 0/12 [00:00<?, ?it/s]"
      ]
     },
     "metadata": {},
     "output_type": "display_data"
    },
    {
     "name": "stdout",
     "output_type": "stream",
     "text": [
      "Validation Loss 0.663\n"
     ]
    },
    {
     "data": {
      "application/vnd.jupyter.widget-view+json": {
       "model_id": "48cace6f6f2045fbbaae0e75e386ee6c",
       "version_major": 2,
       "version_minor": 0
      },
      "text/plain": [
       "Evaluating in validation set:   0%|          | 0/12 [00:00<?, ?it/s]"
      ]
     },
     "metadata": {},
     "output_type": "display_data"
    },
    {
     "name": "stdout",
     "output_type": "stream",
     "text": [
      "Validation Loss 0.646\n"
     ]
    },
    {
     "data": {
      "application/vnd.jupyter.widget-view+json": {
       "model_id": "89780866545043f19092d825cf36842f",
       "version_major": 2,
       "version_minor": 0
      },
      "text/plain": [
       "Evaluating in validation set:   0%|          | 0/12 [00:00<?, ?it/s]"
      ]
     },
     "metadata": {},
     "output_type": "display_data"
    },
    {
     "name": "stdout",
     "output_type": "stream",
     "text": [
      "Validation Loss 0.739\n"
     ]
    },
    {
     "data": {
      "application/vnd.jupyter.widget-view+json": {
       "model_id": "67d95d6eff7e4230b1c27aecd7973e8e",
       "version_major": 2,
       "version_minor": 0
      },
      "text/plain": [
       "Evaluating in validation set:   0%|          | 0/12 [00:00<?, ?it/s]"
      ]
     },
     "metadata": {},
     "output_type": "display_data"
    },
    {
     "name": "stdout",
     "output_type": "stream",
     "text": [
      "Validation Loss 0.706\n"
     ]
    },
    {
     "data": {
      "application/vnd.jupyter.widget-view+json": {
       "model_id": "1dbea36a4f1a4d1e8db9b57795eb026e",
       "version_major": 2,
       "version_minor": 0
      },
      "text/plain": [
       "Evaluating in validation set:   0%|          | 0/12 [00:00<?, ?it/s]"
      ]
     },
     "metadata": {},
     "output_type": "display_data"
    },
    {
     "name": "stdout",
     "output_type": "stream",
     "text": [
      "Validation Loss 0.962\n"
     ]
    },
    {
     "data": {
      "application/vnd.jupyter.widget-view+json": {
       "model_id": "2eda2a55ae494dfbbc56255d264dcd90",
       "version_major": 2,
       "version_minor": 0
      },
      "text/plain": [
       "Evaluating in validation set:   0%|          | 0/12 [00:00<?, ?it/s]"
      ]
     },
     "metadata": {},
     "output_type": "display_data"
    },
    {
     "name": "stdout",
     "output_type": "stream",
     "text": [
      "Validation Loss 0.946\n"
     ]
    },
    {
     "data": {
      "application/vnd.jupyter.widget-view+json": {
       "model_id": "d41a3c2234ed47278de38f1808ae9ae3",
       "version_major": 2,
       "version_minor": 0
      },
      "text/plain": [
       "Evaluating in validation set:   0%|          | 0/12 [00:00<?, ?it/s]"
      ]
     },
     "metadata": {},
     "output_type": "display_data"
    },
    {
     "name": "stdout",
     "output_type": "stream",
     "text": [
      "Validation Loss 0.784\n"
     ]
    },
    {
     "data": {
      "application/vnd.jupyter.widget-view+json": {
       "model_id": "6b4930dfb0024916b1c8438d0e7a53ac",
       "version_major": 2,
       "version_minor": 0
      },
      "text/plain": [
       "Evaluating in validation set:   0%|          | 0/12 [00:00<?, ?it/s]"
      ]
     },
     "metadata": {},
     "output_type": "display_data"
    },
    {
     "name": "stdout",
     "output_type": "stream",
     "text": [
      "Validation Loss 0.657\n"
     ]
    },
    {
     "data": {
      "application/vnd.jupyter.widget-view+json": {
       "model_id": "1f989ccb17824baeaa13951c5ccaf60b",
       "version_major": 2,
       "version_minor": 0
      },
      "text/plain": [
       "Evaluating in validation set:   0%|          | 0/12 [00:00<?, ?it/s]"
      ]
     },
     "metadata": {},
     "output_type": "display_data"
    },
    {
     "name": "stdout",
     "output_type": "stream",
     "text": [
      "Validation Loss 0.829\n"
     ]
    },
    {
     "data": {
      "application/vnd.jupyter.widget-view+json": {
       "model_id": "b6376b9ac79f4ffab4b0c7d72ea3eafc",
       "version_major": 2,
       "version_minor": 0
      },
      "text/plain": [
       "Evaluating in validation set:   0%|          | 0/12 [00:00<?, ?it/s]"
      ]
     },
     "metadata": {},
     "output_type": "display_data"
    },
    {
     "name": "stdout",
     "output_type": "stream",
     "text": [
      "Validation Loss 0.932\n"
     ]
    },
    {
     "data": {
      "application/vnd.jupyter.widget-view+json": {
       "model_id": "a597a56f92be40a08529672d59b0019c",
       "version_major": 2,
       "version_minor": 0
      },
      "text/plain": [
       "Evaluating in validation set:   0%|          | 0/12 [00:00<?, ?it/s]"
      ]
     },
     "metadata": {},
     "output_type": "display_data"
    },
    {
     "name": "stdout",
     "output_type": "stream",
     "text": [
      "Validation Loss 0.697\n"
     ]
    },
    {
     "data": {
      "application/vnd.jupyter.widget-view+json": {
       "model_id": "4d9fb9728b2e4b0f95418657dd2d38fd",
       "version_major": 2,
       "version_minor": 0
      },
      "text/plain": [
       "Evaluating in validation set:   0%|          | 0/12 [00:00<?, ?it/s]"
      ]
     },
     "metadata": {},
     "output_type": "display_data"
    },
    {
     "name": "stdout",
     "output_type": "stream",
     "text": [
      "Validation Loss 0.569\n"
     ]
    },
    {
     "data": {
      "application/vnd.jupyter.widget-view+json": {
       "model_id": "1aa784ee80574470af4c5dd821cfd7b9",
       "version_major": 2,
       "version_minor": 0
      },
      "text/plain": [
       "Evaluating in validation set:   0%|          | 0/12 [00:00<?, ?it/s]"
      ]
     },
     "metadata": {},
     "output_type": "display_data"
    },
    {
     "name": "stdout",
     "output_type": "stream",
     "text": [
      "Validation Loss 0.570\n"
     ]
    },
    {
     "data": {
      "application/vnd.jupyter.widget-view+json": {
       "model_id": "47a2edff0e774aadb76f12e273424bac",
       "version_major": 2,
       "version_minor": 0
      },
      "text/plain": [
       "Evaluating in validation set:   0%|          | 0/12 [00:00<?, ?it/s]"
      ]
     },
     "metadata": {},
     "output_type": "display_data"
    },
    {
     "name": "stdout",
     "output_type": "stream",
     "text": [
      "Validation Loss 0.811\n"
     ]
    },
    {
     "data": {
      "application/vnd.jupyter.widget-view+json": {
       "model_id": "427c7b287a8e4fe7931444e6bbf452b3",
       "version_major": 2,
       "version_minor": 0
      },
      "text/plain": [
       "Evaluating in validation set:   0%|          | 0/12 [00:00<?, ?it/s]"
      ]
     },
     "metadata": {},
     "output_type": "display_data"
    },
    {
     "name": "stdout",
     "output_type": "stream",
     "text": [
      "Validation Loss 0.469\n"
     ]
    },
    {
     "data": {
      "application/vnd.jupyter.widget-view+json": {
       "model_id": "ab6eaf99df664f308fd48c13c401ac03",
       "version_major": 2,
       "version_minor": 0
      },
      "text/plain": [
       "Evaluating in validation set:   0%|          | 0/12 [00:00<?, ?it/s]"
      ]
     },
     "metadata": {},
     "output_type": "display_data"
    },
    {
     "name": "stdout",
     "output_type": "stream",
     "text": [
      "Validation Loss 0.973\n"
     ]
    },
    {
     "data": {
      "application/vnd.jupyter.widget-view+json": {
       "model_id": "226cc4b39c334ff68c09b5c04dcccdac",
       "version_major": 2,
       "version_minor": 0
      },
      "text/plain": [
       "Evaluating in validation set:   0%|          | 0/12 [00:00<?, ?it/s]"
      ]
     },
     "metadata": {},
     "output_type": "display_data"
    },
    {
     "name": "stdout",
     "output_type": "stream",
     "text": [
      "Validation Loss 0.600\n"
     ]
    },
    {
     "data": {
      "application/vnd.jupyter.widget-view+json": {
       "model_id": "a99200c03d2848ac9acedcfed277ca0b",
       "version_major": 2,
       "version_minor": 0
      },
      "text/plain": [
       "Evaluating in validation set:   0%|          | 0/12 [00:00<?, ?it/s]"
      ]
     },
     "metadata": {},
     "output_type": "display_data"
    },
    {
     "name": "stdout",
     "output_type": "stream",
     "text": [
      "Validation Loss 0.596\n"
     ]
    },
    {
     "data": {
      "application/vnd.jupyter.widget-view+json": {
       "model_id": "97c1cd1cdff540f29f433ea4e62a432f",
       "version_major": 2,
       "version_minor": 0
      },
      "text/plain": [
       "Evaluating in validation set:   0%|          | 0/12 [00:00<?, ?it/s]"
      ]
     },
     "metadata": {},
     "output_type": "display_data"
    },
    {
     "name": "stdout",
     "output_type": "stream",
     "text": [
      "Validation Loss 0.815\n"
     ]
    },
    {
     "data": {
      "application/vnd.jupyter.widget-view+json": {
       "model_id": "e67f5be2f3c14a5090bd274af715b3f8",
       "version_major": 2,
       "version_minor": 0
      },
      "text/plain": [
       "Evaluating in validation set:   0%|          | 0/12 [00:00<?, ?it/s]"
      ]
     },
     "metadata": {},
     "output_type": "display_data"
    },
    {
     "name": "stdout",
     "output_type": "stream",
     "text": [
      "Validation Loss 0.429\n"
     ]
    },
    {
     "data": {
      "application/vnd.jupyter.widget-view+json": {
       "model_id": "952b0ccce0774bd8989b45cc6e924654",
       "version_major": 2,
       "version_minor": 0
      },
      "text/plain": [
       "Evaluating in validation set:   0%|          | 0/12 [00:00<?, ?it/s]"
      ]
     },
     "metadata": {},
     "output_type": "display_data"
    },
    {
     "name": "stdout",
     "output_type": "stream",
     "text": [
      "Validation Loss 0.535\n"
     ]
    },
    {
     "data": {
      "application/vnd.jupyter.widget-view+json": {
       "model_id": "15cd6e0805d2469ebda797922fc096f9",
       "version_major": 2,
       "version_minor": 0
      },
      "text/plain": [
       "Evaluating in validation set:   0%|          | 0/12 [00:00<?, ?it/s]"
      ]
     },
     "metadata": {},
     "output_type": "display_data"
    },
    {
     "name": "stdout",
     "output_type": "stream",
     "text": [
      "Validation Loss 0.495\n"
     ]
    },
    {
     "data": {
      "application/vnd.jupyter.widget-view+json": {
       "model_id": "fd71288852a940758eb66f74f5499af2",
       "version_major": 2,
       "version_minor": 0
      },
      "text/plain": [
       "Evaluating in validation set:   0%|          | 0/12 [00:00<?, ?it/s]"
      ]
     },
     "metadata": {},
     "output_type": "display_data"
    },
    {
     "name": "stdout",
     "output_type": "stream",
     "text": [
      "Validation Loss 0.628\n"
     ]
    },
    {
     "data": {
      "application/vnd.jupyter.widget-view+json": {
       "model_id": "8728fd3a76d84a5aa99cdf1c120329a4",
       "version_major": 2,
       "version_minor": 0
      },
      "text/plain": [
       "Evaluating in validation set:   0%|          | 0/12 [00:00<?, ?it/s]"
      ]
     },
     "metadata": {},
     "output_type": "display_data"
    },
    {
     "name": "stdout",
     "output_type": "stream",
     "text": [
      "Validation Loss 0.497\n"
     ]
    },
    {
     "data": {
      "application/vnd.jupyter.widget-view+json": {
       "model_id": "00f309092da34e9ebf53bb8bcb1657a8",
       "version_major": 2,
       "version_minor": 0
      },
      "text/plain": [
       "Evaluating in validation set:   0%|          | 0/12 [00:00<?, ?it/s]"
      ]
     },
     "metadata": {},
     "output_type": "display_data"
    },
    {
     "name": "stdout",
     "output_type": "stream",
     "text": [
      "Validation Loss 0.574\n"
     ]
    },
    {
     "data": {
      "application/vnd.jupyter.widget-view+json": {
       "model_id": "128386435a3f460c9ad9138091de085b",
       "version_major": 2,
       "version_minor": 0
      },
      "text/plain": [
       "Evaluating in validation set:   0%|          | 0/12 [00:00<?, ?it/s]"
      ]
     },
     "metadata": {},
     "output_type": "display_data"
    },
    {
     "name": "stdout",
     "output_type": "stream",
     "text": [
      "Validation Loss 0.357\n"
     ]
    },
    {
     "data": {
      "application/vnd.jupyter.widget-view+json": {
       "model_id": "e47f9b50691f48bbb4d52aa426d488b3",
       "version_major": 2,
       "version_minor": 0
      },
      "text/plain": [
       "Evaluating in validation set:   0%|          | 0/12 [00:00<?, ?it/s]"
      ]
     },
     "metadata": {},
     "output_type": "display_data"
    },
    {
     "name": "stdout",
     "output_type": "stream",
     "text": [
      "Validation Loss 0.487\n"
     ]
    },
    {
     "data": {
      "application/vnd.jupyter.widget-view+json": {
       "model_id": "5bc20e153d144570ad9758711d967a48",
       "version_major": 2,
       "version_minor": 0
      },
      "text/plain": [
       "Evaluating in validation set:   0%|          | 0/12 [00:00<?, ?it/s]"
      ]
     },
     "metadata": {},
     "output_type": "display_data"
    },
    {
     "name": "stdout",
     "output_type": "stream",
     "text": [
      "Validation Loss 0.533\n"
     ]
    },
    {
     "data": {
      "application/vnd.jupyter.widget-view+json": {
       "model_id": "308c735613b84abfa7fe58f3456cb657",
       "version_major": 2,
       "version_minor": 0
      },
      "text/plain": [
       "Evaluating in validation set:   0%|          | 0/12 [00:00<?, ?it/s]"
      ]
     },
     "metadata": {},
     "output_type": "display_data"
    },
    {
     "name": "stdout",
     "output_type": "stream",
     "text": [
      "Validation Loss 0.666\n"
     ]
    },
    {
     "data": {
      "application/vnd.jupyter.widget-view+json": {
       "model_id": "aeab4f25d985421bae30eebc48114f88",
       "version_major": 2,
       "version_minor": 0
      },
      "text/plain": [
       "Evaluating in validation set:   0%|          | 0/12 [00:00<?, ?it/s]"
      ]
     },
     "metadata": {},
     "output_type": "display_data"
    },
    {
     "name": "stdout",
     "output_type": "stream",
     "text": [
      "Validation Loss 0.566\n"
     ]
    },
    {
     "data": {
      "application/vnd.jupyter.widget-view+json": {
       "model_id": "bb220edbe08f407790165b677c1a9619",
       "version_major": 2,
       "version_minor": 0
      },
      "text/plain": [
       "Evaluating in validation set:   0%|          | 0/12 [00:00<?, ?it/s]"
      ]
     },
     "metadata": {},
     "output_type": "display_data"
    },
    {
     "name": "stdout",
     "output_type": "stream",
     "text": [
      "Validation Loss 0.483\n"
     ]
    },
    {
     "data": {
      "application/vnd.jupyter.widget-view+json": {
       "model_id": "88967c98c8d0426a817146921642bbeb",
       "version_major": 2,
       "version_minor": 0
      },
      "text/plain": [
       "Evaluating in validation set:   0%|          | 0/12 [00:00<?, ?it/s]"
      ]
     },
     "metadata": {},
     "output_type": "display_data"
    },
    {
     "name": "stdout",
     "output_type": "stream",
     "text": [
      "Validation Loss 0.615\n"
     ]
    },
    {
     "data": {
      "application/vnd.jupyter.widget-view+json": {
       "model_id": "6304bb1fd1a94cbf8c7af69edbcf9afa",
       "version_major": 2,
       "version_minor": 0
      },
      "text/plain": [
       "Evaluating in validation set:   0%|          | 0/12 [00:00<?, ?it/s]"
      ]
     },
     "metadata": {},
     "output_type": "display_data"
    },
    {
     "name": "stdout",
     "output_type": "stream",
     "text": [
      "Validation Loss 0.732\n"
     ]
    },
    {
     "data": {
      "application/vnd.jupyter.widget-view+json": {
       "model_id": "3ad7cc15a93144b59a61ce15a83e66f8",
       "version_major": 2,
       "version_minor": 0
      },
      "text/plain": [
       "Evaluating in validation set:   0%|          | 0/12 [00:00<?, ?it/s]"
      ]
     },
     "metadata": {},
     "output_type": "display_data"
    },
    {
     "name": "stdout",
     "output_type": "stream",
     "text": [
      "Validation Loss 0.613\n"
     ]
    },
    {
     "data": {
      "application/vnd.jupyter.widget-view+json": {
       "model_id": "be51f2aa9ba94c7cad39747352ce1c30",
       "version_major": 2,
       "version_minor": 0
      },
      "text/plain": [
       "Evaluating in validation set:   0%|          | 0/12 [00:00<?, ?it/s]"
      ]
     },
     "metadata": {},
     "output_type": "display_data"
    },
    {
     "name": "stdout",
     "output_type": "stream",
     "text": [
      "Validation Loss 0.761\n"
     ]
    },
    {
     "data": {
      "application/vnd.jupyter.widget-view+json": {
       "model_id": "afc12c74f9c14141b47c92511cd11137",
       "version_major": 2,
       "version_minor": 0
      },
      "text/plain": [
       "Evaluating in validation set:   0%|          | 0/12 [00:00<?, ?it/s]"
      ]
     },
     "metadata": {},
     "output_type": "display_data"
    },
    {
     "name": "stdout",
     "output_type": "stream",
     "text": [
      "Validation Loss 0.593\n"
     ]
    },
    {
     "data": {
      "application/vnd.jupyter.widget-view+json": {
       "model_id": "c649d939059c4cc6b3a4d43cd4e57310",
       "version_major": 2,
       "version_minor": 0
      },
      "text/plain": [
       "Evaluating in validation set:   0%|          | 0/12 [00:00<?, ?it/s]"
      ]
     },
     "metadata": {},
     "output_type": "display_data"
    },
    {
     "name": "stdout",
     "output_type": "stream",
     "text": [
      "Validation Loss 0.867\n"
     ]
    },
    {
     "data": {
      "application/vnd.jupyter.widget-view+json": {
       "model_id": "097b9904d16d42de9f9356b06f53a968",
       "version_major": 2,
       "version_minor": 0
      },
      "text/plain": [
       "Evaluating in validation set:   0%|          | 0/12 [00:00<?, ?it/s]"
      ]
     },
     "metadata": {},
     "output_type": "display_data"
    },
    {
     "name": "stdout",
     "output_type": "stream",
     "text": [
      "Validation Loss 0.744\n"
     ]
    },
    {
     "data": {
      "application/vnd.jupyter.widget-view+json": {
       "model_id": "a8b1f86c94794411b03d5c3becf295bd",
       "version_major": 2,
       "version_minor": 0
      },
      "text/plain": [
       "Evaluating in validation set:   0%|          | 0/12 [00:00<?, ?it/s]"
      ]
     },
     "metadata": {},
     "output_type": "display_data"
    },
    {
     "name": "stdout",
     "output_type": "stream",
     "text": [
      "Validation Loss 0.804\n"
     ]
    },
    {
     "data": {
      "application/vnd.jupyter.widget-view+json": {
       "model_id": "a2498e5ed1dc46c0a08ddf1585171f2d",
       "version_major": 2,
       "version_minor": 0
      },
      "text/plain": [
       "Evaluating in validation set:   0%|          | 0/12 [00:00<?, ?it/s]"
      ]
     },
     "metadata": {},
     "output_type": "display_data"
    },
    {
     "name": "stdout",
     "output_type": "stream",
     "text": [
      "Validation Loss 0.741\n"
     ]
    },
    {
     "data": {
      "application/vnd.jupyter.widget-view+json": {
       "model_id": "119d9ba1d6934edfbdb161067b118214",
       "version_major": 2,
       "version_minor": 0
      },
      "text/plain": [
       "Evaluating in validation set:   0%|          | 0/12 [00:00<?, ?it/s]"
      ]
     },
     "metadata": {},
     "output_type": "display_data"
    },
    {
     "name": "stdout",
     "output_type": "stream",
     "text": [
      "Validation Loss 0.756\n"
     ]
    },
    {
     "data": {
      "application/vnd.jupyter.widget-view+json": {
       "model_id": "ff0fcd8a328f4c4e9b6f2ab480cdabc5",
       "version_major": 2,
       "version_minor": 0
      },
      "text/plain": [
       "Evaluating in validation set:   0%|          | 0/12 [00:00<?, ?it/s]"
      ]
     },
     "metadata": {},
     "output_type": "display_data"
    },
    {
     "name": "stdout",
     "output_type": "stream",
     "text": [
      "Validation Loss 1.081\n"
     ]
    },
    {
     "data": {
      "application/vnd.jupyter.widget-view+json": {
       "model_id": "67d8a259c99f4f3ba9a15d87b889a224",
       "version_major": 2,
       "version_minor": 0
      },
      "text/plain": [
       "Evaluating in validation set:   0%|          | 0/12 [00:00<?, ?it/s]"
      ]
     },
     "metadata": {},
     "output_type": "display_data"
    },
    {
     "name": "stdout",
     "output_type": "stream",
     "text": [
      "Validation Loss 0.662\n"
     ]
    },
    {
     "data": {
      "application/vnd.jupyter.widget-view+json": {
       "model_id": "38ea129901dc43458987fd8514553ee0",
       "version_major": 2,
       "version_minor": 0
      },
      "text/plain": [
       "Evaluating in validation set:   0%|          | 0/12 [00:00<?, ?it/s]"
      ]
     },
     "metadata": {},
     "output_type": "display_data"
    },
    {
     "name": "stdout",
     "output_type": "stream",
     "text": [
      "Validation Loss 0.894\n"
     ]
    },
    {
     "data": {
      "application/vnd.jupyter.widget-view+json": {
       "model_id": "ed98d0d384254ce7973b53296d6db0d8",
       "version_major": 2,
       "version_minor": 0
      },
      "text/plain": [
       "Evaluating in validation set:   0%|          | 0/12 [00:00<?, ?it/s]"
      ]
     },
     "metadata": {},
     "output_type": "display_data"
    },
    {
     "name": "stdout",
     "output_type": "stream",
     "text": [
      "Validation Loss 0.676\n"
     ]
    },
    {
     "data": {
      "application/vnd.jupyter.widget-view+json": {
       "model_id": "3291e84aa0174ab0a2cd1dd342c3981f",
       "version_major": 2,
       "version_minor": 0
      },
      "text/plain": [
       "Evaluating in validation set:   0%|          | 0/12 [00:00<?, ?it/s]"
      ]
     },
     "metadata": {},
     "output_type": "display_data"
    },
    {
     "name": "stdout",
     "output_type": "stream",
     "text": [
      "Validation Loss 0.690\n"
     ]
    },
    {
     "data": {
      "application/vnd.jupyter.widget-view+json": {
       "model_id": "487fd7542a2f402bb878e4ddd350cb6a",
       "version_major": 2,
       "version_minor": 0
      },
      "text/plain": [
       "Evaluating in validation set:   0%|          | 0/12 [00:00<?, ?it/s]"
      ]
     },
     "metadata": {},
     "output_type": "display_data"
    },
    {
     "name": "stdout",
     "output_type": "stream",
     "text": [
      "Validation Loss 0.553\n"
     ]
    },
    {
     "data": {
      "application/vnd.jupyter.widget-view+json": {
       "model_id": "a269a610f67942e6a62bb3bc7e2ecccd",
       "version_major": 2,
       "version_minor": 0
      },
      "text/plain": [
       "Evaluating in validation set:   0%|          | 0/12 [00:00<?, ?it/s]"
      ]
     },
     "metadata": {},
     "output_type": "display_data"
    },
    {
     "name": "stdout",
     "output_type": "stream",
     "text": [
      "Validation Loss 0.558\n"
     ]
    },
    {
     "data": {
      "application/vnd.jupyter.widget-view+json": {
       "model_id": "92ad8dd9221e460c8c6199bd74717896",
       "version_major": 2,
       "version_minor": 0
      },
      "text/plain": [
       "Evaluating in validation set:   0%|          | 0/12 [00:00<?, ?it/s]"
      ]
     },
     "metadata": {},
     "output_type": "display_data"
    },
    {
     "name": "stdout",
     "output_type": "stream",
     "text": [
      "Validation Loss 0.555\n"
     ]
    },
    {
     "data": {
      "application/vnd.jupyter.widget-view+json": {
       "model_id": "775205c40b0f4728a6dfff23ddb714d7",
       "version_major": 2,
       "version_minor": 0
      },
      "text/plain": [
       "Evaluating in validation set:   0%|          | 0/12 [00:00<?, ?it/s]"
      ]
     },
     "metadata": {},
     "output_type": "display_data"
    },
    {
     "name": "stdout",
     "output_type": "stream",
     "text": [
      "Validation Loss 0.599\n"
     ]
    },
    {
     "data": {
      "application/vnd.jupyter.widget-view+json": {
       "model_id": "325ba30060c945849272929821898b5c",
       "version_major": 2,
       "version_minor": 0
      },
      "text/plain": [
       "Evaluating in validation set:   0%|          | 0/12 [00:00<?, ?it/s]"
      ]
     },
     "metadata": {},
     "output_type": "display_data"
    },
    {
     "name": "stdout",
     "output_type": "stream",
     "text": [
      "Validation Loss 0.662\n"
     ]
    },
    {
     "data": {
      "application/vnd.jupyter.widget-view+json": {
       "model_id": "7b17ed65b37c4ea68e89ad829c88911c",
       "version_major": 2,
       "version_minor": 0
      },
      "text/plain": [
       "Evaluating in validation set:   0%|          | 0/12 [00:00<?, ?it/s]"
      ]
     },
     "metadata": {},
     "output_type": "display_data"
    },
    {
     "name": "stdout",
     "output_type": "stream",
     "text": [
      "Validation Loss 0.499\n"
     ]
    },
    {
     "data": {
      "application/vnd.jupyter.widget-view+json": {
       "model_id": "bbe86128122d4eeb88624ad2f5887ebf",
       "version_major": 2,
       "version_minor": 0
      },
      "text/plain": [
       "Evaluating in validation set:   0%|          | 0/12 [00:00<?, ?it/s]"
      ]
     },
     "metadata": {},
     "output_type": "display_data"
    },
    {
     "name": "stdout",
     "output_type": "stream",
     "text": [
      "Validation Loss 0.606\n"
     ]
    },
    {
     "data": {
      "application/vnd.jupyter.widget-view+json": {
       "model_id": "a78454539bcc4ab68abcdf253fef36d1",
       "version_major": 2,
       "version_minor": 0
      },
      "text/plain": [
       "Evaluating in validation set:   0%|          | 0/12 [00:00<?, ?it/s]"
      ]
     },
     "metadata": {},
     "output_type": "display_data"
    },
    {
     "name": "stdout",
     "output_type": "stream",
     "text": [
      "Validation Loss 0.499\n"
     ]
    },
    {
     "data": {
      "application/vnd.jupyter.widget-view+json": {
       "model_id": "34381527b6554c77b79760504d24f43f",
       "version_major": 2,
       "version_minor": 0
      },
      "text/plain": [
       "Evaluating in validation set:   0%|          | 0/12 [00:00<?, ?it/s]"
      ]
     },
     "metadata": {},
     "output_type": "display_data"
    },
    {
     "name": "stdout",
     "output_type": "stream",
     "text": [
      "Validation Loss 0.514\n"
     ]
    },
    {
     "data": {
      "application/vnd.jupyter.widget-view+json": {
       "model_id": "5f67db15b5fe4eb899c973a5aa23e650",
       "version_major": 2,
       "version_minor": 0
      },
      "text/plain": [
       "Evaluating in validation set:   0%|          | 0/12 [00:00<?, ?it/s]"
      ]
     },
     "metadata": {},
     "output_type": "display_data"
    },
    {
     "name": "stdout",
     "output_type": "stream",
     "text": [
      "Validation Loss 0.828\n"
     ]
    },
    {
     "data": {
      "application/vnd.jupyter.widget-view+json": {
       "model_id": "7340c1afd009410d9e2a3791d2ee7ede",
       "version_major": 2,
       "version_minor": 0
      },
      "text/plain": [
       "Evaluating in validation set:   0%|          | 0/12 [00:00<?, ?it/s]"
      ]
     },
     "metadata": {},
     "output_type": "display_data"
    },
    {
     "name": "stdout",
     "output_type": "stream",
     "text": [
      "Validation Loss 0.485\n"
     ]
    },
    {
     "data": {
      "application/vnd.jupyter.widget-view+json": {
       "model_id": "e00d346dd16b417f99e8dada39c7cc2a",
       "version_major": 2,
       "version_minor": 0
      },
      "text/plain": [
       "Evaluating in validation set:   0%|          | 0/12 [00:00<?, ?it/s]"
      ]
     },
     "metadata": {},
     "output_type": "display_data"
    },
    {
     "name": "stdout",
     "output_type": "stream",
     "text": [
      "Validation Loss 0.928\n"
     ]
    },
    {
     "data": {
      "application/vnd.jupyter.widget-view+json": {
       "model_id": "22a0a51e6d6647928e25227eff81631e",
       "version_major": 2,
       "version_minor": 0
      },
      "text/plain": [
       "Evaluating in validation set:   0%|          | 0/12 [00:00<?, ?it/s]"
      ]
     },
     "metadata": {},
     "output_type": "display_data"
    },
    {
     "name": "stdout",
     "output_type": "stream",
     "text": [
      "Validation Loss 0.584\n"
     ]
    },
    {
     "data": {
      "application/vnd.jupyter.widget-view+json": {
       "model_id": "3cddb79300984d5c8e725348490cd31a",
       "version_major": 2,
       "version_minor": 0
      },
      "text/plain": [
       "Evaluating in validation set:   0%|          | 0/12 [00:00<?, ?it/s]"
      ]
     },
     "metadata": {},
     "output_type": "display_data"
    },
    {
     "name": "stdout",
     "output_type": "stream",
     "text": [
      "Validation Loss 0.568\n"
     ]
    },
    {
     "data": {
      "application/vnd.jupyter.widget-view+json": {
       "model_id": "966c92a99e8742e49074e3264fb43706",
       "version_major": 2,
       "version_minor": 0
      },
      "text/plain": [
       "Evaluating in validation set:   0%|          | 0/12 [00:00<?, ?it/s]"
      ]
     },
     "metadata": {},
     "output_type": "display_data"
    },
    {
     "name": "stdout",
     "output_type": "stream",
     "text": [
      "Validation Loss 0.745\n"
     ]
    },
    {
     "data": {
      "application/vnd.jupyter.widget-view+json": {
       "model_id": "b467bd055748400fbd531a1b885bc8be",
       "version_major": 2,
       "version_minor": 0
      },
      "text/plain": [
       "Evaluating in validation set:   0%|          | 0/12 [00:00<?, ?it/s]"
      ]
     },
     "metadata": {},
     "output_type": "display_data"
    },
    {
     "name": "stdout",
     "output_type": "stream",
     "text": [
      "Validation Loss 0.439\n"
     ]
    },
    {
     "data": {
      "application/vnd.jupyter.widget-view+json": {
       "model_id": "64fd1180918b4ff0b54d6ca1060da580",
       "version_major": 2,
       "version_minor": 0
      },
      "text/plain": [
       "Evaluating in validation set:   0%|          | 0/12 [00:00<?, ?it/s]"
      ]
     },
     "metadata": {},
     "output_type": "display_data"
    },
    {
     "name": "stdout",
     "output_type": "stream",
     "text": [
      "Validation Loss 0.439\n"
     ]
    },
    {
     "data": {
      "application/vnd.jupyter.widget-view+json": {
       "model_id": "02d4affa71c04c1db5ac46ea58bee0b9",
       "version_major": 2,
       "version_minor": 0
      },
      "text/plain": [
       "Evaluating in validation set:   0%|          | 0/12 [00:00<?, ?it/s]"
      ]
     },
     "metadata": {},
     "output_type": "display_data"
    },
    {
     "name": "stdout",
     "output_type": "stream",
     "text": [
      "Validation Loss 0.720\n"
     ]
    },
    {
     "data": {
      "application/vnd.jupyter.widget-view+json": {
       "model_id": "cb3b6951133541559480d57d47499635",
       "version_major": 2,
       "version_minor": 0
      },
      "text/plain": [
       "Evaluating in validation set:   0%|          | 0/12 [00:00<?, ?it/s]"
      ]
     },
     "metadata": {},
     "output_type": "display_data"
    },
    {
     "name": "stdout",
     "output_type": "stream",
     "text": [
      "Validation Loss 0.477\n"
     ]
    },
    {
     "data": {
      "application/vnd.jupyter.widget-view+json": {
       "model_id": "2c7f730bb1ce4282935eb1af8a2234ae",
       "version_major": 2,
       "version_minor": 0
      },
      "text/plain": [
       "Evaluating in validation set:   0%|          | 0/12 [00:00<?, ?it/s]"
      ]
     },
     "metadata": {},
     "output_type": "display_data"
    },
    {
     "name": "stdout",
     "output_type": "stream",
     "text": [
      "Validation Loss 0.418\n"
     ]
    },
    {
     "data": {
      "application/vnd.jupyter.widget-view+json": {
       "model_id": "c6bd7819f8474a00857181437ea2fb87",
       "version_major": 2,
       "version_minor": 0
      },
      "text/plain": [
       "Evaluating in validation set:   0%|          | 0/12 [00:00<?, ?it/s]"
      ]
     },
     "metadata": {},
     "output_type": "display_data"
    },
    {
     "name": "stdout",
     "output_type": "stream",
     "text": [
      "Validation Loss 0.564\n"
     ]
    },
    {
     "data": {
      "application/vnd.jupyter.widget-view+json": {
       "model_id": "3beb1a689fa948e0905b923807014ac8",
       "version_major": 2,
       "version_minor": 0
      },
      "text/plain": [
       "Evaluating in validation set:   0%|          | 0/12 [00:00<?, ?it/s]"
      ]
     },
     "metadata": {},
     "output_type": "display_data"
    },
    {
     "name": "stdout",
     "output_type": "stream",
     "text": [
      "Validation Loss 0.464\n"
     ]
    },
    {
     "data": {
      "application/vnd.jupyter.widget-view+json": {
       "model_id": "f0780a5eb7524e49b10a51818ba844b9",
       "version_major": 2,
       "version_minor": 0
      },
      "text/plain": [
       "Evaluating in validation set:   0%|          | 0/12 [00:00<?, ?it/s]"
      ]
     },
     "metadata": {},
     "output_type": "display_data"
    },
    {
     "name": "stdout",
     "output_type": "stream",
     "text": [
      "Validation Loss 0.774\n"
     ]
    },
    {
     "data": {
      "application/vnd.jupyter.widget-view+json": {
       "model_id": "336795cf758b471b81ad5eea7c8f0ee1",
       "version_major": 2,
       "version_minor": 0
      },
      "text/plain": [
       "Evaluating in validation set:   0%|          | 0/12 [00:00<?, ?it/s]"
      ]
     },
     "metadata": {},
     "output_type": "display_data"
    },
    {
     "name": "stdout",
     "output_type": "stream",
     "text": [
      "Validation Loss 0.446\n"
     ]
    },
    {
     "data": {
      "application/vnd.jupyter.widget-view+json": {
       "model_id": "46b5276036db4cf7a22dabe9caf52afd",
       "version_major": 2,
       "version_minor": 0
      },
      "text/plain": [
       "Evaluating in validation set:   0%|          | 0/12 [00:00<?, ?it/s]"
      ]
     },
     "metadata": {},
     "output_type": "display_data"
    },
    {
     "name": "stdout",
     "output_type": "stream",
     "text": [
      "Validation Loss 0.751\n"
     ]
    },
    {
     "data": {
      "application/vnd.jupyter.widget-view+json": {
       "model_id": "c2e956c834a04c0f8a3641240651cf40",
       "version_major": 2,
       "version_minor": 0
      },
      "text/plain": [
       "Evaluating in validation set:   0%|          | 0/12 [00:00<?, ?it/s]"
      ]
     },
     "metadata": {},
     "output_type": "display_data"
    },
    {
     "name": "stdout",
     "output_type": "stream",
     "text": [
      "Validation Loss 0.684\n"
     ]
    },
    {
     "data": {
      "application/vnd.jupyter.widget-view+json": {
       "model_id": "2d432624ca3141099e66d0aa686f04c2",
       "version_major": 2,
       "version_minor": 0
      },
      "text/plain": [
       "Evaluating in validation set:   0%|          | 0/12 [00:00<?, ?it/s]"
      ]
     },
     "metadata": {},
     "output_type": "display_data"
    },
    {
     "name": "stdout",
     "output_type": "stream",
     "text": [
      "Validation Loss 0.710\n"
     ]
    },
    {
     "data": {
      "application/vnd.jupyter.widget-view+json": {
       "model_id": "dc6a59df9c204a1494525376850dd24b",
       "version_major": 2,
       "version_minor": 0
      },
      "text/plain": [
       "Evaluating in validation set:   0%|          | 0/12 [00:00<?, ?it/s]"
      ]
     },
     "metadata": {},
     "output_type": "display_data"
    },
    {
     "name": "stdout",
     "output_type": "stream",
     "text": [
      "Validation Loss 0.611\n"
     ]
    },
    {
     "data": {
      "application/vnd.jupyter.widget-view+json": {
       "model_id": "97bb8b33a4fa4aceb1817bf675e7914c",
       "version_major": 2,
       "version_minor": 0
      },
      "text/plain": [
       "Evaluating in validation set:   0%|          | 0/12 [00:00<?, ?it/s]"
      ]
     },
     "metadata": {},
     "output_type": "display_data"
    },
    {
     "name": "stdout",
     "output_type": "stream",
     "text": [
      "Validation Loss 0.699\n"
     ]
    },
    {
     "data": {
      "application/vnd.jupyter.widget-view+json": {
       "model_id": "78641b9ebea146fdbca961f49732c9b8",
       "version_major": 2,
       "version_minor": 0
      },
      "text/plain": [
       "Evaluating in validation set:   0%|          | 0/12 [00:00<?, ?it/s]"
      ]
     },
     "metadata": {},
     "output_type": "display_data"
    },
    {
     "name": "stdout",
     "output_type": "stream",
     "text": [
      "Validation Loss 0.960\n"
     ]
    },
    {
     "data": {
      "application/vnd.jupyter.widget-view+json": {
       "model_id": "1a82f19406c945bb9293f8db13ffe270",
       "version_major": 2,
       "version_minor": 0
      },
      "text/plain": [
       "Evaluating in validation set:   0%|          | 0/12 [00:00<?, ?it/s]"
      ]
     },
     "metadata": {},
     "output_type": "display_data"
    },
    {
     "name": "stdout",
     "output_type": "stream",
     "text": [
      "Validation Loss 0.811\n"
     ]
    },
    {
     "data": {
      "application/vnd.jupyter.widget-view+json": {
       "model_id": "1c04c3e3c22043469570bf71ce8311d7",
       "version_major": 2,
       "version_minor": 0
      },
      "text/plain": [
       "Evaluating in validation set:   0%|          | 0/12 [00:00<?, ?it/s]"
      ]
     },
     "metadata": {},
     "output_type": "display_data"
    },
    {
     "name": "stdout",
     "output_type": "stream",
     "text": [
      "Validation Loss 0.648\n"
     ]
    },
    {
     "data": {
      "application/vnd.jupyter.widget-view+json": {
       "model_id": "390a535ab0034326a5aef52b47c3306b",
       "version_major": 2,
       "version_minor": 0
      },
      "text/plain": [
       "Evaluating in validation set:   0%|          | 0/12 [00:00<?, ?it/s]"
      ]
     },
     "metadata": {},
     "output_type": "display_data"
    },
    {
     "name": "stdout",
     "output_type": "stream",
     "text": [
      "Validation Loss 0.769\n"
     ]
    },
    {
     "data": {
      "application/vnd.jupyter.widget-view+json": {
       "model_id": "2d937a7652e24840aa3e24a055c332af",
       "version_major": 2,
       "version_minor": 0
      },
      "text/plain": [
       "Evaluating in validation set:   0%|          | 0/12 [00:00<?, ?it/s]"
      ]
     },
     "metadata": {},
     "output_type": "display_data"
    },
    {
     "name": "stdout",
     "output_type": "stream",
     "text": [
      "Validation Loss 0.774\n"
     ]
    },
    {
     "data": {
      "application/vnd.jupyter.widget-view+json": {
       "model_id": "f343fc2f150b4d1cbe18a2e5fa4f6b40",
       "version_major": 2,
       "version_minor": 0
      },
      "text/plain": [
       "Evaluating in validation set:   0%|          | 0/12 [00:00<?, ?it/s]"
      ]
     },
     "metadata": {},
     "output_type": "display_data"
    },
    {
     "name": "stdout",
     "output_type": "stream",
     "text": [
      "Validation Loss 0.770\n"
     ]
    },
    {
     "data": {
      "application/vnd.jupyter.widget-view+json": {
       "model_id": "618b2cb4dffa4a02879845f919618df5",
       "version_major": 2,
       "version_minor": 0
      },
      "text/plain": [
       "Evaluating in validation set:   0%|          | 0/12 [00:00<?, ?it/s]"
      ]
     },
     "metadata": {},
     "output_type": "display_data"
    },
    {
     "name": "stdout",
     "output_type": "stream",
     "text": [
      "Validation Loss 0.806\n"
     ]
    },
    {
     "data": {
      "application/vnd.jupyter.widget-view+json": {
       "model_id": "3a151d0d9bc94b96a3cb2704b648fbea",
       "version_major": 2,
       "version_minor": 0
      },
      "text/plain": [
       "Evaluating in validation set:   0%|          | 0/12 [00:00<?, ?it/s]"
      ]
     },
     "metadata": {},
     "output_type": "display_data"
    },
    {
     "name": "stdout",
     "output_type": "stream",
     "text": [
      "Validation Loss 1.108\n"
     ]
    },
    {
     "data": {
      "application/vnd.jupyter.widget-view+json": {
       "model_id": "4f97b2f7509c44248e87cb79a7e9275b",
       "version_major": 2,
       "version_minor": 0
      },
      "text/plain": [
       "Evaluating in validation set:   0%|          | 0/12 [00:00<?, ?it/s]"
      ]
     },
     "metadata": {},
     "output_type": "display_data"
    },
    {
     "name": "stdout",
     "output_type": "stream",
     "text": [
      "Validation Loss 0.838\n"
     ]
    },
    {
     "data": {
      "application/vnd.jupyter.widget-view+json": {
       "model_id": "efcfdb73c9374a4e8f02192e4064c888",
       "version_major": 2,
       "version_minor": 0
      },
      "text/plain": [
       "Evaluating in validation set:   0%|          | 0/12 [00:00<?, ?it/s]"
      ]
     },
     "metadata": {},
     "output_type": "display_data"
    },
    {
     "name": "stdout",
     "output_type": "stream",
     "text": [
      "Validation Loss 0.948\n"
     ]
    },
    {
     "data": {
      "application/vnd.jupyter.widget-view+json": {
       "model_id": "06299bf6b9b14ef88bae8930cc3ba0e6",
       "version_major": 2,
       "version_minor": 0
      },
      "text/plain": [
       "Evaluating in validation set:   0%|          | 0/12 [00:00<?, ?it/s]"
      ]
     },
     "metadata": {},
     "output_type": "display_data"
    },
    {
     "name": "stdout",
     "output_type": "stream",
     "text": [
      "Validation Loss 1.080\n"
     ]
    },
    {
     "data": {
      "application/vnd.jupyter.widget-view+json": {
       "model_id": "a314d5864f5b44b2abb9b5750fbe09be",
       "version_major": 2,
       "version_minor": 0
      },
      "text/plain": [
       "Evaluating in validation set:   0%|          | 0/12 [00:00<?, ?it/s]"
      ]
     },
     "metadata": {},
     "output_type": "display_data"
    },
    {
     "name": "stdout",
     "output_type": "stream",
     "text": [
      "Validation Loss 0.609\n"
     ]
    },
    {
     "data": {
      "application/vnd.jupyter.widget-view+json": {
       "model_id": "dcf424b6f6a74701b21e265be48338c5",
       "version_major": 2,
       "version_minor": 0
      },
      "text/plain": [
       "Evaluating in validation set:   0%|          | 0/12 [00:00<?, ?it/s]"
      ]
     },
     "metadata": {},
     "output_type": "display_data"
    },
    {
     "name": "stdout",
     "output_type": "stream",
     "text": [
      "Validation Loss 0.732\n"
     ]
    },
    {
     "data": {
      "application/vnd.jupyter.widget-view+json": {
       "model_id": "2f76255b5ae446d389910c8bdb9807eb",
       "version_major": 2,
       "version_minor": 0
      },
      "text/plain": [
       "Evaluating in validation set:   0%|          | 0/12 [00:00<?, ?it/s]"
      ]
     },
     "metadata": {},
     "output_type": "display_data"
    },
    {
     "name": "stdout",
     "output_type": "stream",
     "text": [
      "Validation Loss 0.814\n"
     ]
    },
    {
     "data": {
      "application/vnd.jupyter.widget-view+json": {
       "model_id": "f3b6c8c22497403e81a7bc5d9d0702e4",
       "version_major": 2,
       "version_minor": 0
      },
      "text/plain": [
       "Evaluating in validation set:   0%|          | 0/12 [00:00<?, ?it/s]"
      ]
     },
     "metadata": {},
     "output_type": "display_data"
    },
    {
     "name": "stdout",
     "output_type": "stream",
     "text": [
      "Validation Loss 0.635\n"
     ]
    },
    {
     "data": {
      "application/vnd.jupyter.widget-view+json": {
       "model_id": "349d24e375d2410abe2007fea3189c30",
       "version_major": 2,
       "version_minor": 0
      },
      "text/plain": [
       "Evaluating in validation set:   0%|          | 0/12 [00:00<?, ?it/s]"
      ]
     },
     "metadata": {},
     "output_type": "display_data"
    },
    {
     "name": "stdout",
     "output_type": "stream",
     "text": [
      "Validation Loss 0.511\n"
     ]
    },
    {
     "data": {
      "application/vnd.jupyter.widget-view+json": {
       "model_id": "ba1b158b002c40b885016f3b4e54a551",
       "version_major": 2,
       "version_minor": 0
      },
      "text/plain": [
       "Evaluating in validation set:   0%|          | 0/12 [00:00<?, ?it/s]"
      ]
     },
     "metadata": {},
     "output_type": "display_data"
    },
    {
     "name": "stdout",
     "output_type": "stream",
     "text": [
      "Validation Loss 0.963\n"
     ]
    },
    {
     "data": {
      "application/vnd.jupyter.widget-view+json": {
       "model_id": "7bff2e7e608e4baa9f51033a28670a52",
       "version_major": 2,
       "version_minor": 0
      },
      "text/plain": [
       "Evaluating in validation set:   0%|          | 0/12 [00:00<?, ?it/s]"
      ]
     },
     "metadata": {},
     "output_type": "display_data"
    },
    {
     "name": "stdout",
     "output_type": "stream",
     "text": [
      "Validation Loss 1.025\n"
     ]
    },
    {
     "data": {
      "application/vnd.jupyter.widget-view+json": {
       "model_id": "766a0b9e12084c11b61167720a517086",
       "version_major": 2,
       "version_minor": 0
      },
      "text/plain": [
       "Evaluating in validation set:   0%|          | 0/12 [00:00<?, ?it/s]"
      ]
     },
     "metadata": {},
     "output_type": "display_data"
    },
    {
     "name": "stdout",
     "output_type": "stream",
     "text": [
      "Validation Loss 0.709\n"
     ]
    },
    {
     "data": {
      "application/vnd.jupyter.widget-view+json": {
       "model_id": "0a4b6dba59ba4b8cb99a78284c9d863a",
       "version_major": 2,
       "version_minor": 0
      },
      "text/plain": [
       "Evaluating in validation set:   0%|          | 0/12 [00:00<?, ?it/s]"
      ]
     },
     "metadata": {},
     "output_type": "display_data"
    },
    {
     "name": "stdout",
     "output_type": "stream",
     "text": [
      "Validation Loss 0.645\n"
     ]
    },
    {
     "data": {
      "application/vnd.jupyter.widget-view+json": {
       "model_id": "33cbb93fac98476a9a6bb6e34669497e",
       "version_major": 2,
       "version_minor": 0
      },
      "text/plain": [
       "Evaluating in validation set:   0%|          | 0/12 [00:00<?, ?it/s]"
      ]
     },
     "metadata": {},
     "output_type": "display_data"
    },
    {
     "name": "stdout",
     "output_type": "stream",
     "text": [
      "Validation Loss 0.738\n"
     ]
    },
    {
     "data": {
      "application/vnd.jupyter.widget-view+json": {
       "model_id": "e0bf6766d64d43e793cbff4b11dda3ac",
       "version_major": 2,
       "version_minor": 0
      },
      "text/plain": [
       "Evaluating in validation set:   0%|          | 0/12 [00:00<?, ?it/s]"
      ]
     },
     "metadata": {},
     "output_type": "display_data"
    },
    {
     "name": "stdout",
     "output_type": "stream",
     "text": [
      "Validation Loss 0.841\n"
     ]
    },
    {
     "data": {
      "application/vnd.jupyter.widget-view+json": {
       "model_id": "aba90450c1664030bb4981eaf8e61f29",
       "version_major": 2,
       "version_minor": 0
      },
      "text/plain": [
       "Evaluating in validation set:   0%|          | 0/12 [00:00<?, ?it/s]"
      ]
     },
     "metadata": {},
     "output_type": "display_data"
    },
    {
     "name": "stdout",
     "output_type": "stream",
     "text": [
      "Validation Loss 0.613\n"
     ]
    },
    {
     "data": {
      "application/vnd.jupyter.widget-view+json": {
       "model_id": "9e4a60baa84a4b16ad8742778dac51a7",
       "version_major": 2,
       "version_minor": 0
      },
      "text/plain": [
       "Evaluating in validation set:   0%|          | 0/12 [00:00<?, ?it/s]"
      ]
     },
     "metadata": {},
     "output_type": "display_data"
    },
    {
     "name": "stdout",
     "output_type": "stream",
     "text": [
      "Validation Loss 0.920\n"
     ]
    },
    {
     "data": {
      "application/vnd.jupyter.widget-view+json": {
       "model_id": "c447b435d5fb4f28b9e8dcd5b770de84",
       "version_major": 2,
       "version_minor": 0
      },
      "text/plain": [
       "Evaluating in validation set:   0%|          | 0/12 [00:00<?, ?it/s]"
      ]
     },
     "metadata": {},
     "output_type": "display_data"
    },
    {
     "name": "stdout",
     "output_type": "stream",
     "text": [
      "Validation Loss 0.856\n"
     ]
    },
    {
     "data": {
      "application/vnd.jupyter.widget-view+json": {
       "model_id": "d480c84fab1f475ba15ccff7df43714d",
       "version_major": 2,
       "version_minor": 0
      },
      "text/plain": [
       "Evaluating in validation set:   0%|          | 0/12 [00:00<?, ?it/s]"
      ]
     },
     "metadata": {},
     "output_type": "display_data"
    },
    {
     "name": "stdout",
     "output_type": "stream",
     "text": [
      "Validation Loss 0.699\n"
     ]
    },
    {
     "data": {
      "application/vnd.jupyter.widget-view+json": {
       "model_id": "ebb98cafa9fc4d3f987bf89f7452b708",
       "version_major": 2,
       "version_minor": 0
      },
      "text/plain": [
       "Evaluating in validation set:   0%|          | 0/12 [00:00<?, ?it/s]"
      ]
     },
     "metadata": {},
     "output_type": "display_data"
    },
    {
     "name": "stdout",
     "output_type": "stream",
     "text": [
      "Validation Loss 0.663\n"
     ]
    },
    {
     "data": {
      "application/vnd.jupyter.widget-view+json": {
       "model_id": "a52eb6a63b954c7cba81e0a3efac35ae",
       "version_major": 2,
       "version_minor": 0
      },
      "text/plain": [
       "Evaluating in validation set:   0%|          | 0/12 [00:00<?, ?it/s]"
      ]
     },
     "metadata": {},
     "output_type": "display_data"
    },
    {
     "name": "stdout",
     "output_type": "stream",
     "text": [
      "Validation Loss 0.651\n"
     ]
    },
    {
     "data": {
      "application/vnd.jupyter.widget-view+json": {
       "model_id": "1e362db4829540b88782d064884acd3c",
       "version_major": 2,
       "version_minor": 0
      },
      "text/plain": [
       "Evaluating in validation set:   0%|          | 0/12 [00:00<?, ?it/s]"
      ]
     },
     "metadata": {},
     "output_type": "display_data"
    },
    {
     "name": "stdout",
     "output_type": "stream",
     "text": [
      "Validation Loss 0.858\n"
     ]
    },
    {
     "data": {
      "application/vnd.jupyter.widget-view+json": {
       "model_id": "d01c66239f73495389ba6dc5a2ec5c08",
       "version_major": 2,
       "version_minor": 0
      },
      "text/plain": [
       "Evaluating in validation set:   0%|          | 0/12 [00:00<?, ?it/s]"
      ]
     },
     "metadata": {},
     "output_type": "display_data"
    },
    {
     "name": "stdout",
     "output_type": "stream",
     "text": [
      "Validation Loss 0.641\n"
     ]
    },
    {
     "data": {
      "application/vnd.jupyter.widget-view+json": {
       "model_id": "d3c163199dd44a81be61b1cb308ac753",
       "version_major": 2,
       "version_minor": 0
      },
      "text/plain": [
       "Evaluating in validation set:   0%|          | 0/12 [00:00<?, ?it/s]"
      ]
     },
     "metadata": {},
     "output_type": "display_data"
    },
    {
     "name": "stdout",
     "output_type": "stream",
     "text": [
      "Validation Loss 0.964\n"
     ]
    },
    {
     "data": {
      "application/vnd.jupyter.widget-view+json": {
       "model_id": "a7eabb2d2197424c8b4abcf10828af68",
       "version_major": 2,
       "version_minor": 0
      },
      "text/plain": [
       "Evaluating in validation set:   0%|          | 0/12 [00:00<?, ?it/s]"
      ]
     },
     "metadata": {},
     "output_type": "display_data"
    },
    {
     "name": "stdout",
     "output_type": "stream",
     "text": [
      "Validation Loss 0.864\n"
     ]
    },
    {
     "data": {
      "application/vnd.jupyter.widget-view+json": {
       "model_id": "dde83406b5d34403b19e4392250125dd",
       "version_major": 2,
       "version_minor": 0
      },
      "text/plain": [
       "Evaluating in validation set:   0%|          | 0/12 [00:00<?, ?it/s]"
      ]
     },
     "metadata": {},
     "output_type": "display_data"
    },
    {
     "name": "stdout",
     "output_type": "stream",
     "text": [
      "Validation Loss 0.816\n"
     ]
    },
    {
     "data": {
      "application/vnd.jupyter.widget-view+json": {
       "model_id": "edf010a897c0457dae8d54da44e6c47a",
       "version_major": 2,
       "version_minor": 0
      },
      "text/plain": [
       "Evaluating in validation set:   0%|          | 0/12 [00:00<?, ?it/s]"
      ]
     },
     "metadata": {},
     "output_type": "display_data"
    },
    {
     "name": "stdout",
     "output_type": "stream",
     "text": [
      "Validation Loss 1.443\n"
     ]
    },
    {
     "data": {
      "application/vnd.jupyter.widget-view+json": {
       "model_id": "8921d58b44c4416aa5433fedac2ef0a4",
       "version_major": 2,
       "version_minor": 0
      },
      "text/plain": [
       "Evaluating in validation set:   0%|          | 0/12 [00:00<?, ?it/s]"
      ]
     },
     "metadata": {},
     "output_type": "display_data"
    },
    {
     "name": "stdout",
     "output_type": "stream",
     "text": [
      "Validation Loss 0.594\n"
     ]
    },
    {
     "data": {
      "application/vnd.jupyter.widget-view+json": {
       "model_id": "9b3bb077a24e4383a421fbc493f9b03a",
       "version_major": 2,
       "version_minor": 0
      },
      "text/plain": [
       "Evaluating in validation set:   0%|          | 0/12 [00:00<?, ?it/s]"
      ]
     },
     "metadata": {},
     "output_type": "display_data"
    },
    {
     "name": "stdout",
     "output_type": "stream",
     "text": [
      "Validation Loss 0.633\n"
     ]
    },
    {
     "data": {
      "application/vnd.jupyter.widget-view+json": {
       "model_id": "f7306fd352b444909b65b8d5ccc3860c",
       "version_major": 2,
       "version_minor": 0
      },
      "text/plain": [
       "Evaluating in validation set:   0%|          | 0/12 [00:00<?, ?it/s]"
      ]
     },
     "metadata": {},
     "output_type": "display_data"
    },
    {
     "name": "stdout",
     "output_type": "stream",
     "text": [
      "Validation Loss 0.541\n"
     ]
    },
    {
     "data": {
      "application/vnd.jupyter.widget-view+json": {
       "model_id": "f076b9d52ddf4cc2a4dc2a3e34f305fc",
       "version_major": 2,
       "version_minor": 0
      },
      "text/plain": [
       "Evaluating in validation set:   0%|          | 0/12 [00:00<?, ?it/s]"
      ]
     },
     "metadata": {},
     "output_type": "display_data"
    },
    {
     "name": "stdout",
     "output_type": "stream",
     "text": [
      "Validation Loss 0.495\n"
     ]
    },
    {
     "data": {
      "application/vnd.jupyter.widget-view+json": {
       "model_id": "6f054274522e451f8e3468ff73b55bfe",
       "version_major": 2,
       "version_minor": 0
      },
      "text/plain": [
       "Evaluating in validation set:   0%|          | 0/12 [00:00<?, ?it/s]"
      ]
     },
     "metadata": {},
     "output_type": "display_data"
    },
    {
     "name": "stdout",
     "output_type": "stream",
     "text": [
      "Validation Loss 0.698\n"
     ]
    },
    {
     "data": {
      "application/vnd.jupyter.widget-view+json": {
       "model_id": "6a5857b7bf8947ed85a371aa7c07b87a",
       "version_major": 2,
       "version_minor": 0
      },
      "text/plain": [
       "Evaluating in validation set:   0%|          | 0/12 [00:00<?, ?it/s]"
      ]
     },
     "metadata": {},
     "output_type": "display_data"
    },
    {
     "name": "stdout",
     "output_type": "stream",
     "text": [
      "Validation Loss 0.760\n"
     ]
    },
    {
     "data": {
      "application/vnd.jupyter.widget-view+json": {
       "model_id": "fdfb3fa622bd449dba0e704a19964ff4",
       "version_major": 2,
       "version_minor": 0
      },
      "text/plain": [
       "Evaluating in validation set:   0%|          | 0/12 [00:00<?, ?it/s]"
      ]
     },
     "metadata": {},
     "output_type": "display_data"
    },
    {
     "name": "stdout",
     "output_type": "stream",
     "text": [
      "Validation Loss 0.702\n"
     ]
    },
    {
     "data": {
      "application/vnd.jupyter.widget-view+json": {
       "model_id": "541d615c9ddd4060a661772cb4f4603a",
       "version_major": 2,
       "version_minor": 0
      },
      "text/plain": [
       "Evaluating in validation set:   0%|          | 0/12 [00:00<?, ?it/s]"
      ]
     },
     "metadata": {},
     "output_type": "display_data"
    },
    {
     "name": "stdout",
     "output_type": "stream",
     "text": [
      "Validation Loss 0.735\n"
     ]
    },
    {
     "data": {
      "application/vnd.jupyter.widget-view+json": {
       "model_id": "93e54b7fa80c4938bd5ced133020bfb4",
       "version_major": 2,
       "version_minor": 0
      },
      "text/plain": [
       "Evaluating in validation set:   0%|          | 0/12 [00:00<?, ?it/s]"
      ]
     },
     "metadata": {},
     "output_type": "display_data"
    },
    {
     "name": "stdout",
     "output_type": "stream",
     "text": [
      "Validation Loss 0.830\n"
     ]
    },
    {
     "data": {
      "application/vnd.jupyter.widget-view+json": {
       "model_id": "47a9c3bc6333453c8fcaa8a1d041bca0",
       "version_major": 2,
       "version_minor": 0
      },
      "text/plain": [
       "Evaluating in validation set:   0%|          | 0/12 [00:00<?, ?it/s]"
      ]
     },
     "metadata": {},
     "output_type": "display_data"
    },
    {
     "name": "stdout",
     "output_type": "stream",
     "text": [
      "Validation Loss 0.659\n"
     ]
    },
    {
     "data": {
      "application/vnd.jupyter.widget-view+json": {
       "model_id": "da571b6137f74aeaadb30d5f50495a19",
       "version_major": 2,
       "version_minor": 0
      },
      "text/plain": [
       "Evaluating in validation set:   0%|          | 0/12 [00:00<?, ?it/s]"
      ]
     },
     "metadata": {},
     "output_type": "display_data"
    },
    {
     "name": "stdout",
     "output_type": "stream",
     "text": [
      "Validation Loss 0.601\n"
     ]
    },
    {
     "data": {
      "application/vnd.jupyter.widget-view+json": {
       "model_id": "049e7d2620054d3ab0109903710ab053",
       "version_major": 2,
       "version_minor": 0
      },
      "text/plain": [
       "Evaluating in validation set:   0%|          | 0/12 [00:00<?, ?it/s]"
      ]
     },
     "metadata": {},
     "output_type": "display_data"
    },
    {
     "name": "stdout",
     "output_type": "stream",
     "text": [
      "Validation Loss 0.561\n"
     ]
    },
    {
     "data": {
      "application/vnd.jupyter.widget-view+json": {
       "model_id": "e16f8f37741b459bbd79386bfd0582af",
       "version_major": 2,
       "version_minor": 0
      },
      "text/plain": [
       "Evaluating in validation set:   0%|          | 0/12 [00:00<?, ?it/s]"
      ]
     },
     "metadata": {},
     "output_type": "display_data"
    },
    {
     "name": "stdout",
     "output_type": "stream",
     "text": [
      "Validation Loss 0.462\n"
     ]
    },
    {
     "data": {
      "application/vnd.jupyter.widget-view+json": {
       "model_id": "97337b2d20c443fcb60d7c4128de507a",
       "version_major": 2,
       "version_minor": 0
      },
      "text/plain": [
       "Evaluating in validation set:   0%|          | 0/12 [00:00<?, ?it/s]"
      ]
     },
     "metadata": {},
     "output_type": "display_data"
    },
    {
     "name": "stdout",
     "output_type": "stream",
     "text": [
      "Validation Loss 0.639\n"
     ]
    },
    {
     "data": {
      "application/vnd.jupyter.widget-view+json": {
       "model_id": "ba07dca7b26e42c7b68d4934a4556726",
       "version_major": 2,
       "version_minor": 0
      },
      "text/plain": [
       "Evaluating in validation set:   0%|          | 0/12 [00:00<?, ?it/s]"
      ]
     },
     "metadata": {},
     "output_type": "display_data"
    },
    {
     "name": "stdout",
     "output_type": "stream",
     "text": [
      "Validation Loss 0.583\n"
     ]
    },
    {
     "data": {
      "application/vnd.jupyter.widget-view+json": {
       "model_id": "3beea07fc8fc4dfbb6c50a98121cf2e7",
       "version_major": 2,
       "version_minor": 0
      },
      "text/plain": [
       "Evaluating in validation set:   0%|          | 0/12 [00:00<?, ?it/s]"
      ]
     },
     "metadata": {},
     "output_type": "display_data"
    },
    {
     "name": "stdout",
     "output_type": "stream",
     "text": [
      "Validation Loss 0.614\n"
     ]
    },
    {
     "data": {
      "application/vnd.jupyter.widget-view+json": {
       "model_id": "4e8bf29bd5f94c5fa91563d30e14214a",
       "version_major": 2,
       "version_minor": 0
      },
      "text/plain": [
       "Evaluating in validation set:   0%|          | 0/12 [00:00<?, ?it/s]"
      ]
     },
     "metadata": {},
     "output_type": "display_data"
    },
    {
     "name": "stdout",
     "output_type": "stream",
     "text": [
      "Validation Loss 0.550\n"
     ]
    },
    {
     "data": {
      "application/vnd.jupyter.widget-view+json": {
       "model_id": "99d5b9d36f04478c85f14a3aa53ec4ec",
       "version_major": 2,
       "version_minor": 0
      },
      "text/plain": [
       "Evaluating in validation set:   0%|          | 0/12 [00:00<?, ?it/s]"
      ]
     },
     "metadata": {},
     "output_type": "display_data"
    },
    {
     "name": "stdout",
     "output_type": "stream",
     "text": [
      "Validation Loss 0.696\n"
     ]
    },
    {
     "data": {
      "application/vnd.jupyter.widget-view+json": {
       "model_id": "3d586af6c8694f88af26e81bda2ffd51",
       "version_major": 2,
       "version_minor": 0
      },
      "text/plain": [
       "Evaluating in validation set:   0%|          | 0/12 [00:00<?, ?it/s]"
      ]
     },
     "metadata": {},
     "output_type": "display_data"
    },
    {
     "name": "stdout",
     "output_type": "stream",
     "text": [
      "Validation Loss 0.471\n"
     ]
    },
    {
     "data": {
      "application/vnd.jupyter.widget-view+json": {
       "model_id": "e90ceea1f4884db497424ce7c0906707",
       "version_major": 2,
       "version_minor": 0
      },
      "text/plain": [
       "Evaluating in validation set:   0%|          | 0/12 [00:00<?, ?it/s]"
      ]
     },
     "metadata": {},
     "output_type": "display_data"
    },
    {
     "name": "stdout",
     "output_type": "stream",
     "text": [
      "Validation Loss 0.616\n"
     ]
    },
    {
     "data": {
      "application/vnd.jupyter.widget-view+json": {
       "model_id": "c23dc9b1ac7541748678525f234c1102",
       "version_major": 2,
       "version_minor": 0
      },
      "text/plain": [
       "Evaluating in validation set:   0%|          | 0/12 [00:00<?, ?it/s]"
      ]
     },
     "metadata": {},
     "output_type": "display_data"
    },
    {
     "name": "stdout",
     "output_type": "stream",
     "text": [
      "Validation Loss 0.439\n"
     ]
    },
    {
     "data": {
      "application/vnd.jupyter.widget-view+json": {
       "model_id": "3dff6e63b5534f6f9107158abb7a25fd",
       "version_major": 2,
       "version_minor": 0
      },
      "text/plain": [
       "Evaluating in validation set:   0%|          | 0/12 [00:00<?, ?it/s]"
      ]
     },
     "metadata": {},
     "output_type": "display_data"
    },
    {
     "name": "stdout",
     "output_type": "stream",
     "text": [
      "Validation Loss 0.712\n"
     ]
    },
    {
     "data": {
      "application/vnd.jupyter.widget-view+json": {
       "model_id": "e2d74614b2064370b6ca3878d5a4b4a1",
       "version_major": 2,
       "version_minor": 0
      },
      "text/plain": [
       "Evaluating in validation set:   0%|          | 0/12 [00:00<?, ?it/s]"
      ]
     },
     "metadata": {},
     "output_type": "display_data"
    },
    {
     "name": "stdout",
     "output_type": "stream",
     "text": [
      "Validation Loss 0.528\n"
     ]
    },
    {
     "data": {
      "application/vnd.jupyter.widget-view+json": {
       "model_id": "cdab8c397a46404983c040f9fb2f4438",
       "version_major": 2,
       "version_minor": 0
      },
      "text/plain": [
       "Evaluating in validation set:   0%|          | 0/12 [00:00<?, ?it/s]"
      ]
     },
     "metadata": {},
     "output_type": "display_data"
    },
    {
     "name": "stdout",
     "output_type": "stream",
     "text": [
      "Validation Loss 0.796\n"
     ]
    },
    {
     "data": {
      "application/vnd.jupyter.widget-view+json": {
       "model_id": "de959573250a4dde988962164fcfe66f",
       "version_major": 2,
       "version_minor": 0
      },
      "text/plain": [
       "Evaluating in validation set:   0%|          | 0/12 [00:00<?, ?it/s]"
      ]
     },
     "metadata": {},
     "output_type": "display_data"
    },
    {
     "name": "stdout",
     "output_type": "stream",
     "text": [
      "Validation Loss 0.599\n"
     ]
    },
    {
     "data": {
      "application/vnd.jupyter.widget-view+json": {
       "model_id": "c3763ad2f9b14acf9d23cd1801e0e916",
       "version_major": 2,
       "version_minor": 0
      },
      "text/plain": [
       "Evaluating in validation set:   0%|          | 0/12 [00:00<?, ?it/s]"
      ]
     },
     "metadata": {},
     "output_type": "display_data"
    },
    {
     "name": "stdout",
     "output_type": "stream",
     "text": [
      "Validation Loss 0.488\n"
     ]
    },
    {
     "data": {
      "application/vnd.jupyter.widget-view+json": {
       "model_id": "68b03a5382bd467186f2292f860debc3",
       "version_major": 2,
       "version_minor": 0
      },
      "text/plain": [
       "Evaluating in validation set:   0%|          | 0/12 [00:00<?, ?it/s]"
      ]
     },
     "metadata": {},
     "output_type": "display_data"
    },
    {
     "name": "stdout",
     "output_type": "stream",
     "text": [
      "Validation Loss 0.529\n"
     ]
    },
    {
     "data": {
      "application/vnd.jupyter.widget-view+json": {
       "model_id": "23de85684b4f4e5eb846ecb435e47725",
       "version_major": 2,
       "version_minor": 0
      },
      "text/plain": [
       "Evaluating in validation set:   0%|          | 0/12 [00:00<?, ?it/s]"
      ]
     },
     "metadata": {},
     "output_type": "display_data"
    },
    {
     "name": "stdout",
     "output_type": "stream",
     "text": [
      "Validation Loss 0.630\n"
     ]
    },
    {
     "data": {
      "application/vnd.jupyter.widget-view+json": {
       "model_id": "964eb80fb8ae429db24736cb8d5a9f89",
       "version_major": 2,
       "version_minor": 0
      },
      "text/plain": [
       "Evaluating in validation set:   0%|          | 0/12 [00:00<?, ?it/s]"
      ]
     },
     "metadata": {},
     "output_type": "display_data"
    },
    {
     "name": "stdout",
     "output_type": "stream",
     "text": [
      "Validation Loss 0.703\n"
     ]
    },
    {
     "data": {
      "application/vnd.jupyter.widget-view+json": {
       "model_id": "c0021c08fae54caea83afb43b48f467c",
       "version_major": 2,
       "version_minor": 0
      },
      "text/plain": [
       "Evaluating in validation set:   0%|          | 0/12 [00:00<?, ?it/s]"
      ]
     },
     "metadata": {},
     "output_type": "display_data"
    },
    {
     "name": "stdout",
     "output_type": "stream",
     "text": [
      "Validation Loss 0.814\n"
     ]
    },
    {
     "data": {
      "application/vnd.jupyter.widget-view+json": {
       "model_id": "578d9d355f35499998fb0bdf5c4e7171",
       "version_major": 2,
       "version_minor": 0
      },
      "text/plain": [
       "Evaluating in validation set:   0%|          | 0/12 [00:00<?, ?it/s]"
      ]
     },
     "metadata": {},
     "output_type": "display_data"
    },
    {
     "name": "stdout",
     "output_type": "stream",
     "text": [
      "Validation Loss 0.769\n"
     ]
    },
    {
     "data": {
      "application/vnd.jupyter.widget-view+json": {
       "model_id": "7207cf341e3e4827b13291d3246fae53",
       "version_major": 2,
       "version_minor": 0
      },
      "text/plain": [
       "Evaluating in validation set:   0%|          | 0/12 [00:00<?, ?it/s]"
      ]
     },
     "metadata": {},
     "output_type": "display_data"
    },
    {
     "name": "stdout",
     "output_type": "stream",
     "text": [
      "Validation Loss 0.826\n"
     ]
    },
    {
     "data": {
      "application/vnd.jupyter.widget-view+json": {
       "model_id": "46c341afb6294803a6c71b3de3fc2267",
       "version_major": 2,
       "version_minor": 0
      },
      "text/plain": [
       "Evaluating in validation set:   0%|          | 0/12 [00:00<?, ?it/s]"
      ]
     },
     "metadata": {},
     "output_type": "display_data"
    },
    {
     "name": "stdout",
     "output_type": "stream",
     "text": [
      "Validation Loss 0.680\n"
     ]
    },
    {
     "data": {
      "application/vnd.jupyter.widget-view+json": {
       "model_id": "14c6a79c9752402b8a9fa744c7af93dd",
       "version_major": 2,
       "version_minor": 0
      },
      "text/plain": [
       "Evaluating in validation set:   0%|          | 0/12 [00:00<?, ?it/s]"
      ]
     },
     "metadata": {},
     "output_type": "display_data"
    },
    {
     "name": "stdout",
     "output_type": "stream",
     "text": [
      "Validation Loss 0.755\n"
     ]
    },
    {
     "data": {
      "application/vnd.jupyter.widget-view+json": {
       "model_id": "e4c6262813c04bddab2965a90c1d90aa",
       "version_major": 2,
       "version_minor": 0
      },
      "text/plain": [
       "Evaluating in validation set:   0%|          | 0/12 [00:00<?, ?it/s]"
      ]
     },
     "metadata": {},
     "output_type": "display_data"
    },
    {
     "name": "stdout",
     "output_type": "stream",
     "text": [
      "Validation Loss 0.550\n"
     ]
    },
    {
     "data": {
      "application/vnd.jupyter.widget-view+json": {
       "model_id": "ea977a8d09e44333be8a913a3927bb03",
       "version_major": 2,
       "version_minor": 0
      },
      "text/plain": [
       "Evaluating in validation set:   0%|          | 0/12 [00:00<?, ?it/s]"
      ]
     },
     "metadata": {},
     "output_type": "display_data"
    },
    {
     "name": "stdout",
     "output_type": "stream",
     "text": [
      "Validation Loss 0.643\n"
     ]
    },
    {
     "data": {
      "application/vnd.jupyter.widget-view+json": {
       "model_id": "16a4f94ef9914765b8a389ed40c3158f",
       "version_major": 2,
       "version_minor": 0
      },
      "text/plain": [
       "Evaluating in validation set:   0%|          | 0/12 [00:00<?, ?it/s]"
      ]
     },
     "metadata": {},
     "output_type": "display_data"
    },
    {
     "name": "stdout",
     "output_type": "stream",
     "text": [
      "Validation Loss 0.481\n"
     ]
    },
    {
     "data": {
      "application/vnd.jupyter.widget-view+json": {
       "model_id": "cffed916870f485db71b1e6a39977363",
       "version_major": 2,
       "version_minor": 0
      },
      "text/plain": [
       "Evaluating in validation set:   0%|          | 0/12 [00:00<?, ?it/s]"
      ]
     },
     "metadata": {},
     "output_type": "display_data"
    },
    {
     "name": "stdout",
     "output_type": "stream",
     "text": [
      "Validation Loss 0.496\n"
     ]
    },
    {
     "data": {
      "application/vnd.jupyter.widget-view+json": {
       "model_id": "29462e6c628849378b4ec74d9a811c2e",
       "version_major": 2,
       "version_minor": 0
      },
      "text/plain": [
       "Evaluating in validation set:   0%|          | 0/12 [00:00<?, ?it/s]"
      ]
     },
     "metadata": {},
     "output_type": "display_data"
    },
    {
     "name": "stdout",
     "output_type": "stream",
     "text": [
      "Validation Loss 0.769\n"
     ]
    },
    {
     "data": {
      "application/vnd.jupyter.widget-view+json": {
       "model_id": "6f45b7daae6c4db18053d7bbc9ecafd9",
       "version_major": 2,
       "version_minor": 0
      },
      "text/plain": [
       "Evaluating in validation set:   0%|          | 0/12 [00:00<?, ?it/s]"
      ]
     },
     "metadata": {},
     "output_type": "display_data"
    },
    {
     "name": "stdout",
     "output_type": "stream",
     "text": [
      "Validation Loss 0.668\n"
     ]
    },
    {
     "data": {
      "application/vnd.jupyter.widget-view+json": {
       "model_id": "1ee54a8410f845e79577ab2865b00011",
       "version_major": 2,
       "version_minor": 0
      },
      "text/plain": [
       "Evaluating in validation set:   0%|          | 0/12 [00:00<?, ?it/s]"
      ]
     },
     "metadata": {},
     "output_type": "display_data"
    },
    {
     "name": "stdout",
     "output_type": "stream",
     "text": [
      "Validation Loss 0.529\n"
     ]
    },
    {
     "data": {
      "application/vnd.jupyter.widget-view+json": {
       "model_id": "157277a9bef74c7192d7acd9dac5e54f",
       "version_major": 2,
       "version_minor": 0
      },
      "text/plain": [
       "Evaluating in validation set:   0%|          | 0/12 [00:00<?, ?it/s]"
      ]
     },
     "metadata": {},
     "output_type": "display_data"
    },
    {
     "name": "stdout",
     "output_type": "stream",
     "text": [
      "Validation Loss 0.830\n"
     ]
    },
    {
     "data": {
      "application/vnd.jupyter.widget-view+json": {
       "model_id": "0257b8d7f6ba43cf95574172c7ac87ab",
       "version_major": 2,
       "version_minor": 0
      },
      "text/plain": [
       "Evaluating in validation set:   0%|          | 0/12 [00:00<?, ?it/s]"
      ]
     },
     "metadata": {},
     "output_type": "display_data"
    },
    {
     "name": "stdout",
     "output_type": "stream",
     "text": [
      "Validation Loss 0.465\n"
     ]
    },
    {
     "data": {
      "application/vnd.jupyter.widget-view+json": {
       "model_id": "413a58550de148ae92b9725f34378b12",
       "version_major": 2,
       "version_minor": 0
      },
      "text/plain": [
       "Evaluating in validation set:   0%|          | 0/12 [00:00<?, ?it/s]"
      ]
     },
     "metadata": {},
     "output_type": "display_data"
    },
    {
     "name": "stdout",
     "output_type": "stream",
     "text": [
      "Validation Loss 0.546\n"
     ]
    },
    {
     "data": {
      "application/vnd.jupyter.widget-view+json": {
       "model_id": "45115aeda0fe427296bf2798d3545d63",
       "version_major": 2,
       "version_minor": 0
      },
      "text/plain": [
       "Evaluating in validation set:   0%|          | 0/12 [00:00<?, ?it/s]"
      ]
     },
     "metadata": {},
     "output_type": "display_data"
    },
    {
     "name": "stdout",
     "output_type": "stream",
     "text": [
      "Validation Loss 0.847\n"
     ]
    },
    {
     "data": {
      "application/vnd.jupyter.widget-view+json": {
       "model_id": "7bb6d6d295c04965aa793db8b06e7015",
       "version_major": 2,
       "version_minor": 0
      },
      "text/plain": [
       "Evaluating in validation set:   0%|          | 0/12 [00:00<?, ?it/s]"
      ]
     },
     "metadata": {},
     "output_type": "display_data"
    },
    {
     "name": "stdout",
     "output_type": "stream",
     "text": [
      "Validation Loss 0.957\n"
     ]
    },
    {
     "data": {
      "application/vnd.jupyter.widget-view+json": {
       "model_id": "b2788082427c4a9cac503371656e1b7c",
       "version_major": 2,
       "version_minor": 0
      },
      "text/plain": [
       "Evaluating in validation set:   0%|          | 0/12 [00:00<?, ?it/s]"
      ]
     },
     "metadata": {},
     "output_type": "display_data"
    },
    {
     "name": "stdout",
     "output_type": "stream",
     "text": [
      "Validation Loss 0.629\n"
     ]
    },
    {
     "data": {
      "application/vnd.jupyter.widget-view+json": {
       "model_id": "2d87ac74b13349ef957ba233be5648d3",
       "version_major": 2,
       "version_minor": 0
      },
      "text/plain": [
       "Evaluating in validation set:   0%|          | 0/12 [00:00<?, ?it/s]"
      ]
     },
     "metadata": {},
     "output_type": "display_data"
    },
    {
     "name": "stdout",
     "output_type": "stream",
     "text": [
      "Validation Loss 0.515\n"
     ]
    },
    {
     "data": {
      "application/vnd.jupyter.widget-view+json": {
       "model_id": "535aa4aa775249959062da52ff5ff2a0",
       "version_major": 2,
       "version_minor": 0
      },
      "text/plain": [
       "Evaluating in validation set:   0%|          | 0/12 [00:00<?, ?it/s]"
      ]
     },
     "metadata": {},
     "output_type": "display_data"
    },
    {
     "name": "stdout",
     "output_type": "stream",
     "text": [
      "Validation Loss 0.485\n"
     ]
    },
    {
     "data": {
      "application/vnd.jupyter.widget-view+json": {
       "model_id": "c27639500df149e7b0d0cbaf4079e0f3",
       "version_major": 2,
       "version_minor": 0
      },
      "text/plain": [
       "Evaluating in validation set:   0%|          | 0/12 [00:00<?, ?it/s]"
      ]
     },
     "metadata": {},
     "output_type": "display_data"
    },
    {
     "name": "stdout",
     "output_type": "stream",
     "text": [
      "Validation Loss 0.612\n"
     ]
    },
    {
     "data": {
      "application/vnd.jupyter.widget-view+json": {
       "model_id": "2fc39a05c0734a4da47d3bbb347d200b",
       "version_major": 2,
       "version_minor": 0
      },
      "text/plain": [
       "Evaluating in validation set:   0%|          | 0/12 [00:00<?, ?it/s]"
      ]
     },
     "metadata": {},
     "output_type": "display_data"
    },
    {
     "name": "stdout",
     "output_type": "stream",
     "text": [
      "Validation Loss 0.632\n"
     ]
    },
    {
     "data": {
      "application/vnd.jupyter.widget-view+json": {
       "model_id": "b1543b0059bf41e485570b454946e459",
       "version_major": 2,
       "version_minor": 0
      },
      "text/plain": [
       "Evaluating in validation set:   0%|          | 0/12 [00:00<?, ?it/s]"
      ]
     },
     "metadata": {},
     "output_type": "display_data"
    },
    {
     "name": "stdout",
     "output_type": "stream",
     "text": [
      "Validation Loss 0.769\n"
     ]
    },
    {
     "data": {
      "application/vnd.jupyter.widget-view+json": {
       "model_id": "21940cb5ff8343b89e5cbeeaab5a4d50",
       "version_major": 2,
       "version_minor": 0
      },
      "text/plain": [
       "Evaluating in validation set:   0%|          | 0/12 [00:00<?, ?it/s]"
      ]
     },
     "metadata": {},
     "output_type": "display_data"
    },
    {
     "name": "stdout",
     "output_type": "stream",
     "text": [
      "Validation Loss 0.555\n"
     ]
    },
    {
     "data": {
      "application/vnd.jupyter.widget-view+json": {
       "model_id": "bf072d5340da49f2b238f3271794edf0",
       "version_major": 2,
       "version_minor": 0
      },
      "text/plain": [
       "Evaluating in validation set:   0%|          | 0/12 [00:00<?, ?it/s]"
      ]
     },
     "metadata": {},
     "output_type": "display_data"
    },
    {
     "name": "stdout",
     "output_type": "stream",
     "text": [
      "Validation Loss 0.647\n"
     ]
    },
    {
     "data": {
      "application/vnd.jupyter.widget-view+json": {
       "model_id": "24da945cc59b42b6a6ab7c8837a8ea19",
       "version_major": 2,
       "version_minor": 0
      },
      "text/plain": [
       "Evaluating in validation set:   0%|          | 0/12 [00:00<?, ?it/s]"
      ]
     },
     "metadata": {},
     "output_type": "display_data"
    },
    {
     "name": "stdout",
     "output_type": "stream",
     "text": [
      "Validation Loss 0.525\n"
     ]
    },
    {
     "data": {
      "application/vnd.jupyter.widget-view+json": {
       "model_id": "cbe7772261624b978f480053d001dc01",
       "version_major": 2,
       "version_minor": 0
      },
      "text/plain": [
       "Evaluating in validation set:   0%|          | 0/12 [00:00<?, ?it/s]"
      ]
     },
     "metadata": {},
     "output_type": "display_data"
    },
    {
     "name": "stdout",
     "output_type": "stream",
     "text": [
      "Validation Loss 0.668\n"
     ]
    },
    {
     "data": {
      "application/vnd.jupyter.widget-view+json": {
       "model_id": "ba3cb68b76934efc8bfa85b46ac43881",
       "version_major": 2,
       "version_minor": 0
      },
      "text/plain": [
       "Evaluating in validation set:   0%|          | 0/12 [00:00<?, ?it/s]"
      ]
     },
     "metadata": {},
     "output_type": "display_data"
    },
    {
     "name": "stdout",
     "output_type": "stream",
     "text": [
      "Validation Loss 0.687\n"
     ]
    },
    {
     "data": {
      "application/vnd.jupyter.widget-view+json": {
       "model_id": "b17c7922b9af4ae7afbe397f3177f806",
       "version_major": 2,
       "version_minor": 0
      },
      "text/plain": [
       "Evaluating in validation set:   0%|          | 0/12 [00:00<?, ?it/s]"
      ]
     },
     "metadata": {},
     "output_type": "display_data"
    },
    {
     "name": "stdout",
     "output_type": "stream",
     "text": [
      "Validation Loss 0.661\n"
     ]
    },
    {
     "data": {
      "application/vnd.jupyter.widget-view+json": {
       "model_id": "9162d24855804756aaed381b5e2fd0a6",
       "version_major": 2,
       "version_minor": 0
      },
      "text/plain": [
       "Evaluating in validation set:   0%|          | 0/12 [00:00<?, ?it/s]"
      ]
     },
     "metadata": {},
     "output_type": "display_data"
    },
    {
     "name": "stdout",
     "output_type": "stream",
     "text": [
      "Validation Loss 0.763\n"
     ]
    },
    {
     "data": {
      "application/vnd.jupyter.widget-view+json": {
       "model_id": "9a2d69c5ac634f088f5e230b4e86327b",
       "version_major": 2,
       "version_minor": 0
      },
      "text/plain": [
       "Evaluating in validation set:   0%|          | 0/12 [00:00<?, ?it/s]"
      ]
     },
     "metadata": {},
     "output_type": "display_data"
    },
    {
     "name": "stdout",
     "output_type": "stream",
     "text": [
      "Validation Loss 0.778\n"
     ]
    },
    {
     "data": {
      "application/vnd.jupyter.widget-view+json": {
       "model_id": "b8eee6d5213e4b268ca15ed428ec8ade",
       "version_major": 2,
       "version_minor": 0
      },
      "text/plain": [
       "Evaluating in validation set:   0%|          | 0/12 [00:00<?, ?it/s]"
      ]
     },
     "metadata": {},
     "output_type": "display_data"
    },
    {
     "name": "stdout",
     "output_type": "stream",
     "text": [
      "Validation Loss 0.657\n"
     ]
    },
    {
     "data": {
      "application/vnd.jupyter.widget-view+json": {
       "model_id": "75f52c0b829d4050bfdb570b26dbf857",
       "version_major": 2,
       "version_minor": 0
      },
      "text/plain": [
       "Evaluating in validation set:   0%|          | 0/12 [00:00<?, ?it/s]"
      ]
     },
     "metadata": {},
     "output_type": "display_data"
    },
    {
     "name": "stdout",
     "output_type": "stream",
     "text": [
      "Validation Loss 0.740\n"
     ]
    },
    {
     "data": {
      "application/vnd.jupyter.widget-view+json": {
       "model_id": "ccd55d88e5ea431dab88aeef1c778257",
       "version_major": 2,
       "version_minor": 0
      },
      "text/plain": [
       "Evaluating in validation set:   0%|          | 0/12 [00:00<?, ?it/s]"
      ]
     },
     "metadata": {},
     "output_type": "display_data"
    },
    {
     "name": "stdout",
     "output_type": "stream",
     "text": [
      "Validation Loss 0.663\n"
     ]
    },
    {
     "data": {
      "application/vnd.jupyter.widget-view+json": {
       "model_id": "80e5ada1e9554b07935577785ff7c1a5",
       "version_major": 2,
       "version_minor": 0
      },
      "text/plain": [
       "Evaluating in validation set:   0%|          | 0/12 [00:00<?, ?it/s]"
      ]
     },
     "metadata": {},
     "output_type": "display_data"
    },
    {
     "name": "stdout",
     "output_type": "stream",
     "text": [
      "Validation Loss 0.665\n"
     ]
    },
    {
     "data": {
      "application/vnd.jupyter.widget-view+json": {
       "model_id": "e09858f6ded44e22ac02864fdf044e25",
       "version_major": 2,
       "version_minor": 0
      },
      "text/plain": [
       "Evaluating in validation set:   0%|          | 0/12 [00:00<?, ?it/s]"
      ]
     },
     "metadata": {},
     "output_type": "display_data"
    },
    {
     "name": "stdout",
     "output_type": "stream",
     "text": [
      "Validation Loss 0.618\n"
     ]
    },
    {
     "data": {
      "application/vnd.jupyter.widget-view+json": {
       "model_id": "bd42a917da054416bf5f2247c1d70594",
       "version_major": 2,
       "version_minor": 0
      },
      "text/plain": [
       "Evaluating in validation set:   0%|          | 0/12 [00:00<?, ?it/s]"
      ]
     },
     "metadata": {},
     "output_type": "display_data"
    },
    {
     "name": "stdout",
     "output_type": "stream",
     "text": [
      "Validation Loss 0.651\n"
     ]
    },
    {
     "data": {
      "application/vnd.jupyter.widget-view+json": {
       "model_id": "42aa4920fe6a4638af6c7322d06f63c9",
       "version_major": 2,
       "version_minor": 0
      },
      "text/plain": [
       "Evaluating in validation set:   0%|          | 0/12 [00:00<?, ?it/s]"
      ]
     },
     "metadata": {},
     "output_type": "display_data"
    },
    {
     "name": "stdout",
     "output_type": "stream",
     "text": [
      "Validation Loss 0.717\n"
     ]
    },
    {
     "data": {
      "application/vnd.jupyter.widget-view+json": {
       "model_id": "2ae4db37eef4426f8e38c2da568afcbf",
       "version_major": 2,
       "version_minor": 0
      },
      "text/plain": [
       "Evaluating in validation set:   0%|          | 0/12 [00:00<?, ?it/s]"
      ]
     },
     "metadata": {},
     "output_type": "display_data"
    },
    {
     "name": "stdout",
     "output_type": "stream",
     "text": [
      "Validation Loss 1.011\n"
     ]
    },
    {
     "data": {
      "application/vnd.jupyter.widget-view+json": {
       "model_id": "8dca2f3707044dfa8faf97cdbdb1c8d4",
       "version_major": 2,
       "version_minor": 0
      },
      "text/plain": [
       "Evaluating in validation set:   0%|          | 0/12 [00:00<?, ?it/s]"
      ]
     },
     "metadata": {},
     "output_type": "display_data"
    },
    {
     "name": "stdout",
     "output_type": "stream",
     "text": [
      "Validation Loss 0.786\n"
     ]
    },
    {
     "data": {
      "application/vnd.jupyter.widget-view+json": {
       "model_id": "96b4569c1ff847b5b74793e981bfe8e5",
       "version_major": 2,
       "version_minor": 0
      },
      "text/plain": [
       "Evaluating in validation set:   0%|          | 0/12 [00:00<?, ?it/s]"
      ]
     },
     "metadata": {},
     "output_type": "display_data"
    },
    {
     "name": "stdout",
     "output_type": "stream",
     "text": [
      "Validation Loss 0.687\n"
     ]
    },
    {
     "data": {
      "application/vnd.jupyter.widget-view+json": {
       "model_id": "c1a7425eb9364050a2b5982ba6dbbc67",
       "version_major": 2,
       "version_minor": 0
      },
      "text/plain": [
       "Evaluating in validation set:   0%|          | 0/12 [00:00<?, ?it/s]"
      ]
     },
     "metadata": {},
     "output_type": "display_data"
    },
    {
     "name": "stdout",
     "output_type": "stream",
     "text": [
      "Validation Loss 0.719\n"
     ]
    },
    {
     "data": {
      "application/vnd.jupyter.widget-view+json": {
       "model_id": "f563c2461d084352b2d19c121aa40500",
       "version_major": 2,
       "version_minor": 0
      },
      "text/plain": [
       "Evaluating in validation set:   0%|          | 0/12 [00:00<?, ?it/s]"
      ]
     },
     "metadata": {},
     "output_type": "display_data"
    },
    {
     "name": "stdout",
     "output_type": "stream",
     "text": [
      "Validation Loss 0.716\n"
     ]
    },
    {
     "data": {
      "application/vnd.jupyter.widget-view+json": {
       "model_id": "c5a95992c884406789c62cf88367dc6d",
       "version_major": 2,
       "version_minor": 0
      },
      "text/plain": [
       "Evaluating in validation set:   0%|          | 0/12 [00:00<?, ?it/s]"
      ]
     },
     "metadata": {},
     "output_type": "display_data"
    },
    {
     "name": "stdout",
     "output_type": "stream",
     "text": [
      "Validation Loss 0.702\n"
     ]
    },
    {
     "data": {
      "application/vnd.jupyter.widget-view+json": {
       "model_id": "3fd7ad0727324e6aa57ca79aa478efb8",
       "version_major": 2,
       "version_minor": 0
      },
      "text/plain": [
       "Evaluating in validation set:   0%|          | 0/12 [00:00<?, ?it/s]"
      ]
     },
     "metadata": {},
     "output_type": "display_data"
    },
    {
     "name": "stdout",
     "output_type": "stream",
     "text": [
      "Validation Loss 0.540\n"
     ]
    },
    {
     "data": {
      "application/vnd.jupyter.widget-view+json": {
       "model_id": "6c7d22d25f3543838aaf66e8d8864fa3",
       "version_major": 2,
       "version_minor": 0
      },
      "text/plain": [
       "Evaluating in validation set:   0%|          | 0/12 [00:00<?, ?it/s]"
      ]
     },
     "metadata": {},
     "output_type": "display_data"
    },
    {
     "name": "stdout",
     "output_type": "stream",
     "text": [
      "Validation Loss 0.454\n"
     ]
    },
    {
     "data": {
      "application/vnd.jupyter.widget-view+json": {
       "model_id": "7d6ed366a9b24caa9357441546d95106",
       "version_major": 2,
       "version_minor": 0
      },
      "text/plain": [
       "Evaluating in validation set:   0%|          | 0/12 [00:00<?, ?it/s]"
      ]
     },
     "metadata": {},
     "output_type": "display_data"
    },
    {
     "name": "stdout",
     "output_type": "stream",
     "text": [
      "Validation Loss 0.559\n"
     ]
    },
    {
     "data": {
      "application/vnd.jupyter.widget-view+json": {
       "model_id": "2f9482ad8b7b493999cc39bbdf35cb52",
       "version_major": 2,
       "version_minor": 0
      },
      "text/plain": [
       "Evaluating in validation set:   0%|          | 0/12 [00:00<?, ?it/s]"
      ]
     },
     "metadata": {},
     "output_type": "display_data"
    },
    {
     "name": "stdout",
     "output_type": "stream",
     "text": [
      "Validation Loss 0.734\n"
     ]
    },
    {
     "data": {
      "application/vnd.jupyter.widget-view+json": {
       "model_id": "a6289e2bb3f14010b8b278a01a49b0a3",
       "version_major": 2,
       "version_minor": 0
      },
      "text/plain": [
       "Evaluating in validation set:   0%|          | 0/12 [00:00<?, ?it/s]"
      ]
     },
     "metadata": {},
     "output_type": "display_data"
    },
    {
     "name": "stdout",
     "output_type": "stream",
     "text": [
      "Validation Loss 0.893\n"
     ]
    },
    {
     "data": {
      "application/vnd.jupyter.widget-view+json": {
       "model_id": "4af128f688f0461f8e53d87530d0bc38",
       "version_major": 2,
       "version_minor": 0
      },
      "text/plain": [
       "Evaluating in validation set:   0%|          | 0/12 [00:00<?, ?it/s]"
      ]
     },
     "metadata": {},
     "output_type": "display_data"
    },
    {
     "name": "stdout",
     "output_type": "stream",
     "text": [
      "Validation Loss 0.713\n"
     ]
    },
    {
     "data": {
      "application/vnd.jupyter.widget-view+json": {
       "model_id": "707737a79d8a4369a0f1a6902a00f6dd",
       "version_major": 2,
       "version_minor": 0
      },
      "text/plain": [
       "Evaluating in validation set:   0%|          | 0/12 [00:00<?, ?it/s]"
      ]
     },
     "metadata": {},
     "output_type": "display_data"
    },
    {
     "name": "stdout",
     "output_type": "stream",
     "text": [
      "Validation Loss 0.837\n"
     ]
    },
    {
     "data": {
      "application/vnd.jupyter.widget-view+json": {
       "model_id": "573b8e2f9a6a4ed2b1047c7aa1645c3e",
       "version_major": 2,
       "version_minor": 0
      },
      "text/plain": [
       "Evaluating in validation set:   0%|          | 0/12 [00:00<?, ?it/s]"
      ]
     },
     "metadata": {},
     "output_type": "display_data"
    },
    {
     "name": "stdout",
     "output_type": "stream",
     "text": [
      "Validation Loss 0.831\n"
     ]
    },
    {
     "data": {
      "application/vnd.jupyter.widget-view+json": {
       "model_id": "b528911ded81481e8992e7a8596382fe",
       "version_major": 2,
       "version_minor": 0
      },
      "text/plain": [
       "Evaluating in validation set:   0%|          | 0/12 [00:00<?, ?it/s]"
      ]
     },
     "metadata": {},
     "output_type": "display_data"
    },
    {
     "name": "stdout",
     "output_type": "stream",
     "text": [
      "Validation Loss 0.866\n"
     ]
    },
    {
     "data": {
      "application/vnd.jupyter.widget-view+json": {
       "model_id": "76252881621b43928dbae9461b111680",
       "version_major": 2,
       "version_minor": 0
      },
      "text/plain": [
       "Evaluating in validation set:   0%|          | 0/12 [00:00<?, ?it/s]"
      ]
     },
     "metadata": {},
     "output_type": "display_data"
    },
    {
     "name": "stdout",
     "output_type": "stream",
     "text": [
      "Validation Loss 0.922\n"
     ]
    },
    {
     "data": {
      "application/vnd.jupyter.widget-view+json": {
       "model_id": "1dc0a675eaab43c2b296b452769b4eef",
       "version_major": 2,
       "version_minor": 0
      },
      "text/plain": [
       "Evaluating in validation set:   0%|          | 0/12 [00:00<?, ?it/s]"
      ]
     },
     "metadata": {},
     "output_type": "display_data"
    },
    {
     "name": "stdout",
     "output_type": "stream",
     "text": [
      "Validation Loss 0.893\n"
     ]
    },
    {
     "data": {
      "application/vnd.jupyter.widget-view+json": {
       "model_id": "f8f2bf9879a2485db588d32e964db0ee",
       "version_major": 2,
       "version_minor": 0
      },
      "text/plain": [
       "Evaluating in validation set:   0%|          | 0/12 [00:00<?, ?it/s]"
      ]
     },
     "metadata": {},
     "output_type": "display_data"
    },
    {
     "name": "stdout",
     "output_type": "stream",
     "text": [
      "Validation Loss 0.839\n"
     ]
    },
    {
     "data": {
      "application/vnd.jupyter.widget-view+json": {
       "model_id": "141f89f8f6234785afd7d9e4fdfa2a67",
       "version_major": 2,
       "version_minor": 0
      },
      "text/plain": [
       "Evaluating in validation set:   0%|          | 0/12 [00:00<?, ?it/s]"
      ]
     },
     "metadata": {},
     "output_type": "display_data"
    },
    {
     "name": "stdout",
     "output_type": "stream",
     "text": [
      "Validation Loss 0.741\n"
     ]
    },
    {
     "data": {
      "application/vnd.jupyter.widget-view+json": {
       "model_id": "d6cee20df4de44bb8a86375961a7e47b",
       "version_major": 2,
       "version_minor": 0
      },
      "text/plain": [
       "Evaluating in validation set:   0%|          | 0/12 [00:00<?, ?it/s]"
      ]
     },
     "metadata": {},
     "output_type": "display_data"
    },
    {
     "name": "stdout",
     "output_type": "stream",
     "text": [
      "Validation Loss 0.797\n"
     ]
    },
    {
     "data": {
      "application/vnd.jupyter.widget-view+json": {
       "model_id": "727874364ea04ac7a6494d96cbcf4cdb",
       "version_major": 2,
       "version_minor": 0
      },
      "text/plain": [
       "Evaluating in validation set:   0%|          | 0/12 [00:00<?, ?it/s]"
      ]
     },
     "metadata": {},
     "output_type": "display_data"
    },
    {
     "name": "stdout",
     "output_type": "stream",
     "text": [
      "Validation Loss 0.898\n"
     ]
    },
    {
     "data": {
      "application/vnd.jupyter.widget-view+json": {
       "model_id": "a0f760c4d44341fdb0448e9c080f53c3",
       "version_major": 2,
       "version_minor": 0
      },
      "text/plain": [
       "Evaluating in validation set:   0%|          | 0/12 [00:00<?, ?it/s]"
      ]
     },
     "metadata": {},
     "output_type": "display_data"
    },
    {
     "name": "stdout",
     "output_type": "stream",
     "text": [
      "Validation Loss 0.653\n"
     ]
    },
    {
     "data": {
      "application/vnd.jupyter.widget-view+json": {
       "model_id": "88efb112af0e4adfbdbe33e8fd7905e1",
       "version_major": 2,
       "version_minor": 0
      },
      "text/plain": [
       "Evaluating in validation set:   0%|          | 0/12 [00:00<?, ?it/s]"
      ]
     },
     "metadata": {},
     "output_type": "display_data"
    },
    {
     "name": "stdout",
     "output_type": "stream",
     "text": [
      "Validation Loss 0.813\n"
     ]
    },
    {
     "data": {
      "application/vnd.jupyter.widget-view+json": {
       "model_id": "75442d8ddfdc4f1dbd30fcae868b8932",
       "version_major": 2,
       "version_minor": 0
      },
      "text/plain": [
       "Evaluating in validation set:   0%|          | 0/12 [00:00<?, ?it/s]"
      ]
     },
     "metadata": {},
     "output_type": "display_data"
    },
    {
     "name": "stdout",
     "output_type": "stream",
     "text": [
      "Validation Loss 0.818\n"
     ]
    },
    {
     "data": {
      "application/vnd.jupyter.widget-view+json": {
       "model_id": "6abfc11eb67c46268078fa07d3e0525c",
       "version_major": 2,
       "version_minor": 0
      },
      "text/plain": [
       "Evaluating in validation set:   0%|          | 0/12 [00:00<?, ?it/s]"
      ]
     },
     "metadata": {},
     "output_type": "display_data"
    },
    {
     "name": "stdout",
     "output_type": "stream",
     "text": [
      "Validation Loss 0.745\n"
     ]
    },
    {
     "data": {
      "application/vnd.jupyter.widget-view+json": {
       "model_id": "02d29ca9e0e4430cb3b602bff35da358",
       "version_major": 2,
       "version_minor": 0
      },
      "text/plain": [
       "Evaluating in validation set:   0%|          | 0/12 [00:00<?, ?it/s]"
      ]
     },
     "metadata": {},
     "output_type": "display_data"
    },
    {
     "name": "stdout",
     "output_type": "stream",
     "text": [
      "Validation Loss 0.879\n"
     ]
    },
    {
     "data": {
      "application/vnd.jupyter.widget-view+json": {
       "model_id": "49828b392c0f4f5094a82634449f9894",
       "version_major": 2,
       "version_minor": 0
      },
      "text/plain": [
       "Evaluating in validation set:   0%|          | 0/12 [00:00<?, ?it/s]"
      ]
     },
     "metadata": {},
     "output_type": "display_data"
    },
    {
     "name": "stdout",
     "output_type": "stream",
     "text": [
      "Validation Loss 0.665\n"
     ]
    },
    {
     "data": {
      "application/vnd.jupyter.widget-view+json": {
       "model_id": "ea325f8bb95f42b0ae21f7c454d9402d",
       "version_major": 2,
       "version_minor": 0
      },
      "text/plain": [
       "Evaluating in validation set:   0%|          | 0/12 [00:00<?, ?it/s]"
      ]
     },
     "metadata": {},
     "output_type": "display_data"
    },
    {
     "name": "stdout",
     "output_type": "stream",
     "text": [
      "Validation Loss 0.691\n"
     ]
    },
    {
     "data": {
      "application/vnd.jupyter.widget-view+json": {
       "model_id": "6e3fa441039a4261aa1ff1d915e9a715",
       "version_major": 2,
       "version_minor": 0
      },
      "text/plain": [
       "Evaluating in validation set:   0%|          | 0/12 [00:00<?, ?it/s]"
      ]
     },
     "metadata": {},
     "output_type": "display_data"
    },
    {
     "name": "stdout",
     "output_type": "stream",
     "text": [
      "Validation Loss 0.933\n"
     ]
    },
    {
     "data": {
      "application/vnd.jupyter.widget-view+json": {
       "model_id": "8c66c1fd39ac4e0a9836488066cc8855",
       "version_major": 2,
       "version_minor": 0
      },
      "text/plain": [
       "Evaluating in validation set:   0%|          | 0/12 [00:00<?, ?it/s]"
      ]
     },
     "metadata": {},
     "output_type": "display_data"
    },
    {
     "name": "stdout",
     "output_type": "stream",
     "text": [
      "Validation Loss 0.873\n"
     ]
    },
    {
     "data": {
      "application/vnd.jupyter.widget-view+json": {
       "model_id": "9ede860b751f4b1cb8d89abd64be8501",
       "version_major": 2,
       "version_minor": 0
      },
      "text/plain": [
       "Evaluating in validation set:   0%|          | 0/12 [00:00<?, ?it/s]"
      ]
     },
     "metadata": {},
     "output_type": "display_data"
    },
    {
     "name": "stdout",
     "output_type": "stream",
     "text": [
      "Validation Loss 0.913\n"
     ]
    },
    {
     "data": {
      "application/vnd.jupyter.widget-view+json": {
       "model_id": "3786789d404649608121eba74ca25f25",
       "version_major": 2,
       "version_minor": 0
      },
      "text/plain": [
       "Evaluating in validation set:   0%|          | 0/12 [00:00<?, ?it/s]"
      ]
     },
     "metadata": {},
     "output_type": "display_data"
    },
    {
     "name": "stdout",
     "output_type": "stream",
     "text": [
      "Validation Loss 0.727\n"
     ]
    },
    {
     "data": {
      "application/vnd.jupyter.widget-view+json": {
       "model_id": "624fd4df8ab745b7beda5e96c1f5375e",
       "version_major": 2,
       "version_minor": 0
      },
      "text/plain": [
       "Evaluating in validation set:   0%|          | 0/12 [00:00<?, ?it/s]"
      ]
     },
     "metadata": {},
     "output_type": "display_data"
    },
    {
     "name": "stdout",
     "output_type": "stream",
     "text": [
      "Validation Loss 0.874\n"
     ]
    },
    {
     "data": {
      "application/vnd.jupyter.widget-view+json": {
       "model_id": "99f67314c02e45159f8b23cba1c71f7c",
       "version_major": 2,
       "version_minor": 0
      },
      "text/plain": [
       "Evaluating in validation set:   0%|          | 0/12 [00:00<?, ?it/s]"
      ]
     },
     "metadata": {},
     "output_type": "display_data"
    },
    {
     "name": "stdout",
     "output_type": "stream",
     "text": [
      "Validation Loss 0.731\n"
     ]
    },
    {
     "data": {
      "application/vnd.jupyter.widget-view+json": {
       "model_id": "f87a58a51e3843278bd8d66fdbaf25f7",
       "version_major": 2,
       "version_minor": 0
      },
      "text/plain": [
       "Evaluating in validation set:   0%|          | 0/12 [00:00<?, ?it/s]"
      ]
     },
     "metadata": {},
     "output_type": "display_data"
    },
    {
     "name": "stdout",
     "output_type": "stream",
     "text": [
      "Validation Loss 0.823\n"
     ]
    },
    {
     "data": {
      "application/vnd.jupyter.widget-view+json": {
       "model_id": "57df95f0523345adb9aa853bcb4a852a",
       "version_major": 2,
       "version_minor": 0
      },
      "text/plain": [
       "Evaluating in validation set:   0%|          | 0/12 [00:00<?, ?it/s]"
      ]
     },
     "metadata": {},
     "output_type": "display_data"
    },
    {
     "name": "stdout",
     "output_type": "stream",
     "text": [
      "Validation Loss 0.686\n"
     ]
    },
    {
     "data": {
      "application/vnd.jupyter.widget-view+json": {
       "model_id": "0b3776e1dbe84cee983e552df2b81ec5",
       "version_major": 2,
       "version_minor": 0
      },
      "text/plain": [
       "Evaluating in validation set:   0%|          | 0/12 [00:00<?, ?it/s]"
      ]
     },
     "metadata": {},
     "output_type": "display_data"
    },
    {
     "name": "stdout",
     "output_type": "stream",
     "text": [
      "Validation Loss 0.745\n"
     ]
    },
    {
     "data": {
      "application/vnd.jupyter.widget-view+json": {
       "model_id": "c6c2f17be9354c9f8f90fe94d11b1a58",
       "version_major": 2,
       "version_minor": 0
      },
      "text/plain": [
       "Evaluating in validation set:   0%|          | 0/12 [00:00<?, ?it/s]"
      ]
     },
     "metadata": {},
     "output_type": "display_data"
    },
    {
     "name": "stdout",
     "output_type": "stream",
     "text": [
      "Validation Loss 0.538\n"
     ]
    },
    {
     "data": {
      "application/vnd.jupyter.widget-view+json": {
       "model_id": "7e1f293910e54cd982f22bd83a76cf18",
       "version_major": 2,
       "version_minor": 0
      },
      "text/plain": [
       "Evaluating in validation set:   0%|          | 0/12 [00:00<?, ?it/s]"
      ]
     },
     "metadata": {},
     "output_type": "display_data"
    },
    {
     "name": "stdout",
     "output_type": "stream",
     "text": [
      "Validation Loss 0.765\n"
     ]
    },
    {
     "data": {
      "application/vnd.jupyter.widget-view+json": {
       "model_id": "6122d8165c8c4492af80be7b6b4ad392",
       "version_major": 2,
       "version_minor": 0
      },
      "text/plain": [
       "Evaluating in validation set:   0%|          | 0/12 [00:00<?, ?it/s]"
      ]
     },
     "metadata": {},
     "output_type": "display_data"
    },
    {
     "name": "stdout",
     "output_type": "stream",
     "text": [
      "Validation Loss 0.800\n"
     ]
    },
    {
     "data": {
      "application/vnd.jupyter.widget-view+json": {
       "model_id": "c3c3d99befd44c22872f52e29b0479f5",
       "version_major": 2,
       "version_minor": 0
      },
      "text/plain": [
       "Evaluating in validation set:   0%|          | 0/12 [00:00<?, ?it/s]"
      ]
     },
     "metadata": {},
     "output_type": "display_data"
    },
    {
     "name": "stdout",
     "output_type": "stream",
     "text": [
      "Validation Loss 0.949\n"
     ]
    },
    {
     "data": {
      "application/vnd.jupyter.widget-view+json": {
       "model_id": "272f241741404403b587401fa6497cf0",
       "version_major": 2,
       "version_minor": 0
      },
      "text/plain": [
       "Evaluating in validation set:   0%|          | 0/12 [00:00<?, ?it/s]"
      ]
     },
     "metadata": {},
     "output_type": "display_data"
    },
    {
     "name": "stdout",
     "output_type": "stream",
     "text": [
      "Validation Loss 1.014\n"
     ]
    },
    {
     "data": {
      "application/vnd.jupyter.widget-view+json": {
       "model_id": "89f4b8916cef480bb8875e6da5b09a41",
       "version_major": 2,
       "version_minor": 0
      },
      "text/plain": [
       "Evaluating in validation set:   0%|          | 0/12 [00:00<?, ?it/s]"
      ]
     },
     "metadata": {},
     "output_type": "display_data"
    },
    {
     "name": "stdout",
     "output_type": "stream",
     "text": [
      "Validation Loss 0.579\n"
     ]
    },
    {
     "data": {
      "application/vnd.jupyter.widget-view+json": {
       "model_id": "06c35a35454d423992634aeb9d89f548",
       "version_major": 2,
       "version_minor": 0
      },
      "text/plain": [
       "Evaluating in validation set:   0%|          | 0/12 [00:00<?, ?it/s]"
      ]
     },
     "metadata": {},
     "output_type": "display_data"
    },
    {
     "name": "stdout",
     "output_type": "stream",
     "text": [
      "Validation Loss 0.764\n"
     ]
    },
    {
     "data": {
      "application/vnd.jupyter.widget-view+json": {
       "model_id": "e1c8574e2f0c4f2690945fd64a462227",
       "version_major": 2,
       "version_minor": 0
      },
      "text/plain": [
       "Evaluating in validation set:   0%|          | 0/12 [00:00<?, ?it/s]"
      ]
     },
     "metadata": {},
     "output_type": "display_data"
    },
    {
     "name": "stdout",
     "output_type": "stream",
     "text": [
      "Validation Loss 0.760\n"
     ]
    },
    {
     "data": {
      "application/vnd.jupyter.widget-view+json": {
       "model_id": "1040530e72d54f96a545b29a29d87bc7",
       "version_major": 2,
       "version_minor": 0
      },
      "text/plain": [
       "Evaluating in validation set:   0%|          | 0/12 [00:00<?, ?it/s]"
      ]
     },
     "metadata": {},
     "output_type": "display_data"
    },
    {
     "name": "stdout",
     "output_type": "stream",
     "text": [
      "Validation Loss 0.906\n"
     ]
    },
    {
     "data": {
      "application/vnd.jupyter.widget-view+json": {
       "model_id": "230b30e3469b499fbea5e2a8efea952d",
       "version_major": 2,
       "version_minor": 0
      },
      "text/plain": [
       "Evaluating in validation set:   0%|          | 0/12 [00:00<?, ?it/s]"
      ]
     },
     "metadata": {},
     "output_type": "display_data"
    },
    {
     "name": "stdout",
     "output_type": "stream",
     "text": [
      "Validation Loss 0.737\n"
     ]
    },
    {
     "data": {
      "application/vnd.jupyter.widget-view+json": {
       "model_id": "2be2fe2b741d4a84b5148b048bbcf0cf",
       "version_major": 2,
       "version_minor": 0
      },
      "text/plain": [
       "Evaluating in validation set:   0%|          | 0/12 [00:00<?, ?it/s]"
      ]
     },
     "metadata": {},
     "output_type": "display_data"
    },
    {
     "name": "stdout",
     "output_type": "stream",
     "text": [
      "Validation Loss 0.795\n"
     ]
    },
    {
     "data": {
      "application/vnd.jupyter.widget-view+json": {
       "model_id": "05040a7cdef44d8f8b9500653bfbb844",
       "version_major": 2,
       "version_minor": 0
      },
      "text/plain": [
       "Evaluating in validation set:   0%|          | 0/12 [00:00<?, ?it/s]"
      ]
     },
     "metadata": {},
     "output_type": "display_data"
    },
    {
     "name": "stdout",
     "output_type": "stream",
     "text": [
      "Validation Loss 0.854\n"
     ]
    },
    {
     "data": {
      "application/vnd.jupyter.widget-view+json": {
       "model_id": "5777c700fce74e669f8b28ee90d85f4a",
       "version_major": 2,
       "version_minor": 0
      },
      "text/plain": [
       "Evaluating in validation set:   0%|          | 0/12 [00:00<?, ?it/s]"
      ]
     },
     "metadata": {},
     "output_type": "display_data"
    },
    {
     "name": "stdout",
     "output_type": "stream",
     "text": [
      "Validation Loss 0.935\n"
     ]
    },
    {
     "data": {
      "application/vnd.jupyter.widget-view+json": {
       "model_id": "fe182ed00ef14f0686c91a09d40b2361",
       "version_major": 2,
       "version_minor": 0
      },
      "text/plain": [
       "Evaluating in validation set:   0%|          | 0/12 [00:00<?, ?it/s]"
      ]
     },
     "metadata": {},
     "output_type": "display_data"
    },
    {
     "name": "stdout",
     "output_type": "stream",
     "text": [
      "Validation Loss 0.907\n"
     ]
    },
    {
     "data": {
      "application/vnd.jupyter.widget-view+json": {
       "model_id": "a27242bfa48440f68c8b29a90dfca9db",
       "version_major": 2,
       "version_minor": 0
      },
      "text/plain": [
       "Evaluating in validation set:   0%|          | 0/12 [00:00<?, ?it/s]"
      ]
     },
     "metadata": {},
     "output_type": "display_data"
    },
    {
     "name": "stdout",
     "output_type": "stream",
     "text": [
      "Validation Loss 0.688\n"
     ]
    },
    {
     "data": {
      "application/vnd.jupyter.widget-view+json": {
       "model_id": "8a7bb261455a481995f6a82c93d90391",
       "version_major": 2,
       "version_minor": 0
      },
      "text/plain": [
       "Evaluating in validation set:   0%|          | 0/12 [00:00<?, ?it/s]"
      ]
     },
     "metadata": {},
     "output_type": "display_data"
    },
    {
     "name": "stdout",
     "output_type": "stream",
     "text": [
      "Validation Loss 0.973\n"
     ]
    },
    {
     "data": {
      "application/vnd.jupyter.widget-view+json": {
       "model_id": "6e556a66a52f4b8c87f9eb95e8999c62",
       "version_major": 2,
       "version_minor": 0
      },
      "text/plain": [
       "Evaluating in validation set:   0%|          | 0/12 [00:00<?, ?it/s]"
      ]
     },
     "metadata": {},
     "output_type": "display_data"
    },
    {
     "name": "stdout",
     "output_type": "stream",
     "text": [
      "Validation Loss 0.754\n"
     ]
    },
    {
     "data": {
      "application/vnd.jupyter.widget-view+json": {
       "model_id": "f2146390ddf745b68a17488b4d3f20aa",
       "version_major": 2,
       "version_minor": 0
      },
      "text/plain": [
       "Evaluating in validation set:   0%|          | 0/12 [00:00<?, ?it/s]"
      ]
     },
     "metadata": {},
     "output_type": "display_data"
    },
    {
     "name": "stdout",
     "output_type": "stream",
     "text": [
      "Validation Loss 1.000\n"
     ]
    },
    {
     "data": {
      "application/vnd.jupyter.widget-view+json": {
       "model_id": "9d6704f197004dfc902e67265247881e",
       "version_major": 2,
       "version_minor": 0
      },
      "text/plain": [
       "Evaluating in validation set:   0%|          | 0/12 [00:00<?, ?it/s]"
      ]
     },
     "metadata": {},
     "output_type": "display_data"
    },
    {
     "name": "stdout",
     "output_type": "stream",
     "text": [
      "Validation Loss 1.016\n"
     ]
    },
    {
     "data": {
      "application/vnd.jupyter.widget-view+json": {
       "model_id": "38240ebbc400491384de42bf98384d7d",
       "version_major": 2,
       "version_minor": 0
      },
      "text/plain": [
       "Evaluating in validation set:   0%|          | 0/12 [00:00<?, ?it/s]"
      ]
     },
     "metadata": {},
     "output_type": "display_data"
    },
    {
     "name": "stdout",
     "output_type": "stream",
     "text": [
      "Validation Loss 0.755\n"
     ]
    },
    {
     "data": {
      "application/vnd.jupyter.widget-view+json": {
       "model_id": "f2e0b819f3224548bb3c3666aca58743",
       "version_major": 2,
       "version_minor": 0
      },
      "text/plain": [
       "Evaluating in validation set:   0%|          | 0/12 [00:00<?, ?it/s]"
      ]
     },
     "metadata": {},
     "output_type": "display_data"
    },
    {
     "name": "stdout",
     "output_type": "stream",
     "text": [
      "Validation Loss 0.777\n"
     ]
    },
    {
     "data": {
      "application/vnd.jupyter.widget-view+json": {
       "model_id": "dea5170c8e92481abdd12795444f55f4",
       "version_major": 2,
       "version_minor": 0
      },
      "text/plain": [
       "Evaluating in validation set:   0%|          | 0/12 [00:00<?, ?it/s]"
      ]
     },
     "metadata": {},
     "output_type": "display_data"
    },
    {
     "name": "stdout",
     "output_type": "stream",
     "text": [
      "Validation Loss 0.812\n"
     ]
    },
    {
     "data": {
      "application/vnd.jupyter.widget-view+json": {
       "model_id": "9a1a70bf2c734cd78d9a4afcbea8df91",
       "version_major": 2,
       "version_minor": 0
      },
      "text/plain": [
       "Evaluating in validation set:   0%|          | 0/12 [00:00<?, ?it/s]"
      ]
     },
     "metadata": {},
     "output_type": "display_data"
    },
    {
     "name": "stdout",
     "output_type": "stream",
     "text": [
      "Validation Loss 0.883\n"
     ]
    },
    {
     "data": {
      "application/vnd.jupyter.widget-view+json": {
       "model_id": "911ee7b068714ade905b2d7c8094541b",
       "version_major": 2,
       "version_minor": 0
      },
      "text/plain": [
       "Evaluating in validation set:   0%|          | 0/12 [00:00<?, ?it/s]"
      ]
     },
     "metadata": {},
     "output_type": "display_data"
    },
    {
     "name": "stdout",
     "output_type": "stream",
     "text": [
      "Validation Loss 0.660\n"
     ]
    },
    {
     "data": {
      "application/vnd.jupyter.widget-view+json": {
       "model_id": "145d86803edc4776b233194b29bafb2a",
       "version_major": 2,
       "version_minor": 0
      },
      "text/plain": [
       "Evaluating in validation set:   0%|          | 0/12 [00:00<?, ?it/s]"
      ]
     },
     "metadata": {},
     "output_type": "display_data"
    },
    {
     "name": "stdout",
     "output_type": "stream",
     "text": [
      "Validation Loss 0.886\n"
     ]
    },
    {
     "data": {
      "application/vnd.jupyter.widget-view+json": {
       "model_id": "455b78b9f89e4dfe9b1b4e71d4f8dcbb",
       "version_major": 2,
       "version_minor": 0
      },
      "text/plain": [
       "Evaluating in validation set:   0%|          | 0/12 [00:00<?, ?it/s]"
      ]
     },
     "metadata": {},
     "output_type": "display_data"
    },
    {
     "name": "stdout",
     "output_type": "stream",
     "text": [
      "Validation Loss 0.836\n"
     ]
    },
    {
     "data": {
      "application/vnd.jupyter.widget-view+json": {
       "model_id": "758ef0bf569f43e58eaa333c988b8af5",
       "version_major": 2,
       "version_minor": 0
      },
      "text/plain": [
       "Evaluating in validation set:   0%|          | 0/12 [00:00<?, ?it/s]"
      ]
     },
     "metadata": {},
     "output_type": "display_data"
    },
    {
     "name": "stdout",
     "output_type": "stream",
     "text": [
      "Validation Loss 0.842\n"
     ]
    },
    {
     "data": {
      "application/vnd.jupyter.widget-view+json": {
       "model_id": "4d6278b73f654eb090f5f0d13142f63d",
       "version_major": 2,
       "version_minor": 0
      },
      "text/plain": [
       "Evaluating in validation set:   0%|          | 0/12 [00:00<?, ?it/s]"
      ]
     },
     "metadata": {},
     "output_type": "display_data"
    },
    {
     "name": "stdout",
     "output_type": "stream",
     "text": [
      "Validation Loss 0.709\n"
     ]
    },
    {
     "data": {
      "application/vnd.jupyter.widget-view+json": {
       "model_id": "83939df437e846db98ffc17dad7df72f",
       "version_major": 2,
       "version_minor": 0
      },
      "text/plain": [
       "Evaluating in validation set:   0%|          | 0/12 [00:00<?, ?it/s]"
      ]
     },
     "metadata": {},
     "output_type": "display_data"
    },
    {
     "name": "stdout",
     "output_type": "stream",
     "text": [
      "Validation Loss 0.723\n"
     ]
    },
    {
     "data": {
      "application/vnd.jupyter.widget-view+json": {
       "model_id": "44c5f60d4aee45f3b6b20287b7e7c5d8",
       "version_major": 2,
       "version_minor": 0
      },
      "text/plain": [
       "Evaluating in validation set:   0%|          | 0/12 [00:00<?, ?it/s]"
      ]
     },
     "metadata": {},
     "output_type": "display_data"
    },
    {
     "name": "stdout",
     "output_type": "stream",
     "text": [
      "Validation Loss 0.960\n"
     ]
    },
    {
     "data": {
      "application/vnd.jupyter.widget-view+json": {
       "model_id": "421ec487283c4e1790837e8a2bdb8532",
       "version_major": 2,
       "version_minor": 0
      },
      "text/plain": [
       "Evaluating in validation set:   0%|          | 0/12 [00:00<?, ?it/s]"
      ]
     },
     "metadata": {},
     "output_type": "display_data"
    },
    {
     "name": "stdout",
     "output_type": "stream",
     "text": [
      "Validation Loss 0.824\n"
     ]
    },
    {
     "data": {
      "application/vnd.jupyter.widget-view+json": {
       "model_id": "7d3178ff72d3404a8de38602618e632d",
       "version_major": 2,
       "version_minor": 0
      },
      "text/plain": [
       "Evaluating in validation set:   0%|          | 0/12 [00:00<?, ?it/s]"
      ]
     },
     "metadata": {},
     "output_type": "display_data"
    },
    {
     "name": "stdout",
     "output_type": "stream",
     "text": [
      "Validation Loss 0.858\n"
     ]
    },
    {
     "data": {
      "application/vnd.jupyter.widget-view+json": {
       "model_id": "bdad29085914464caa33e81d18cab00b",
       "version_major": 2,
       "version_minor": 0
      },
      "text/plain": [
       "Evaluating in validation set:   0%|          | 0/12 [00:00<?, ?it/s]"
      ]
     },
     "metadata": {},
     "output_type": "display_data"
    },
    {
     "name": "stdout",
     "output_type": "stream",
     "text": [
      "Validation Loss 0.737\n"
     ]
    },
    {
     "data": {
      "application/vnd.jupyter.widget-view+json": {
       "model_id": "658d68068d2d44afbe628065a778edc6",
       "version_major": 2,
       "version_minor": 0
      },
      "text/plain": [
       "Evaluating in validation set:   0%|          | 0/12 [00:00<?, ?it/s]"
      ]
     },
     "metadata": {},
     "output_type": "display_data"
    },
    {
     "name": "stdout",
     "output_type": "stream",
     "text": [
      "Validation Loss 0.872\n"
     ]
    },
    {
     "data": {
      "application/vnd.jupyter.widget-view+json": {
       "model_id": "cf6ccba6fb5142ffa146c9fbee7dd21c",
       "version_major": 2,
       "version_minor": 0
      },
      "text/plain": [
       "Evaluating in validation set:   0%|          | 0/12 [00:00<?, ?it/s]"
      ]
     },
     "metadata": {},
     "output_type": "display_data"
    },
    {
     "name": "stdout",
     "output_type": "stream",
     "text": [
      "Validation Loss 0.796\n"
     ]
    },
    {
     "data": {
      "application/vnd.jupyter.widget-view+json": {
       "model_id": "f4f95ed4913b46ad8b1e6fb8304b68d5",
       "version_major": 2,
       "version_minor": 0
      },
      "text/plain": [
       "Evaluating in validation set:   0%|          | 0/12 [00:00<?, ?it/s]"
      ]
     },
     "metadata": {},
     "output_type": "display_data"
    },
    {
     "name": "stdout",
     "output_type": "stream",
     "text": [
      "Validation Loss 0.756\n"
     ]
    },
    {
     "data": {
      "application/vnd.jupyter.widget-view+json": {
       "model_id": "0c0c15b5f28f48dc9b6f0df5e0628ace",
       "version_major": 2,
       "version_minor": 0
      },
      "text/plain": [
       "Evaluating in validation set:   0%|          | 0/12 [00:00<?, ?it/s]"
      ]
     },
     "metadata": {},
     "output_type": "display_data"
    },
    {
     "name": "stdout",
     "output_type": "stream",
     "text": [
      "Validation Loss 0.717\n"
     ]
    },
    {
     "data": {
      "application/vnd.jupyter.widget-view+json": {
       "model_id": "c2ec49c8be11445cb428c2cbfd6558ff",
       "version_major": 2,
       "version_minor": 0
      },
      "text/plain": [
       "Evaluating in validation set:   0%|          | 0/12 [00:00<?, ?it/s]"
      ]
     },
     "metadata": {},
     "output_type": "display_data"
    },
    {
     "name": "stdout",
     "output_type": "stream",
     "text": [
      "Validation Loss 0.837\n"
     ]
    },
    {
     "data": {
      "application/vnd.jupyter.widget-view+json": {
       "model_id": "fa06a81278e64132bdcd6d5b6037d0ba",
       "version_major": 2,
       "version_minor": 0
      },
      "text/plain": [
       "Evaluating in validation set:   0%|          | 0/12 [00:00<?, ?it/s]"
      ]
     },
     "metadata": {},
     "output_type": "display_data"
    },
    {
     "name": "stdout",
     "output_type": "stream",
     "text": [
      "Validation Loss 0.766\n"
     ]
    },
    {
     "data": {
      "application/vnd.jupyter.widget-view+json": {
       "model_id": "091ed7d2d2354b609cf157f1a6439d35",
       "version_major": 2,
       "version_minor": 0
      },
      "text/plain": [
       "Evaluating in validation set:   0%|          | 0/12 [00:00<?, ?it/s]"
      ]
     },
     "metadata": {},
     "output_type": "display_data"
    },
    {
     "name": "stdout",
     "output_type": "stream",
     "text": [
      "Validation Loss 0.890\n"
     ]
    },
    {
     "data": {
      "application/vnd.jupyter.widget-view+json": {
       "model_id": "0643c02e5eea4ca29f0f107e459d7c3c",
       "version_major": 2,
       "version_minor": 0
      },
      "text/plain": [
       "Evaluating in validation set:   0%|          | 0/12 [00:00<?, ?it/s]"
      ]
     },
     "metadata": {},
     "output_type": "display_data"
    },
    {
     "name": "stdout",
     "output_type": "stream",
     "text": [
      "Validation Loss 0.538\n"
     ]
    },
    {
     "data": {
      "application/vnd.jupyter.widget-view+json": {
       "model_id": "a1fa8efad3ba4a1b80501a99949b7a24",
       "version_major": 2,
       "version_minor": 0
      },
      "text/plain": [
       "Evaluating in validation set:   0%|          | 0/12 [00:00<?, ?it/s]"
      ]
     },
     "metadata": {},
     "output_type": "display_data"
    },
    {
     "name": "stdout",
     "output_type": "stream",
     "text": [
      "Validation Loss 0.713\n"
     ]
    },
    {
     "data": {
      "application/vnd.jupyter.widget-view+json": {
       "model_id": "49f82fe1bac344ca95089f4ba38e4463",
       "version_major": 2,
       "version_minor": 0
      },
      "text/plain": [
       "Evaluating in validation set:   0%|          | 0/12 [00:00<?, ?it/s]"
      ]
     },
     "metadata": {},
     "output_type": "display_data"
    },
    {
     "name": "stdout",
     "output_type": "stream",
     "text": [
      "Validation Loss 0.763\n"
     ]
    },
    {
     "data": {
      "application/vnd.jupyter.widget-view+json": {
       "model_id": "64fcafb0d483448d9be98c575d1e2729",
       "version_major": 2,
       "version_minor": 0
      },
      "text/plain": [
       "Evaluating in validation set:   0%|          | 0/12 [00:00<?, ?it/s]"
      ]
     },
     "metadata": {},
     "output_type": "display_data"
    },
    {
     "name": "stdout",
     "output_type": "stream",
     "text": [
      "Validation Loss 1.044\n"
     ]
    },
    {
     "data": {
      "application/vnd.jupyter.widget-view+json": {
       "model_id": "b2414388e38a498a86dc80a647a4a6e1",
       "version_major": 2,
       "version_minor": 0
      },
      "text/plain": [
       "Evaluating in validation set:   0%|          | 0/12 [00:00<?, ?it/s]"
      ]
     },
     "metadata": {},
     "output_type": "display_data"
    },
    {
     "name": "stdout",
     "output_type": "stream",
     "text": [
      "Validation Loss 0.739\n"
     ]
    },
    {
     "data": {
      "application/vnd.jupyter.widget-view+json": {
       "model_id": "a8e316d4258940dc9503fddc97258644",
       "version_major": 2,
       "version_minor": 0
      },
      "text/plain": [
       "Evaluating in validation set:   0%|          | 0/12 [00:00<?, ?it/s]"
      ]
     },
     "metadata": {},
     "output_type": "display_data"
    },
    {
     "name": "stdout",
     "output_type": "stream",
     "text": [
      "Validation Loss 0.673\n"
     ]
    },
    {
     "data": {
      "application/vnd.jupyter.widget-view+json": {
       "model_id": "65823dc2b93142a8bf6e0f199151f6f6",
       "version_major": 2,
       "version_minor": 0
      },
      "text/plain": [
       "Evaluating in validation set:   0%|          | 0/12 [00:00<?, ?it/s]"
      ]
     },
     "metadata": {},
     "output_type": "display_data"
    },
    {
     "name": "stdout",
     "output_type": "stream",
     "text": [
      "Validation Loss 0.686\n"
     ]
    },
    {
     "data": {
      "application/vnd.jupyter.widget-view+json": {
       "model_id": "94e5a059d4e94756ade907cabcae4819",
       "version_major": 2,
       "version_minor": 0
      },
      "text/plain": [
       "Evaluating in validation set:   0%|          | 0/12 [00:00<?, ?it/s]"
      ]
     },
     "metadata": {},
     "output_type": "display_data"
    },
    {
     "name": "stdout",
     "output_type": "stream",
     "text": [
      "Validation Loss 0.691\n"
     ]
    },
    {
     "data": {
      "application/vnd.jupyter.widget-view+json": {
       "model_id": "8d61ee34c7844b89aad2d46c0d3797ac",
       "version_major": 2,
       "version_minor": 0
      },
      "text/plain": [
       "Evaluating in validation set:   0%|          | 0/12 [00:00<?, ?it/s]"
      ]
     },
     "metadata": {},
     "output_type": "display_data"
    },
    {
     "name": "stdout",
     "output_type": "stream",
     "text": [
      "Validation Loss 0.728\n"
     ]
    },
    {
     "data": {
      "application/vnd.jupyter.widget-view+json": {
       "model_id": "73a53740262646988d71eeed19e25615",
       "version_major": 2,
       "version_minor": 0
      },
      "text/plain": [
       "Evaluating in validation set:   0%|          | 0/12 [00:00<?, ?it/s]"
      ]
     },
     "metadata": {},
     "output_type": "display_data"
    },
    {
     "name": "stdout",
     "output_type": "stream",
     "text": [
      "Validation Loss 0.846\n"
     ]
    },
    {
     "data": {
      "application/vnd.jupyter.widget-view+json": {
       "model_id": "b6836c78b3cd4f02a340f5b3a57cbe22",
       "version_major": 2,
       "version_minor": 0
      },
      "text/plain": [
       "Evaluating in validation set:   0%|          | 0/12 [00:00<?, ?it/s]"
      ]
     },
     "metadata": {},
     "output_type": "display_data"
    },
    {
     "name": "stdout",
     "output_type": "stream",
     "text": [
      "Validation Loss 0.949\n"
     ]
    },
    {
     "data": {
      "application/vnd.jupyter.widget-view+json": {
       "model_id": "e32039fb87434ca890a935c67ce43d98",
       "version_major": 2,
       "version_minor": 0
      },
      "text/plain": [
       "Evaluating in validation set:   0%|          | 0/12 [00:00<?, ?it/s]"
      ]
     },
     "metadata": {},
     "output_type": "display_data"
    },
    {
     "name": "stdout",
     "output_type": "stream",
     "text": [
      "Validation Loss 0.804\n"
     ]
    },
    {
     "data": {
      "application/vnd.jupyter.widget-view+json": {
       "model_id": "46de3c7a45864f17b72f3ca866d61abf",
       "version_major": 2,
       "version_minor": 0
      },
      "text/plain": [
       "Evaluating in validation set:   0%|          | 0/12 [00:00<?, ?it/s]"
      ]
     },
     "metadata": {},
     "output_type": "display_data"
    },
    {
     "name": "stdout",
     "output_type": "stream",
     "text": [
      "Validation Loss 0.854\n"
     ]
    },
    {
     "data": {
      "application/vnd.jupyter.widget-view+json": {
       "model_id": "728bd3de17ed47a09b85170a2329a52d",
       "version_major": 2,
       "version_minor": 0
      },
      "text/plain": [
       "Evaluating in validation set:   0%|          | 0/12 [00:00<?, ?it/s]"
      ]
     },
     "metadata": {},
     "output_type": "display_data"
    },
    {
     "name": "stdout",
     "output_type": "stream",
     "text": [
      "Validation Loss 0.929\n"
     ]
    },
    {
     "data": {
      "application/vnd.jupyter.widget-view+json": {
       "model_id": "e69cebe5f315456eb4c6e010b161697f",
       "version_major": 2,
       "version_minor": 0
      },
      "text/plain": [
       "Evaluating in validation set:   0%|          | 0/12 [00:00<?, ?it/s]"
      ]
     },
     "metadata": {},
     "output_type": "display_data"
    },
    {
     "name": "stdout",
     "output_type": "stream",
     "text": [
      "Validation Loss 0.862\n"
     ]
    },
    {
     "data": {
      "application/vnd.jupyter.widget-view+json": {
       "model_id": "884192c6df3c421eb401428dcc2353f9",
       "version_major": 2,
       "version_minor": 0
      },
      "text/plain": [
       "Evaluating in validation set:   0%|          | 0/12 [00:00<?, ?it/s]"
      ]
     },
     "metadata": {},
     "output_type": "display_data"
    },
    {
     "name": "stdout",
     "output_type": "stream",
     "text": [
      "Validation Loss 0.747\n"
     ]
    },
    {
     "data": {
      "application/vnd.jupyter.widget-view+json": {
       "model_id": "4e2807d15c6c47dc93c25c80ae00b693",
       "version_major": 2,
       "version_minor": 0
      },
      "text/plain": [
       "Evaluating in validation set:   0%|          | 0/12 [00:00<?, ?it/s]"
      ]
     },
     "metadata": {},
     "output_type": "display_data"
    },
    {
     "name": "stdout",
     "output_type": "stream",
     "text": [
      "Validation Loss 0.892\n"
     ]
    },
    {
     "data": {
      "application/vnd.jupyter.widget-view+json": {
       "model_id": "bcea2bf2829c4a0f83a68046161d5861",
       "version_major": 2,
       "version_minor": 0
      },
      "text/plain": [
       "Evaluating in validation set:   0%|          | 0/12 [00:00<?, ?it/s]"
      ]
     },
     "metadata": {},
     "output_type": "display_data"
    },
    {
     "name": "stdout",
     "output_type": "stream",
     "text": [
      "Validation Loss 1.094\n"
     ]
    },
    {
     "data": {
      "application/vnd.jupyter.widget-view+json": {
       "model_id": "a409e1f2ffb5468fa807f5d4cba56aae",
       "version_major": 2,
       "version_minor": 0
      },
      "text/plain": [
       "Evaluating in validation set:   0%|          | 0/12 [00:00<?, ?it/s]"
      ]
     },
     "metadata": {},
     "output_type": "display_data"
    },
    {
     "name": "stdout",
     "output_type": "stream",
     "text": [
      "Validation Loss 0.865\n"
     ]
    },
    {
     "data": {
      "application/vnd.jupyter.widget-view+json": {
       "model_id": "2512751c5e9b422fb1a3a3bc2cde71bd",
       "version_major": 2,
       "version_minor": 0
      },
      "text/plain": [
       "Evaluating in validation set:   0%|          | 0/12 [00:00<?, ?it/s]"
      ]
     },
     "metadata": {},
     "output_type": "display_data"
    },
    {
     "name": "stdout",
     "output_type": "stream",
     "text": [
      "Validation Loss 1.129\n"
     ]
    },
    {
     "data": {
      "application/vnd.jupyter.widget-view+json": {
       "model_id": "8dbfef13ec7f49ac9cc5cf7f5c3b78dd",
       "version_major": 2,
       "version_minor": 0
      },
      "text/plain": [
       "Evaluating in validation set:   0%|          | 0/12 [00:00<?, ?it/s]"
      ]
     },
     "metadata": {},
     "output_type": "display_data"
    },
    {
     "name": "stdout",
     "output_type": "stream",
     "text": [
      "Validation Loss 1.120\n"
     ]
    },
    {
     "data": {
      "application/vnd.jupyter.widget-view+json": {
       "model_id": "e296c973ef2e495bb5e19920f88a768e",
       "version_major": 2,
       "version_minor": 0
      },
      "text/plain": [
       "Evaluating in validation set:   0%|          | 0/12 [00:00<?, ?it/s]"
      ]
     },
     "metadata": {},
     "output_type": "display_data"
    },
    {
     "name": "stdout",
     "output_type": "stream",
     "text": [
      "Validation Loss 1.202\n"
     ]
    },
    {
     "data": {
      "application/vnd.jupyter.widget-view+json": {
       "model_id": "694d4e6db33043dba592c5cd74b16835",
       "version_major": 2,
       "version_minor": 0
      },
      "text/plain": [
       "Evaluating in validation set:   0%|          | 0/12 [00:00<?, ?it/s]"
      ]
     },
     "metadata": {},
     "output_type": "display_data"
    },
    {
     "name": "stdout",
     "output_type": "stream",
     "text": [
      "Validation Loss 0.857\n"
     ]
    },
    {
     "data": {
      "application/vnd.jupyter.widget-view+json": {
       "model_id": "70b542490346488bb1409adc7883546a",
       "version_major": 2,
       "version_minor": 0
      },
      "text/plain": [
       "Evaluating in validation set:   0%|          | 0/12 [00:00<?, ?it/s]"
      ]
     },
     "metadata": {},
     "output_type": "display_data"
    },
    {
     "name": "stdout",
     "output_type": "stream",
     "text": [
      "Validation Loss 1.052\n"
     ]
    },
    {
     "data": {
      "application/vnd.jupyter.widget-view+json": {
       "model_id": "d19a562c70aa42f1b7801d27dc3af599",
       "version_major": 2,
       "version_minor": 0
      },
      "text/plain": [
       "Evaluating in validation set:   0%|          | 0/12 [00:00<?, ?it/s]"
      ]
     },
     "metadata": {},
     "output_type": "display_data"
    },
    {
     "name": "stdout",
     "output_type": "stream",
     "text": [
      "Validation Loss 0.874\n"
     ]
    },
    {
     "data": {
      "application/vnd.jupyter.widget-view+json": {
       "model_id": "680840fc8c174b3c8f48ae7ba3de9a51",
       "version_major": 2,
       "version_minor": 0
      },
      "text/plain": [
       "Evaluating in validation set:   0%|          | 0/12 [00:00<?, ?it/s]"
      ]
     },
     "metadata": {},
     "output_type": "display_data"
    },
    {
     "name": "stdout",
     "output_type": "stream",
     "text": [
      "Validation Loss 1.016\n"
     ]
    },
    {
     "data": {
      "application/vnd.jupyter.widget-view+json": {
       "model_id": "f535cccc5dbb4ef78ded5341252f64e3",
       "version_major": 2,
       "version_minor": 0
      },
      "text/plain": [
       "Evaluating in validation set:   0%|          | 0/12 [00:00<?, ?it/s]"
      ]
     },
     "metadata": {},
     "output_type": "display_data"
    },
    {
     "name": "stdout",
     "output_type": "stream",
     "text": [
      "Validation Loss 0.940\n"
     ]
    },
    {
     "data": {
      "application/vnd.jupyter.widget-view+json": {
       "model_id": "da5fcef63cc645b7a8de27ee5fdde75d",
       "version_major": 2,
       "version_minor": 0
      },
      "text/plain": [
       "Evaluating in validation set:   0%|          | 0/12 [00:00<?, ?it/s]"
      ]
     },
     "metadata": {},
     "output_type": "display_data"
    },
    {
     "name": "stdout",
     "output_type": "stream",
     "text": [
      "Validation Loss 0.804\n"
     ]
    },
    {
     "data": {
      "application/vnd.jupyter.widget-view+json": {
       "model_id": "40df4bbc490b450ca6695a5d50a4dc52",
       "version_major": 2,
       "version_minor": 0
      },
      "text/plain": [
       "Evaluating in validation set:   0%|          | 0/12 [00:00<?, ?it/s]"
      ]
     },
     "metadata": {},
     "output_type": "display_data"
    },
    {
     "name": "stdout",
     "output_type": "stream",
     "text": [
      "Validation Loss 0.845\n"
     ]
    },
    {
     "data": {
      "application/vnd.jupyter.widget-view+json": {
       "model_id": "0ac88b8f0a064ec1a464c06d4a67d98e",
       "version_major": 2,
       "version_minor": 0
      },
      "text/plain": [
       "Evaluating in validation set:   0%|          | 0/12 [00:00<?, ?it/s]"
      ]
     },
     "metadata": {},
     "output_type": "display_data"
    },
    {
     "name": "stdout",
     "output_type": "stream",
     "text": [
      "Validation Loss 0.757\n"
     ]
    },
    {
     "data": {
      "application/vnd.jupyter.widget-view+json": {
       "model_id": "d8cf1c6764da47b3ac7802df37237af3",
       "version_major": 2,
       "version_minor": 0
      },
      "text/plain": [
       "Evaluating in validation set:   0%|          | 0/12 [00:00<?, ?it/s]"
      ]
     },
     "metadata": {},
     "output_type": "display_data"
    },
    {
     "name": "stdout",
     "output_type": "stream",
     "text": [
      "Validation Loss 0.991\n"
     ]
    },
    {
     "data": {
      "application/vnd.jupyter.widget-view+json": {
       "model_id": "6df3c8fe1b5344859804abe4f82cbf99",
       "version_major": 2,
       "version_minor": 0
      },
      "text/plain": [
       "Evaluating in validation set:   0%|          | 0/12 [00:00<?, ?it/s]"
      ]
     },
     "metadata": {},
     "output_type": "display_data"
    },
    {
     "name": "stdout",
     "output_type": "stream",
     "text": [
      "Validation Loss 0.818\n"
     ]
    },
    {
     "data": {
      "application/vnd.jupyter.widget-view+json": {
       "model_id": "d506cd5dc6de476cbd1441d78e3dff0a",
       "version_major": 2,
       "version_minor": 0
      },
      "text/plain": [
       "Evaluating in validation set:   0%|          | 0/12 [00:00<?, ?it/s]"
      ]
     },
     "metadata": {},
     "output_type": "display_data"
    },
    {
     "name": "stdout",
     "output_type": "stream",
     "text": [
      "Validation Loss 0.691\n"
     ]
    },
    {
     "data": {
      "application/vnd.jupyter.widget-view+json": {
       "model_id": "b27bc4bb310445e0b409ca3a93b8246f",
       "version_major": 2,
       "version_minor": 0
      },
      "text/plain": [
       "Evaluating in validation set:   0%|          | 0/12 [00:00<?, ?it/s]"
      ]
     },
     "metadata": {},
     "output_type": "display_data"
    },
    {
     "name": "stdout",
     "output_type": "stream",
     "text": [
      "Validation Loss 1.131\n"
     ]
    },
    {
     "data": {
      "application/vnd.jupyter.widget-view+json": {
       "model_id": "4c2df891cdea460088bd43021501a3d6",
       "version_major": 2,
       "version_minor": 0
      },
      "text/plain": [
       "Evaluating in validation set:   0%|          | 0/12 [00:00<?, ?it/s]"
      ]
     },
     "metadata": {},
     "output_type": "display_data"
    },
    {
     "name": "stdout",
     "output_type": "stream",
     "text": [
      "Validation Loss 0.851\n"
     ]
    },
    {
     "data": {
      "application/vnd.jupyter.widget-view+json": {
       "model_id": "9bfbdba9527041f3a691e47297ddadde",
       "version_major": 2,
       "version_minor": 0
      },
      "text/plain": [
       "Evaluating in validation set:   0%|          | 0/12 [00:00<?, ?it/s]"
      ]
     },
     "metadata": {},
     "output_type": "display_data"
    },
    {
     "name": "stdout",
     "output_type": "stream",
     "text": [
      "Validation Loss 0.677\n"
     ]
    },
    {
     "data": {
      "application/vnd.jupyter.widget-view+json": {
       "model_id": "96613eb3855a4006ba83e67fdfe5ae75",
       "version_major": 2,
       "version_minor": 0
      },
      "text/plain": [
       "Evaluating in validation set:   0%|          | 0/12 [00:00<?, ?it/s]"
      ]
     },
     "metadata": {},
     "output_type": "display_data"
    },
    {
     "name": "stdout",
     "output_type": "stream",
     "text": [
      "Validation Loss 0.747\n"
     ]
    },
    {
     "data": {
      "application/vnd.jupyter.widget-view+json": {
       "model_id": "7fe618d736fe4f508dab1ce6197783f9",
       "version_major": 2,
       "version_minor": 0
      },
      "text/plain": [
       "Evaluating in validation set:   0%|          | 0/12 [00:00<?, ?it/s]"
      ]
     },
     "metadata": {},
     "output_type": "display_data"
    },
    {
     "name": "stdout",
     "output_type": "stream",
     "text": [
      "Validation Loss 0.929\n"
     ]
    },
    {
     "data": {
      "application/vnd.jupyter.widget-view+json": {
       "model_id": "06e32da09fb748368f4abe987028b6ed",
       "version_major": 2,
       "version_minor": 0
      },
      "text/plain": [
       "Evaluating in validation set:   0%|          | 0/12 [00:00<?, ?it/s]"
      ]
     },
     "metadata": {},
     "output_type": "display_data"
    },
    {
     "name": "stdout",
     "output_type": "stream",
     "text": [
      "Validation Loss 0.933\n"
     ]
    },
    {
     "data": {
      "application/vnd.jupyter.widget-view+json": {
       "model_id": "77949b65776d4f46894de5979e52a83b",
       "version_major": 2,
       "version_minor": 0
      },
      "text/plain": [
       "Evaluating in validation set:   0%|          | 0/12 [00:00<?, ?it/s]"
      ]
     },
     "metadata": {},
     "output_type": "display_data"
    },
    {
     "name": "stdout",
     "output_type": "stream",
     "text": [
      "Validation Loss 0.907\n"
     ]
    },
    {
     "data": {
      "application/vnd.jupyter.widget-view+json": {
       "model_id": "87be8fbd46e2420091ee975eb7c13ec5",
       "version_major": 2,
       "version_minor": 0
      },
      "text/plain": [
       "Evaluating in validation set:   0%|          | 0/12 [00:00<?, ?it/s]"
      ]
     },
     "metadata": {},
     "output_type": "display_data"
    },
    {
     "name": "stdout",
     "output_type": "stream",
     "text": [
      "Validation Loss 0.859\n"
     ]
    },
    {
     "data": {
      "application/vnd.jupyter.widget-view+json": {
       "model_id": "4d759a97e8074ccb8f1b0b24b4369703",
       "version_major": 2,
       "version_minor": 0
      },
      "text/plain": [
       "Evaluating in validation set:   0%|          | 0/12 [00:00<?, ?it/s]"
      ]
     },
     "metadata": {},
     "output_type": "display_data"
    },
    {
     "name": "stdout",
     "output_type": "stream",
     "text": [
      "Validation Loss 0.773\n"
     ]
    },
    {
     "data": {
      "application/vnd.jupyter.widget-view+json": {
       "model_id": "b3268033e3de46c7a67e503b00b84360",
       "version_major": 2,
       "version_minor": 0
      },
      "text/plain": [
       "Evaluating in validation set:   0%|          | 0/12 [00:00<?, ?it/s]"
      ]
     },
     "metadata": {},
     "output_type": "display_data"
    },
    {
     "name": "stdout",
     "output_type": "stream",
     "text": [
      "Validation Loss 0.635\n"
     ]
    },
    {
     "data": {
      "application/vnd.jupyter.widget-view+json": {
       "model_id": "b4afbeb20898473c8bbde384ced69046",
       "version_major": 2,
       "version_minor": 0
      },
      "text/plain": [
       "Evaluating in validation set:   0%|          | 0/12 [00:00<?, ?it/s]"
      ]
     },
     "metadata": {},
     "output_type": "display_data"
    },
    {
     "name": "stdout",
     "output_type": "stream",
     "text": [
      "Validation Loss 0.670\n"
     ]
    },
    {
     "data": {
      "application/vnd.jupyter.widget-view+json": {
       "model_id": "a86f090022cb409b8a3ccfcd954b92c0",
       "version_major": 2,
       "version_minor": 0
      },
      "text/plain": [
       "Evaluating in validation set:   0%|          | 0/12 [00:00<?, ?it/s]"
      ]
     },
     "metadata": {},
     "output_type": "display_data"
    },
    {
     "name": "stdout",
     "output_type": "stream",
     "text": [
      "Validation Loss 0.795\n"
     ]
    },
    {
     "data": {
      "application/vnd.jupyter.widget-view+json": {
       "model_id": "249694beed9a4db4b8b25db7b78b7d6b",
       "version_major": 2,
       "version_minor": 0
      },
      "text/plain": [
       "Evaluating in validation set:   0%|          | 0/12 [00:00<?, ?it/s]"
      ]
     },
     "metadata": {},
     "output_type": "display_data"
    },
    {
     "name": "stdout",
     "output_type": "stream",
     "text": [
      "Validation Loss 0.759\n"
     ]
    },
    {
     "data": {
      "application/vnd.jupyter.widget-view+json": {
       "model_id": "df2c108d54f14fd2b01705d446ae6182",
       "version_major": 2,
       "version_minor": 0
      },
      "text/plain": [
       "Evaluating in validation set:   0%|          | 0/12 [00:00<?, ?it/s]"
      ]
     },
     "metadata": {},
     "output_type": "display_data"
    },
    {
     "name": "stdout",
     "output_type": "stream",
     "text": [
      "Validation Loss 1.218\n"
     ]
    },
    {
     "data": {
      "application/vnd.jupyter.widget-view+json": {
       "model_id": "9617f1e0404f4387a8f14afef204a2e3",
       "version_major": 2,
       "version_minor": 0
      },
      "text/plain": [
       "Evaluating in validation set:   0%|          | 0/12 [00:00<?, ?it/s]"
      ]
     },
     "metadata": {},
     "output_type": "display_data"
    },
    {
     "name": "stdout",
     "output_type": "stream",
     "text": [
      "Validation Loss 0.892\n"
     ]
    },
    {
     "data": {
      "application/vnd.jupyter.widget-view+json": {
       "model_id": "9f782e7d7600476f95e726ccd5019499",
       "version_major": 2,
       "version_minor": 0
      },
      "text/plain": [
       "Evaluating in validation set:   0%|          | 0/12 [00:00<?, ?it/s]"
      ]
     },
     "metadata": {},
     "output_type": "display_data"
    },
    {
     "name": "stdout",
     "output_type": "stream",
     "text": [
      "Validation Loss 0.869\n"
     ]
    },
    {
     "data": {
      "application/vnd.jupyter.widget-view+json": {
       "model_id": "d29212d7f65a4108934f18cebfad788f",
       "version_major": 2,
       "version_minor": 0
      },
      "text/plain": [
       "Evaluating in validation set:   0%|          | 0/12 [00:00<?, ?it/s]"
      ]
     },
     "metadata": {},
     "output_type": "display_data"
    },
    {
     "name": "stdout",
     "output_type": "stream",
     "text": [
      "Validation Loss 0.923\n"
     ]
    },
    {
     "data": {
      "application/vnd.jupyter.widget-view+json": {
       "model_id": "97fca23dbd2342c8a84a38f1d984ab5a",
       "version_major": 2,
       "version_minor": 0
      },
      "text/plain": [
       "Evaluating in validation set:   0%|          | 0/12 [00:00<?, ?it/s]"
      ]
     },
     "metadata": {},
     "output_type": "display_data"
    },
    {
     "name": "stdout",
     "output_type": "stream",
     "text": [
      "Validation Loss 0.814\n"
     ]
    },
    {
     "data": {
      "application/vnd.jupyter.widget-view+json": {
       "model_id": "cdbf9da4310340c3a7ec51177737a2db",
       "version_major": 2,
       "version_minor": 0
      },
      "text/plain": [
       "Evaluating in validation set:   0%|          | 0/12 [00:00<?, ?it/s]"
      ]
     },
     "metadata": {},
     "output_type": "display_data"
    },
    {
     "name": "stdout",
     "output_type": "stream",
     "text": [
      "Validation Loss 0.943\n"
     ]
    },
    {
     "data": {
      "application/vnd.jupyter.widget-view+json": {
       "model_id": "ba9f082860694c66b3767d898f336310",
       "version_major": 2,
       "version_minor": 0
      },
      "text/plain": [
       "Evaluating in validation set:   0%|          | 0/12 [00:00<?, ?it/s]"
      ]
     },
     "metadata": {},
     "output_type": "display_data"
    },
    {
     "name": "stdout",
     "output_type": "stream",
     "text": [
      "Validation Loss 0.651\n"
     ]
    },
    {
     "data": {
      "application/vnd.jupyter.widget-view+json": {
       "model_id": "e7112604a18c425bb885a56c63911fa2",
       "version_major": 2,
       "version_minor": 0
      },
      "text/plain": [
       "Evaluating in validation set:   0%|          | 0/12 [00:00<?, ?it/s]"
      ]
     },
     "metadata": {},
     "output_type": "display_data"
    },
    {
     "name": "stdout",
     "output_type": "stream",
     "text": [
      "Validation Loss 0.713\n"
     ]
    },
    {
     "data": {
      "application/vnd.jupyter.widget-view+json": {
       "model_id": "a0aa5941b4bc4d629607e95d3c0666f2",
       "version_major": 2,
       "version_minor": 0
      },
      "text/plain": [
       "Evaluating in validation set:   0%|          | 0/12 [00:00<?, ?it/s]"
      ]
     },
     "metadata": {},
     "output_type": "display_data"
    },
    {
     "name": "stdout",
     "output_type": "stream",
     "text": [
      "Validation Loss 0.881\n"
     ]
    },
    {
     "data": {
      "application/vnd.jupyter.widget-view+json": {
       "model_id": "2d1f9686a5444a12b7f6064f68968301",
       "version_major": 2,
       "version_minor": 0
      },
      "text/plain": [
       "Evaluating in validation set:   0%|          | 0/12 [00:00<?, ?it/s]"
      ]
     },
     "metadata": {},
     "output_type": "display_data"
    },
    {
     "name": "stdout",
     "output_type": "stream",
     "text": [
      "Validation Loss 0.963\n"
     ]
    },
    {
     "data": {
      "application/vnd.jupyter.widget-view+json": {
       "model_id": "91e91666c4a04346bb236aedb54ac9a1",
       "version_major": 2,
       "version_minor": 0
      },
      "text/plain": [
       "Evaluating in validation set:   0%|          | 0/12 [00:00<?, ?it/s]"
      ]
     },
     "metadata": {},
     "output_type": "display_data"
    },
    {
     "name": "stdout",
     "output_type": "stream",
     "text": [
      "Validation Loss 0.935\n"
     ]
    },
    {
     "data": {
      "application/vnd.jupyter.widget-view+json": {
       "model_id": "5944f2499ba14a349b6186da9d24f8d2",
       "version_major": 2,
       "version_minor": 0
      },
      "text/plain": [
       "Evaluating in validation set:   0%|          | 0/12 [00:00<?, ?it/s]"
      ]
     },
     "metadata": {},
     "output_type": "display_data"
    },
    {
     "name": "stdout",
     "output_type": "stream",
     "text": [
      "Validation Loss 0.736\n"
     ]
    },
    {
     "data": {
      "application/vnd.jupyter.widget-view+json": {
       "model_id": "42dfe94134d24d91a17c0173af579bde",
       "version_major": 2,
       "version_minor": 0
      },
      "text/plain": [
       "Evaluating in validation set:   0%|          | 0/12 [00:00<?, ?it/s]"
      ]
     },
     "metadata": {},
     "output_type": "display_data"
    },
    {
     "name": "stdout",
     "output_type": "stream",
     "text": [
      "Validation Loss 0.971\n"
     ]
    },
    {
     "data": {
      "application/vnd.jupyter.widget-view+json": {
       "model_id": "c5988ca7db654a5484588a2afc8bd83f",
       "version_major": 2,
       "version_minor": 0
      },
      "text/plain": [
       "Evaluating in validation set:   0%|          | 0/12 [00:00<?, ?it/s]"
      ]
     },
     "metadata": {},
     "output_type": "display_data"
    },
    {
     "name": "stdout",
     "output_type": "stream",
     "text": [
      "Validation Loss 0.686\n"
     ]
    },
    {
     "data": {
      "application/vnd.jupyter.widget-view+json": {
       "model_id": "9bce254befdf4b88b4980401fb5d002b",
       "version_major": 2,
       "version_minor": 0
      },
      "text/plain": [
       "Evaluating in validation set:   0%|          | 0/12 [00:00<?, ?it/s]"
      ]
     },
     "metadata": {},
     "output_type": "display_data"
    },
    {
     "name": "stdout",
     "output_type": "stream",
     "text": [
      "Validation Loss 1.108\n"
     ]
    },
    {
     "data": {
      "application/vnd.jupyter.widget-view+json": {
       "model_id": "6097662e75de4feda5696815fb4f33fc",
       "version_major": 2,
       "version_minor": 0
      },
      "text/plain": [
       "Evaluating in validation set:   0%|          | 0/12 [00:00<?, ?it/s]"
      ]
     },
     "metadata": {},
     "output_type": "display_data"
    },
    {
     "name": "stdout",
     "output_type": "stream",
     "text": [
      "Validation Loss 0.965\n"
     ]
    },
    {
     "data": {
      "application/vnd.jupyter.widget-view+json": {
       "model_id": "803b8d8967fc468cb146d311d78fac1a",
       "version_major": 2,
       "version_minor": 0
      },
      "text/plain": [
       "Evaluating in validation set:   0%|          | 0/12 [00:00<?, ?it/s]"
      ]
     },
     "metadata": {},
     "output_type": "display_data"
    },
    {
     "name": "stdout",
     "output_type": "stream",
     "text": [
      "Validation Loss 0.762\n"
     ]
    },
    {
     "data": {
      "application/vnd.jupyter.widget-view+json": {
       "model_id": "67c68eeb89784c11a4bfa34e707e17d6",
       "version_major": 2,
       "version_minor": 0
      },
      "text/plain": [
       "Evaluating in validation set:   0%|          | 0/12 [00:00<?, ?it/s]"
      ]
     },
     "metadata": {},
     "output_type": "display_data"
    },
    {
     "name": "stdout",
     "output_type": "stream",
     "text": [
      "Validation Loss 0.825\n"
     ]
    },
    {
     "data": {
      "application/vnd.jupyter.widget-view+json": {
       "model_id": "7111efc67ab145cc9db6386f67606a08",
       "version_major": 2,
       "version_minor": 0
      },
      "text/plain": [
       "Evaluating in validation set:   0%|          | 0/12 [00:00<?, ?it/s]"
      ]
     },
     "metadata": {},
     "output_type": "display_data"
    },
    {
     "name": "stdout",
     "output_type": "stream",
     "text": [
      "Validation Loss 0.686\n"
     ]
    },
    {
     "data": {
      "application/vnd.jupyter.widget-view+json": {
       "model_id": "ada8d927d32e4aa3a366d50b2a0781da",
       "version_major": 2,
       "version_minor": 0
      },
      "text/plain": [
       "Evaluating in validation set:   0%|          | 0/12 [00:00<?, ?it/s]"
      ]
     },
     "metadata": {},
     "output_type": "display_data"
    },
    {
     "name": "stdout",
     "output_type": "stream",
     "text": [
      "Validation Loss 0.998\n"
     ]
    },
    {
     "data": {
      "application/vnd.jupyter.widget-view+json": {
       "model_id": "51924239ee4742548bfb6583e25b52a7",
       "version_major": 2,
       "version_minor": 0
      },
      "text/plain": [
       "Evaluating in validation set:   0%|          | 0/12 [00:00<?, ?it/s]"
      ]
     },
     "metadata": {},
     "output_type": "display_data"
    },
    {
     "name": "stdout",
     "output_type": "stream",
     "text": [
      "Validation Loss 1.123\n"
     ]
    },
    {
     "data": {
      "application/vnd.jupyter.widget-view+json": {
       "model_id": "c24036c05a9041e18fb2ad3e4ed396bd",
       "version_major": 2,
       "version_minor": 0
      },
      "text/plain": [
       "Evaluating in validation set:   0%|          | 0/12 [00:00<?, ?it/s]"
      ]
     },
     "metadata": {},
     "output_type": "display_data"
    },
    {
     "name": "stdout",
     "output_type": "stream",
     "text": [
      "Validation Loss 0.698\n"
     ]
    },
    {
     "data": {
      "application/vnd.jupyter.widget-view+json": {
       "model_id": "8cab32dee79a4f6a9a155d6f9f87dc3c",
       "version_major": 2,
       "version_minor": 0
      },
      "text/plain": [
       "Evaluating in validation set:   0%|          | 0/12 [00:00<?, ?it/s]"
      ]
     },
     "metadata": {},
     "output_type": "display_data"
    },
    {
     "name": "stdout",
     "output_type": "stream",
     "text": [
      "Validation Loss 0.648\n"
     ]
    },
    {
     "data": {
      "application/vnd.jupyter.widget-view+json": {
       "model_id": "31b95d650147449ca9abfe018be95045",
       "version_major": 2,
       "version_minor": 0
      },
      "text/plain": [
       "Evaluating in validation set:   0%|          | 0/12 [00:00<?, ?it/s]"
      ]
     },
     "metadata": {},
     "output_type": "display_data"
    },
    {
     "name": "stdout",
     "output_type": "stream",
     "text": [
      "Validation Loss 0.760\n"
     ]
    },
    {
     "data": {
      "application/vnd.jupyter.widget-view+json": {
       "model_id": "e25c7b5889e249acbd70dbca50332ac7",
       "version_major": 2,
       "version_minor": 0
      },
      "text/plain": [
       "Evaluating in validation set:   0%|          | 0/12 [00:00<?, ?it/s]"
      ]
     },
     "metadata": {},
     "output_type": "display_data"
    },
    {
     "name": "stdout",
     "output_type": "stream",
     "text": [
      "Validation Loss 0.874\n"
     ]
    },
    {
     "data": {
      "application/vnd.jupyter.widget-view+json": {
       "model_id": "a300d054cd444fdca77f8f58c75e19ca",
       "version_major": 2,
       "version_minor": 0
      },
      "text/plain": [
       "Evaluating in validation set:   0%|          | 0/12 [00:00<?, ?it/s]"
      ]
     },
     "metadata": {},
     "output_type": "display_data"
    },
    {
     "name": "stdout",
     "output_type": "stream",
     "text": [
      "Validation Loss 0.879\n"
     ]
    },
    {
     "data": {
      "application/vnd.jupyter.widget-view+json": {
       "model_id": "9c683ce2d3e44978851b8efc1f7813f1",
       "version_major": 2,
       "version_minor": 0
      },
      "text/plain": [
       "Evaluating in validation set:   0%|          | 0/12 [00:00<?, ?it/s]"
      ]
     },
     "metadata": {},
     "output_type": "display_data"
    },
    {
     "name": "stdout",
     "output_type": "stream",
     "text": [
      "Validation Loss 0.703\n"
     ]
    },
    {
     "data": {
      "application/vnd.jupyter.widget-view+json": {
       "model_id": "70effd1dc91749989c75184d75bb16f9",
       "version_major": 2,
       "version_minor": 0
      },
      "text/plain": [
       "Evaluating in validation set:   0%|          | 0/12 [00:00<?, ?it/s]"
      ]
     },
     "metadata": {},
     "output_type": "display_data"
    },
    {
     "name": "stdout",
     "output_type": "stream",
     "text": [
      "Validation Loss 0.688\n"
     ]
    },
    {
     "data": {
      "application/vnd.jupyter.widget-view+json": {
       "model_id": "29fe8c6b113d4afc992dc612deae55bd",
       "version_major": 2,
       "version_minor": 0
      },
      "text/plain": [
       "Evaluating in validation set:   0%|          | 0/12 [00:00<?, ?it/s]"
      ]
     },
     "metadata": {},
     "output_type": "display_data"
    },
    {
     "name": "stdout",
     "output_type": "stream",
     "text": [
      "Validation Loss 1.150\n"
     ]
    },
    {
     "data": {
      "application/vnd.jupyter.widget-view+json": {
       "model_id": "f5434383f31e446bb4dcbcd3f4fd3679",
       "version_major": 2,
       "version_minor": 0
      },
      "text/plain": [
       "Evaluating in validation set:   0%|          | 0/12 [00:00<?, ?it/s]"
      ]
     },
     "metadata": {},
     "output_type": "display_data"
    },
    {
     "name": "stdout",
     "output_type": "stream",
     "text": [
      "Validation Loss 0.773\n"
     ]
    },
    {
     "data": {
      "application/vnd.jupyter.widget-view+json": {
       "model_id": "e334aaf51f7b43a4ab2edb58b520f285",
       "version_major": 2,
       "version_minor": 0
      },
      "text/plain": [
       "Evaluating in validation set:   0%|          | 0/12 [00:00<?, ?it/s]"
      ]
     },
     "metadata": {},
     "output_type": "display_data"
    },
    {
     "name": "stdout",
     "output_type": "stream",
     "text": [
      "Validation Loss 0.907\n"
     ]
    },
    {
     "data": {
      "application/vnd.jupyter.widget-view+json": {
       "model_id": "8acc15214e034bf48adc7459a10616fd",
       "version_major": 2,
       "version_minor": 0
      },
      "text/plain": [
       "Evaluating in validation set:   0%|          | 0/12 [00:00<?, ?it/s]"
      ]
     },
     "metadata": {},
     "output_type": "display_data"
    },
    {
     "name": "stdout",
     "output_type": "stream",
     "text": [
      "Validation Loss 0.761\n"
     ]
    },
    {
     "data": {
      "application/vnd.jupyter.widget-view+json": {
       "model_id": "30dd27add97c4d009bb73c83904e6a7a",
       "version_major": 2,
       "version_minor": 0
      },
      "text/plain": [
       "Evaluating in validation set:   0%|          | 0/12 [00:00<?, ?it/s]"
      ]
     },
     "metadata": {},
     "output_type": "display_data"
    },
    {
     "name": "stdout",
     "output_type": "stream",
     "text": [
      "Validation Loss 0.884\n"
     ]
    },
    {
     "data": {
      "application/vnd.jupyter.widget-view+json": {
       "model_id": "744565d28d244f4185f6d85e4abb42c6",
       "version_major": 2,
       "version_minor": 0
      },
      "text/plain": [
       "Evaluating in validation set:   0%|          | 0/12 [00:00<?, ?it/s]"
      ]
     },
     "metadata": {},
     "output_type": "display_data"
    },
    {
     "name": "stdout",
     "output_type": "stream",
     "text": [
      "Validation Loss 0.590\n"
     ]
    },
    {
     "data": {
      "application/vnd.jupyter.widget-view+json": {
       "model_id": "fa8029e74afc450c84fac1f13c5102b4",
       "version_major": 2,
       "version_minor": 0
      },
      "text/plain": [
       "Evaluating in validation set:   0%|          | 0/12 [00:00<?, ?it/s]"
      ]
     },
     "metadata": {},
     "output_type": "display_data"
    },
    {
     "name": "stdout",
     "output_type": "stream",
     "text": [
      "Validation Loss 0.841\n"
     ]
    },
    {
     "data": {
      "application/vnd.jupyter.widget-view+json": {
       "model_id": "072c2d6c40274484b01d562fc0710eb7",
       "version_major": 2,
       "version_minor": 0
      },
      "text/plain": [
       "Evaluating in validation set:   0%|          | 0/12 [00:00<?, ?it/s]"
      ]
     },
     "metadata": {},
     "output_type": "display_data"
    },
    {
     "name": "stdout",
     "output_type": "stream",
     "text": [
      "Validation Loss 0.770\n"
     ]
    },
    {
     "data": {
      "application/vnd.jupyter.widget-view+json": {
       "model_id": "341e98cea3a446e2ae3d5a62b590d07a",
       "version_major": 2,
       "version_minor": 0
      },
      "text/plain": [
       "Evaluating in validation set:   0%|          | 0/12 [00:00<?, ?it/s]"
      ]
     },
     "metadata": {},
     "output_type": "display_data"
    },
    {
     "name": "stdout",
     "output_type": "stream",
     "text": [
      "Validation Loss 0.933\n"
     ]
    },
    {
     "data": {
      "application/vnd.jupyter.widget-view+json": {
       "model_id": "b732c858f31c43dea6dad02c815f1205",
       "version_major": 2,
       "version_minor": 0
      },
      "text/plain": [
       "Evaluating in validation set:   0%|          | 0/12 [00:00<?, ?it/s]"
      ]
     },
     "metadata": {},
     "output_type": "display_data"
    },
    {
     "name": "stdout",
     "output_type": "stream",
     "text": [
      "Validation Loss 0.747\n"
     ]
    },
    {
     "data": {
      "application/vnd.jupyter.widget-view+json": {
       "model_id": "2670003faa2f49d9a05d1495c953a145",
       "version_major": 2,
       "version_minor": 0
      },
      "text/plain": [
       "Evaluating in validation set:   0%|          | 0/12 [00:00<?, ?it/s]"
      ]
     },
     "metadata": {},
     "output_type": "display_data"
    },
    {
     "name": "stdout",
     "output_type": "stream",
     "text": [
      "Validation Loss 0.732\n"
     ]
    },
    {
     "data": {
      "application/vnd.jupyter.widget-view+json": {
       "model_id": "ab8623fa7e104ddd846ace7afc97361e",
       "version_major": 2,
       "version_minor": 0
      },
      "text/plain": [
       "Evaluating in validation set:   0%|          | 0/12 [00:00<?, ?it/s]"
      ]
     },
     "metadata": {},
     "output_type": "display_data"
    },
    {
     "name": "stdout",
     "output_type": "stream",
     "text": [
      "Validation Loss 0.903\n"
     ]
    },
    {
     "data": {
      "application/vnd.jupyter.widget-view+json": {
       "model_id": "cba8d0dd306f4d33bfcffa974ec40e40",
       "version_major": 2,
       "version_minor": 0
      },
      "text/plain": [
       "Evaluating in validation set:   0%|          | 0/12 [00:00<?, ?it/s]"
      ]
     },
     "metadata": {},
     "output_type": "display_data"
    },
    {
     "name": "stdout",
     "output_type": "stream",
     "text": [
      "Validation Loss 0.792\n"
     ]
    },
    {
     "data": {
      "application/vnd.jupyter.widget-view+json": {
       "model_id": "80aa962d5bfd482e95249b9c6abce562",
       "version_major": 2,
       "version_minor": 0
      },
      "text/plain": [
       "Evaluating in validation set:   0%|          | 0/12 [00:00<?, ?it/s]"
      ]
     },
     "metadata": {},
     "output_type": "display_data"
    },
    {
     "name": "stdout",
     "output_type": "stream",
     "text": [
      "Validation Loss 0.693\n"
     ]
    },
    {
     "data": {
      "application/vnd.jupyter.widget-view+json": {
       "model_id": "da0058e58538449f9619bb333185e615",
       "version_major": 2,
       "version_minor": 0
      },
      "text/plain": [
       "Evaluating in validation set:   0%|          | 0/12 [00:00<?, ?it/s]"
      ]
     },
     "metadata": {},
     "output_type": "display_data"
    },
    {
     "name": "stdout",
     "output_type": "stream",
     "text": [
      "Validation Loss 0.669\n"
     ]
    },
    {
     "data": {
      "application/vnd.jupyter.widget-view+json": {
       "model_id": "9eaa0f982dcf4e0f8ca4fbca8ec36bf4",
       "version_major": 2,
       "version_minor": 0
      },
      "text/plain": [
       "Evaluating in validation set:   0%|          | 0/12 [00:00<?, ?it/s]"
      ]
     },
     "metadata": {},
     "output_type": "display_data"
    },
    {
     "name": "stdout",
     "output_type": "stream",
     "text": [
      "Validation Loss 0.618\n"
     ]
    },
    {
     "data": {
      "application/vnd.jupyter.widget-view+json": {
       "model_id": "cbacdebf08cd43ca958be3d79360f282",
       "version_major": 2,
       "version_minor": 0
      },
      "text/plain": [
       "Evaluating in validation set:   0%|          | 0/12 [00:00<?, ?it/s]"
      ]
     },
     "metadata": {},
     "output_type": "display_data"
    },
    {
     "name": "stdout",
     "output_type": "stream",
     "text": [
      "Validation Loss 0.672\n"
     ]
    },
    {
     "data": {
      "application/vnd.jupyter.widget-view+json": {
       "model_id": "c8e6152ce5fc478bb0a1dd5ab784a82d",
       "version_major": 2,
       "version_minor": 0
      },
      "text/plain": [
       "Evaluating in validation set:   0%|          | 0/12 [00:00<?, ?it/s]"
      ]
     },
     "metadata": {},
     "output_type": "display_data"
    },
    {
     "name": "stdout",
     "output_type": "stream",
     "text": [
      "Validation Loss 0.728\n"
     ]
    },
    {
     "data": {
      "application/vnd.jupyter.widget-view+json": {
       "model_id": "7e17bcf5d52545f191d1c1a9b308b06a",
       "version_major": 2,
       "version_minor": 0
      },
      "text/plain": [
       "Evaluating in validation set:   0%|          | 0/12 [00:00<?, ?it/s]"
      ]
     },
     "metadata": {},
     "output_type": "display_data"
    },
    {
     "name": "stdout",
     "output_type": "stream",
     "text": [
      "Validation Loss 0.613\n"
     ]
    },
    {
     "data": {
      "application/vnd.jupyter.widget-view+json": {
       "model_id": "235901e513f046e0b5aace8b0651ad9c",
       "version_major": 2,
       "version_minor": 0
      },
      "text/plain": [
       "Evaluating in validation set:   0%|          | 0/12 [00:00<?, ?it/s]"
      ]
     },
     "metadata": {},
     "output_type": "display_data"
    },
    {
     "name": "stdout",
     "output_type": "stream",
     "text": [
      "Validation Loss 0.888\n"
     ]
    },
    {
     "data": {
      "application/vnd.jupyter.widget-view+json": {
       "model_id": "37596f3f1f9048f2a5de58b9899d2894",
       "version_major": 2,
       "version_minor": 0
      },
      "text/plain": [
       "Evaluating in validation set:   0%|          | 0/12 [00:00<?, ?it/s]"
      ]
     },
     "metadata": {},
     "output_type": "display_data"
    },
    {
     "name": "stdout",
     "output_type": "stream",
     "text": [
      "Validation Loss 0.770\n"
     ]
    },
    {
     "data": {
      "application/vnd.jupyter.widget-view+json": {
       "model_id": "bd579a634aa944e2a4a5ab936dfa6779",
       "version_major": 2,
       "version_minor": 0
      },
      "text/plain": [
       "Evaluating in validation set:   0%|          | 0/12 [00:00<?, ?it/s]"
      ]
     },
     "metadata": {},
     "output_type": "display_data"
    },
    {
     "name": "stdout",
     "output_type": "stream",
     "text": [
      "Validation Loss 0.743\n"
     ]
    },
    {
     "data": {
      "application/vnd.jupyter.widget-view+json": {
       "model_id": "8d7b279f91e149528495283dfe8633ff",
       "version_major": 2,
       "version_minor": 0
      },
      "text/plain": [
       "Evaluating in validation set:   0%|          | 0/12 [00:00<?, ?it/s]"
      ]
     },
     "metadata": {},
     "output_type": "display_data"
    },
    {
     "name": "stdout",
     "output_type": "stream",
     "text": [
      "Validation Loss 0.807\n"
     ]
    },
    {
     "data": {
      "application/vnd.jupyter.widget-view+json": {
       "model_id": "003f393dded1464a8f9c2fdb995fd605",
       "version_major": 2,
       "version_minor": 0
      },
      "text/plain": [
       "Evaluating in validation set:   0%|          | 0/12 [00:00<?, ?it/s]"
      ]
     },
     "metadata": {},
     "output_type": "display_data"
    },
    {
     "name": "stdout",
     "output_type": "stream",
     "text": [
      "Validation Loss 0.806\n"
     ]
    },
    {
     "data": {
      "application/vnd.jupyter.widget-view+json": {
       "model_id": "65d7b1c107f34e6eb1073259b82d5e46",
       "version_major": 2,
       "version_minor": 0
      },
      "text/plain": [
       "Evaluating in validation set:   0%|          | 0/12 [00:00<?, ?it/s]"
      ]
     },
     "metadata": {},
     "output_type": "display_data"
    },
    {
     "name": "stdout",
     "output_type": "stream",
     "text": [
      "Validation Loss 0.673\n"
     ]
    },
    {
     "data": {
      "application/vnd.jupyter.widget-view+json": {
       "model_id": "e63f0cd845564101b7b1210b9f5e5880",
       "version_major": 2,
       "version_minor": 0
      },
      "text/plain": [
       "Evaluating in validation set:   0%|          | 0/12 [00:00<?, ?it/s]"
      ]
     },
     "metadata": {},
     "output_type": "display_data"
    },
    {
     "name": "stdout",
     "output_type": "stream",
     "text": [
      "Validation Loss 0.888\n"
     ]
    },
    {
     "data": {
      "application/vnd.jupyter.widget-view+json": {
       "model_id": "0f16bbf6b3fd43588d6d021d3b3a8db2",
       "version_major": 2,
       "version_minor": 0
      },
      "text/plain": [
       "Evaluating in validation set:   0%|          | 0/12 [00:00<?, ?it/s]"
      ]
     },
     "metadata": {},
     "output_type": "display_data"
    },
    {
     "name": "stdout",
     "output_type": "stream",
     "text": [
      "Validation Loss 0.789\n"
     ]
    },
    {
     "data": {
      "application/vnd.jupyter.widget-view+json": {
       "model_id": "7d59fc1e3f834185b67eefa86f8e92df",
       "version_major": 2,
       "version_minor": 0
      },
      "text/plain": [
       "Evaluating in validation set:   0%|          | 0/12 [00:00<?, ?it/s]"
      ]
     },
     "metadata": {},
     "output_type": "display_data"
    },
    {
     "name": "stdout",
     "output_type": "stream",
     "text": [
      "Validation Loss 0.744\n"
     ]
    },
    {
     "data": {
      "application/vnd.jupyter.widget-view+json": {
       "model_id": "4f0f6ebcde014909a7d0b0a217577f6a",
       "version_major": 2,
       "version_minor": 0
      },
      "text/plain": [
       "Evaluating in validation set:   0%|          | 0/12 [00:00<?, ?it/s]"
      ]
     },
     "metadata": {},
     "output_type": "display_data"
    },
    {
     "name": "stdout",
     "output_type": "stream",
     "text": [
      "Validation Loss 0.662\n"
     ]
    },
    {
     "data": {
      "application/vnd.jupyter.widget-view+json": {
       "model_id": "5719b238047c484b8e6055c00ae0c967",
       "version_major": 2,
       "version_minor": 0
      },
      "text/plain": [
       "Evaluating in validation set:   0%|          | 0/12 [00:00<?, ?it/s]"
      ]
     },
     "metadata": {},
     "output_type": "display_data"
    },
    {
     "name": "stdout",
     "output_type": "stream",
     "text": [
      "Validation Loss 0.706\n"
     ]
    },
    {
     "data": {
      "application/vnd.jupyter.widget-view+json": {
       "model_id": "21a79e39a2b9446fb39fc5231fcde9f8",
       "version_major": 2,
       "version_minor": 0
      },
      "text/plain": [
       "Evaluating in validation set:   0%|          | 0/12 [00:00<?, ?it/s]"
      ]
     },
     "metadata": {},
     "output_type": "display_data"
    },
    {
     "name": "stdout",
     "output_type": "stream",
     "text": [
      "Validation Loss 0.654\n"
     ]
    },
    {
     "data": {
      "application/vnd.jupyter.widget-view+json": {
       "model_id": "4128cf659b6d4002893b99b67b5402fe",
       "version_major": 2,
       "version_minor": 0
      },
      "text/plain": [
       "Evaluating in validation set:   0%|          | 0/12 [00:00<?, ?it/s]"
      ]
     },
     "metadata": {},
     "output_type": "display_data"
    },
    {
     "name": "stdout",
     "output_type": "stream",
     "text": [
      "Validation Loss 0.990\n"
     ]
    },
    {
     "data": {
      "application/vnd.jupyter.widget-view+json": {
       "model_id": "dea06c8fe9544a2597ddfaa0e7ce64f3",
       "version_major": 2,
       "version_minor": 0
      },
      "text/plain": [
       "Evaluating in validation set:   0%|          | 0/12 [00:00<?, ?it/s]"
      ]
     },
     "metadata": {},
     "output_type": "display_data"
    },
    {
     "name": "stdout",
     "output_type": "stream",
     "text": [
      "Validation Loss 0.803\n"
     ]
    },
    {
     "data": {
      "application/vnd.jupyter.widget-view+json": {
       "model_id": "e2075bd256b24e8d941b74859aaf5764",
       "version_major": 2,
       "version_minor": 0
      },
      "text/plain": [
       "Evaluating in validation set:   0%|          | 0/12 [00:00<?, ?it/s]"
      ]
     },
     "metadata": {},
     "output_type": "display_data"
    },
    {
     "name": "stdout",
     "output_type": "stream",
     "text": [
      "Validation Loss 0.673\n"
     ]
    },
    {
     "data": {
      "application/vnd.jupyter.widget-view+json": {
       "model_id": "c49928c19efd4bf58fba364a4f07cdb0",
       "version_major": 2,
       "version_minor": 0
      },
      "text/plain": [
       "Evaluating in validation set:   0%|          | 0/12 [00:00<?, ?it/s]"
      ]
     },
     "metadata": {},
     "output_type": "display_data"
    },
    {
     "name": "stdout",
     "output_type": "stream",
     "text": [
      "Validation Loss 0.955\n"
     ]
    },
    {
     "data": {
      "application/vnd.jupyter.widget-view+json": {
       "model_id": "b0fc17f946284005b0d30082beacc111",
       "version_major": 2,
       "version_minor": 0
      },
      "text/plain": [
       "Evaluating in validation set:   0%|          | 0/12 [00:00<?, ?it/s]"
      ]
     },
     "metadata": {},
     "output_type": "display_data"
    },
    {
     "name": "stdout",
     "output_type": "stream",
     "text": [
      "Validation Loss 0.658\n"
     ]
    },
    {
     "data": {
      "application/vnd.jupyter.widget-view+json": {
       "model_id": "1415e97c463a4dc6b0f68d6f1c0b10f4",
       "version_major": 2,
       "version_minor": 0
      },
      "text/plain": [
       "Evaluating in validation set:   0%|          | 0/12 [00:00<?, ?it/s]"
      ]
     },
     "metadata": {},
     "output_type": "display_data"
    },
    {
     "name": "stdout",
     "output_type": "stream",
     "text": [
      "Validation Loss 0.777\n"
     ]
    },
    {
     "data": {
      "application/vnd.jupyter.widget-view+json": {
       "model_id": "bf852cbcf2df40c98b36800e0b79be7b",
       "version_major": 2,
       "version_minor": 0
      },
      "text/plain": [
       "Evaluating in validation set:   0%|          | 0/12 [00:00<?, ?it/s]"
      ]
     },
     "metadata": {},
     "output_type": "display_data"
    },
    {
     "name": "stdout",
     "output_type": "stream",
     "text": [
      "Validation Loss 0.555\n"
     ]
    },
    {
     "data": {
      "application/vnd.jupyter.widget-view+json": {
       "model_id": "d8f8a10fd95743dcae44e98cbce39e12",
       "version_major": 2,
       "version_minor": 0
      },
      "text/plain": [
       "Evaluating in validation set:   0%|          | 0/12 [00:00<?, ?it/s]"
      ]
     },
     "metadata": {},
     "output_type": "display_data"
    },
    {
     "name": "stdout",
     "output_type": "stream",
     "text": [
      "Validation Loss 0.663\n"
     ]
    },
    {
     "data": {
      "application/vnd.jupyter.widget-view+json": {
       "model_id": "9531408fdffc49f2a9293762153f2a72",
       "version_major": 2,
       "version_minor": 0
      },
      "text/plain": [
       "Evaluating in validation set:   0%|          | 0/12 [00:00<?, ?it/s]"
      ]
     },
     "metadata": {},
     "output_type": "display_data"
    },
    {
     "name": "stdout",
     "output_type": "stream",
     "text": [
      "Validation Loss 0.678\n"
     ]
    },
    {
     "data": {
      "application/vnd.jupyter.widget-view+json": {
       "model_id": "17584d7285464c08b3e3369b0dde7b4d",
       "version_major": 2,
       "version_minor": 0
      },
      "text/plain": [
       "Evaluating in validation set:   0%|          | 0/12 [00:00<?, ?it/s]"
      ]
     },
     "metadata": {},
     "output_type": "display_data"
    },
    {
     "name": "stdout",
     "output_type": "stream",
     "text": [
      "Validation Loss 0.662\n"
     ]
    },
    {
     "data": {
      "application/vnd.jupyter.widget-view+json": {
       "model_id": "1c8d750d1f59459089d9f9a982703b9b",
       "version_major": 2,
       "version_minor": 0
      },
      "text/plain": [
       "Evaluating in validation set:   0%|          | 0/12 [00:00<?, ?it/s]"
      ]
     },
     "metadata": {},
     "output_type": "display_data"
    },
    {
     "name": "stdout",
     "output_type": "stream",
     "text": [
      "Validation Loss 0.927\n"
     ]
    },
    {
     "data": {
      "application/vnd.jupyter.widget-view+json": {
       "model_id": "cabe8318c8b54b2581599bd1c0390c20",
       "version_major": 2,
       "version_minor": 0
      },
      "text/plain": [
       "Evaluating in validation set:   0%|          | 0/12 [00:00<?, ?it/s]"
      ]
     },
     "metadata": {},
     "output_type": "display_data"
    },
    {
     "name": "stdout",
     "output_type": "stream",
     "text": [
      "Validation Loss 0.825\n"
     ]
    },
    {
     "data": {
      "application/vnd.jupyter.widget-view+json": {
       "model_id": "a24f6d90711f40c8bfdba4e52a38e6d4",
       "version_major": 2,
       "version_minor": 0
      },
      "text/plain": [
       "Evaluating in validation set:   0%|          | 0/12 [00:00<?, ?it/s]"
      ]
     },
     "metadata": {},
     "output_type": "display_data"
    },
    {
     "name": "stdout",
     "output_type": "stream",
     "text": [
      "Validation Loss 0.948\n"
     ]
    },
    {
     "data": {
      "application/vnd.jupyter.widget-view+json": {
       "model_id": "3182a9a0af2b4a1da286ac22b20345ec",
       "version_major": 2,
       "version_minor": 0
      },
      "text/plain": [
       "Evaluating in validation set:   0%|          | 0/12 [00:00<?, ?it/s]"
      ]
     },
     "metadata": {},
     "output_type": "display_data"
    },
    {
     "name": "stdout",
     "output_type": "stream",
     "text": [
      "Validation Loss 0.805\n"
     ]
    },
    {
     "data": {
      "application/vnd.jupyter.widget-view+json": {
       "model_id": "dfb3130a513c4cb0a411755557136264",
       "version_major": 2,
       "version_minor": 0
      },
      "text/plain": [
       "Evaluating in validation set:   0%|          | 0/12 [00:00<?, ?it/s]"
      ]
     },
     "metadata": {},
     "output_type": "display_data"
    },
    {
     "name": "stdout",
     "output_type": "stream",
     "text": [
      "Validation Loss 0.787\n"
     ]
    },
    {
     "data": {
      "application/vnd.jupyter.widget-view+json": {
       "model_id": "19fd24f5544342d19139d3e67a967c52",
       "version_major": 2,
       "version_minor": 0
      },
      "text/plain": [
       "Evaluating in validation set:   0%|          | 0/12 [00:00<?, ?it/s]"
      ]
     },
     "metadata": {},
     "output_type": "display_data"
    },
    {
     "name": "stdout",
     "output_type": "stream",
     "text": [
      "Validation Loss 0.676\n"
     ]
    },
    {
     "data": {
      "application/vnd.jupyter.widget-view+json": {
       "model_id": "cbbb7e23d41044e68612bbef9c4bd4da",
       "version_major": 2,
       "version_minor": 0
      },
      "text/plain": [
       "Evaluating in validation set:   0%|          | 0/12 [00:00<?, ?it/s]"
      ]
     },
     "metadata": {},
     "output_type": "display_data"
    },
    {
     "name": "stdout",
     "output_type": "stream",
     "text": [
      "Validation Loss 0.646\n"
     ]
    },
    {
     "data": {
      "application/vnd.jupyter.widget-view+json": {
       "model_id": "ae276705941d49b982eef721460072b1",
       "version_major": 2,
       "version_minor": 0
      },
      "text/plain": [
       "Evaluating in validation set:   0%|          | 0/12 [00:00<?, ?it/s]"
      ]
     },
     "metadata": {},
     "output_type": "display_data"
    },
    {
     "name": "stdout",
     "output_type": "stream",
     "text": [
      "Validation Loss 0.812\n"
     ]
    },
    {
     "data": {
      "application/vnd.jupyter.widget-view+json": {
       "model_id": "710198f452f64ca49164cdb73cf162d5",
       "version_major": 2,
       "version_minor": 0
      },
      "text/plain": [
       "Evaluating in validation set:   0%|          | 0/12 [00:00<?, ?it/s]"
      ]
     },
     "metadata": {},
     "output_type": "display_data"
    },
    {
     "name": "stdout",
     "output_type": "stream",
     "text": [
      "Validation Loss 0.874\n"
     ]
    },
    {
     "data": {
      "application/vnd.jupyter.widget-view+json": {
       "model_id": "e275d7a2a4cf48edbc4b1ec7b94252aa",
       "version_major": 2,
       "version_minor": 0
      },
      "text/plain": [
       "Evaluating in validation set:   0%|          | 0/12 [00:00<?, ?it/s]"
      ]
     },
     "metadata": {},
     "output_type": "display_data"
    },
    {
     "name": "stdout",
     "output_type": "stream",
     "text": [
      "Validation Loss 0.744\n"
     ]
    },
    {
     "data": {
      "application/vnd.jupyter.widget-view+json": {
       "model_id": "4993dc0ba3474d6a8a4f522daf1c3009",
       "version_major": 2,
       "version_minor": 0
      },
      "text/plain": [
       "Evaluating in validation set:   0%|          | 0/12 [00:00<?, ?it/s]"
      ]
     },
     "metadata": {},
     "output_type": "display_data"
    },
    {
     "name": "stdout",
     "output_type": "stream",
     "text": [
      "Validation Loss 0.655\n"
     ]
    },
    {
     "data": {
      "application/vnd.jupyter.widget-view+json": {
       "model_id": "5bb33591aac64ac1b3cba52e201b0273",
       "version_major": 2,
       "version_minor": 0
      },
      "text/plain": [
       "Evaluating in validation set:   0%|          | 0/12 [00:00<?, ?it/s]"
      ]
     },
     "metadata": {},
     "output_type": "display_data"
    },
    {
     "name": "stdout",
     "output_type": "stream",
     "text": [
      "Validation Loss 0.696\n"
     ]
    },
    {
     "data": {
      "application/vnd.jupyter.widget-view+json": {
       "model_id": "5156250f8a864bc5a7ee2142df0daaf0",
       "version_major": 2,
       "version_minor": 0
      },
      "text/plain": [
       "Evaluating in validation set:   0%|          | 0/12 [00:00<?, ?it/s]"
      ]
     },
     "metadata": {},
     "output_type": "display_data"
    },
    {
     "name": "stdout",
     "output_type": "stream",
     "text": [
      "Validation Loss 0.748\n"
     ]
    },
    {
     "data": {
      "application/vnd.jupyter.widget-view+json": {
       "model_id": "89117ac2852f4f169c3236ddff728931",
       "version_major": 2,
       "version_minor": 0
      },
      "text/plain": [
       "Evaluating in validation set:   0%|          | 0/12 [00:00<?, ?it/s]"
      ]
     },
     "metadata": {},
     "output_type": "display_data"
    },
    {
     "name": "stdout",
     "output_type": "stream",
     "text": [
      "Validation Loss 0.852\n"
     ]
    },
    {
     "data": {
      "application/vnd.jupyter.widget-view+json": {
       "model_id": "b725439040de4a3a9c8fbaa1b2d80a5f",
       "version_major": 2,
       "version_minor": 0
      },
      "text/plain": [
       "Evaluating in validation set:   0%|          | 0/12 [00:00<?, ?it/s]"
      ]
     },
     "metadata": {},
     "output_type": "display_data"
    },
    {
     "name": "stdout",
     "output_type": "stream",
     "text": [
      "Validation Loss 0.565\n"
     ]
    },
    {
     "data": {
      "application/vnd.jupyter.widget-view+json": {
       "model_id": "c3c09c3f73004e4a87d11c24626c3eae",
       "version_major": 2,
       "version_minor": 0
      },
      "text/plain": [
       "Evaluating in validation set:   0%|          | 0/12 [00:00<?, ?it/s]"
      ]
     },
     "metadata": {},
     "output_type": "display_data"
    },
    {
     "name": "stdout",
     "output_type": "stream",
     "text": [
      "Validation Loss 0.814\n"
     ]
    },
    {
     "data": {
      "application/vnd.jupyter.widget-view+json": {
       "model_id": "2d5a13274886419e9393ca660988ecd4",
       "version_major": 2,
       "version_minor": 0
      },
      "text/plain": [
       "Evaluating in validation set:   0%|          | 0/12 [00:00<?, ?it/s]"
      ]
     },
     "metadata": {},
     "output_type": "display_data"
    },
    {
     "name": "stdout",
     "output_type": "stream",
     "text": [
      "Validation Loss 0.705\n"
     ]
    },
    {
     "data": {
      "application/vnd.jupyter.widget-view+json": {
       "model_id": "1ffef8323f57417ba5edf8c4a126d402",
       "version_major": 2,
       "version_minor": 0
      },
      "text/plain": [
       "Evaluating in validation set:   0%|          | 0/12 [00:00<?, ?it/s]"
      ]
     },
     "metadata": {},
     "output_type": "display_data"
    },
    {
     "name": "stdout",
     "output_type": "stream",
     "text": [
      "Validation Loss 0.768\n"
     ]
    },
    {
     "data": {
      "application/vnd.jupyter.widget-view+json": {
       "model_id": "475e1798dd254ed484676ae95f0c4683",
       "version_major": 2,
       "version_minor": 0
      },
      "text/plain": [
       "Evaluating in validation set:   0%|          | 0/12 [00:00<?, ?it/s]"
      ]
     },
     "metadata": {},
     "output_type": "display_data"
    },
    {
     "name": "stdout",
     "output_type": "stream",
     "text": [
      "Validation Loss 0.766\n"
     ]
    },
    {
     "data": {
      "application/vnd.jupyter.widget-view+json": {
       "model_id": "2ad796d0a4b842c9a8aa859c655319bb",
       "version_major": 2,
       "version_minor": 0
      },
      "text/plain": [
       "Evaluating in validation set:   0%|          | 0/12 [00:00<?, ?it/s]"
      ]
     },
     "metadata": {},
     "output_type": "display_data"
    },
    {
     "name": "stdout",
     "output_type": "stream",
     "text": [
      "Validation Loss 0.822\n"
     ]
    },
    {
     "data": {
      "application/vnd.jupyter.widget-view+json": {
       "model_id": "ee10eccfd48949a7b2b067d0c5d49691",
       "version_major": 2,
       "version_minor": 0
      },
      "text/plain": [
       "Evaluating in validation set:   0%|          | 0/12 [00:00<?, ?it/s]"
      ]
     },
     "metadata": {},
     "output_type": "display_data"
    },
    {
     "name": "stdout",
     "output_type": "stream",
     "text": [
      "Validation Loss 0.751\n"
     ]
    },
    {
     "data": {
      "application/vnd.jupyter.widget-view+json": {
       "model_id": "4a66514d8b004b1faa600195147d7e36",
       "version_major": 2,
       "version_minor": 0
      },
      "text/plain": [
       "Evaluating in validation set:   0%|          | 0/12 [00:00<?, ?it/s]"
      ]
     },
     "metadata": {},
     "output_type": "display_data"
    },
    {
     "name": "stdout",
     "output_type": "stream",
     "text": [
      "Validation Loss 0.946\n"
     ]
    },
    {
     "data": {
      "application/vnd.jupyter.widget-view+json": {
       "model_id": "e7345124719443de81905cf7a02ee7f6",
       "version_major": 2,
       "version_minor": 0
      },
      "text/plain": [
       "Evaluating in validation set:   0%|          | 0/12 [00:00<?, ?it/s]"
      ]
     },
     "metadata": {},
     "output_type": "display_data"
    },
    {
     "name": "stdout",
     "output_type": "stream",
     "text": [
      "Validation Loss 0.652\n"
     ]
    },
    {
     "data": {
      "application/vnd.jupyter.widget-view+json": {
       "model_id": "4b300d9f67834a959b3c885ad58d4149",
       "version_major": 2,
       "version_minor": 0
      },
      "text/plain": [
       "Evaluating in validation set:   0%|          | 0/12 [00:00<?, ?it/s]"
      ]
     },
     "metadata": {},
     "output_type": "display_data"
    },
    {
     "name": "stdout",
     "output_type": "stream",
     "text": [
      "Validation Loss 0.815\n"
     ]
    },
    {
     "data": {
      "application/vnd.jupyter.widget-view+json": {
       "model_id": "9afa0ee7570f474c87a0fca91e3a2977",
       "version_major": 2,
       "version_minor": 0
      },
      "text/plain": [
       "Evaluating in validation set:   0%|          | 0/12 [00:00<?, ?it/s]"
      ]
     },
     "metadata": {},
     "output_type": "display_data"
    },
    {
     "name": "stdout",
     "output_type": "stream",
     "text": [
      "Validation Loss 0.807\n"
     ]
    },
    {
     "data": {
      "application/vnd.jupyter.widget-view+json": {
       "model_id": "45e71bcc9fc44b5bb917015273dcb075",
       "version_major": 2,
       "version_minor": 0
      },
      "text/plain": [
       "Evaluating in validation set:   0%|          | 0/12 [00:00<?, ?it/s]"
      ]
     },
     "metadata": {},
     "output_type": "display_data"
    },
    {
     "name": "stdout",
     "output_type": "stream",
     "text": [
      "Validation Loss 0.817\n"
     ]
    },
    {
     "data": {
      "application/vnd.jupyter.widget-view+json": {
       "model_id": "02b02d9e87a44e9dbb22fdf43890834f",
       "version_major": 2,
       "version_minor": 0
      },
      "text/plain": [
       "Evaluating in validation set:   0%|          | 0/12 [00:00<?, ?it/s]"
      ]
     },
     "metadata": {},
     "output_type": "display_data"
    },
    {
     "name": "stdout",
     "output_type": "stream",
     "text": [
      "Validation Loss 0.835\n"
     ]
    },
    {
     "data": {
      "application/vnd.jupyter.widget-view+json": {
       "model_id": "ca15b7fb0b69401e8b6f6f4de21cd240",
       "version_major": 2,
       "version_minor": 0
      },
      "text/plain": [
       "Evaluating in validation set:   0%|          | 0/12 [00:00<?, ?it/s]"
      ]
     },
     "metadata": {},
     "output_type": "display_data"
    },
    {
     "name": "stdout",
     "output_type": "stream",
     "text": [
      "Validation Loss 0.744\n"
     ]
    },
    {
     "data": {
      "application/vnd.jupyter.widget-view+json": {
       "model_id": "d0a381b4d13748549494d6534cc98856",
       "version_major": 2,
       "version_minor": 0
      },
      "text/plain": [
       "Evaluating in validation set:   0%|          | 0/12 [00:00<?, ?it/s]"
      ]
     },
     "metadata": {},
     "output_type": "display_data"
    },
    {
     "name": "stdout",
     "output_type": "stream",
     "text": [
      "Validation Loss 1.026\n"
     ]
    },
    {
     "data": {
      "application/vnd.jupyter.widget-view+json": {
       "model_id": "0c4abc018b6e4105b3d6c6547c28ffd3",
       "version_major": 2,
       "version_minor": 0
      },
      "text/plain": [
       "Evaluating in validation set:   0%|          | 0/12 [00:00<?, ?it/s]"
      ]
     },
     "metadata": {},
     "output_type": "display_data"
    },
    {
     "name": "stdout",
     "output_type": "stream",
     "text": [
      "Validation Loss 0.845\n"
     ]
    },
    {
     "data": {
      "application/vnd.jupyter.widget-view+json": {
       "model_id": "a5a04303ed9047e291d138418beec2bf",
       "version_major": 2,
       "version_minor": 0
      },
      "text/plain": [
       "Evaluating in validation set:   0%|          | 0/12 [00:00<?, ?it/s]"
      ]
     },
     "metadata": {},
     "output_type": "display_data"
    },
    {
     "name": "stdout",
     "output_type": "stream",
     "text": [
      "Validation Loss 0.706\n"
     ]
    },
    {
     "data": {
      "application/vnd.jupyter.widget-view+json": {
       "model_id": "9cf16faf7a73400793f4505f9669200d",
       "version_major": 2,
       "version_minor": 0
      },
      "text/plain": [
       "Evaluating in validation set:   0%|          | 0/12 [00:00<?, ?it/s]"
      ]
     },
     "metadata": {},
     "output_type": "display_data"
    },
    {
     "name": "stdout",
     "output_type": "stream",
     "text": [
      "Validation Loss 0.925\n"
     ]
    },
    {
     "data": {
      "application/vnd.jupyter.widget-view+json": {
       "model_id": "88de023a47104b049b20461eaac19fae",
       "version_major": 2,
       "version_minor": 0
      },
      "text/plain": [
       "Evaluating in validation set:   0%|          | 0/12 [00:00<?, ?it/s]"
      ]
     },
     "metadata": {},
     "output_type": "display_data"
    },
    {
     "name": "stdout",
     "output_type": "stream",
     "text": [
      "Validation Loss 0.659\n"
     ]
    },
    {
     "data": {
      "application/vnd.jupyter.widget-view+json": {
       "model_id": "4e1c0ad662f2444da27b0f9d7bbbffa5",
       "version_major": 2,
       "version_minor": 0
      },
      "text/plain": [
       "Evaluating in validation set:   0%|          | 0/12 [00:00<?, ?it/s]"
      ]
     },
     "metadata": {},
     "output_type": "display_data"
    },
    {
     "name": "stdout",
     "output_type": "stream",
     "text": [
      "Validation Loss 0.818\n"
     ]
    },
    {
     "data": {
      "application/vnd.jupyter.widget-view+json": {
       "model_id": "264f686d301c4790a37a3acccca60897",
       "version_major": 2,
       "version_minor": 0
      },
      "text/plain": [
       "Evaluating in validation set:   0%|          | 0/12 [00:00<?, ?it/s]"
      ]
     },
     "metadata": {},
     "output_type": "display_data"
    },
    {
     "name": "stdout",
     "output_type": "stream",
     "text": [
      "Validation Loss 0.788\n"
     ]
    },
    {
     "data": {
      "application/vnd.jupyter.widget-view+json": {
       "model_id": "f1f14b480d634189830d8e49703c72a7",
       "version_major": 2,
       "version_minor": 0
      },
      "text/plain": [
       "Evaluating in validation set:   0%|          | 0/12 [00:00<?, ?it/s]"
      ]
     },
     "metadata": {},
     "output_type": "display_data"
    },
    {
     "name": "stdout",
     "output_type": "stream",
     "text": [
      "Validation Loss 0.760\n"
     ]
    },
    {
     "data": {
      "application/vnd.jupyter.widget-view+json": {
       "model_id": "fe90281bf68646509e2251e001447713",
       "version_major": 2,
       "version_minor": 0
      },
      "text/plain": [
       "Evaluating in validation set:   0%|          | 0/12 [00:00<?, ?it/s]"
      ]
     },
     "metadata": {},
     "output_type": "display_data"
    },
    {
     "name": "stdout",
     "output_type": "stream",
     "text": [
      "Validation Loss 0.830\n"
     ]
    },
    {
     "data": {
      "application/vnd.jupyter.widget-view+json": {
       "model_id": "0e004b2cb4eb4b1696b1b774825e1bb3",
       "version_major": 2,
       "version_minor": 0
      },
      "text/plain": [
       "Evaluating in validation set:   0%|          | 0/12 [00:00<?, ?it/s]"
      ]
     },
     "metadata": {},
     "output_type": "display_data"
    },
    {
     "name": "stdout",
     "output_type": "stream",
     "text": [
      "Validation Loss 0.713\n"
     ]
    },
    {
     "data": {
      "application/vnd.jupyter.widget-view+json": {
       "model_id": "b5367e02cb6d434fb94b299dad5db922",
       "version_major": 2,
       "version_minor": 0
      },
      "text/plain": [
       "Evaluating in validation set:   0%|          | 0/12 [00:00<?, ?it/s]"
      ]
     },
     "metadata": {},
     "output_type": "display_data"
    },
    {
     "name": "stdout",
     "output_type": "stream",
     "text": [
      "Validation Loss 0.987\n"
     ]
    },
    {
     "data": {
      "application/vnd.jupyter.widget-view+json": {
       "model_id": "cb023a5b05594975b4743bd5edaabe29",
       "version_major": 2,
       "version_minor": 0
      },
      "text/plain": [
       "Evaluating in validation set:   0%|          | 0/12 [00:00<?, ?it/s]"
      ]
     },
     "metadata": {},
     "output_type": "display_data"
    },
    {
     "name": "stdout",
     "output_type": "stream",
     "text": [
      "Validation Loss 0.696\n"
     ]
    },
    {
     "data": {
      "application/vnd.jupyter.widget-view+json": {
       "model_id": "2d910ebaa5b34ecb87778954f94e2931",
       "version_major": 2,
       "version_minor": 0
      },
      "text/plain": [
       "Evaluating in validation set:   0%|          | 0/12 [00:00<?, ?it/s]"
      ]
     },
     "metadata": {},
     "output_type": "display_data"
    },
    {
     "name": "stdout",
     "output_type": "stream",
     "text": [
      "Validation Loss 0.840\n"
     ]
    },
    {
     "data": {
      "application/vnd.jupyter.widget-view+json": {
       "model_id": "ccb1aee41a904623b7ae9535274a1dba",
       "version_major": 2,
       "version_minor": 0
      },
      "text/plain": [
       "Evaluating in validation set:   0%|          | 0/12 [00:00<?, ?it/s]"
      ]
     },
     "metadata": {},
     "output_type": "display_data"
    },
    {
     "name": "stdout",
     "output_type": "stream",
     "text": [
      "Validation Loss 0.646\n"
     ]
    },
    {
     "data": {
      "application/vnd.jupyter.widget-view+json": {
       "model_id": "af0f7fa390e942e3b2bd37f0ec7a37f8",
       "version_major": 2,
       "version_minor": 0
      },
      "text/plain": [
       "Evaluating in validation set:   0%|          | 0/12 [00:00<?, ?it/s]"
      ]
     },
     "metadata": {},
     "output_type": "display_data"
    },
    {
     "name": "stdout",
     "output_type": "stream",
     "text": [
      "Validation Loss 0.794\n"
     ]
    },
    {
     "data": {
      "application/vnd.jupyter.widget-view+json": {
       "model_id": "ffb3ff76ef1f4eb58a9fdf53eb25d1e7",
       "version_major": 2,
       "version_minor": 0
      },
      "text/plain": [
       "Evaluating in validation set:   0%|          | 0/12 [00:00<?, ?it/s]"
      ]
     },
     "metadata": {},
     "output_type": "display_data"
    },
    {
     "name": "stdout",
     "output_type": "stream",
     "text": [
      "Validation Loss 0.758\n"
     ]
    },
    {
     "data": {
      "application/vnd.jupyter.widget-view+json": {
       "model_id": "4adfa0d643154e26b54ed6f451d77698",
       "version_major": 2,
       "version_minor": 0
      },
      "text/plain": [
       "Evaluating in validation set:   0%|          | 0/12 [00:00<?, ?it/s]"
      ]
     },
     "metadata": {},
     "output_type": "display_data"
    },
    {
     "name": "stdout",
     "output_type": "stream",
     "text": [
      "Validation Loss 0.685\n"
     ]
    },
    {
     "data": {
      "application/vnd.jupyter.widget-view+json": {
       "model_id": "c9d24dd28b974f56a3b110afbe905867",
       "version_major": 2,
       "version_minor": 0
      },
      "text/plain": [
       "Evaluating in validation set:   0%|          | 0/12 [00:00<?, ?it/s]"
      ]
     },
     "metadata": {},
     "output_type": "display_data"
    },
    {
     "name": "stdout",
     "output_type": "stream",
     "text": [
      "Validation Loss 0.738\n"
     ]
    },
    {
     "data": {
      "application/vnd.jupyter.widget-view+json": {
       "model_id": "289b681d1f544593b15e4765ef50e400",
       "version_major": 2,
       "version_minor": 0
      },
      "text/plain": [
       "Evaluating in validation set:   0%|          | 0/12 [00:00<?, ?it/s]"
      ]
     },
     "metadata": {},
     "output_type": "display_data"
    },
    {
     "name": "stdout",
     "output_type": "stream",
     "text": [
      "Validation Loss 0.827\n"
     ]
    },
    {
     "data": {
      "application/vnd.jupyter.widget-view+json": {
       "model_id": "6bb50cdf053d4aa5a86041e2a8940316",
       "version_major": 2,
       "version_minor": 0
      },
      "text/plain": [
       "Evaluating in validation set:   0%|          | 0/12 [00:00<?, ?it/s]"
      ]
     },
     "metadata": {},
     "output_type": "display_data"
    },
    {
     "name": "stdout",
     "output_type": "stream",
     "text": [
      "Validation Loss 0.784\n"
     ]
    },
    {
     "data": {
      "application/vnd.jupyter.widget-view+json": {
       "model_id": "2ca589d84fc54159b899e967509ff47d",
       "version_major": 2,
       "version_minor": 0
      },
      "text/plain": [
       "Evaluating in validation set:   0%|          | 0/12 [00:00<?, ?it/s]"
      ]
     },
     "metadata": {},
     "output_type": "display_data"
    },
    {
     "name": "stdout",
     "output_type": "stream",
     "text": [
      "Validation Loss 0.615\n"
     ]
    },
    {
     "data": {
      "application/vnd.jupyter.widget-view+json": {
       "model_id": "2f3adfa0efa346c9b975f251d205a9a4",
       "version_major": 2,
       "version_minor": 0
      },
      "text/plain": [
       "Evaluating in validation set:   0%|          | 0/12 [00:00<?, ?it/s]"
      ]
     },
     "metadata": {},
     "output_type": "display_data"
    },
    {
     "name": "stdout",
     "output_type": "stream",
     "text": [
      "Validation Loss 0.890\n"
     ]
    },
    {
     "data": {
      "application/vnd.jupyter.widget-view+json": {
       "model_id": "9c1cb61975a64584b0d038163fa72ef1",
       "version_major": 2,
       "version_minor": 0
      },
      "text/plain": [
       "Evaluating in validation set:   0%|          | 0/12 [00:00<?, ?it/s]"
      ]
     },
     "metadata": {},
     "output_type": "display_data"
    },
    {
     "name": "stdout",
     "output_type": "stream",
     "text": [
      "Validation Loss 0.399\n"
     ]
    },
    {
     "data": {
      "application/vnd.jupyter.widget-view+json": {
       "model_id": "54cd793c196e41f9a08e8f0cfc7d5cc5",
       "version_major": 2,
       "version_minor": 0
      },
      "text/plain": [
       "Evaluating in validation set:   0%|          | 0/12 [00:00<?, ?it/s]"
      ]
     },
     "metadata": {},
     "output_type": "display_data"
    },
    {
     "name": "stdout",
     "output_type": "stream",
     "text": [
      "Validation Loss 0.865\n",
      "TRAINING COMPLETE!\n"
     ]
    }
   ],
   "source": [
    "USE_VAE = False\n",
    "MODEL_NAME = \"polyhaven\"\n",
    "results=train_model(N_EPOCHS,tr_dl, use_vae=False, model_name=MODEL_NAME)"
   ]
  },
  {
   "cell_type": "code",
   "execution_count": 14,
   "id": "9920f52d",
   "metadata": {},
   "outputs": [
    {
     "data": {
      "image/png": "[encoded data removed]",
      "text/plain": [
       "<Figure size 1000x600 with 1 Axes>"
      ]
     },
     "metadata": {},
     "output_type": "display_data"
    }
   ],
   "source": [
    "f,ax=plt.subplots(figsize=(10,6))\n",
    "plt.plot(results['val_loss'],label=\"validation\")\n",
    "plt.plot(results['train_loss'],label=\"train\")\n",
    "plt.legend()\n",
    "plt.suptitle(\"Training & Validation Loss during fine-tuning\");"
   ]
  },
  {
   "cell_type": "markdown",
   "id": "8774da98",
   "metadata": {},
   "source": [
    "## Train on the VAE's output"
   ]
  },
  {
   "cell_type": "code",
   "execution_count": 15,
   "id": "aab8aac6",
   "metadata": {},
   "outputs": [
    {
     "name": "stdout",
     "output_type": "stream",
     "text": [
      "Using cuda:0 for training\n"
     ]
    },
    {
     "data": {
      "application/vnd.jupyter.widget-view+json": {
       "model_id": "3875498c378e455baeda028a7b1c9f5b",
       "version_major": 2,
       "version_minor": 0
      },
      "text/plain": [
       "  0%|          | 0/500 [00:00<?, ?it/s]"
      ]
     },
     "metadata": {},
     "output_type": "display_data"
    },
    {
     "data": {
      "application/vnd.jupyter.widget-view+json": {
       "model_id": "775eb5b58052436683b5c882cd2065a2",
       "version_major": 2,
       "version_minor": 0
      },
      "text/plain": [
       "Evaluating in validation set:   0%|          | 0/12 [00:00<?, ?it/s]"
      ]
     },
     "metadata": {},
     "output_type": "display_data"
    },
    {
     "name": "stdout",
     "output_type": "stream",
     "text": [
      "Validation Loss 2.581\n"
     ]
    },
    {
     "data": {
      "application/vnd.jupyter.widget-view+json": {
       "model_id": "af8fd29de9544935b407e144d44b3699",
       "version_major": 2,
       "version_minor": 0
      },
      "text/plain": [
       "Evaluating in validation set:   0%|          | 0/12 [00:00<?, ?it/s]"
      ]
     },
     "metadata": {},
     "output_type": "display_data"
    },
    {
     "name": "stdout",
     "output_type": "stream",
     "text": [
      "Validation Loss 2.685\n"
     ]
    },
    {
     "data": {
      "application/vnd.jupyter.widget-view+json": {
       "model_id": "a7cd9bfc61754596969bfb89c340c129",
       "version_major": 2,
       "version_minor": 0
      },
      "text/plain": [
       "Evaluating in validation set:   0%|          | 0/12 [00:00<?, ?it/s]"
      ]
     },
     "metadata": {},
     "output_type": "display_data"
    },
    {
     "name": "stdout",
     "output_type": "stream",
     "text": [
      "Validation Loss 2.953\n"
     ]
    },
    {
     "data": {
      "application/vnd.jupyter.widget-view+json": {
       "model_id": "9371aff91e7e4245995fc13e2dc05812",
       "version_major": 2,
       "version_minor": 0
      },
      "text/plain": [
       "Evaluating in validation set:   0%|          | 0/12 [00:00<?, ?it/s]"
      ]
     },
     "metadata": {},
     "output_type": "display_data"
    },
    {
     "name": "stdout",
     "output_type": "stream",
     "text": [
      "Validation Loss 2.477\n"
     ]
    },
    {
     "data": {
      "application/vnd.jupyter.widget-view+json": {
       "model_id": "67757bc9d0da41c7bc9e6823e7a54539",
       "version_major": 2,
       "version_minor": 0
      },
      "text/plain": [
       "Evaluating in validation set:   0%|          | 0/12 [00:00<?, ?it/s]"
      ]
     },
     "metadata": {},
     "output_type": "display_data"
    },
    {
     "name": "stdout",
     "output_type": "stream",
     "text": [
      "Validation Loss 2.649\n"
     ]
    },
    {
     "data": {
      "application/vnd.jupyter.widget-view+json": {
       "model_id": "491663a4aa674332b574ad0a83edabe2",
       "version_major": 2,
       "version_minor": 0
      },
      "text/plain": [
       "Evaluating in validation set:   0%|          | 0/12 [00:00<?, ?it/s]"
      ]
     },
     "metadata": {},
     "output_type": "display_data"
    },
    {
     "name": "stdout",
     "output_type": "stream",
     "text": [
      "Validation Loss 2.449\n"
     ]
    },
    {
     "data": {
      "application/vnd.jupyter.widget-view+json": {
       "model_id": "6278202405264c37a876d1543b8379e5",
       "version_major": 2,
       "version_minor": 0
      },
      "text/plain": [
       "Evaluating in validation set:   0%|          | 0/12 [00:00<?, ?it/s]"
      ]
     },
     "metadata": {},
     "output_type": "display_data"
    },
    {
     "name": "stdout",
     "output_type": "stream",
     "text": [
      "Validation Loss 2.283\n"
     ]
    },
    {
     "data": {
      "application/vnd.jupyter.widget-view+json": {
       "model_id": "d297da595d774e8da0600341fafd5139",
       "version_major": 2,
       "version_minor": 0
      },
      "text/plain": [
       "Evaluating in validation set:   0%|          | 0/12 [00:00<?, ?it/s]"
      ]
     },
     "metadata": {},
     "output_type": "display_data"
    },
    {
     "name": "stdout",
     "output_type": "stream",
     "text": [
      "Validation Loss 2.394\n"
     ]
    },
    {
     "data": {
      "application/vnd.jupyter.widget-view+json": {
       "model_id": "ccf43fcd24c14bfdb96d6b4efda14d5c",
       "version_major": 2,
       "version_minor": 0
      },
      "text/plain": [
       "Evaluating in validation set:   0%|          | 0/12 [00:00<?, ?it/s]"
      ]
     },
     "metadata": {},
     "output_type": "display_data"
    },
    {
     "name": "stdout",
     "output_type": "stream",
     "text": [
      "Validation Loss 2.831\n"
     ]
    },
    {
     "data": {
      "application/vnd.jupyter.widget-view+json": {
       "model_id": "2a5f15b761c144c58ce6c34cd3d24fec",
       "version_major": 2,
       "version_minor": 0
      },
      "text/plain": [
       "Evaluating in validation set:   0%|          | 0/12 [00:00<?, ?it/s]"
      ]
     },
     "metadata": {},
     "output_type": "display_data"
    },
    {
     "name": "stdout",
     "output_type": "stream",
     "text": [
      "Validation Loss 2.696\n"
     ]
    },
    {
     "data": {
      "application/vnd.jupyter.widget-view+json": {
       "model_id": "5e961ce70fff47589531a5342ab64367",
       "version_major": 2,
       "version_minor": 0
      },
      "text/plain": [
       "Evaluating in validation set:   0%|          | 0/12 [00:00<?, ?it/s]"
      ]
     },
     "metadata": {},
     "output_type": "display_data"
    },
    {
     "name": "stdout",
     "output_type": "stream",
     "text": [
      "Validation Loss 2.574\n"
     ]
    },
    {
     "data": {
      "application/vnd.jupyter.widget-view+json": {
       "model_id": "b6ce9b713bf940f78161a81ab94b291c",
       "version_major": 2,
       "version_minor": 0
      },
      "text/plain": [
       "Evaluating in validation set:   0%|          | 0/12 [00:00<?, ?it/s]"
      ]
     },
     "metadata": {},
     "output_type": "display_data"
    },
    {
     "name": "stdout",
     "output_type": "stream",
     "text": [
      "Validation Loss 2.596\n"
     ]
    },
    {
     "data": {
      "application/vnd.jupyter.widget-view+json": {
       "model_id": "f716b98f21b74c579dc3cd67edea3405",
       "version_major": 2,
       "version_minor": 0
      },
      "text/plain": [
       "Evaluating in validation set:   0%|          | 0/12 [00:00<?, ?it/s]"
      ]
     },
     "metadata": {},
     "output_type": "display_data"
    },
    {
     "name": "stdout",
     "output_type": "stream",
     "text": [
      "Validation Loss 2.369\n"
     ]
    },
    {
     "data": {
      "application/vnd.jupyter.widget-view+json": {
       "model_id": "0851fae9aca14083803885d9faf0fef2",
       "version_major": 2,
       "version_minor": 0
      },
      "text/plain": [
       "Evaluating in validation set:   0%|          | 0/12 [00:00<?, ?it/s]"
      ]
     },
     "metadata": {},
     "output_type": "display_data"
    },
    {
     "name": "stdout",
     "output_type": "stream",
     "text": [
      "Validation Loss 2.559\n"
     ]
    },
    {
     "data": {
      "application/vnd.jupyter.widget-view+json": {
       "model_id": "44430bb75863412da0da13852a2eb990",
       "version_major": 2,
       "version_minor": 0
      },
      "text/plain": [
       "Evaluating in validation set:   0%|          | 0/12 [00:00<?, ?it/s]"
      ]
     },
     "metadata": {},
     "output_type": "display_data"
    },
    {
     "name": "stdout",
     "output_type": "stream",
     "text": [
      "Validation Loss 2.367\n"
     ]
    },
    {
     "data": {
      "application/vnd.jupyter.widget-view+json": {
       "model_id": "a3f0d91720b44b7a9fc080abcc6a96c7",
       "version_major": 2,
       "version_minor": 0
      },
      "text/plain": [
       "Evaluating in validation set:   0%|          | 0/12 [00:00<?, ?it/s]"
      ]
     },
     "metadata": {},
     "output_type": "display_data"
    },
    {
     "name": "stdout",
     "output_type": "stream",
     "text": [
      "Validation Loss 2.547\n"
     ]
    },
    {
     "data": {
      "application/vnd.jupyter.widget-view+json": {
       "model_id": "ed8c80c88fa2488f916146b214b45e66",
       "version_major": 2,
       "version_minor": 0
      },
      "text/plain": [
       "Evaluating in validation set:   0%|          | 0/12 [00:00<?, ?it/s]"
      ]
     },
     "metadata": {},
     "output_type": "display_data"
    },
    {
     "name": "stdout",
     "output_type": "stream",
     "text": [
      "Validation Loss 2.682\n"
     ]
    },
    {
     "data": {
      "application/vnd.jupyter.widget-view+json": {
       "model_id": "4b2175f76de64cb797c76f291a71a991",
       "version_major": 2,
       "version_minor": 0
      },
      "text/plain": [
       "Evaluating in validation set:   0%|          | 0/12 [00:00<?, ?it/s]"
      ]
     },
     "metadata": {},
     "output_type": "display_data"
    },
    {
     "name": "stdout",
     "output_type": "stream",
     "text": [
      "Validation Loss 2.460\n"
     ]
    },
    {
     "data": {
      "application/vnd.jupyter.widget-view+json": {
       "model_id": "036f23f5d04b498eb22a0fa0005a3b34",
       "version_major": 2,
       "version_minor": 0
      },
      "text/plain": [
       "Evaluating in validation set:   0%|          | 0/12 [00:00<?, ?it/s]"
      ]
     },
     "metadata": {},
     "output_type": "display_data"
    },
    {
     "name": "stdout",
     "output_type": "stream",
     "text": [
      "Validation Loss 2.221\n"
     ]
    },
    {
     "data": {
      "application/vnd.jupyter.widget-view+json": {
       "model_id": "54b8ed48264b45788c0ce628f5eed5d4",
       "version_major": 2,
       "version_minor": 0
      },
      "text/plain": [
       "Evaluating in validation set:   0%|          | 0/12 [00:00<?, ?it/s]"
      ]
     },
     "metadata": {},
     "output_type": "display_data"
    },
    {
     "name": "stdout",
     "output_type": "stream",
     "text": [
      "Validation Loss 2.293\n"
     ]
    },
    {
     "data": {
      "application/vnd.jupyter.widget-view+json": {
       "model_id": "94ece6d4fba1438bb00035461ce0a56f",
       "version_major": 2,
       "version_minor": 0
      },
      "text/plain": [
       "Evaluating in validation set:   0%|          | 0/12 [00:00<?, ?it/s]"
      ]
     },
     "metadata": {},
     "output_type": "display_data"
    },
    {
     "name": "stdout",
     "output_type": "stream",
     "text": [
      "Validation Loss 2.592\n"
     ]
    },
    {
     "data": {
      "application/vnd.jupyter.widget-view+json": {
       "model_id": "292093d86df14546a33790cf92c77eaa",
       "version_major": 2,
       "version_minor": 0
      },
      "text/plain": [
       "Evaluating in validation set:   0%|          | 0/12 [00:00<?, ?it/s]"
      ]
     },
     "metadata": {},
     "output_type": "display_data"
    },
    {
     "name": "stdout",
     "output_type": "stream",
     "text": [
      "Validation Loss 2.335\n"
     ]
    },
    {
     "data": {
      "application/vnd.jupyter.widget-view+json": {
       "model_id": "588c753aaf8043288f5498d1b5ae54a3",
       "version_major": 2,
       "version_minor": 0
      },
      "text/plain": [
       "Evaluating in validation set:   0%|          | 0/12 [00:00<?, ?it/s]"
      ]
     },
     "metadata": {},
     "output_type": "display_data"
    },
    {
     "name": "stdout",
     "output_type": "stream",
     "text": [
      "Validation Loss 1.890\n"
     ]
    },
    {
     "data": {
      "application/vnd.jupyter.widget-view+json": {
       "model_id": "7be400841b354347a8e811a2da22dc2c",
       "version_major": 2,
       "version_minor": 0
      },
      "text/plain": [
       "Evaluating in validation set:   0%|          | 0/12 [00:00<?, ?it/s]"
      ]
     },
     "metadata": {},
     "output_type": "display_data"
    },
    {
     "name": "stdout",
     "output_type": "stream",
     "text": [
      "Validation Loss 2.194\n"
     ]
    },
    {
     "data": {
      "application/vnd.jupyter.widget-view+json": {
       "model_id": "ae9c3953df1a47e6bd8ec7fdc25d4027",
       "version_major": 2,
       "version_minor": 0
      },
      "text/plain": [
       "Evaluating in validation set:   0%|          | 0/12 [00:00<?, ?it/s]"
      ]
     },
     "metadata": {},
     "output_type": "display_data"
    },
    {
     "name": "stdout",
     "output_type": "stream",
     "text": [
      "Validation Loss 2.255\n"
     ]
    },
    {
     "data": {
      "application/vnd.jupyter.widget-view+json": {
       "model_id": "71cd237e644a4963b5c5b274d1796e67",
       "version_major": 2,
       "version_minor": 0
      },
      "text/plain": [
       "Evaluating in validation set:   0%|          | 0/12 [00:00<?, ?it/s]"
      ]
     },
     "metadata": {},
     "output_type": "display_data"
    },
    {
     "name": "stdout",
     "output_type": "stream",
     "text": [
      "Validation Loss 2.378\n"
     ]
    },
    {
     "data": {
      "application/vnd.jupyter.widget-view+json": {
       "model_id": "72e0d1a6162d48c58bce2d892a046225",
       "version_major": 2,
       "version_minor": 0
      },
      "text/plain": [
       "Evaluating in validation set:   0%|          | 0/12 [00:00<?, ?it/s]"
      ]
     },
     "metadata": {},
     "output_type": "display_data"
    },
    {
     "name": "stdout",
     "output_type": "stream",
     "text": [
      "Validation Loss 2.201\n"
     ]
    },
    {
     "data": {
      "application/vnd.jupyter.widget-view+json": {
       "model_id": "5cfee3986e2e45a8b24d264681913e05",
       "version_major": 2,
       "version_minor": 0
      },
      "text/plain": [
       "Evaluating in validation set:   0%|          | 0/12 [00:00<?, ?it/s]"
      ]
     },
     "metadata": {},
     "output_type": "display_data"
    },
    {
     "name": "stdout",
     "output_type": "stream",
     "text": [
      "Validation Loss 2.331\n"
     ]
    },
    {
     "data": {
      "application/vnd.jupyter.widget-view+json": {
       "model_id": "55f641ef89ac47b788d8fd8210a889cf",
       "version_major": 2,
       "version_minor": 0
      },
      "text/plain": [
       "Evaluating in validation set:   0%|          | 0/12 [00:00<?, ?it/s]"
      ]
     },
     "metadata": {},
     "output_type": "display_data"
    },
    {
     "name": "stdout",
     "output_type": "stream",
     "text": [
      "Validation Loss 2.462\n"
     ]
    },
    {
     "data": {
      "application/vnd.jupyter.widget-view+json": {
       "model_id": "d736abf6dcf04c03b7eba33e9133165d",
       "version_major": 2,
       "version_minor": 0
      },
      "text/plain": [
       "Evaluating in validation set:   0%|          | 0/12 [00:00<?, ?it/s]"
      ]
     },
     "metadata": {},
     "output_type": "display_data"
    },
    {
     "name": "stdout",
     "output_type": "stream",
     "text": [
      "Validation Loss 1.975\n"
     ]
    },
    {
     "data": {
      "application/vnd.jupyter.widget-view+json": {
       "model_id": "1100d588a084433e8e9aa79d90d16a3c",
       "version_major": 2,
       "version_minor": 0
      },
      "text/plain": [
       "Evaluating in validation set:   0%|          | 0/12 [00:00<?, ?it/s]"
      ]
     },
     "metadata": {},
     "output_type": "display_data"
    },
    {
     "name": "stdout",
     "output_type": "stream",
     "text": [
      "Validation Loss 2.154\n"
     ]
    },
    {
     "data": {
      "application/vnd.jupyter.widget-view+json": {
       "model_id": "2be1b8c090f246c3af9722b0cf125c24",
       "version_major": 2,
       "version_minor": 0
      },
      "text/plain": [
       "Evaluating in validation set:   0%|          | 0/12 [00:00<?, ?it/s]"
      ]
     },
     "metadata": {},
     "output_type": "display_data"
    },
    {
     "name": "stdout",
     "output_type": "stream",
     "text": [
      "Validation Loss 2.098\n"
     ]
    },
    {
     "data": {
      "application/vnd.jupyter.widget-view+json": {
       "model_id": "17cf8e41446349b285ecc8fa2dc59723",
       "version_major": 2,
       "version_minor": 0
      },
      "text/plain": [
       "Evaluating in validation set:   0%|          | 0/12 [00:00<?, ?it/s]"
      ]
     },
     "metadata": {},
     "output_type": "display_data"
    },
    {
     "name": "stdout",
     "output_type": "stream",
     "text": [
      "Validation Loss 2.023\n"
     ]
    },
    {
     "data": {
      "application/vnd.jupyter.widget-view+json": {
       "model_id": "308c2b9fc21b44ed8df3a6ca31c6fb81",
       "version_major": 2,
       "version_minor": 0
      },
      "text/plain": [
       "Evaluating in validation set:   0%|          | 0/12 [00:00<?, ?it/s]"
      ]
     },
     "metadata": {},
     "output_type": "display_data"
    },
    {
     "name": "stdout",
     "output_type": "stream",
     "text": [
      "Validation Loss 1.664\n"
     ]
    },
    {
     "data": {
      "application/vnd.jupyter.widget-view+json": {
       "model_id": "71f338b2fdc641a39b5d7f94fcb7ce1e",
       "version_major": 2,
       "version_minor": 0
      },
      "text/plain": [
       "Evaluating in validation set:   0%|          | 0/12 [00:00<?, ?it/s]"
      ]
     },
     "metadata": {},
     "output_type": "display_data"
    },
    {
     "name": "stdout",
     "output_type": "stream",
     "text": [
      "Validation Loss 1.910\n"
     ]
    },
    {
     "data": {
      "application/vnd.jupyter.widget-view+json": {
       "model_id": "df023d98c28a47398b3594e3a55c4842",
       "version_major": 2,
       "version_minor": 0
      },
      "text/plain": [
       "Evaluating in validation set:   0%|          | 0/12 [00:00<?, ?it/s]"
      ]
     },
     "metadata": {},
     "output_type": "display_data"
    },
    {
     "name": "stdout",
     "output_type": "stream",
     "text": [
      "Validation Loss 2.057\n"
     ]
    },
    {
     "data": {
      "application/vnd.jupyter.widget-view+json": {
       "model_id": "25a51e5cb5e14b67b983573c2c145d3e",
       "version_major": 2,
       "version_minor": 0
      },
      "text/plain": [
       "Evaluating in validation set:   0%|          | 0/12 [00:00<?, ?it/s]"
      ]
     },
     "metadata": {},
     "output_type": "display_data"
    },
    {
     "name": "stdout",
     "output_type": "stream",
     "text": [
      "Validation Loss 2.048\n"
     ]
    },
    {
     "data": {
      "application/vnd.jupyter.widget-view+json": {
       "model_id": "7f0189d240af4259be95ac8cf1f9c6ef",
       "version_major": 2,
       "version_minor": 0
      },
      "text/plain": [
       "Evaluating in validation set:   0%|          | 0/12 [00:00<?, ?it/s]"
      ]
     },
     "metadata": {},
     "output_type": "display_data"
    },
    {
     "name": "stdout",
     "output_type": "stream",
     "text": [
      "Validation Loss 1.588\n"
     ]
    },
    {
     "data": {
      "application/vnd.jupyter.widget-view+json": {
       "model_id": "1a172e57ef3042ddbf2bd41058aa7da0",
       "version_major": 2,
       "version_minor": 0
      },
      "text/plain": [
       "Evaluating in validation set:   0%|          | 0/12 [00:00<?, ?it/s]"
      ]
     },
     "metadata": {},
     "output_type": "display_data"
    },
    {
     "name": "stdout",
     "output_type": "stream",
     "text": [
      "Validation Loss 1.770\n"
     ]
    },
    {
     "data": {
      "application/vnd.jupyter.widget-view+json": {
       "model_id": "ebb021cba37443ea8d9c7ca74cb637ca",
       "version_major": 2,
       "version_minor": 0
      },
      "text/plain": [
       "Evaluating in validation set:   0%|          | 0/12 [00:00<?, ?it/s]"
      ]
     },
     "metadata": {},
     "output_type": "display_data"
    },
    {
     "name": "stdout",
     "output_type": "stream",
     "text": [
      "Validation Loss 1.856\n"
     ]
    },
    {
     "data": {
      "application/vnd.jupyter.widget-view+json": {
       "model_id": "e5e1bcb65de14dc79e0c3f60858e2cfd",
       "version_major": 2,
       "version_minor": 0
      },
      "text/plain": [
       "Evaluating in validation set:   0%|          | 0/12 [00:00<?, ?it/s]"
      ]
     },
     "metadata": {},
     "output_type": "display_data"
    },
    {
     "name": "stdout",
     "output_type": "stream",
     "text": [
      "Validation Loss 1.560\n"
     ]
    },
    {
     "data": {
      "application/vnd.jupyter.widget-view+json": {
       "model_id": "9e108f0a13374833a78e73cc3632eb9d",
       "version_major": 2,
       "version_minor": 0
      },
      "text/plain": [
       "Evaluating in validation set:   0%|          | 0/12 [00:00<?, ?it/s]"
      ]
     },
     "metadata": {},
     "output_type": "display_data"
    },
    {
     "name": "stdout",
     "output_type": "stream",
     "text": [
      "Validation Loss 1.991\n"
     ]
    },
    {
     "data": {
      "application/vnd.jupyter.widget-view+json": {
       "model_id": "bdf89cc1ed4d4659a043f2bbeebfd94f",
       "version_major": 2,
       "version_minor": 0
      },
      "text/plain": [
       "Evaluating in validation set:   0%|          | 0/12 [00:00<?, ?it/s]"
      ]
     },
     "metadata": {},
     "output_type": "display_data"
    },
    {
     "name": "stdout",
     "output_type": "stream",
     "text": [
      "Validation Loss 1.865\n"
     ]
    },
    {
     "data": {
      "application/vnd.jupyter.widget-view+json": {
       "model_id": "fe49e747cd194a078d995398baf9025c",
       "version_major": 2,
       "version_minor": 0
      },
      "text/plain": [
       "Evaluating in validation set:   0%|          | 0/12 [00:00<?, ?it/s]"
      ]
     },
     "metadata": {},
     "output_type": "display_data"
    },
    {
     "name": "stdout",
     "output_type": "stream",
     "text": [
      "Validation Loss 1.933\n"
     ]
    },
    {
     "data": {
      "application/vnd.jupyter.widget-view+json": {
       "model_id": "004442063b44402db8370bf8bce7264a",
       "version_major": 2,
       "version_minor": 0
      },
      "text/plain": [
       "Evaluating in validation set:   0%|          | 0/12 [00:00<?, ?it/s]"
      ]
     },
     "metadata": {},
     "output_type": "display_data"
    },
    {
     "name": "stdout",
     "output_type": "stream",
     "text": [
      "Validation Loss 1.735\n"
     ]
    },
    {
     "data": {
      "application/vnd.jupyter.widget-view+json": {
       "model_id": "b26ef0ddd7154fd698ee8a0f51db7991",
       "version_major": 2,
       "version_minor": 0
      },
      "text/plain": [
       "Evaluating in validation set:   0%|          | 0/12 [00:00<?, ?it/s]"
      ]
     },
     "metadata": {},
     "output_type": "display_data"
    },
    {
     "name": "stdout",
     "output_type": "stream",
     "text": [
      "Validation Loss 1.568\n"
     ]
    },
    {
     "data": {
      "application/vnd.jupyter.widget-view+json": {
       "model_id": "cc5eceb2fcca44f3a8fa7761dd430651",
       "version_major": 2,
       "version_minor": 0
      },
      "text/plain": [
       "Evaluating in validation set:   0%|          | 0/12 [00:00<?, ?it/s]"
      ]
     },
     "metadata": {},
     "output_type": "display_data"
    },
    {
     "name": "stdout",
     "output_type": "stream",
     "text": [
      "Validation Loss 1.614\n"
     ]
    },
    {
     "data": {
      "application/vnd.jupyter.widget-view+json": {
       "model_id": "437ff8bd944b4a21943276d0f44e1ccd",
       "version_major": 2,
       "version_minor": 0
      },
      "text/plain": [
       "Evaluating in validation set:   0%|          | 0/12 [00:00<?, ?it/s]"
      ]
     },
     "metadata": {},
     "output_type": "display_data"
    },
    {
     "name": "stdout",
     "output_type": "stream",
     "text": [
      "Validation Loss 1.832\n"
     ]
    },
    {
     "data": {
      "application/vnd.jupyter.widget-view+json": {
       "model_id": "ecef93a6d21f4792aa07487aa80301a0",
       "version_major": 2,
       "version_minor": 0
      },
      "text/plain": [
       "Evaluating in validation set:   0%|          | 0/12 [00:00<?, ?it/s]"
      ]
     },
     "metadata": {},
     "output_type": "display_data"
    },
    {
     "name": "stdout",
     "output_type": "stream",
     "text": [
      "Validation Loss 1.935\n"
     ]
    },
    {
     "data": {
      "application/vnd.jupyter.widget-view+json": {
       "model_id": "b717ae9d3c20474cb15b8142c3bad9a9",
       "version_major": 2,
       "version_minor": 0
      },
      "text/plain": [
       "Evaluating in validation set:   0%|          | 0/12 [00:00<?, ?it/s]"
      ]
     },
     "metadata": {},
     "output_type": "display_data"
    },
    {
     "name": "stdout",
     "output_type": "stream",
     "text": [
      "Validation Loss 1.819\n"
     ]
    },
    {
     "data": {
      "application/vnd.jupyter.widget-view+json": {
       "model_id": "d64df352fb6240da9610386449c99aac",
       "version_major": 2,
       "version_minor": 0
      },
      "text/plain": [
       "Evaluating in validation set:   0%|          | 0/12 [00:00<?, ?it/s]"
      ]
     },
     "metadata": {},
     "output_type": "display_data"
    },
    {
     "name": "stdout",
     "output_type": "stream",
     "text": [
      "Validation Loss 1.689\n"
     ]
    },
    {
     "data": {
      "application/vnd.jupyter.widget-view+json": {
       "model_id": "ad7368a48cd043ec99506c9c5d18e113",
       "version_major": 2,
       "version_minor": 0
      },
      "text/plain": [
       "Evaluating in validation set:   0%|          | 0/12 [00:00<?, ?it/s]"
      ]
     },
     "metadata": {},
     "output_type": "display_data"
    },
    {
     "name": "stdout",
     "output_type": "stream",
     "text": [
      "Validation Loss 1.906\n"
     ]
    },
    {
     "data": {
      "application/vnd.jupyter.widget-view+json": {
       "model_id": "354487668d954ff992f3a015e509bb8f",
       "version_major": 2,
       "version_minor": 0
      },
      "text/plain": [
       "Evaluating in validation set:   0%|          | 0/12 [00:00<?, ?it/s]"
      ]
     },
     "metadata": {},
     "output_type": "display_data"
    },
    {
     "name": "stdout",
     "output_type": "stream",
     "text": [
      "Validation Loss 1.711\n"
     ]
    },
    {
     "data": {
      "application/vnd.jupyter.widget-view+json": {
       "model_id": "65050e5aa55c482fa46054051c7dd33d",
       "version_major": 2,
       "version_minor": 0
      },
      "text/plain": [
       "Evaluating in validation set:   0%|          | 0/12 [00:00<?, ?it/s]"
      ]
     },
     "metadata": {},
     "output_type": "display_data"
    },
    {
     "name": "stdout",
     "output_type": "stream",
     "text": [
      "Validation Loss 1.680\n"
     ]
    },
    {
     "data": {
      "application/vnd.jupyter.widget-view+json": {
       "model_id": "c38df573b4954f4980aeb370fe689059",
       "version_major": 2,
       "version_minor": 0
      },
      "text/plain": [
       "Evaluating in validation set:   0%|          | 0/12 [00:00<?, ?it/s]"
      ]
     },
     "metadata": {},
     "output_type": "display_data"
    },
    {
     "name": "stdout",
     "output_type": "stream",
     "text": [
      "Validation Loss 1.478\n"
     ]
    },
    {
     "data": {
      "application/vnd.jupyter.widget-view+json": {
       "model_id": "bba6bb991d77415789ce7c0262158e7d",
       "version_major": 2,
       "version_minor": 0
      },
      "text/plain": [
       "Evaluating in validation set:   0%|          | 0/12 [00:00<?, ?it/s]"
      ]
     },
     "metadata": {},
     "output_type": "display_data"
    },
    {
     "name": "stdout",
     "output_type": "stream",
     "text": [
      "Validation Loss 1.688\n"
     ]
    },
    {
     "data": {
      "application/vnd.jupyter.widget-view+json": {
       "model_id": "d89a02023ec14d338adb9a765611e91c",
       "version_major": 2,
       "version_minor": 0
      },
      "text/plain": [
       "Evaluating in validation set:   0%|          | 0/12 [00:00<?, ?it/s]"
      ]
     },
     "metadata": {},
     "output_type": "display_data"
    },
    {
     "name": "stdout",
     "output_type": "stream",
     "text": [
      "Validation Loss 1.655\n"
     ]
    },
    {
     "data": {
      "application/vnd.jupyter.widget-view+json": {
       "model_id": "b1021857715540bd97e2bebdd38d9a86",
       "version_major": 2,
       "version_minor": 0
      },
      "text/plain": [
       "Evaluating in validation set:   0%|          | 0/12 [00:00<?, ?it/s]"
      ]
     },
     "metadata": {},
     "output_type": "display_data"
    },
    {
     "name": "stdout",
     "output_type": "stream",
     "text": [
      "Validation Loss 1.928\n"
     ]
    },
    {
     "data": {
      "application/vnd.jupyter.widget-view+json": {
       "model_id": "882d804599574fb5b4f44710444e45eb",
       "version_major": 2,
       "version_minor": 0
      },
      "text/plain": [
       "Evaluating in validation set:   0%|          | 0/12 [00:00<?, ?it/s]"
      ]
     },
     "metadata": {},
     "output_type": "display_data"
    },
    {
     "name": "stdout",
     "output_type": "stream",
     "text": [
      "Validation Loss 1.751\n"
     ]
    },
    {
     "data": {
      "application/vnd.jupyter.widget-view+json": {
       "model_id": "69b2012debb945c2b2c1f9506c9b6c17",
       "version_major": 2,
       "version_minor": 0
      },
      "text/plain": [
       "Evaluating in validation set:   0%|          | 0/12 [00:00<?, ?it/s]"
      ]
     },
     "metadata": {},
     "output_type": "display_data"
    },
    {
     "name": "stdout",
     "output_type": "stream",
     "text": [
      "Validation Loss 1.608\n"
     ]
    },
    {
     "data": {
      "application/vnd.jupyter.widget-view+json": {
       "model_id": "1107766006cd487b9dffd6a04daba5cb",
       "version_major": 2,
       "version_minor": 0
      },
      "text/plain": [
       "Evaluating in validation set:   0%|          | 0/12 [00:00<?, ?it/s]"
      ]
     },
     "metadata": {},
     "output_type": "display_data"
    },
    {
     "name": "stdout",
     "output_type": "stream",
     "text": [
      "Validation Loss 1.759\n"
     ]
    },
    {
     "data": {
      "application/vnd.jupyter.widget-view+json": {
       "model_id": "749abf392a3846f2bc64e529562de706",
       "version_major": 2,
       "version_minor": 0
      },
      "text/plain": [
       "Evaluating in validation set:   0%|          | 0/12 [00:00<?, ?it/s]"
      ]
     },
     "metadata": {},
     "output_type": "display_data"
    },
    {
     "name": "stdout",
     "output_type": "stream",
     "text": [
      "Validation Loss 1.813\n"
     ]
    },
    {
     "data": {
      "application/vnd.jupyter.widget-view+json": {
       "model_id": "aa87a1f8cdd14a4698052cd3824508c7",
       "version_major": 2,
       "version_minor": 0
      },
      "text/plain": [
       "Evaluating in validation set:   0%|          | 0/12 [00:00<?, ?it/s]"
      ]
     },
     "metadata": {},
     "output_type": "display_data"
    },
    {
     "name": "stdout",
     "output_type": "stream",
     "text": [
      "Validation Loss 1.756\n"
     ]
    },
    {
     "data": {
      "application/vnd.jupyter.widget-view+json": {
       "model_id": "2e7cecebca0b44b3a443726172c13ef5",
       "version_major": 2,
       "version_minor": 0
      },
      "text/plain": [
       "Evaluating in validation set:   0%|          | 0/12 [00:00<?, ?it/s]"
      ]
     },
     "metadata": {},
     "output_type": "display_data"
    },
    {
     "name": "stdout",
     "output_type": "stream",
     "text": [
      "Validation Loss 2.010\n"
     ]
    },
    {
     "data": {
      "application/vnd.jupyter.widget-view+json": {
       "model_id": "7fb55b1082024e9a8ae8ec67c095b6cf",
       "version_major": 2,
       "version_minor": 0
      },
      "text/plain": [
       "Evaluating in validation set:   0%|          | 0/12 [00:00<?, ?it/s]"
      ]
     },
     "metadata": {},
     "output_type": "display_data"
    },
    {
     "name": "stdout",
     "output_type": "stream",
     "text": [
      "Validation Loss 1.687\n"
     ]
    },
    {
     "data": {
      "application/vnd.jupyter.widget-view+json": {
       "model_id": "11602aaf73a64ffaa28154a5d8ec945d",
       "version_major": 2,
       "version_minor": 0
      },
      "text/plain": [
       "Evaluating in validation set:   0%|          | 0/12 [00:00<?, ?it/s]"
      ]
     },
     "metadata": {},
     "output_type": "display_data"
    },
    {
     "name": "stdout",
     "output_type": "stream",
     "text": [
      "Validation Loss 1.626\n"
     ]
    },
    {
     "data": {
      "application/vnd.jupyter.widget-view+json": {
       "model_id": "de7814eb2f5b4f0c8068c4e549680322",
       "version_major": 2,
       "version_minor": 0
      },
      "text/plain": [
       "Evaluating in validation set:   0%|          | 0/12 [00:00<?, ?it/s]"
      ]
     },
     "metadata": {},
     "output_type": "display_data"
    },
    {
     "name": "stdout",
     "output_type": "stream",
     "text": [
      "Validation Loss 1.835\n"
     ]
    },
    {
     "data": {
      "application/vnd.jupyter.widget-view+json": {
       "model_id": "deff9126c14841b69e43310d657317ca",
       "version_major": 2,
       "version_minor": 0
      },
      "text/plain": [
       "Evaluating in validation set:   0%|          | 0/12 [00:00<?, ?it/s]"
      ]
     },
     "metadata": {},
     "output_type": "display_data"
    },
    {
     "name": "stdout",
     "output_type": "stream",
     "text": [
      "Validation Loss 1.849\n"
     ]
    },
    {
     "data": {
      "application/vnd.jupyter.widget-view+json": {
       "model_id": "9f3083074ff041049af9433cb37ff743",
       "version_major": 2,
       "version_minor": 0
      },
      "text/plain": [
       "Evaluating in validation set:   0%|          | 0/12 [00:00<?, ?it/s]"
      ]
     },
     "metadata": {},
     "output_type": "display_data"
    },
    {
     "name": "stdout",
     "output_type": "stream",
     "text": [
      "Validation Loss 1.298\n"
     ]
    },
    {
     "data": {
      "application/vnd.jupyter.widget-view+json": {
       "model_id": "ba03cc8a83094127839f577a639aa771",
       "version_major": 2,
       "version_minor": 0
      },
      "text/plain": [
       "Evaluating in validation set:   0%|          | 0/12 [00:00<?, ?it/s]"
      ]
     },
     "metadata": {},
     "output_type": "display_data"
    },
    {
     "name": "stdout",
     "output_type": "stream",
     "text": [
      "Validation Loss 1.732\n"
     ]
    },
    {
     "data": {
      "application/vnd.jupyter.widget-view+json": {
       "model_id": "b0d282f9831a40db9f302a49120e26d8",
       "version_major": 2,
       "version_minor": 0
      },
      "text/plain": [
       "Evaluating in validation set:   0%|          | 0/12 [00:00<?, ?it/s]"
      ]
     },
     "metadata": {},
     "output_type": "display_data"
    },
    {
     "name": "stdout",
     "output_type": "stream",
     "text": [
      "Validation Loss 1.714\n"
     ]
    },
    {
     "data": {
      "application/vnd.jupyter.widget-view+json": {
       "model_id": "a27ac874b4f04f598a3e6c0abd62534c",
       "version_major": 2,
       "version_minor": 0
      },
      "text/plain": [
       "Evaluating in validation set:   0%|          | 0/12 [00:00<?, ?it/s]"
      ]
     },
     "metadata": {},
     "output_type": "display_data"
    },
    {
     "name": "stdout",
     "output_type": "stream",
     "text": [
      "Validation Loss 1.359\n"
     ]
    },
    {
     "data": {
      "application/vnd.jupyter.widget-view+json": {
       "model_id": "11f52ec5ff784a30844bf3db2e834bee",
       "version_major": 2,
       "version_minor": 0
      },
      "text/plain": [
       "Evaluating in validation set:   0%|          | 0/12 [00:00<?, ?it/s]"
      ]
     },
     "metadata": {},
     "output_type": "display_data"
    },
    {
     "name": "stdout",
     "output_type": "stream",
     "text": [
      "Validation Loss 1.723\n"
     ]
    },
    {
     "data": {
      "application/vnd.jupyter.widget-view+json": {
       "model_id": "85204af7c88c4a45a3a667c6ddede71d",
       "version_major": 2,
       "version_minor": 0
      },
      "text/plain": [
       "Evaluating in validation set:   0%|          | 0/12 [00:00<?, ?it/s]"
      ]
     },
     "metadata": {},
     "output_type": "display_data"
    },
    {
     "name": "stdout",
     "output_type": "stream",
     "text": [
      "Validation Loss 1.718\n"
     ]
    },
    {
     "data": {
      "application/vnd.jupyter.widget-view+json": {
       "model_id": "045f4ed0fec941b7b77552dc7070ba92",
       "version_major": 2,
       "version_minor": 0
      },
      "text/plain": [
       "Evaluating in validation set:   0%|          | 0/12 [00:00<?, ?it/s]"
      ]
     },
     "metadata": {},
     "output_type": "display_data"
    },
    {
     "name": "stdout",
     "output_type": "stream",
     "text": [
      "Validation Loss 1.678\n"
     ]
    },
    {
     "data": {
      "application/vnd.jupyter.widget-view+json": {
       "model_id": "e33fbceb9ae04a0a8bed3b6998568b3a",
       "version_major": 2,
       "version_minor": 0
      },
      "text/plain": [
       "Evaluating in validation set:   0%|          | 0/12 [00:00<?, ?it/s]"
      ]
     },
     "metadata": {},
     "output_type": "display_data"
    },
    {
     "name": "stdout",
     "output_type": "stream",
     "text": [
      "Validation Loss 1.644\n"
     ]
    },
    {
     "data": {
      "application/vnd.jupyter.widget-view+json": {
       "model_id": "01f3a67cef3f4ac9a01c7a4df735f495",
       "version_major": 2,
       "version_minor": 0
      },
      "text/plain": [
       "Evaluating in validation set:   0%|          | 0/12 [00:00<?, ?it/s]"
      ]
     },
     "metadata": {},
     "output_type": "display_data"
    },
    {
     "name": "stdout",
     "output_type": "stream",
     "text": [
      "Validation Loss 1.718\n"
     ]
    },
    {
     "data": {
      "application/vnd.jupyter.widget-view+json": {
       "model_id": "4881955c4ed34470be716be22577425c",
       "version_major": 2,
       "version_minor": 0
      },
      "text/plain": [
       "Evaluating in validation set:   0%|          | 0/12 [00:00<?, ?it/s]"
      ]
     },
     "metadata": {},
     "output_type": "display_data"
    },
    {
     "name": "stdout",
     "output_type": "stream",
     "text": [
      "Validation Loss 1.663\n"
     ]
    },
    {
     "data": {
      "application/vnd.jupyter.widget-view+json": {
       "model_id": "77159eff397149a1ac5d4e98ad8f581b",
       "version_major": 2,
       "version_minor": 0
      },
      "text/plain": [
       "Evaluating in validation set:   0%|          | 0/12 [00:00<?, ?it/s]"
      ]
     },
     "metadata": {},
     "output_type": "display_data"
    },
    {
     "name": "stdout",
     "output_type": "stream",
     "text": [
      "Validation Loss 1.652\n"
     ]
    },
    {
     "data": {
      "application/vnd.jupyter.widget-view+json": {
       "model_id": "3294bece9d364563ae547fa85360c8f1",
       "version_major": 2,
       "version_minor": 0
      },
      "text/plain": [
       "Evaluating in validation set:   0%|          | 0/12 [00:00<?, ?it/s]"
      ]
     },
     "metadata": {},
     "output_type": "display_data"
    },
    {
     "name": "stdout",
     "output_type": "stream",
     "text": [
      "Validation Loss 1.416\n"
     ]
    },
    {
     "data": {
      "application/vnd.jupyter.widget-view+json": {
       "model_id": "6631efa682944e67841dc3e569f605e3",
       "version_major": 2,
       "version_minor": 0
      },
      "text/plain": [
       "Evaluating in validation set:   0%|          | 0/12 [00:00<?, ?it/s]"
      ]
     },
     "metadata": {},
     "output_type": "display_data"
    },
    {
     "name": "stdout",
     "output_type": "stream",
     "text": [
      "Validation Loss 1.706\n"
     ]
    },
    {
     "data": {
      "application/vnd.jupyter.widget-view+json": {
       "model_id": "d9692c8c1bd241758b59252fc0ee870d",
       "version_major": 2,
       "version_minor": 0
      },
      "text/plain": [
       "Evaluating in validation set:   0%|          | 0/12 [00:00<?, ?it/s]"
      ]
     },
     "metadata": {},
     "output_type": "display_data"
    },
    {
     "name": "stdout",
     "output_type": "stream",
     "text": [
      "Validation Loss 1.618\n"
     ]
    },
    {
     "data": {
      "application/vnd.jupyter.widget-view+json": {
       "model_id": "3edc877750404cdd90b5d18c8c81f429",
       "version_major": 2,
       "version_minor": 0
      },
      "text/plain": [
       "Evaluating in validation set:   0%|          | 0/12 [00:00<?, ?it/s]"
      ]
     },
     "metadata": {},
     "output_type": "display_data"
    },
    {
     "name": "stdout",
     "output_type": "stream",
     "text": [
      "Validation Loss 1.655\n"
     ]
    },
    {
     "data": {
      "application/vnd.jupyter.widget-view+json": {
       "model_id": "2dbcf7756bd74330b80f41d08269f7a6",
       "version_major": 2,
       "version_minor": 0
      },
      "text/plain": [
       "Evaluating in validation set:   0%|          | 0/12 [00:00<?, ?it/s]"
      ]
     },
     "metadata": {},
     "output_type": "display_data"
    },
    {
     "name": "stdout",
     "output_type": "stream",
     "text": [
      "Validation Loss 1.563\n"
     ]
    },
    {
     "data": {
      "application/vnd.jupyter.widget-view+json": {
       "model_id": "478081e4732c447fb57efdfc162fbcda",
       "version_major": 2,
       "version_minor": 0
      },
      "text/plain": [
       "Evaluating in validation set:   0%|          | 0/12 [00:00<?, ?it/s]"
      ]
     },
     "metadata": {},
     "output_type": "display_data"
    },
    {
     "name": "stdout",
     "output_type": "stream",
     "text": [
      "Validation Loss 1.660\n"
     ]
    },
    {
     "data": {
      "application/vnd.jupyter.widget-view+json": {
       "model_id": "1d98467d6c6f4fbfb617f32c9d49aa28",
       "version_major": 2,
       "version_minor": 0
      },
      "text/plain": [
       "Evaluating in validation set:   0%|          | 0/12 [00:00<?, ?it/s]"
      ]
     },
     "metadata": {},
     "output_type": "display_data"
    },
    {
     "name": "stdout",
     "output_type": "stream",
     "text": [
      "Validation Loss 1.359\n"
     ]
    },
    {
     "data": {
      "application/vnd.jupyter.widget-view+json": {
       "model_id": "52da2ff74051479c8407a9a6742e376d",
       "version_major": 2,
       "version_minor": 0
      },
      "text/plain": [
       "Evaluating in validation set:   0%|          | 0/12 [00:00<?, ?it/s]"
      ]
     },
     "metadata": {},
     "output_type": "display_data"
    },
    {
     "name": "stdout",
     "output_type": "stream",
     "text": [
      "Validation Loss 1.781\n"
     ]
    },
    {
     "data": {
      "application/vnd.jupyter.widget-view+json": {
       "model_id": "9c9ddaf1a7804a7cb659000a7f0a83c3",
       "version_major": 2,
       "version_minor": 0
      },
      "text/plain": [
       "Evaluating in validation set:   0%|          | 0/12 [00:00<?, ?it/s]"
      ]
     },
     "metadata": {},
     "output_type": "display_data"
    },
    {
     "name": "stdout",
     "output_type": "stream",
     "text": [
      "Validation Loss 1.780\n"
     ]
    },
    {
     "data": {
      "application/vnd.jupyter.widget-view+json": {
       "model_id": "b039238604994470b325bb15651a8a43",
       "version_major": 2,
       "version_minor": 0
      },
      "text/plain": [
       "Evaluating in validation set:   0%|          | 0/12 [00:00<?, ?it/s]"
      ]
     },
     "metadata": {},
     "output_type": "display_data"
    },
    {
     "name": "stdout",
     "output_type": "stream",
     "text": [
      "Validation Loss 1.439\n"
     ]
    },
    {
     "data": {
      "application/vnd.jupyter.widget-view+json": {
       "model_id": "a30ac520cdca4662bb3b2429d620586f",
       "version_major": 2,
       "version_minor": 0
      },
      "text/plain": [
       "Evaluating in validation set:   0%|          | 0/12 [00:00<?, ?it/s]"
      ]
     },
     "metadata": {},
     "output_type": "display_data"
    },
    {
     "name": "stdout",
     "output_type": "stream",
     "text": [
      "Validation Loss 1.530\n"
     ]
    },
    {
     "data": {
      "application/vnd.jupyter.widget-view+json": {
       "model_id": "049633ba9c4340b7b0834adb366e7132",
       "version_major": 2,
       "version_minor": 0
      },
      "text/plain": [
       "Evaluating in validation set:   0%|          | 0/12 [00:00<?, ?it/s]"
      ]
     },
     "metadata": {},
     "output_type": "display_data"
    },
    {
     "name": "stdout",
     "output_type": "stream",
     "text": [
      "Validation Loss 1.586\n"
     ]
    },
    {
     "data": {
      "application/vnd.jupyter.widget-view+json": {
       "model_id": "547fad5b46a9403fb4feeff7f2d3bdc4",
       "version_major": 2,
       "version_minor": 0
      },
      "text/plain": [
       "Evaluating in validation set:   0%|          | 0/12 [00:00<?, ?it/s]"
      ]
     },
     "metadata": {},
     "output_type": "display_data"
    },
    {
     "name": "stdout",
     "output_type": "stream",
     "text": [
      "Validation Loss 1.702\n"
     ]
    },
    {
     "data": {
      "application/vnd.jupyter.widget-view+json": {
       "model_id": "f9b4b9a1160c40f19189bc3a27016b2f",
       "version_major": 2,
       "version_minor": 0
      },
      "text/plain": [
       "Evaluating in validation set:   0%|          | 0/12 [00:00<?, ?it/s]"
      ]
     },
     "metadata": {},
     "output_type": "display_data"
    },
    {
     "name": "stdout",
     "output_type": "stream",
     "text": [
      "Validation Loss 1.641\n"
     ]
    },
    {
     "data": {
      "application/vnd.jupyter.widget-view+json": {
       "model_id": "da0a2f59dd024a1fa8a438526937be07",
       "version_major": 2,
       "version_minor": 0
      },
      "text/plain": [
       "Evaluating in validation set:   0%|          | 0/12 [00:00<?, ?it/s]"
      ]
     },
     "metadata": {},
     "output_type": "display_data"
    },
    {
     "name": "stdout",
     "output_type": "stream",
     "text": [
      "Validation Loss 1.505\n"
     ]
    },
    {
     "data": {
      "application/vnd.jupyter.widget-view+json": {
       "model_id": "8d7fffaaf4fe42f4abd0c17f8a6bb308",
       "version_major": 2,
       "version_minor": 0
      },
      "text/plain": [
       "Evaluating in validation set:   0%|          | 0/12 [00:00<?, ?it/s]"
      ]
     },
     "metadata": {},
     "output_type": "display_data"
    },
    {
     "name": "stdout",
     "output_type": "stream",
     "text": [
      "Validation Loss 1.924\n"
     ]
    },
    {
     "data": {
      "application/vnd.jupyter.widget-view+json": {
       "model_id": "89299eb6f58845d9b5dc7e6ba9cc5e87",
       "version_major": 2,
       "version_minor": 0
      },
      "text/plain": [
       "Evaluating in validation set:   0%|          | 0/12 [00:00<?, ?it/s]"
      ]
     },
     "metadata": {},
     "output_type": "display_data"
    },
    {
     "name": "stdout",
     "output_type": "stream",
     "text": [
      "Validation Loss 1.607\n"
     ]
    },
    {
     "data": {
      "application/vnd.jupyter.widget-view+json": {
       "model_id": "d347c48f01ec47eba99ccbf17b066ba3",
       "version_major": 2,
       "version_minor": 0
      },
      "text/plain": [
       "Evaluating in validation set:   0%|          | 0/12 [00:00<?, ?it/s]"
      ]
     },
     "metadata": {},
     "output_type": "display_data"
    },
    {
     "name": "stdout",
     "output_type": "stream",
     "text": [
      "Validation Loss 1.576\n"
     ]
    },
    {
     "data": {
      "application/vnd.jupyter.widget-view+json": {
       "model_id": "1d2e85c6f91b4ccd8444d6562a03d9e8",
       "version_major": 2,
       "version_minor": 0
      },
      "text/plain": [
       "Evaluating in validation set:   0%|          | 0/12 [00:00<?, ?it/s]"
      ]
     },
     "metadata": {},
     "output_type": "display_data"
    },
    {
     "name": "stdout",
     "output_type": "stream",
     "text": [
      "Validation Loss 1.600\n"
     ]
    },
    {
     "data": {
      "application/vnd.jupyter.widget-view+json": {
       "model_id": "2a9c7755aa384f4aa70b8b96f5ddea0f",
       "version_major": 2,
       "version_minor": 0
      },
      "text/plain": [
       "Evaluating in validation set:   0%|          | 0/12 [00:00<?, ?it/s]"
      ]
     },
     "metadata": {},
     "output_type": "display_data"
    },
    {
     "name": "stdout",
     "output_type": "stream",
     "text": [
      "Validation Loss 1.913\n"
     ]
    },
    {
     "data": {
      "application/vnd.jupyter.widget-view+json": {
       "model_id": "8fbad3fe021c4ccaae395948aa7b809e",
       "version_major": 2,
       "version_minor": 0
      },
      "text/plain": [
       "Evaluating in validation set:   0%|          | 0/12 [00:00<?, ?it/s]"
      ]
     },
     "metadata": {},
     "output_type": "display_data"
    },
    {
     "name": "stdout",
     "output_type": "stream",
     "text": [
      "Validation Loss 1.631\n"
     ]
    },
    {
     "data": {
      "application/vnd.jupyter.widget-view+json": {
       "model_id": "650e34448a0a4bb0ae56727d8e3e02d5",
       "version_major": 2,
       "version_minor": 0
      },
      "text/plain": [
       "Evaluating in validation set:   0%|          | 0/12 [00:00<?, ?it/s]"
      ]
     },
     "metadata": {},
     "output_type": "display_data"
    },
    {
     "name": "stdout",
     "output_type": "stream",
     "text": [
      "Validation Loss 1.669\n"
     ]
    },
    {
     "data": {
      "application/vnd.jupyter.widget-view+json": {
       "model_id": "14d39bc5badb4e2c86d2fe41126b2092",
       "version_major": 2,
       "version_minor": 0
      },
      "text/plain": [
       "Evaluating in validation set:   0%|          | 0/12 [00:00<?, ?it/s]"
      ]
     },
     "metadata": {},
     "output_type": "display_data"
    },
    {
     "name": "stdout",
     "output_type": "stream",
     "text": [
      "Validation Loss 1.364\n"
     ]
    },
    {
     "data": {
      "application/vnd.jupyter.widget-view+json": {
       "model_id": "823f7dba4eaf47fdb86931499b05c13a",
       "version_major": 2,
       "version_minor": 0
      },
      "text/plain": [
       "Evaluating in validation set:   0%|          | 0/12 [00:00<?, ?it/s]"
      ]
     },
     "metadata": {},
     "output_type": "display_data"
    },
    {
     "name": "stdout",
     "output_type": "stream",
     "text": [
      "Validation Loss 1.634\n"
     ]
    },
    {
     "data": {
      "application/vnd.jupyter.widget-view+json": {
       "model_id": "1300e144fe5440219a0d88a97a04cbfe",
       "version_major": 2,
       "version_minor": 0
      },
      "text/plain": [
       "Evaluating in validation set:   0%|          | 0/12 [00:00<?, ?it/s]"
      ]
     },
     "metadata": {},
     "output_type": "display_data"
    },
    {
     "name": "stdout",
     "output_type": "stream",
     "text": [
      "Validation Loss 1.771\n"
     ]
    },
    {
     "data": {
      "application/vnd.jupyter.widget-view+json": {
       "model_id": "73eec8eed7d440efba17fbb7d7368db7",
       "version_major": 2,
       "version_minor": 0
      },
      "text/plain": [
       "Evaluating in validation set:   0%|          | 0/12 [00:00<?, ?it/s]"
      ]
     },
     "metadata": {},
     "output_type": "display_data"
    },
    {
     "name": "stdout",
     "output_type": "stream",
     "text": [
      "Validation Loss 1.579\n"
     ]
    },
    {
     "data": {
      "application/vnd.jupyter.widget-view+json": {
       "model_id": "5cdf7e99d75f4a1f99be868b023cd17d",
       "version_major": 2,
       "version_minor": 0
      },
      "text/plain": [
       "Evaluating in validation set:   0%|          | 0/12 [00:00<?, ?it/s]"
      ]
     },
     "metadata": {},
     "output_type": "display_data"
    },
    {
     "name": "stdout",
     "output_type": "stream",
     "text": [
      "Validation Loss 1.558\n"
     ]
    },
    {
     "data": {
      "application/vnd.jupyter.widget-view+json": {
       "model_id": "982127ea950b4a0ea1487427a8864f68",
       "version_major": 2,
       "version_minor": 0
      },
      "text/plain": [
       "Evaluating in validation set:   0%|          | 0/12 [00:00<?, ?it/s]"
      ]
     },
     "metadata": {},
     "output_type": "display_data"
    },
    {
     "name": "stdout",
     "output_type": "stream",
     "text": [
      "Validation Loss 1.515\n"
     ]
    },
    {
     "data": {
      "application/vnd.jupyter.widget-view+json": {
       "model_id": "afb8c2c8b05743b09037398949e855a9",
       "version_major": 2,
       "version_minor": 0
      },
      "text/plain": [
       "Evaluating in validation set:   0%|          | 0/12 [00:00<?, ?it/s]"
      ]
     },
     "metadata": {},
     "output_type": "display_data"
    },
    {
     "name": "stdout",
     "output_type": "stream",
     "text": [
      "Validation Loss 1.599\n"
     ]
    },
    {
     "data": {
      "application/vnd.jupyter.widget-view+json": {
       "model_id": "5046fb118b444d43afa22a9d37503ba9",
       "version_major": 2,
       "version_minor": 0
      },
      "text/plain": [
       "Evaluating in validation set:   0%|          | 0/12 [00:00<?, ?it/s]"
      ]
     },
     "metadata": {},
     "output_type": "display_data"
    },
    {
     "name": "stdout",
     "output_type": "stream",
     "text": [
      "Validation Loss 1.433\n"
     ]
    },
    {
     "data": {
      "application/vnd.jupyter.widget-view+json": {
       "model_id": "93dd5758db134ca28b1aff05727f69b4",
       "version_major": 2,
       "version_minor": 0
      },
      "text/plain": [
       "Evaluating in validation set:   0%|          | 0/12 [00:00<?, ?it/s]"
      ]
     },
     "metadata": {},
     "output_type": "display_data"
    },
    {
     "name": "stdout",
     "output_type": "stream",
     "text": [
      "Validation Loss 1.554\n"
     ]
    },
    {
     "data": {
      "application/vnd.jupyter.widget-view+json": {
       "model_id": "b89c0ffc71da49f4b706a07f159658c2",
       "version_major": 2,
       "version_minor": 0
      },
      "text/plain": [
       "Evaluating in validation set:   0%|          | 0/12 [00:00<?, ?it/s]"
      ]
     },
     "metadata": {},
     "output_type": "display_data"
    },
    {
     "name": "stdout",
     "output_type": "stream",
     "text": [
      "Validation Loss 1.653\n"
     ]
    },
    {
     "data": {
      "application/vnd.jupyter.widget-view+json": {
       "model_id": "788d4d1522f04709a87f39f2b184cf9a",
       "version_major": 2,
       "version_minor": 0
      },
      "text/plain": [
       "Evaluating in validation set:   0%|          | 0/12 [00:00<?, ?it/s]"
      ]
     },
     "metadata": {},
     "output_type": "display_data"
    },
    {
     "name": "stdout",
     "output_type": "stream",
     "text": [
      "Validation Loss 1.611\n"
     ]
    },
    {
     "data": {
      "application/vnd.jupyter.widget-view+json": {
       "model_id": "1cd1f8342c8645bc800351962b8d5a16",
       "version_major": 2,
       "version_minor": 0
      },
      "text/plain": [
       "Evaluating in validation set:   0%|          | 0/12 [00:00<?, ?it/s]"
      ]
     },
     "metadata": {},
     "output_type": "display_data"
    },
    {
     "name": "stdout",
     "output_type": "stream",
     "text": [
      "Validation Loss 2.220\n"
     ]
    },
    {
     "data": {
      "application/vnd.jupyter.widget-view+json": {
       "model_id": "039c5a957136464d88d10dfd57ba308a",
       "version_major": 2,
       "version_minor": 0
      },
      "text/plain": [
       "Evaluating in validation set:   0%|          | 0/12 [00:00<?, ?it/s]"
      ]
     },
     "metadata": {},
     "output_type": "display_data"
    },
    {
     "name": "stdout",
     "output_type": "stream",
     "text": [
      "Validation Loss 1.687\n"
     ]
    },
    {
     "data": {
      "application/vnd.jupyter.widget-view+json": {
       "model_id": "f8e97ded45a14d9a97993424cd4228ae",
       "version_major": 2,
       "version_minor": 0
      },
      "text/plain": [
       "Evaluating in validation set:   0%|          | 0/12 [00:00<?, ?it/s]"
      ]
     },
     "metadata": {},
     "output_type": "display_data"
    },
    {
     "name": "stdout",
     "output_type": "stream",
     "text": [
      "Validation Loss 1.759\n"
     ]
    },
    {
     "data": {
      "application/vnd.jupyter.widget-view+json": {
       "model_id": "5fe5d34e9c2c42f0bd6d7b435448dca5",
       "version_major": 2,
       "version_minor": 0
      },
      "text/plain": [
       "Evaluating in validation set:   0%|          | 0/12 [00:00<?, ?it/s]"
      ]
     },
     "metadata": {},
     "output_type": "display_data"
    },
    {
     "name": "stdout",
     "output_type": "stream",
     "text": [
      "Validation Loss 1.551\n"
     ]
    },
    {
     "data": {
      "application/vnd.jupyter.widget-view+json": {
       "model_id": "389cb205020c449b9298b5189348bc19",
       "version_major": 2,
       "version_minor": 0
      },
      "text/plain": [
       "Evaluating in validation set:   0%|          | 0/12 [00:00<?, ?it/s]"
      ]
     },
     "metadata": {},
     "output_type": "display_data"
    },
    {
     "name": "stdout",
     "output_type": "stream",
     "text": [
      "Validation Loss 1.725\n"
     ]
    },
    {
     "data": {
      "application/vnd.jupyter.widget-view+json": {
       "model_id": "aa4b3ec741f449c898fc0154a82d0425",
       "version_major": 2,
       "version_minor": 0
      },
      "text/plain": [
       "Evaluating in validation set:   0%|          | 0/12 [00:00<?, ?it/s]"
      ]
     },
     "metadata": {},
     "output_type": "display_data"
    },
    {
     "name": "stdout",
     "output_type": "stream",
     "text": [
      "Validation Loss 1.705\n"
     ]
    },
    {
     "data": {
      "application/vnd.jupyter.widget-view+json": {
       "model_id": "050613a11f714f91a2a1d1c3a1c27068",
       "version_major": 2,
       "version_minor": 0
      },
      "text/plain": [
       "Evaluating in validation set:   0%|          | 0/12 [00:00<?, ?it/s]"
      ]
     },
     "metadata": {},
     "output_type": "display_data"
    },
    {
     "name": "stdout",
     "output_type": "stream",
     "text": [
      "Validation Loss 1.685\n"
     ]
    },
    {
     "data": {
      "application/vnd.jupyter.widget-view+json": {
       "model_id": "4d69692145e2471f9cdff87a8fb704bd",
       "version_major": 2,
       "version_minor": 0
      },
      "text/plain": [
       "Evaluating in validation set:   0%|          | 0/12 [00:00<?, ?it/s]"
      ]
     },
     "metadata": {},
     "output_type": "display_data"
    },
    {
     "name": "stdout",
     "output_type": "stream",
     "text": [
      "Validation Loss 1.896\n"
     ]
    },
    {
     "data": {
      "application/vnd.jupyter.widget-view+json": {
       "model_id": "9ddbcf2915504c1ea90474502d00773d",
       "version_major": 2,
       "version_minor": 0
      },
      "text/plain": [
       "Evaluating in validation set:   0%|          | 0/12 [00:00<?, ?it/s]"
      ]
     },
     "metadata": {},
     "output_type": "display_data"
    },
    {
     "name": "stdout",
     "output_type": "stream",
     "text": [
      "Validation Loss 1.570\n"
     ]
    },
    {
     "data": {
      "application/vnd.jupyter.widget-view+json": {
       "model_id": "a9997a3c851c46438d21e5a79f56553b",
       "version_major": 2,
       "version_minor": 0
      },
      "text/plain": [
       "Evaluating in validation set:   0%|          | 0/12 [00:00<?, ?it/s]"
      ]
     },
     "metadata": {},
     "output_type": "display_data"
    },
    {
     "name": "stdout",
     "output_type": "stream",
     "text": [
      "Validation Loss 1.847\n"
     ]
    },
    {
     "data": {
      "application/vnd.jupyter.widget-view+json": {
       "model_id": "9b5b8bcbfe8e42f7a030d437dcbf9843",
       "version_major": 2,
       "version_minor": 0
      },
      "text/plain": [
       "Evaluating in validation set:   0%|          | 0/12 [00:00<?, ?it/s]"
      ]
     },
     "metadata": {},
     "output_type": "display_data"
    },
    {
     "name": "stdout",
     "output_type": "stream",
     "text": [
      "Validation Loss 1.621\n"
     ]
    },
    {
     "data": {
      "application/vnd.jupyter.widget-view+json": {
       "model_id": "0cccf541c8bd4969a89db18d2a9c62ae",
       "version_major": 2,
       "version_minor": 0
      },
      "text/plain": [
       "Evaluating in validation set:   0%|          | 0/12 [00:00<?, ?it/s]"
      ]
     },
     "metadata": {},
     "output_type": "display_data"
    },
    {
     "name": "stdout",
     "output_type": "stream",
     "text": [
      "Validation Loss 1.836\n"
     ]
    },
    {
     "data": {
      "application/vnd.jupyter.widget-view+json": {
       "model_id": "f4ff80d3b38848ddab06eb2877766d99",
       "version_major": 2,
       "version_minor": 0
      },
      "text/plain": [
       "Evaluating in validation set:   0%|          | 0/12 [00:00<?, ?it/s]"
      ]
     },
     "metadata": {},
     "output_type": "display_data"
    },
    {
     "name": "stdout",
     "output_type": "stream",
     "text": [
      "Validation Loss 1.546\n"
     ]
    },
    {
     "data": {
      "application/vnd.jupyter.widget-view+json": {
       "model_id": "17cbfa4624e04916a61d5ccc6dfdfccf",
       "version_major": 2,
       "version_minor": 0
      },
      "text/plain": [
       "Evaluating in validation set:   0%|          | 0/12 [00:00<?, ?it/s]"
      ]
     },
     "metadata": {},
     "output_type": "display_data"
    },
    {
     "name": "stdout",
     "output_type": "stream",
     "text": [
      "Validation Loss 1.733\n"
     ]
    },
    {
     "data": {
      "application/vnd.jupyter.widget-view+json": {
       "model_id": "196bcf920e954163a80cd41864b6f9b4",
       "version_major": 2,
       "version_minor": 0
      },
      "text/plain": [
       "Evaluating in validation set:   0%|          | 0/12 [00:00<?, ?it/s]"
      ]
     },
     "metadata": {},
     "output_type": "display_data"
    },
    {
     "name": "stdout",
     "output_type": "stream",
     "text": [
      "Validation Loss 1.645\n"
     ]
    },
    {
     "data": {
      "application/vnd.jupyter.widget-view+json": {
       "model_id": "d2c7584dfe08417ea442de000676078f",
       "version_major": 2,
       "version_minor": 0
      },
      "text/plain": [
       "Evaluating in validation set:   0%|          | 0/12 [00:00<?, ?it/s]"
      ]
     },
     "metadata": {},
     "output_type": "display_data"
    },
    {
     "name": "stdout",
     "output_type": "stream",
     "text": [
      "Validation Loss 1.473\n"
     ]
    },
    {
     "data": {
      "application/vnd.jupyter.widget-view+json": {
       "model_id": "d750d089fabf4285b5a9346a6084bc5b",
       "version_major": 2,
       "version_minor": 0
      },
      "text/plain": [
       "Evaluating in validation set:   0%|          | 0/12 [00:00<?, ?it/s]"
      ]
     },
     "metadata": {},
     "output_type": "display_data"
    },
    {
     "name": "stdout",
     "output_type": "stream",
     "text": [
      "Validation Loss 1.953\n"
     ]
    },
    {
     "data": {
      "application/vnd.jupyter.widget-view+json": {
       "model_id": "f3edc768243c499caa939844a91fde83",
       "version_major": 2,
       "version_minor": 0
      },
      "text/plain": [
       "Evaluating in validation set:   0%|          | 0/12 [00:00<?, ?it/s]"
      ]
     },
     "metadata": {},
     "output_type": "display_data"
    },
    {
     "name": "stdout",
     "output_type": "stream",
     "text": [
      "Validation Loss 1.934\n"
     ]
    },
    {
     "data": {
      "application/vnd.jupyter.widget-view+json": {
       "model_id": "9d8f2811ce08497683c4fd7a5d78a8c7",
       "version_major": 2,
       "version_minor": 0
      },
      "text/plain": [
       "Evaluating in validation set:   0%|          | 0/12 [00:00<?, ?it/s]"
      ]
     },
     "metadata": {},
     "output_type": "display_data"
    },
    {
     "name": "stdout",
     "output_type": "stream",
     "text": [
      "Validation Loss 1.840\n"
     ]
    },
    {
     "data": {
      "application/vnd.jupyter.widget-view+json": {
       "model_id": "b4b92455220743019cde98a07e5b6ecb",
       "version_major": 2,
       "version_minor": 0
      },
      "text/plain": [
       "Evaluating in validation set:   0%|          | 0/12 [00:00<?, ?it/s]"
      ]
     },
     "metadata": {},
     "output_type": "display_data"
    },
    {
     "name": "stdout",
     "output_type": "stream",
     "text": [
      "Validation Loss 1.428\n"
     ]
    },
    {
     "data": {
      "application/vnd.jupyter.widget-view+json": {
       "model_id": "37743fc26afe4c4cb04205354cbb1966",
       "version_major": 2,
       "version_minor": 0
      },
      "text/plain": [
       "Evaluating in validation set:   0%|          | 0/12 [00:00<?, ?it/s]"
      ]
     },
     "metadata": {},
     "output_type": "display_data"
    },
    {
     "name": "stdout",
     "output_type": "stream",
     "text": [
      "Validation Loss 1.744\n"
     ]
    },
    {
     "data": {
      "application/vnd.jupyter.widget-view+json": {
       "model_id": "e2414b96581e49a18d52169bc972cef0",
       "version_major": 2,
       "version_minor": 0
      },
      "text/plain": [
       "Evaluating in validation set:   0%|          | 0/12 [00:00<?, ?it/s]"
      ]
     },
     "metadata": {},
     "output_type": "display_data"
    },
    {
     "name": "stdout",
     "output_type": "stream",
     "text": [
      "Validation Loss 1.887\n"
     ]
    },
    {
     "data": {
      "application/vnd.jupyter.widget-view+json": {
       "model_id": "d7d6552d7fc246f38b776f38d1d50bb1",
       "version_major": 2,
       "version_minor": 0
      },
      "text/plain": [
       "Evaluating in validation set:   0%|          | 0/12 [00:00<?, ?it/s]"
      ]
     },
     "metadata": {},
     "output_type": "display_data"
    },
    {
     "name": "stdout",
     "output_type": "stream",
     "text": [
      "Validation Loss 1.994\n"
     ]
    },
    {
     "data": {
      "application/vnd.jupyter.widget-view+json": {
       "model_id": "f825afe960544d5ca6fed60a7e844396",
       "version_major": 2,
       "version_minor": 0
      },
      "text/plain": [
       "Evaluating in validation set:   0%|          | 0/12 [00:00<?, ?it/s]"
      ]
     },
     "metadata": {},
     "output_type": "display_data"
    },
    {
     "name": "stdout",
     "output_type": "stream",
     "text": [
      "Validation Loss 1.912\n"
     ]
    },
    {
     "data": {
      "application/vnd.jupyter.widget-view+json": {
       "model_id": "4d9827503cad404e874993aff510c088",
       "version_major": 2,
       "version_minor": 0
      },
      "text/plain": [
       "Evaluating in validation set:   0%|          | 0/12 [00:00<?, ?it/s]"
      ]
     },
     "metadata": {},
     "output_type": "display_data"
    },
    {
     "name": "stdout",
     "output_type": "stream",
     "text": [
      "Validation Loss 1.743\n"
     ]
    },
    {
     "data": {
      "application/vnd.jupyter.widget-view+json": {
       "model_id": "a9c073c95a454c218532c06d2cbe131e",
       "version_major": 2,
       "version_minor": 0
      },
      "text/plain": [
       "Evaluating in validation set:   0%|          | 0/12 [00:00<?, ?it/s]"
      ]
     },
     "metadata": {},
     "output_type": "display_data"
    },
    {
     "name": "stdout",
     "output_type": "stream",
     "text": [
      "Validation Loss 1.920\n"
     ]
    },
    {
     "data": {
      "application/vnd.jupyter.widget-view+json": {
       "model_id": "f9a37f0186fe4e1f8df133ed64addfe2",
       "version_major": 2,
       "version_minor": 0
      },
      "text/plain": [
       "Evaluating in validation set:   0%|          | 0/12 [00:00<?, ?it/s]"
      ]
     },
     "metadata": {},
     "output_type": "display_data"
    },
    {
     "name": "stdout",
     "output_type": "stream",
     "text": [
      "Validation Loss 2.014\n"
     ]
    },
    {
     "data": {
      "application/vnd.jupyter.widget-view+json": {
       "model_id": "98450dbda70d4ae68109fcbbc24d176f",
       "version_major": 2,
       "version_minor": 0
      },
      "text/plain": [
       "Evaluating in validation set:   0%|          | 0/12 [00:00<?, ?it/s]"
      ]
     },
     "metadata": {},
     "output_type": "display_data"
    },
    {
     "name": "stdout",
     "output_type": "stream",
     "text": [
      "Validation Loss 2.109\n"
     ]
    },
    {
     "data": {
      "application/vnd.jupyter.widget-view+json": {
       "model_id": "d61bc1c5c4de452183949c32e5d56e9d",
       "version_major": 2,
       "version_minor": 0
      },
      "text/plain": [
       "Evaluating in validation set:   0%|          | 0/12 [00:00<?, ?it/s]"
      ]
     },
     "metadata": {},
     "output_type": "display_data"
    },
    {
     "name": "stdout",
     "output_type": "stream",
     "text": [
      "Validation Loss 2.018\n"
     ]
    },
    {
     "data": {
      "application/vnd.jupyter.widget-view+json": {
       "model_id": "15166de88767451bb1b24d9bd53a19d4",
       "version_major": 2,
       "version_minor": 0
      },
      "text/plain": [
       "Evaluating in validation set:   0%|          | 0/12 [00:00<?, ?it/s]"
      ]
     },
     "metadata": {},
     "output_type": "display_data"
    },
    {
     "name": "stdout",
     "output_type": "stream",
     "text": [
      "Validation Loss 1.729\n"
     ]
    },
    {
     "data": {
      "application/vnd.jupyter.widget-view+json": {
       "model_id": "9f0c3be77ac34f5ab1fa8488aeba78ad",
       "version_major": 2,
       "version_minor": 0
      },
      "text/plain": [
       "Evaluating in validation set:   0%|          | 0/12 [00:00<?, ?it/s]"
      ]
     },
     "metadata": {},
     "output_type": "display_data"
    },
    {
     "name": "stdout",
     "output_type": "stream",
     "text": [
      "Validation Loss 2.072\n"
     ]
    },
    {
     "data": {
      "application/vnd.jupyter.widget-view+json": {
       "model_id": "480d867f6f1d4404940b23b7d1cafb1a",
       "version_major": 2,
       "version_minor": 0
      },
      "text/plain": [
       "Evaluating in validation set:   0%|          | 0/12 [00:00<?, ?it/s]"
      ]
     },
     "metadata": {},
     "output_type": "display_data"
    },
    {
     "name": "stdout",
     "output_type": "stream",
     "text": [
      "Validation Loss 1.506\n"
     ]
    },
    {
     "data": {
      "application/vnd.jupyter.widget-view+json": {
       "model_id": "e04d229350e9484eaa60c607e7e0957f",
       "version_major": 2,
       "version_minor": 0
      },
      "text/plain": [
       "Evaluating in validation set:   0%|          | 0/12 [00:00<?, ?it/s]"
      ]
     },
     "metadata": {},
     "output_type": "display_data"
    },
    {
     "name": "stdout",
     "output_type": "stream",
     "text": [
      "Validation Loss 2.058\n"
     ]
    },
    {
     "data": {
      "application/vnd.jupyter.widget-view+json": {
       "model_id": "deb080571eb04bcb91f6a7f375363a12",
       "version_major": 2,
       "version_minor": 0
      },
      "text/plain": [
       "Evaluating in validation set:   0%|          | 0/12 [00:00<?, ?it/s]"
      ]
     },
     "metadata": {},
     "output_type": "display_data"
    },
    {
     "name": "stdout",
     "output_type": "stream",
     "text": [
      "Validation Loss 1.738\n"
     ]
    },
    {
     "data": {
      "application/vnd.jupyter.widget-view+json": {
       "model_id": "117cd638887c4c1fb319eb5aae52756f",
       "version_major": 2,
       "version_minor": 0
      },
      "text/plain": [
       "Evaluating in validation set:   0%|          | 0/12 [00:00<?, ?it/s]"
      ]
     },
     "metadata": {},
     "output_type": "display_data"
    },
    {
     "name": "stdout",
     "output_type": "stream",
     "text": [
      "Validation Loss 2.153\n"
     ]
    },
    {
     "data": {
      "application/vnd.jupyter.widget-view+json": {
       "model_id": "2097f73f6e68458b8e796b68103ff8cc",
       "version_major": 2,
       "version_minor": 0
      },
      "text/plain": [
       "Evaluating in validation set:   0%|          | 0/12 [00:00<?, ?it/s]"
      ]
     },
     "metadata": {},
     "output_type": "display_data"
    },
    {
     "name": "stdout",
     "output_type": "stream",
     "text": [
      "Validation Loss 1.701\n"
     ]
    },
    {
     "data": {
      "application/vnd.jupyter.widget-view+json": {
       "model_id": "ca0fef5ce0384a12b9f6ab58e273f7c6",
       "version_major": 2,
       "version_minor": 0
      },
      "text/plain": [
       "Evaluating in validation set:   0%|          | 0/12 [00:00<?, ?it/s]"
      ]
     },
     "metadata": {},
     "output_type": "display_data"
    },
    {
     "name": "stdout",
     "output_type": "stream",
     "text": [
      "Validation Loss 1.804\n"
     ]
    },
    {
     "data": {
      "application/vnd.jupyter.widget-view+json": {
       "model_id": "0b0bf10bba9447038b85785592341f76",
       "version_major": 2,
       "version_minor": 0
      },
      "text/plain": [
       "Evaluating in validation set:   0%|          | 0/12 [00:00<?, ?it/s]"
      ]
     },
     "metadata": {},
     "output_type": "display_data"
    },
    {
     "name": "stdout",
     "output_type": "stream",
     "text": [
      "Validation Loss 2.173\n"
     ]
    },
    {
     "data": {
      "application/vnd.jupyter.widget-view+json": {
       "model_id": "bfe669d9c49b495c8f5742a204b7ec8a",
       "version_major": 2,
       "version_minor": 0
      },
      "text/plain": [
       "Evaluating in validation set:   0%|          | 0/12 [00:00<?, ?it/s]"
      ]
     },
     "metadata": {},
     "output_type": "display_data"
    },
    {
     "name": "stdout",
     "output_type": "stream",
     "text": [
      "Validation Loss 2.044\n"
     ]
    },
    {
     "data": {
      "application/vnd.jupyter.widget-view+json": {
       "model_id": "aa77ce714e364908829ec3be896fa048",
       "version_major": 2,
       "version_minor": 0
      },
      "text/plain": [
       "Evaluating in validation set:   0%|          | 0/12 [00:00<?, ?it/s]"
      ]
     },
     "metadata": {},
     "output_type": "display_data"
    },
    {
     "name": "stdout",
     "output_type": "stream",
     "text": [
      "Validation Loss 2.007\n"
     ]
    },
    {
     "data": {
      "application/vnd.jupyter.widget-view+json": {
       "model_id": "640084364d4e472e91a36efbd2c12c48",
       "version_major": 2,
       "version_minor": 0
      },
      "text/plain": [
       "Evaluating in validation set:   0%|          | 0/12 [00:00<?, ?it/s]"
      ]
     },
     "metadata": {},
     "output_type": "display_data"
    },
    {
     "name": "stdout",
     "output_type": "stream",
     "text": [
      "Validation Loss 2.062\n"
     ]
    },
    {
     "data": {
      "application/vnd.jupyter.widget-view+json": {
       "model_id": "2d2d9c4b238f4e05bbe79e567ee5465c",
       "version_major": 2,
       "version_minor": 0
      },
      "text/plain": [
       "Evaluating in validation set:   0%|          | 0/12 [00:00<?, ?it/s]"
      ]
     },
     "metadata": {},
     "output_type": "display_data"
    },
    {
     "name": "stdout",
     "output_type": "stream",
     "text": [
      "Validation Loss 1.918\n"
     ]
    },
    {
     "data": {
      "application/vnd.jupyter.widget-view+json": {
       "model_id": "4a62ac91681344f797b43e8501a378ba",
       "version_major": 2,
       "version_minor": 0
      },
      "text/plain": [
       "Evaluating in validation set:   0%|          | 0/12 [00:00<?, ?it/s]"
      ]
     },
     "metadata": {},
     "output_type": "display_data"
    },
    {
     "name": "stdout",
     "output_type": "stream",
     "text": [
      "Validation Loss 1.600\n"
     ]
    },
    {
     "data": {
      "application/vnd.jupyter.widget-view+json": {
       "model_id": "51bbc09703e4429caaabb996e5b60f34",
       "version_major": 2,
       "version_minor": 0
      },
      "text/plain": [
       "Evaluating in validation set:   0%|          | 0/12 [00:00<?, ?it/s]"
      ]
     },
     "metadata": {},
     "output_type": "display_data"
    },
    {
     "name": "stdout",
     "output_type": "stream",
     "text": [
      "Validation Loss 2.060\n"
     ]
    },
    {
     "data": {
      "application/vnd.jupyter.widget-view+json": {
       "model_id": "1f5d70404c1a46a5ac1afb96cf71b883",
       "version_major": 2,
       "version_minor": 0
      },
      "text/plain": [
       "Evaluating in validation set:   0%|          | 0/12 [00:00<?, ?it/s]"
      ]
     },
     "metadata": {},
     "output_type": "display_data"
    },
    {
     "name": "stdout",
     "output_type": "stream",
     "text": [
      "Validation Loss 1.760\n"
     ]
    },
    {
     "data": {
      "application/vnd.jupyter.widget-view+json": {
       "model_id": "408755835ab444d6861a6bf782702ece",
       "version_major": 2,
       "version_minor": 0
      },
      "text/plain": [
       "Evaluating in validation set:   0%|          | 0/12 [00:00<?, ?it/s]"
      ]
     },
     "metadata": {},
     "output_type": "display_data"
    },
    {
     "name": "stdout",
     "output_type": "stream",
     "text": [
      "Validation Loss 1.785\n"
     ]
    },
    {
     "data": {
      "application/vnd.jupyter.widget-view+json": {
       "model_id": "6c8cffb06ac6425bbc691d6fcd35d91f",
       "version_major": 2,
       "version_minor": 0
      },
      "text/plain": [
       "Evaluating in validation set:   0%|          | 0/12 [00:00<?, ?it/s]"
      ]
     },
     "metadata": {},
     "output_type": "display_data"
    },
    {
     "name": "stdout",
     "output_type": "stream",
     "text": [
      "Validation Loss 2.010\n"
     ]
    },
    {
     "data": {
      "application/vnd.jupyter.widget-view+json": {
       "model_id": "4f9d1670ad6245b4981eb11f1f812840",
       "version_major": 2,
       "version_minor": 0
      },
      "text/plain": [
       "Evaluating in validation set:   0%|          | 0/12 [00:00<?, ?it/s]"
      ]
     },
     "metadata": {},
     "output_type": "display_data"
    },
    {
     "name": "stdout",
     "output_type": "stream",
     "text": [
      "Validation Loss 1.884\n"
     ]
    },
    {
     "data": {
      "application/vnd.jupyter.widget-view+json": {
       "model_id": "c06a80ec92c14a04917a170ea9ee14c1",
       "version_major": 2,
       "version_minor": 0
      },
      "text/plain": [
       "Evaluating in validation set:   0%|          | 0/12 [00:00<?, ?it/s]"
      ]
     },
     "metadata": {},
     "output_type": "display_data"
    },
    {
     "name": "stdout",
     "output_type": "stream",
     "text": [
      "Validation Loss 1.610\n"
     ]
    },
    {
     "data": {
      "application/vnd.jupyter.widget-view+json": {
       "model_id": "26e94847472a4b6aa0eca8bccddaa633",
       "version_major": 2,
       "version_minor": 0
      },
      "text/plain": [
       "Evaluating in validation set:   0%|          | 0/12 [00:00<?, ?it/s]"
      ]
     },
     "metadata": {},
     "output_type": "display_data"
    },
    {
     "name": "stdout",
     "output_type": "stream",
     "text": [
      "Validation Loss 1.685\n"
     ]
    },
    {
     "data": {
      "application/vnd.jupyter.widget-view+json": {
       "model_id": "66f890cab3af47528c6ac3456d7631bd",
       "version_major": 2,
       "version_minor": 0
      },
      "text/plain": [
       "Evaluating in validation set:   0%|          | 0/12 [00:00<?, ?it/s]"
      ]
     },
     "metadata": {},
     "output_type": "display_data"
    },
    {
     "name": "stdout",
     "output_type": "stream",
     "text": [
      "Validation Loss 1.551\n"
     ]
    },
    {
     "data": {
      "application/vnd.jupyter.widget-view+json": {
       "model_id": "dad53c8797dd46acbe0911fcc43a3096",
       "version_major": 2,
       "version_minor": 0
      },
      "text/plain": [
       "Evaluating in validation set:   0%|          | 0/12 [00:00<?, ?it/s]"
      ]
     },
     "metadata": {},
     "output_type": "display_data"
    },
    {
     "name": "stdout",
     "output_type": "stream",
     "text": [
      "Validation Loss 1.596\n"
     ]
    },
    {
     "data": {
      "application/vnd.jupyter.widget-view+json": {
       "model_id": "79f89f886c6c496fb84bd204d01c5515",
       "version_major": 2,
       "version_minor": 0
      },
      "text/plain": [
       "Evaluating in validation set:   0%|          | 0/12 [00:00<?, ?it/s]"
      ]
     },
     "metadata": {},
     "output_type": "display_data"
    },
    {
     "name": "stdout",
     "output_type": "stream",
     "text": [
      "Validation Loss 1.398\n"
     ]
    },
    {
     "data": {
      "application/vnd.jupyter.widget-view+json": {
       "model_id": "a9ee7e8462d143a98532dff9f73417f8",
       "version_major": 2,
       "version_minor": 0
      },
      "text/plain": [
       "Evaluating in validation set:   0%|          | 0/12 [00:00<?, ?it/s]"
      ]
     },
     "metadata": {},
     "output_type": "display_data"
    },
    {
     "name": "stdout",
     "output_type": "stream",
     "text": [
      "Validation Loss 2.211\n"
     ]
    },
    {
     "data": {
      "application/vnd.jupyter.widget-view+json": {
       "model_id": "2fcfa4e5080e404fafae84924ab8effc",
       "version_major": 2,
       "version_minor": 0
      },
      "text/plain": [
       "Evaluating in validation set:   0%|          | 0/12 [00:00<?, ?it/s]"
      ]
     },
     "metadata": {},
     "output_type": "display_data"
    },
    {
     "name": "stdout",
     "output_type": "stream",
     "text": [
      "Validation Loss 1.590\n"
     ]
    },
    {
     "data": {
      "application/vnd.jupyter.widget-view+json": {
       "model_id": "8fe78279023f4715aad4900d6d158433",
       "version_major": 2,
       "version_minor": 0
      },
      "text/plain": [
       "Evaluating in validation set:   0%|          | 0/12 [00:00<?, ?it/s]"
      ]
     },
     "metadata": {},
     "output_type": "display_data"
    },
    {
     "name": "stdout",
     "output_type": "stream",
     "text": [
      "Validation Loss 1.478\n"
     ]
    },
    {
     "data": {
      "application/vnd.jupyter.widget-view+json": {
       "model_id": "d9ee878c19bb409e9216717690430fc7",
       "version_major": 2,
       "version_minor": 0
      },
      "text/plain": [
       "Evaluating in validation set:   0%|          | 0/12 [00:00<?, ?it/s]"
      ]
     },
     "metadata": {},
     "output_type": "display_data"
    },
    {
     "name": "stdout",
     "output_type": "stream",
     "text": [
      "Validation Loss 1.755\n"
     ]
    },
    {
     "data": {
      "application/vnd.jupyter.widget-view+json": {
       "model_id": "2d736cda8b5b4c80a83dfaaba48ff4ce",
       "version_major": 2,
       "version_minor": 0
      },
      "text/plain": [
       "Evaluating in validation set:   0%|          | 0/12 [00:00<?, ?it/s]"
      ]
     },
     "metadata": {},
     "output_type": "display_data"
    },
    {
     "name": "stdout",
     "output_type": "stream",
     "text": [
      "Validation Loss 1.661\n"
     ]
    },
    {
     "data": {
      "application/vnd.jupyter.widget-view+json": {
       "model_id": "e66d4a6566e646808fbd5753075f6fc2",
       "version_major": 2,
       "version_minor": 0
      },
      "text/plain": [
       "Evaluating in validation set:   0%|          | 0/12 [00:00<?, ?it/s]"
      ]
     },
     "metadata": {},
     "output_type": "display_data"
    },
    {
     "name": "stdout",
     "output_type": "stream",
     "text": [
      "Validation Loss 1.568\n"
     ]
    },
    {
     "data": {
      "application/vnd.jupyter.widget-view+json": {
       "model_id": "c1b34e7fd6364a7c8fbfb93df7f445b8",
       "version_major": 2,
       "version_minor": 0
      },
      "text/plain": [
       "Evaluating in validation set:   0%|          | 0/12 [00:00<?, ?it/s]"
      ]
     },
     "metadata": {},
     "output_type": "display_data"
    },
    {
     "name": "stdout",
     "output_type": "stream",
     "text": [
      "Validation Loss 1.596\n"
     ]
    },
    {
     "data": {
      "application/vnd.jupyter.widget-view+json": {
       "model_id": "83f5047056e245c0be6ea91be1b46a73",
       "version_major": 2,
       "version_minor": 0
      },
      "text/plain": [
       "Evaluating in validation set:   0%|          | 0/12 [00:00<?, ?it/s]"
      ]
     },
     "metadata": {},
     "output_type": "display_data"
    },
    {
     "name": "stdout",
     "output_type": "stream",
     "text": [
      "Validation Loss 1.780\n"
     ]
    },
    {
     "data": {
      "application/vnd.jupyter.widget-view+json": {
       "model_id": "7f3419d0fe8042b1869ca5d01297b0b9",
       "version_major": 2,
       "version_minor": 0
      },
      "text/plain": [
       "Evaluating in validation set:   0%|          | 0/12 [00:00<?, ?it/s]"
      ]
     },
     "metadata": {},
     "output_type": "display_data"
    },
    {
     "name": "stdout",
     "output_type": "stream",
     "text": [
      "Validation Loss 1.668\n"
     ]
    },
    {
     "data": {
      "application/vnd.jupyter.widget-view+json": {
       "model_id": "8ddbd4338e6a4d8c9e8d1f9bd6518daa",
       "version_major": 2,
       "version_minor": 0
      },
      "text/plain": [
       "Evaluating in validation set:   0%|          | 0/12 [00:00<?, ?it/s]"
      ]
     },
     "metadata": {},
     "output_type": "display_data"
    },
    {
     "name": "stdout",
     "output_type": "stream",
     "text": [
      "Validation Loss 1.971\n"
     ]
    },
    {
     "data": {
      "application/vnd.jupyter.widget-view+json": {
       "model_id": "06fd6dd37cac432b97cd57c5adad03ac",
       "version_major": 2,
       "version_minor": 0
      },
      "text/plain": [
       "Evaluating in validation set:   0%|          | 0/12 [00:00<?, ?it/s]"
      ]
     },
     "metadata": {},
     "output_type": "display_data"
    },
    {
     "name": "stdout",
     "output_type": "stream",
     "text": [
      "Validation Loss 1.826\n"
     ]
    },
    {
     "data": {
      "application/vnd.jupyter.widget-view+json": {
       "model_id": "59b851af3b4d4c7eb1c8b15b80e0616e",
       "version_major": 2,
       "version_minor": 0
      },
      "text/plain": [
       "Evaluating in validation set:   0%|          | 0/12 [00:00<?, ?it/s]"
      ]
     },
     "metadata": {},
     "output_type": "display_data"
    },
    {
     "name": "stdout",
     "output_type": "stream",
     "text": [
      "Validation Loss 2.096\n"
     ]
    },
    {
     "data": {
      "application/vnd.jupyter.widget-view+json": {
       "model_id": "63fd9d8051aa43018edbca3692c9a02d",
       "version_major": 2,
       "version_minor": 0
      },
      "text/plain": [
       "Evaluating in validation set:   0%|          | 0/12 [00:00<?, ?it/s]"
      ]
     },
     "metadata": {},
     "output_type": "display_data"
    },
    {
     "name": "stdout",
     "output_type": "stream",
     "text": [
      "Validation Loss 2.160\n"
     ]
    },
    {
     "data": {
      "application/vnd.jupyter.widget-view+json": {
       "model_id": "231f37a9124e45ee8cb473140068848b",
       "version_major": 2,
       "version_minor": 0
      },
      "text/plain": [
       "Evaluating in validation set:   0%|          | 0/12 [00:00<?, ?it/s]"
      ]
     },
     "metadata": {},
     "output_type": "display_data"
    },
    {
     "name": "stdout",
     "output_type": "stream",
     "text": [
      "Validation Loss 1.694\n"
     ]
    },
    {
     "data": {
      "application/vnd.jupyter.widget-view+json": {
       "model_id": "3013b2b7257f4c188dd9b00e2f2b4c99",
       "version_major": 2,
       "version_minor": 0
      },
      "text/plain": [
       "Evaluating in validation set:   0%|          | 0/12 [00:00<?, ?it/s]"
      ]
     },
     "metadata": {},
     "output_type": "display_data"
    },
    {
     "name": "stdout",
     "output_type": "stream",
     "text": [
      "Validation Loss 1.867\n"
     ]
    },
    {
     "data": {
      "application/vnd.jupyter.widget-view+json": {
       "model_id": "25463a22b1c84d7bb851cfbc22bdf06b",
       "version_major": 2,
       "version_minor": 0
      },
      "text/plain": [
       "Evaluating in validation set:   0%|          | 0/12 [00:00<?, ?it/s]"
      ]
     },
     "metadata": {},
     "output_type": "display_data"
    },
    {
     "name": "stdout",
     "output_type": "stream",
     "text": [
      "Validation Loss 1.473\n"
     ]
    },
    {
     "data": {
      "application/vnd.jupyter.widget-view+json": {
       "model_id": "b5a3cb56b0ef469a92641b026b319d5d",
       "version_major": 2,
       "version_minor": 0
      },
      "text/plain": [
       "Evaluating in validation set:   0%|          | 0/12 [00:00<?, ?it/s]"
      ]
     },
     "metadata": {},
     "output_type": "display_data"
    },
    {
     "name": "stdout",
     "output_type": "stream",
     "text": [
      "Validation Loss 1.443\n"
     ]
    },
    {
     "data": {
      "application/vnd.jupyter.widget-view+json": {
       "model_id": "9266001566e94d63b950204da6997cad",
       "version_major": 2,
       "version_minor": 0
      },
      "text/plain": [
       "Evaluating in validation set:   0%|          | 0/12 [00:00<?, ?it/s]"
      ]
     },
     "metadata": {},
     "output_type": "display_data"
    },
    {
     "name": "stdout",
     "output_type": "stream",
     "text": [
      "Validation Loss 1.901\n"
     ]
    },
    {
     "data": {
      "application/vnd.jupyter.widget-view+json": {
       "model_id": "f2af3894cfeb4227b0ef5d7f468ee235",
       "version_major": 2,
       "version_minor": 0
      },
      "text/plain": [
       "Evaluating in validation set:   0%|          | 0/12 [00:00<?, ?it/s]"
      ]
     },
     "metadata": {},
     "output_type": "display_data"
    },
    {
     "name": "stdout",
     "output_type": "stream",
     "text": [
      "Validation Loss 1.759\n"
     ]
    },
    {
     "data": {
      "application/vnd.jupyter.widget-view+json": {
       "model_id": "0ee70004a175414aacd168d728ec31a5",
       "version_major": 2,
       "version_minor": 0
      },
      "text/plain": [
       "Evaluating in validation set:   0%|          | 0/12 [00:00<?, ?it/s]"
      ]
     },
     "metadata": {},
     "output_type": "display_data"
    },
    {
     "name": "stdout",
     "output_type": "stream",
     "text": [
      "Validation Loss 1.747\n"
     ]
    },
    {
     "data": {
      "application/vnd.jupyter.widget-view+json": {
       "model_id": "73672236dbcc419bb9f41f6f60635e07",
       "version_major": 2,
       "version_minor": 0
      },
      "text/plain": [
       "Evaluating in validation set:   0%|          | 0/12 [00:00<?, ?it/s]"
      ]
     },
     "metadata": {},
     "output_type": "display_data"
    },
    {
     "name": "stdout",
     "output_type": "stream",
     "text": [
      "Validation Loss 1.767\n"
     ]
    },
    {
     "data": {
      "application/vnd.jupyter.widget-view+json": {
       "model_id": "9cccd4fda3344bb390a7effa1dbcf7df",
       "version_major": 2,
       "version_minor": 0
      },
      "text/plain": [
       "Evaluating in validation set:   0%|          | 0/12 [00:00<?, ?it/s]"
      ]
     },
     "metadata": {},
     "output_type": "display_data"
    },
    {
     "name": "stdout",
     "output_type": "stream",
     "text": [
      "Validation Loss 1.767\n"
     ]
    },
    {
     "data": {
      "application/vnd.jupyter.widget-view+json": {
       "model_id": "6542c471bffc4d6baf0abe92581bf7f6",
       "version_major": 2,
       "version_minor": 0
      },
      "text/plain": [
       "Evaluating in validation set:   0%|          | 0/12 [00:00<?, ?it/s]"
      ]
     },
     "metadata": {},
     "output_type": "display_data"
    },
    {
     "name": "stdout",
     "output_type": "stream",
     "text": [
      "Validation Loss 1.889\n"
     ]
    },
    {
     "data": {
      "application/vnd.jupyter.widget-view+json": {
       "model_id": "2c67550ccdb244acbf1dc0cbae1d761e",
       "version_major": 2,
       "version_minor": 0
      },
      "text/plain": [
       "Evaluating in validation set:   0%|          | 0/12 [00:00<?, ?it/s]"
      ]
     },
     "metadata": {},
     "output_type": "display_data"
    },
    {
     "name": "stdout",
     "output_type": "stream",
     "text": [
      "Validation Loss 1.933\n"
     ]
    },
    {
     "data": {
      "application/vnd.jupyter.widget-view+json": {
       "model_id": "cd0f3ba8008b430aa77f63b7cab7f587",
       "version_major": 2,
       "version_minor": 0
      },
      "text/plain": [
       "Evaluating in validation set:   0%|          | 0/12 [00:00<?, ?it/s]"
      ]
     },
     "metadata": {},
     "output_type": "display_data"
    },
    {
     "name": "stdout",
     "output_type": "stream",
     "text": [
      "Validation Loss 1.762\n"
     ]
    },
    {
     "data": {
      "application/vnd.jupyter.widget-view+json": {
       "model_id": "e43acf910f1f4c48bc4988c57a9c86be",
       "version_major": 2,
       "version_minor": 0
      },
      "text/plain": [
       "Evaluating in validation set:   0%|          | 0/12 [00:00<?, ?it/s]"
      ]
     },
     "metadata": {},
     "output_type": "display_data"
    },
    {
     "name": "stdout",
     "output_type": "stream",
     "text": [
      "Validation Loss 1.568\n"
     ]
    },
    {
     "data": {
      "application/vnd.jupyter.widget-view+json": {
       "model_id": "cab90fc461554823a5500e562a91f91e",
       "version_major": 2,
       "version_minor": 0
      },
      "text/plain": [
       "Evaluating in validation set:   0%|          | 0/12 [00:00<?, ?it/s]"
      ]
     },
     "metadata": {},
     "output_type": "display_data"
    },
    {
     "name": "stdout",
     "output_type": "stream",
     "text": [
      "Validation Loss 1.916\n"
     ]
    },
    {
     "data": {
      "application/vnd.jupyter.widget-view+json": {
       "model_id": "cf1cae135817461cb8766cc5d596903b",
       "version_major": 2,
       "version_minor": 0
      },
      "text/plain": [
       "Evaluating in validation set:   0%|          | 0/12 [00:00<?, ?it/s]"
      ]
     },
     "metadata": {},
     "output_type": "display_data"
    },
    {
     "name": "stdout",
     "output_type": "stream",
     "text": [
      "Validation Loss 2.025\n"
     ]
    },
    {
     "data": {
      "application/vnd.jupyter.widget-view+json": {
       "model_id": "41bf26f8f69b49618ae443d828408dd4",
       "version_major": 2,
       "version_minor": 0
      },
      "text/plain": [
       "Evaluating in validation set:   0%|          | 0/12 [00:00<?, ?it/s]"
      ]
     },
     "metadata": {},
     "output_type": "display_data"
    },
    {
     "name": "stdout",
     "output_type": "stream",
     "text": [
      "Validation Loss 2.059\n"
     ]
    },
    {
     "data": {
      "application/vnd.jupyter.widget-view+json": {
       "model_id": "b1198a134e5745ff9d2032a109688d57",
       "version_major": 2,
       "version_minor": 0
      },
      "text/plain": [
       "Evaluating in validation set:   0%|          | 0/12 [00:00<?, ?it/s]"
      ]
     },
     "metadata": {},
     "output_type": "display_data"
    },
    {
     "name": "stdout",
     "output_type": "stream",
     "text": [
      "Validation Loss 1.551\n"
     ]
    },
    {
     "data": {
      "application/vnd.jupyter.widget-view+json": {
       "model_id": "5910f196cced44d18a75ffdff96e2e1e",
       "version_major": 2,
       "version_minor": 0
      },
      "text/plain": [
       "Evaluating in validation set:   0%|          | 0/12 [00:00<?, ?it/s]"
      ]
     },
     "metadata": {},
     "output_type": "display_data"
    },
    {
     "name": "stdout",
     "output_type": "stream",
     "text": [
      "Validation Loss 1.747\n"
     ]
    },
    {
     "data": {
      "application/vnd.jupyter.widget-view+json": {
       "model_id": "19533e2d078a411a86674a1d0c518d75",
       "version_major": 2,
       "version_minor": 0
      },
      "text/plain": [
       "Evaluating in validation set:   0%|          | 0/12 [00:00<?, ?it/s]"
      ]
     },
     "metadata": {},
     "output_type": "display_data"
    },
    {
     "name": "stdout",
     "output_type": "stream",
     "text": [
      "Validation Loss 1.722\n"
     ]
    },
    {
     "data": {
      "application/vnd.jupyter.widget-view+json": {
       "model_id": "0458670a31654ffd8c71bb3d796f3dfe",
       "version_major": 2,
       "version_minor": 0
      },
      "text/plain": [
       "Evaluating in validation set:   0%|          | 0/12 [00:00<?, ?it/s]"
      ]
     },
     "metadata": {},
     "output_type": "display_data"
    },
    {
     "name": "stdout",
     "output_type": "stream",
     "text": [
      "Validation Loss 1.792\n"
     ]
    },
    {
     "data": {
      "application/vnd.jupyter.widget-view+json": {
       "model_id": "9b7e0356bb5d4a76b24a1b8394f569aa",
       "version_major": 2,
       "version_minor": 0
      },
      "text/plain": [
       "Evaluating in validation set:   0%|          | 0/12 [00:00<?, ?it/s]"
      ]
     },
     "metadata": {},
     "output_type": "display_data"
    },
    {
     "name": "stdout",
     "output_type": "stream",
     "text": [
      "Validation Loss 1.654\n"
     ]
    },
    {
     "data": {
      "application/vnd.jupyter.widget-view+json": {
       "model_id": "98ecaffe892445d0be0f7a0c1bc14276",
       "version_major": 2,
       "version_minor": 0
      },
      "text/plain": [
       "Evaluating in validation set:   0%|          | 0/12 [00:00<?, ?it/s]"
      ]
     },
     "metadata": {},
     "output_type": "display_data"
    },
    {
     "name": "stdout",
     "output_type": "stream",
     "text": [
      "Validation Loss 1.431\n"
     ]
    },
    {
     "data": {
      "application/vnd.jupyter.widget-view+json": {
       "model_id": "eacc513f1507401583841bc5bd18057c",
       "version_major": 2,
       "version_minor": 0
      },
      "text/plain": [
       "Evaluating in validation set:   0%|          | 0/12 [00:00<?, ?it/s]"
      ]
     },
     "metadata": {},
     "output_type": "display_data"
    },
    {
     "name": "stdout",
     "output_type": "stream",
     "text": [
      "Validation Loss 1.493\n"
     ]
    },
    {
     "data": {
      "application/vnd.jupyter.widget-view+json": {
       "model_id": "a37fa3c0b2b2450dad86c731de76874d",
       "version_major": 2,
       "version_minor": 0
      },
      "text/plain": [
       "Evaluating in validation set:   0%|          | 0/12 [00:00<?, ?it/s]"
      ]
     },
     "metadata": {},
     "output_type": "display_data"
    },
    {
     "name": "stdout",
     "output_type": "stream",
     "text": [
      "Validation Loss 1.482\n"
     ]
    },
    {
     "data": {
      "application/vnd.jupyter.widget-view+json": {
       "model_id": "85186869d1134638b016fe52cd8e5c76",
       "version_major": 2,
       "version_minor": 0
      },
      "text/plain": [
       "Evaluating in validation set:   0%|          | 0/12 [00:00<?, ?it/s]"
      ]
     },
     "metadata": {},
     "output_type": "display_data"
    },
    {
     "name": "stdout",
     "output_type": "stream",
     "text": [
      "Validation Loss 1.617\n"
     ]
    },
    {
     "data": {
      "application/vnd.jupyter.widget-view+json": {
       "model_id": "422e2a2e72fe41e082e8c173c428632e",
       "version_major": 2,
       "version_minor": 0
      },
      "text/plain": [
       "Evaluating in validation set:   0%|          | 0/12 [00:00<?, ?it/s]"
      ]
     },
     "metadata": {},
     "output_type": "display_data"
    },
    {
     "name": "stdout",
     "output_type": "stream",
     "text": [
      "Validation Loss 1.847\n"
     ]
    },
    {
     "data": {
      "application/vnd.jupyter.widget-view+json": {
       "model_id": "b389a17c10e84f27a41195fcbb9cf6fb",
       "version_major": 2,
       "version_minor": 0
      },
      "text/plain": [
       "Evaluating in validation set:   0%|          | 0/12 [00:00<?, ?it/s]"
      ]
     },
     "metadata": {},
     "output_type": "display_data"
    },
    {
     "name": "stdout",
     "output_type": "stream",
     "text": [
      "Validation Loss 1.559\n"
     ]
    },
    {
     "data": {
      "application/vnd.jupyter.widget-view+json": {
       "model_id": "8302d38a2b4f4f418ad64e21a62e96e1",
       "version_major": 2,
       "version_minor": 0
      },
      "text/plain": [
       "Evaluating in validation set:   0%|          | 0/12 [00:00<?, ?it/s]"
      ]
     },
     "metadata": {},
     "output_type": "display_data"
    },
    {
     "name": "stdout",
     "output_type": "stream",
     "text": [
      "Validation Loss 1.201\n"
     ]
    },
    {
     "data": {
      "application/vnd.jupyter.widget-view+json": {
       "model_id": "9172d9c344c7416f82a68b6c635e4f28",
       "version_major": 2,
       "version_minor": 0
      },
      "text/plain": [
       "Evaluating in validation set:   0%|          | 0/12 [00:00<?, ?it/s]"
      ]
     },
     "metadata": {},
     "output_type": "display_data"
    },
    {
     "name": "stdout",
     "output_type": "stream",
     "text": [
      "Validation Loss 1.320\n"
     ]
    },
    {
     "data": {
      "application/vnd.jupyter.widget-view+json": {
       "model_id": "12b1725c17fe44da9feef071a69d2bcc",
       "version_major": 2,
       "version_minor": 0
      },
      "text/plain": [
       "Evaluating in validation set:   0%|          | 0/12 [00:00<?, ?it/s]"
      ]
     },
     "metadata": {},
     "output_type": "display_data"
    },
    {
     "name": "stdout",
     "output_type": "stream",
     "text": [
      "Validation Loss 1.533\n"
     ]
    },
    {
     "data": {
      "application/vnd.jupyter.widget-view+json": {
       "model_id": "43596f98361a4d9684deddf3e7848ecd",
       "version_major": 2,
       "version_minor": 0
      },
      "text/plain": [
       "Evaluating in validation set:   0%|          | 0/12 [00:00<?, ?it/s]"
      ]
     },
     "metadata": {},
     "output_type": "display_data"
    },
    {
     "name": "stdout",
     "output_type": "stream",
     "text": [
      "Validation Loss 1.690\n"
     ]
    },
    {
     "data": {
      "application/vnd.jupyter.widget-view+json": {
       "model_id": "38c73dac41304220a2d56f0c665e7953",
       "version_major": 2,
       "version_minor": 0
      },
      "text/plain": [
       "Evaluating in validation set:   0%|          | 0/12 [00:00<?, ?it/s]"
      ]
     },
     "metadata": {},
     "output_type": "display_data"
    },
    {
     "name": "stdout",
     "output_type": "stream",
     "text": [
      "Validation Loss 1.795\n"
     ]
    },
    {
     "data": {
      "application/vnd.jupyter.widget-view+json": {
       "model_id": "7ce6509000c04916a25db36dc5a2e76c",
       "version_major": 2,
       "version_minor": 0
      },
      "text/plain": [
       "Evaluating in validation set:   0%|          | 0/12 [00:00<?, ?it/s]"
      ]
     },
     "metadata": {},
     "output_type": "display_data"
    },
    {
     "name": "stdout",
     "output_type": "stream",
     "text": [
      "Validation Loss 1.822\n"
     ]
    },
    {
     "data": {
      "application/vnd.jupyter.widget-view+json": {
       "model_id": "37f11eac11484f89baec693be8150659",
       "version_major": 2,
       "version_minor": 0
      },
      "text/plain": [
       "Evaluating in validation set:   0%|          | 0/12 [00:00<?, ?it/s]"
      ]
     },
     "metadata": {},
     "output_type": "display_data"
    },
    {
     "name": "stdout",
     "output_type": "stream",
     "text": [
      "Validation Loss 1.699\n"
     ]
    },
    {
     "data": {
      "application/vnd.jupyter.widget-view+json": {
       "model_id": "de31bf8b62a242139d3f8210c1a6fca7",
       "version_major": 2,
       "version_minor": 0
      },
      "text/plain": [
       "Evaluating in validation set:   0%|          | 0/12 [00:00<?, ?it/s]"
      ]
     },
     "metadata": {},
     "output_type": "display_data"
    },
    {
     "name": "stdout",
     "output_type": "stream",
     "text": [
      "Validation Loss 1.608\n"
     ]
    },
    {
     "data": {
      "application/vnd.jupyter.widget-view+json": {
       "model_id": "3d25d6b8281a446a899f51f742322688",
       "version_major": 2,
       "version_minor": 0
      },
      "text/plain": [
       "Evaluating in validation set:   0%|          | 0/12 [00:00<?, ?it/s]"
      ]
     },
     "metadata": {},
     "output_type": "display_data"
    },
    {
     "name": "stdout",
     "output_type": "stream",
     "text": [
      "Validation Loss 1.622\n"
     ]
    },
    {
     "data": {
      "application/vnd.jupyter.widget-view+json": {
       "model_id": "fb03d3c36d124f50abb3e0e122ae4b9d",
       "version_major": 2,
       "version_minor": 0
      },
      "text/plain": [
       "Evaluating in validation set:   0%|          | 0/12 [00:00<?, ?it/s]"
      ]
     },
     "metadata": {},
     "output_type": "display_data"
    },
    {
     "name": "stdout",
     "output_type": "stream",
     "text": [
      "Validation Loss 1.737\n"
     ]
    },
    {
     "data": {
      "application/vnd.jupyter.widget-view+json": {
       "model_id": "31aab175bf474a5eba7b529e7b872677",
       "version_major": 2,
       "version_minor": 0
      },
      "text/plain": [
       "Evaluating in validation set:   0%|          | 0/12 [00:00<?, ?it/s]"
      ]
     },
     "metadata": {},
     "output_type": "display_data"
    },
    {
     "name": "stdout",
     "output_type": "stream",
     "text": [
      "Validation Loss 1.430\n"
     ]
    },
    {
     "data": {
      "application/vnd.jupyter.widget-view+json": {
       "model_id": "e1eca33cd7884e1a8182d90527b72e14",
       "version_major": 2,
       "version_minor": 0
      },
      "text/plain": [
       "Evaluating in validation set:   0%|          | 0/12 [00:00<?, ?it/s]"
      ]
     },
     "metadata": {},
     "output_type": "display_data"
    },
    {
     "name": "stdout",
     "output_type": "stream",
     "text": [
      "Validation Loss 1.739\n"
     ]
    },
    {
     "data": {
      "application/vnd.jupyter.widget-view+json": {
       "model_id": "c17d81c3cf264bf2acb9a9af76501fbe",
       "version_major": 2,
       "version_minor": 0
      },
      "text/plain": [
       "Evaluating in validation set:   0%|          | 0/12 [00:00<?, ?it/s]"
      ]
     },
     "metadata": {},
     "output_type": "display_data"
    },
    {
     "name": "stdout",
     "output_type": "stream",
     "text": [
      "Validation Loss 1.636\n"
     ]
    },
    {
     "data": {
      "application/vnd.jupyter.widget-view+json": {
       "model_id": "c655232a137643f7989778fb630cd006",
       "version_major": 2,
       "version_minor": 0
      },
      "text/plain": [
       "Evaluating in validation set:   0%|          | 0/12 [00:00<?, ?it/s]"
      ]
     },
     "metadata": {},
     "output_type": "display_data"
    },
    {
     "name": "stdout",
     "output_type": "stream",
     "text": [
      "Validation Loss 2.122\n"
     ]
    },
    {
     "data": {
      "application/vnd.jupyter.widget-view+json": {
       "model_id": "9ac80824f00f414c9e77a9f6cb345926",
       "version_major": 2,
       "version_minor": 0
      },
      "text/plain": [
       "Evaluating in validation set:   0%|          | 0/12 [00:00<?, ?it/s]"
      ]
     },
     "metadata": {},
     "output_type": "display_data"
    },
    {
     "name": "stdout",
     "output_type": "stream",
     "text": [
      "Validation Loss 2.080\n"
     ]
    },
    {
     "data": {
      "application/vnd.jupyter.widget-view+json": {
       "model_id": "fba57f7c649d481faad5bf7badde59cc",
       "version_major": 2,
       "version_minor": 0
      },
      "text/plain": [
       "Evaluating in validation set:   0%|          | 0/12 [00:00<?, ?it/s]"
      ]
     },
     "metadata": {},
     "output_type": "display_data"
    },
    {
     "name": "stdout",
     "output_type": "stream",
     "text": [
      "Validation Loss 2.125\n"
     ]
    },
    {
     "data": {
      "application/vnd.jupyter.widget-view+json": {
       "model_id": "2e5b394a68994a3eade9f6c81ea1e887",
       "version_major": 2,
       "version_minor": 0
      },
      "text/plain": [
       "Evaluating in validation set:   0%|          | 0/12 [00:00<?, ?it/s]"
      ]
     },
     "metadata": {},
     "output_type": "display_data"
    },
    {
     "name": "stdout",
     "output_type": "stream",
     "text": [
      "Validation Loss 1.991\n"
     ]
    },
    {
     "data": {
      "application/vnd.jupyter.widget-view+json": {
       "model_id": "67d906e8407c47529232ddf3751390fb",
       "version_major": 2,
       "version_minor": 0
      },
      "text/plain": [
       "Evaluating in validation set:   0%|          | 0/12 [00:00<?, ?it/s]"
      ]
     },
     "metadata": {},
     "output_type": "display_data"
    },
    {
     "name": "stdout",
     "output_type": "stream",
     "text": [
      "Validation Loss 2.015\n"
     ]
    },
    {
     "data": {
      "application/vnd.jupyter.widget-view+json": {
       "model_id": "5228232799584a48ada08ca5302b3c71",
       "version_major": 2,
       "version_minor": 0
      },
      "text/plain": [
       "Evaluating in validation set:   0%|          | 0/12 [00:00<?, ?it/s]"
      ]
     },
     "metadata": {},
     "output_type": "display_data"
    },
    {
     "name": "stdout",
     "output_type": "stream",
     "text": [
      "Validation Loss 1.307\n"
     ]
    },
    {
     "data": {
      "application/vnd.jupyter.widget-view+json": {
       "model_id": "e1df44749a784d84a94bcb879fd4be30",
       "version_major": 2,
       "version_minor": 0
      },
      "text/plain": [
       "Evaluating in validation set:   0%|          | 0/12 [00:00<?, ?it/s]"
      ]
     },
     "metadata": {},
     "output_type": "display_data"
    },
    {
     "name": "stdout",
     "output_type": "stream",
     "text": [
      "Validation Loss 1.515\n"
     ]
    },
    {
     "data": {
      "application/vnd.jupyter.widget-view+json": {
       "model_id": "817ce1bd77ca4d0dabaa54c7d7c86361",
       "version_major": 2,
       "version_minor": 0
      },
      "text/plain": [
       "Evaluating in validation set:   0%|          | 0/12 [00:00<?, ?it/s]"
      ]
     },
     "metadata": {},
     "output_type": "display_data"
    },
    {
     "name": "stdout",
     "output_type": "stream",
     "text": [
      "Validation Loss 1.397\n"
     ]
    },
    {
     "data": {
      "application/vnd.jupyter.widget-view+json": {
       "model_id": "b1d03008418d48a88f03fd4b171d2f08",
       "version_major": 2,
       "version_minor": 0
      },
      "text/plain": [
       "Evaluating in validation set:   0%|          | 0/12 [00:00<?, ?it/s]"
      ]
     },
     "metadata": {},
     "output_type": "display_data"
    },
    {
     "name": "stdout",
     "output_type": "stream",
     "text": [
      "Validation Loss 1.211\n"
     ]
    },
    {
     "data": {
      "application/vnd.jupyter.widget-view+json": {
       "model_id": "6e948deca69947daa444e1f5b3471642",
       "version_major": 2,
       "version_minor": 0
      },
      "text/plain": [
       "Evaluating in validation set:   0%|          | 0/12 [00:00<?, ?it/s]"
      ]
     },
     "metadata": {},
     "output_type": "display_data"
    },
    {
     "name": "stdout",
     "output_type": "stream",
     "text": [
      "Validation Loss 1.235\n"
     ]
    },
    {
     "data": {
      "application/vnd.jupyter.widget-view+json": {
       "model_id": "27558f0c4762419cba1a04f12808ba46",
       "version_major": 2,
       "version_minor": 0
      },
      "text/plain": [
       "Evaluating in validation set:   0%|          | 0/12 [00:00<?, ?it/s]"
      ]
     },
     "metadata": {},
     "output_type": "display_data"
    },
    {
     "name": "stdout",
     "output_type": "stream",
     "text": [
      "Validation Loss 1.266\n"
     ]
    },
    {
     "data": {
      "application/vnd.jupyter.widget-view+json": {
       "model_id": "1fa04f1deeea4b37a5dede1c34ae129f",
       "version_major": 2,
       "version_minor": 0
      },
      "text/plain": [
       "Evaluating in validation set:   0%|          | 0/12 [00:00<?, ?it/s]"
      ]
     },
     "metadata": {},
     "output_type": "display_data"
    },
    {
     "name": "stdout",
     "output_type": "stream",
     "text": [
      "Validation Loss 1.099\n"
     ]
    },
    {
     "data": {
      "application/vnd.jupyter.widget-view+json": {
       "model_id": "001a454760e94a0e8349da8f22bf7477",
       "version_major": 2,
       "version_minor": 0
      },
      "text/plain": [
       "Evaluating in validation set:   0%|          | 0/12 [00:00<?, ?it/s]"
      ]
     },
     "metadata": {},
     "output_type": "display_data"
    },
    {
     "name": "stdout",
     "output_type": "stream",
     "text": [
      "Validation Loss 1.153\n"
     ]
    },
    {
     "data": {
      "application/vnd.jupyter.widget-view+json": {
       "model_id": "347dc37abd9f46df8b7aff2a7b0d4ce2",
       "version_major": 2,
       "version_minor": 0
      },
      "text/plain": [
       "Evaluating in validation set:   0%|          | 0/12 [00:00<?, ?it/s]"
      ]
     },
     "metadata": {},
     "output_type": "display_data"
    },
    {
     "name": "stdout",
     "output_type": "stream",
     "text": [
      "Validation Loss 1.287\n"
     ]
    },
    {
     "data": {
      "application/vnd.jupyter.widget-view+json": {
       "model_id": "618b9819702a4cc0a829305b017c166e",
       "version_major": 2,
       "version_minor": 0
      },
      "text/plain": [
       "Evaluating in validation set:   0%|          | 0/12 [00:00<?, ?it/s]"
      ]
     },
     "metadata": {},
     "output_type": "display_data"
    },
    {
     "name": "stdout",
     "output_type": "stream",
     "text": [
      "Validation Loss 1.424\n"
     ]
    },
    {
     "data": {
      "application/vnd.jupyter.widget-view+json": {
       "model_id": "c750f3c1bb324d1fb493a976f65276ba",
       "version_major": 2,
       "version_minor": 0
      },
      "text/plain": [
       "Evaluating in validation set:   0%|          | 0/12 [00:00<?, ?it/s]"
      ]
     },
     "metadata": {},
     "output_type": "display_data"
    },
    {
     "name": "stdout",
     "output_type": "stream",
     "text": [
      "Validation Loss 1.323\n"
     ]
    },
    {
     "data": {
      "application/vnd.jupyter.widget-view+json": {
       "model_id": "491b71b8e8b8475d8dfbdcdae4b0c9bb",
       "version_major": 2,
       "version_minor": 0
      },
      "text/plain": [
       "Evaluating in validation set:   0%|          | 0/12 [00:00<?, ?it/s]"
      ]
     },
     "metadata": {},
     "output_type": "display_data"
    },
    {
     "name": "stdout",
     "output_type": "stream",
     "text": [
      "Validation Loss 1.276\n"
     ]
    },
    {
     "data": {
      "application/vnd.jupyter.widget-view+json": {
       "model_id": "5c50729c2b034628afec82105e9bfd73",
       "version_major": 2,
       "version_minor": 0
      },
      "text/plain": [
       "Evaluating in validation set:   0%|          | 0/12 [00:00<?, ?it/s]"
      ]
     },
     "metadata": {},
     "output_type": "display_data"
    },
    {
     "name": "stdout",
     "output_type": "stream",
     "text": [
      "Validation Loss 1.323\n"
     ]
    },
    {
     "data": {
      "application/vnd.jupyter.widget-view+json": {
       "model_id": "1eecec2d004442308478f66504aa54d0",
       "version_major": 2,
       "version_minor": 0
      },
      "text/plain": [
       "Evaluating in validation set:   0%|          | 0/12 [00:00<?, ?it/s]"
      ]
     },
     "metadata": {},
     "output_type": "display_data"
    },
    {
     "name": "stdout",
     "output_type": "stream",
     "text": [
      "Validation Loss 1.259\n"
     ]
    },
    {
     "data": {
      "application/vnd.jupyter.widget-view+json": {
       "model_id": "463d05d6b22e46df8509c81c71d1b2a1",
       "version_major": 2,
       "version_minor": 0
      },
      "text/plain": [
       "Evaluating in validation set:   0%|          | 0/12 [00:00<?, ?it/s]"
      ]
     },
     "metadata": {},
     "output_type": "display_data"
    },
    {
     "name": "stdout",
     "output_type": "stream",
     "text": [
      "Validation Loss 1.609\n"
     ]
    },
    {
     "data": {
      "application/vnd.jupyter.widget-view+json": {
       "model_id": "ee6dda968b2a4f8c91552ee80c6d2e5c",
       "version_major": 2,
       "version_minor": 0
      },
      "text/plain": [
       "Evaluating in validation set:   0%|          | 0/12 [00:00<?, ?it/s]"
      ]
     },
     "metadata": {},
     "output_type": "display_data"
    },
    {
     "name": "stdout",
     "output_type": "stream",
     "text": [
      "Validation Loss 1.251\n"
     ]
    },
    {
     "data": {
      "application/vnd.jupyter.widget-view+json": {
       "model_id": "a71dcd1d1ea64cd685b1f641e8da7608",
       "version_major": 2,
       "version_minor": 0
      },
      "text/plain": [
       "Evaluating in validation set:   0%|          | 0/12 [00:00<?, ?it/s]"
      ]
     },
     "metadata": {},
     "output_type": "display_data"
    },
    {
     "name": "stdout",
     "output_type": "stream",
     "text": [
      "Validation Loss 1.234\n"
     ]
    },
    {
     "data": {
      "application/vnd.jupyter.widget-view+json": {
       "model_id": "a413a785b15d4226a08e6786c682c8f3",
       "version_major": 2,
       "version_minor": 0
      },
      "text/plain": [
       "Evaluating in validation set:   0%|          | 0/12 [00:00<?, ?it/s]"
      ]
     },
     "metadata": {},
     "output_type": "display_data"
    },
    {
     "name": "stdout",
     "output_type": "stream",
     "text": [
      "Validation Loss 1.204\n"
     ]
    },
    {
     "data": {
      "application/vnd.jupyter.widget-view+json": {
       "model_id": "bb7c185cf6db4a65b39578ee58721e48",
       "version_major": 2,
       "version_minor": 0
      },
      "text/plain": [
       "Evaluating in validation set:   0%|          | 0/12 [00:00<?, ?it/s]"
      ]
     },
     "metadata": {},
     "output_type": "display_data"
    },
    {
     "name": "stdout",
     "output_type": "stream",
     "text": [
      "Validation Loss 1.481\n"
     ]
    },
    {
     "data": {
      "application/vnd.jupyter.widget-view+json": {
       "model_id": "c31c4d3e37bf41a7a8414252f9854e65",
       "version_major": 2,
       "version_minor": 0
      },
      "text/plain": [
       "Evaluating in validation set:   0%|          | 0/12 [00:00<?, ?it/s]"
      ]
     },
     "metadata": {},
     "output_type": "display_data"
    },
    {
     "name": "stdout",
     "output_type": "stream",
     "text": [
      "Validation Loss 1.525\n"
     ]
    },
    {
     "data": {
      "application/vnd.jupyter.widget-view+json": {
       "model_id": "0c7427ddc5a245ab9db9078b1a6ca176",
       "version_major": 2,
       "version_minor": 0
      },
      "text/plain": [
       "Evaluating in validation set:   0%|          | 0/12 [00:00<?, ?it/s]"
      ]
     },
     "metadata": {},
     "output_type": "display_data"
    },
    {
     "name": "stdout",
     "output_type": "stream",
     "text": [
      "Validation Loss 1.190\n"
     ]
    },
    {
     "data": {
      "application/vnd.jupyter.widget-view+json": {
       "model_id": "741acb0f0d6b4142a4ae25c755350664",
       "version_major": 2,
       "version_minor": 0
      },
      "text/plain": [
       "Evaluating in validation set:   0%|          | 0/12 [00:00<?, ?it/s]"
      ]
     },
     "metadata": {},
     "output_type": "display_data"
    },
    {
     "name": "stdout",
     "output_type": "stream",
     "text": [
      "Validation Loss 1.622\n"
     ]
    },
    {
     "data": {
      "application/vnd.jupyter.widget-view+json": {
       "model_id": "dea447fe7ad540b68ed259be1d301e9b",
       "version_major": 2,
       "version_minor": 0
      },
      "text/plain": [
       "Evaluating in validation set:   0%|          | 0/12 [00:00<?, ?it/s]"
      ]
     },
     "metadata": {},
     "output_type": "display_data"
    },
    {
     "name": "stdout",
     "output_type": "stream",
     "text": [
      "Validation Loss 1.560\n"
     ]
    },
    {
     "data": {
      "application/vnd.jupyter.widget-view+json": {
       "model_id": "8821801ef71b4fae8ee0b8b8eb573c00",
       "version_major": 2,
       "version_minor": 0
      },
      "text/plain": [
       "Evaluating in validation set:   0%|          | 0/12 [00:00<?, ?it/s]"
      ]
     },
     "metadata": {},
     "output_type": "display_data"
    },
    {
     "name": "stdout",
     "output_type": "stream",
     "text": [
      "Validation Loss 1.558\n"
     ]
    },
    {
     "data": {
      "application/vnd.jupyter.widget-view+json": {
       "model_id": "4400c25563424553928b8de29bffe399",
       "version_major": 2,
       "version_minor": 0
      },
      "text/plain": [
       "Evaluating in validation set:   0%|          | 0/12 [00:00<?, ?it/s]"
      ]
     },
     "metadata": {},
     "output_type": "display_data"
    },
    {
     "name": "stdout",
     "output_type": "stream",
     "text": [
      "Validation Loss 1.373\n"
     ]
    },
    {
     "data": {
      "application/vnd.jupyter.widget-view+json": {
       "model_id": "871d47b3bef340189df37ab2abeeaa2a",
       "version_major": 2,
       "version_minor": 0
      },
      "text/plain": [
       "Evaluating in validation set:   0%|          | 0/12 [00:00<?, ?it/s]"
      ]
     },
     "metadata": {},
     "output_type": "display_data"
    },
    {
     "name": "stdout",
     "output_type": "stream",
     "text": [
      "Validation Loss 1.231\n"
     ]
    },
    {
     "data": {
      "application/vnd.jupyter.widget-view+json": {
       "model_id": "6884f9a30d204844973826dd11e4ec87",
       "version_major": 2,
       "version_minor": 0
      },
      "text/plain": [
       "Evaluating in validation set:   0%|          | 0/12 [00:00<?, ?it/s]"
      ]
     },
     "metadata": {},
     "output_type": "display_data"
    },
    {
     "name": "stdout",
     "output_type": "stream",
     "text": [
      "Validation Loss 1.914\n"
     ]
    },
    {
     "data": {
      "application/vnd.jupyter.widget-view+json": {
       "model_id": "61b46f3976934eb0a60a919b1c496e46",
       "version_major": 2,
       "version_minor": 0
      },
      "text/plain": [
       "Evaluating in validation set:   0%|          | 0/12 [00:00<?, ?it/s]"
      ]
     },
     "metadata": {},
     "output_type": "display_data"
    },
    {
     "name": "stdout",
     "output_type": "stream",
     "text": [
      "Validation Loss 1.880\n"
     ]
    },
    {
     "data": {
      "application/vnd.jupyter.widget-view+json": {
       "model_id": "a1ad28a0ebf44a47a67042891b89638c",
       "version_major": 2,
       "version_minor": 0
      },
      "text/plain": [
       "Evaluating in validation set:   0%|          | 0/12 [00:00<?, ?it/s]"
      ]
     },
     "metadata": {},
     "output_type": "display_data"
    },
    {
     "name": "stdout",
     "output_type": "stream",
     "text": [
      "Validation Loss 1.670\n"
     ]
    },
    {
     "data": {
      "application/vnd.jupyter.widget-view+json": {
       "model_id": "e698bc8a18ba44088e91e7c424c75778",
       "version_major": 2,
       "version_minor": 0
      },
      "text/plain": [
       "Evaluating in validation set:   0%|          | 0/12 [00:00<?, ?it/s]"
      ]
     },
     "metadata": {},
     "output_type": "display_data"
    },
    {
     "name": "stdout",
     "output_type": "stream",
     "text": [
      "Validation Loss 1.779\n"
     ]
    },
    {
     "data": {
      "application/vnd.jupyter.widget-view+json": {
       "model_id": "8ef80c41248d411f8f5bfd04955a3354",
       "version_major": 2,
       "version_minor": 0
      },
      "text/plain": [
       "Evaluating in validation set:   0%|          | 0/12 [00:00<?, ?it/s]"
      ]
     },
     "metadata": {},
     "output_type": "display_data"
    },
    {
     "name": "stdout",
     "output_type": "stream",
     "text": [
      "Validation Loss 1.668\n"
     ]
    },
    {
     "data": {
      "application/vnd.jupyter.widget-view+json": {
       "model_id": "cd406a30502446f9bf2254809795eded",
       "version_major": 2,
       "version_minor": 0
      },
      "text/plain": [
       "Evaluating in validation set:   0%|          | 0/12 [00:00<?, ?it/s]"
      ]
     },
     "metadata": {},
     "output_type": "display_data"
    },
    {
     "name": "stdout",
     "output_type": "stream",
     "text": [
      "Validation Loss 1.631\n"
     ]
    },
    {
     "data": {
      "application/vnd.jupyter.widget-view+json": {
       "model_id": "b36d0ddc54b34692ac71c75a32424759",
       "version_major": 2,
       "version_minor": 0
      },
      "text/plain": [
       "Evaluating in validation set:   0%|          | 0/12 [00:00<?, ?it/s]"
      ]
     },
     "metadata": {},
     "output_type": "display_data"
    },
    {
     "name": "stdout",
     "output_type": "stream",
     "text": [
      "Validation Loss 1.527\n"
     ]
    },
    {
     "data": {
      "application/vnd.jupyter.widget-view+json": {
       "model_id": "dc278d3d080c445383b412547fedb4b4",
       "version_major": 2,
       "version_minor": 0
      },
      "text/plain": [
       "Evaluating in validation set:   0%|          | 0/12 [00:00<?, ?it/s]"
      ]
     },
     "metadata": {},
     "output_type": "display_data"
    },
    {
     "name": "stdout",
     "output_type": "stream",
     "text": [
      "Validation Loss 1.662\n"
     ]
    },
    {
     "data": {
      "application/vnd.jupyter.widget-view+json": {
       "model_id": "4f08377ee6b34486945bb357267dfdf4",
       "version_major": 2,
       "version_minor": 0
      },
      "text/plain": [
       "Evaluating in validation set:   0%|          | 0/12 [00:00<?, ?it/s]"
      ]
     },
     "metadata": {},
     "output_type": "display_data"
    },
    {
     "name": "stdout",
     "output_type": "stream",
     "text": [
      "Validation Loss 1.654\n"
     ]
    },
    {
     "data": {
      "application/vnd.jupyter.widget-view+json": {
       "model_id": "64ef1729489f4df3b4ea1549257665af",
       "version_major": 2,
       "version_minor": 0
      },
      "text/plain": [
       "Evaluating in validation set:   0%|          | 0/12 [00:00<?, ?it/s]"
      ]
     },
     "metadata": {},
     "output_type": "display_data"
    },
    {
     "name": "stdout",
     "output_type": "stream",
     "text": [
      "Validation Loss 1.853\n"
     ]
    },
    {
     "data": {
      "application/vnd.jupyter.widget-view+json": {
       "model_id": "08d97383457248d6b7937ce9419c4524",
       "version_major": 2,
       "version_minor": 0
      },
      "text/plain": [
       "Evaluating in validation set:   0%|          | 0/12 [00:00<?, ?it/s]"
      ]
     },
     "metadata": {},
     "output_type": "display_data"
    },
    {
     "name": "stdout",
     "output_type": "stream",
     "text": [
      "Validation Loss 1.473\n"
     ]
    },
    {
     "data": {
      "application/vnd.jupyter.widget-view+json": {
       "model_id": "a690f921c94247778315f40011302d16",
       "version_major": 2,
       "version_minor": 0
      },
      "text/plain": [
       "Evaluating in validation set:   0%|          | 0/12 [00:00<?, ?it/s]"
      ]
     },
     "metadata": {},
     "output_type": "display_data"
    },
    {
     "name": "stdout",
     "output_type": "stream",
     "text": [
      "Validation Loss 1.724\n"
     ]
    },
    {
     "data": {
      "application/vnd.jupyter.widget-view+json": {
       "model_id": "4dbf517f16ec41cc9a9264c0a90673cf",
       "version_major": 2,
       "version_minor": 0
      },
      "text/plain": [
       "Evaluating in validation set:   0%|          | 0/12 [00:00<?, ?it/s]"
      ]
     },
     "metadata": {},
     "output_type": "display_data"
    },
    {
     "name": "stdout",
     "output_type": "stream",
     "text": [
      "Validation Loss 1.864\n"
     ]
    },
    {
     "data": {
      "application/vnd.jupyter.widget-view+json": {
       "model_id": "eb9b39b9f74744efaeacb8abe86de325",
       "version_major": 2,
       "version_minor": 0
      },
      "text/plain": [
       "Evaluating in validation set:   0%|          | 0/12 [00:00<?, ?it/s]"
      ]
     },
     "metadata": {},
     "output_type": "display_data"
    },
    {
     "name": "stdout",
     "output_type": "stream",
     "text": [
      "Validation Loss 1.680\n"
     ]
    },
    {
     "data": {
      "application/vnd.jupyter.widget-view+json": {
       "model_id": "ebb2287847bc4f8fb867cd8f1dedd439",
       "version_major": 2,
       "version_minor": 0
      },
      "text/plain": [
       "Evaluating in validation set:   0%|          | 0/12 [00:00<?, ?it/s]"
      ]
     },
     "metadata": {},
     "output_type": "display_data"
    },
    {
     "name": "stdout",
     "output_type": "stream",
     "text": [
      "Validation Loss 1.598\n"
     ]
    },
    {
     "data": {
      "application/vnd.jupyter.widget-view+json": {
       "model_id": "bc6d9cff44aa4ceca3df74fe6a119674",
       "version_major": 2,
       "version_minor": 0
      },
      "text/plain": [
       "Evaluating in validation set:   0%|          | 0/12 [00:00<?, ?it/s]"
      ]
     },
     "metadata": {},
     "output_type": "display_data"
    },
    {
     "name": "stdout",
     "output_type": "stream",
     "text": [
      "Validation Loss 1.819\n"
     ]
    },
    {
     "data": {
      "application/vnd.jupyter.widget-view+json": {
       "model_id": "39f481eb0cc346faa2db8aac2a68b27a",
       "version_major": 2,
       "version_minor": 0
      },
      "text/plain": [
       "Evaluating in validation set:   0%|          | 0/12 [00:00<?, ?it/s]"
      ]
     },
     "metadata": {},
     "output_type": "display_data"
    },
    {
     "name": "stdout",
     "output_type": "stream",
     "text": [
      "Validation Loss 1.723\n"
     ]
    },
    {
     "data": {
      "application/vnd.jupyter.widget-view+json": {
       "model_id": "07cb2945127f484a9a9beb7769a3dbac",
       "version_major": 2,
       "version_minor": 0
      },
      "text/plain": [
       "Evaluating in validation set:   0%|          | 0/12 [00:00<?, ?it/s]"
      ]
     },
     "metadata": {},
     "output_type": "display_data"
    },
    {
     "name": "stdout",
     "output_type": "stream",
     "text": [
      "Validation Loss 1.344\n"
     ]
    },
    {
     "data": {
      "application/vnd.jupyter.widget-view+json": {
       "model_id": "794935b447d84f12a35bcd4349aaabe9",
       "version_major": 2,
       "version_minor": 0
      },
      "text/plain": [
       "Evaluating in validation set:   0%|          | 0/12 [00:00<?, ?it/s]"
      ]
     },
     "metadata": {},
     "output_type": "display_data"
    },
    {
     "name": "stdout",
     "output_type": "stream",
     "text": [
      "Validation Loss 1.484\n"
     ]
    },
    {
     "data": {
      "application/vnd.jupyter.widget-view+json": {
       "model_id": "e22d4bee72194e6884f84b682c67c1d2",
       "version_major": 2,
       "version_minor": 0
      },
      "text/plain": [
       "Evaluating in validation set:   0%|          | 0/12 [00:00<?, ?it/s]"
      ]
     },
     "metadata": {},
     "output_type": "display_data"
    },
    {
     "name": "stdout",
     "output_type": "stream",
     "text": [
      "Validation Loss 1.189\n"
     ]
    },
    {
     "data": {
      "application/vnd.jupyter.widget-view+json": {
       "model_id": "2f9c15fe822a46f3bb3b05d82ffa9aa6",
       "version_major": 2,
       "version_minor": 0
      },
      "text/plain": [
       "Evaluating in validation set:   0%|          | 0/12 [00:00<?, ?it/s]"
      ]
     },
     "metadata": {},
     "output_type": "display_data"
    },
    {
     "name": "stdout",
     "output_type": "stream",
     "text": [
      "Validation Loss 1.535\n"
     ]
    },
    {
     "data": {
      "application/vnd.jupyter.widget-view+json": {
       "model_id": "dd72917de21c44ea9e7236219218d3fa",
       "version_major": 2,
       "version_minor": 0
      },
      "text/plain": [
       "Evaluating in validation set:   0%|          | 0/12 [00:00<?, ?it/s]"
      ]
     },
     "metadata": {},
     "output_type": "display_data"
    },
    {
     "name": "stdout",
     "output_type": "stream",
     "text": [
      "Validation Loss 1.756\n"
     ]
    },
    {
     "data": {
      "application/vnd.jupyter.widget-view+json": {
       "model_id": "24c16f59dbef4013a21e87d5c391f4ec",
       "version_major": 2,
       "version_minor": 0
      },
      "text/plain": [
       "Evaluating in validation set:   0%|          | 0/12 [00:00<?, ?it/s]"
      ]
     },
     "metadata": {},
     "output_type": "display_data"
    },
    {
     "name": "stdout",
     "output_type": "stream",
     "text": [
      "Validation Loss 1.759\n"
     ]
    },
    {
     "data": {
      "application/vnd.jupyter.widget-view+json": {
       "model_id": "e2f9f575508f4013b0951b7c36810c07",
       "version_major": 2,
       "version_minor": 0
      },
      "text/plain": [
       "Evaluating in validation set:   0%|          | 0/12 [00:00<?, ?it/s]"
      ]
     },
     "metadata": {},
     "output_type": "display_data"
    },
    {
     "name": "stdout",
     "output_type": "stream",
     "text": [
      "Validation Loss 1.616\n"
     ]
    },
    {
     "data": {
      "application/vnd.jupyter.widget-view+json": {
       "model_id": "8ed787929b6947d3aa5f3a047d2563e3",
       "version_major": 2,
       "version_minor": 0
      },
      "text/plain": [
       "Evaluating in validation set:   0%|          | 0/12 [00:00<?, ?it/s]"
      ]
     },
     "metadata": {},
     "output_type": "display_data"
    },
    {
     "name": "stdout",
     "output_type": "stream",
     "text": [
      "Validation Loss 1.761\n"
     ]
    },
    {
     "data": {
      "application/vnd.jupyter.widget-view+json": {
       "model_id": "0efcfe3056da4eb78acb27f362afd57f",
       "version_major": 2,
       "version_minor": 0
      },
      "text/plain": [
       "Evaluating in validation set:   0%|          | 0/12 [00:00<?, ?it/s]"
      ]
     },
     "metadata": {},
     "output_type": "display_data"
    },
    {
     "name": "stdout",
     "output_type": "stream",
     "text": [
      "Validation Loss 1.790\n"
     ]
    },
    {
     "data": {
      "application/vnd.jupyter.widget-view+json": {
       "model_id": "c4fbbe2c205b4c92877e8b8bba9b9a97",
       "version_major": 2,
       "version_minor": 0
      },
      "text/plain": [
       "Evaluating in validation set:   0%|          | 0/12 [00:00<?, ?it/s]"
      ]
     },
     "metadata": {},
     "output_type": "display_data"
    },
    {
     "name": "stdout",
     "output_type": "stream",
     "text": [
      "Validation Loss 1.373\n"
     ]
    },
    {
     "data": {
      "application/vnd.jupyter.widget-view+json": {
       "model_id": "c7d8f91a503a42d9a1019fa3b7be23bb",
       "version_major": 2,
       "version_minor": 0
      },
      "text/plain": [
       "Evaluating in validation set:   0%|          | 0/12 [00:00<?, ?it/s]"
      ]
     },
     "metadata": {},
     "output_type": "display_data"
    },
    {
     "name": "stdout",
     "output_type": "stream",
     "text": [
      "Validation Loss 1.623\n"
     ]
    },
    {
     "data": {
      "application/vnd.jupyter.widget-view+json": {
       "model_id": "fb05b4781fd14c53b824f3c943e8f549",
       "version_major": 2,
       "version_minor": 0
      },
      "text/plain": [
       "Evaluating in validation set:   0%|          | 0/12 [00:00<?, ?it/s]"
      ]
     },
     "metadata": {},
     "output_type": "display_data"
    },
    {
     "name": "stdout",
     "output_type": "stream",
     "text": [
      "Validation Loss 1.338\n"
     ]
    },
    {
     "data": {
      "application/vnd.jupyter.widget-view+json": {
       "model_id": "75f122d30e6a4143a9db0a2f2f22f7c8",
       "version_major": 2,
       "version_minor": 0
      },
      "text/plain": [
       "Evaluating in validation set:   0%|          | 0/12 [00:00<?, ?it/s]"
      ]
     },
     "metadata": {},
     "output_type": "display_data"
    },
    {
     "name": "stdout",
     "output_type": "stream",
     "text": [
      "Validation Loss 1.297\n"
     ]
    },
    {
     "data": {
      "application/vnd.jupyter.widget-view+json": {
       "model_id": "2be4b374c94c457384c7bc3747cfe65e",
       "version_major": 2,
       "version_minor": 0
      },
      "text/plain": [
       "Evaluating in validation set:   0%|          | 0/12 [00:00<?, ?it/s]"
      ]
     },
     "metadata": {},
     "output_type": "display_data"
    },
    {
     "name": "stdout",
     "output_type": "stream",
     "text": [
      "Validation Loss 1.361\n"
     ]
    },
    {
     "data": {
      "application/vnd.jupyter.widget-view+json": {
       "model_id": "967bfe45b3e84d7aa7901f78ed316fe1",
       "version_major": 2,
       "version_minor": 0
      },
      "text/plain": [
       "Evaluating in validation set:   0%|          | 0/12 [00:00<?, ?it/s]"
      ]
     },
     "metadata": {},
     "output_type": "display_data"
    },
    {
     "name": "stdout",
     "output_type": "stream",
     "text": [
      "Validation Loss 1.403\n"
     ]
    },
    {
     "data": {
      "application/vnd.jupyter.widget-view+json": {
       "model_id": "cb6e696cb16b4fb1b527962bad11e8e7",
       "version_major": 2,
       "version_minor": 0
      },
      "text/plain": [
       "Evaluating in validation set:   0%|          | 0/12 [00:00<?, ?it/s]"
      ]
     },
     "metadata": {},
     "output_type": "display_data"
    },
    {
     "name": "stdout",
     "output_type": "stream",
     "text": [
      "Validation Loss 1.150\n"
     ]
    },
    {
     "data": {
      "application/vnd.jupyter.widget-view+json": {
       "model_id": "66b057a4d26943e08780b3f9dfc726d3",
       "version_major": 2,
       "version_minor": 0
      },
      "text/plain": [
       "Evaluating in validation set:   0%|          | 0/12 [00:00<?, ?it/s]"
      ]
     },
     "metadata": {},
     "output_type": "display_data"
    },
    {
     "name": "stdout",
     "output_type": "stream",
     "text": [
      "Validation Loss 1.437\n"
     ]
    },
    {
     "data": {
      "application/vnd.jupyter.widget-view+json": {
       "model_id": "24f3981712ac490c8a4f7cbe0887ad6e",
       "version_major": 2,
       "version_minor": 0
      },
      "text/plain": [
       "Evaluating in validation set:   0%|          | 0/12 [00:00<?, ?it/s]"
      ]
     },
     "metadata": {},
     "output_type": "display_data"
    },
    {
     "name": "stdout",
     "output_type": "stream",
     "text": [
      "Validation Loss 1.196\n"
     ]
    },
    {
     "data": {
      "application/vnd.jupyter.widget-view+json": {
       "model_id": "ef056666f3aa4c99aa513323f95f0d26",
       "version_major": 2,
       "version_minor": 0
      },
      "text/plain": [
       "Evaluating in validation set:   0%|          | 0/12 [00:00<?, ?it/s]"
      ]
     },
     "metadata": {},
     "output_type": "display_data"
    },
    {
     "name": "stdout",
     "output_type": "stream",
     "text": [
      "Validation Loss 1.350\n"
     ]
    },
    {
     "data": {
      "application/vnd.jupyter.widget-view+json": {
       "model_id": "fb0ff92362ca4f01a9fce9f22fb370f4",
       "version_major": 2,
       "version_minor": 0
      },
      "text/plain": [
       "Evaluating in validation set:   0%|          | 0/12 [00:00<?, ?it/s]"
      ]
     },
     "metadata": {},
     "output_type": "display_data"
    },
    {
     "name": "stdout",
     "output_type": "stream",
     "text": [
      "Validation Loss 1.444\n"
     ]
    },
    {
     "data": {
      "application/vnd.jupyter.widget-view+json": {
       "model_id": "5f3a11aa53df4a9eb8454972a9a33b24",
       "version_major": 2,
       "version_minor": 0
      },
      "text/plain": [
       "Evaluating in validation set:   0%|          | 0/12 [00:00<?, ?it/s]"
      ]
     },
     "metadata": {},
     "output_type": "display_data"
    },
    {
     "name": "stdout",
     "output_type": "stream",
     "text": [
      "Validation Loss 1.518\n"
     ]
    },
    {
     "data": {
      "application/vnd.jupyter.widget-view+json": {
       "model_id": "3394c4e2da004d68b6a3d887bb968540",
       "version_major": 2,
       "version_minor": 0
      },
      "text/plain": [
       "Evaluating in validation set:   0%|          | 0/12 [00:00<?, ?it/s]"
      ]
     },
     "metadata": {},
     "output_type": "display_data"
    },
    {
     "name": "stdout",
     "output_type": "stream",
     "text": [
      "Validation Loss 1.449\n"
     ]
    },
    {
     "data": {
      "application/vnd.jupyter.widget-view+json": {
       "model_id": "55f5ee9b0cb043b3adc66ddf1c470cd4",
       "version_major": 2,
       "version_minor": 0
      },
      "text/plain": [
       "Evaluating in validation set:   0%|          | 0/12 [00:00<?, ?it/s]"
      ]
     },
     "metadata": {},
     "output_type": "display_data"
    },
    {
     "name": "stdout",
     "output_type": "stream",
     "text": [
      "Validation Loss 1.228\n"
     ]
    },
    {
     "data": {
      "application/vnd.jupyter.widget-view+json": {
       "model_id": "6d9479d376254be7bc751ff1bab966c4",
       "version_major": 2,
       "version_minor": 0
      },
      "text/plain": [
       "Evaluating in validation set:   0%|          | 0/12 [00:00<?, ?it/s]"
      ]
     },
     "metadata": {},
     "output_type": "display_data"
    },
    {
     "name": "stdout",
     "output_type": "stream",
     "text": [
      "Validation Loss 1.440\n"
     ]
    },
    {
     "data": {
      "application/vnd.jupyter.widget-view+json": {
       "model_id": "106b99bb086c41e48b3cca772c281486",
       "version_major": 2,
       "version_minor": 0
      },
      "text/plain": [
       "Evaluating in validation set:   0%|          | 0/12 [00:00<?, ?it/s]"
      ]
     },
     "metadata": {},
     "output_type": "display_data"
    },
    {
     "name": "stdout",
     "output_type": "stream",
     "text": [
      "Validation Loss 1.483\n"
     ]
    },
    {
     "data": {
      "application/vnd.jupyter.widget-view+json": {
       "model_id": "0bb88f099bb04409be005828136398eb",
       "version_major": 2,
       "version_minor": 0
      },
      "text/plain": [
       "Evaluating in validation set:   0%|          | 0/12 [00:00<?, ?it/s]"
      ]
     },
     "metadata": {},
     "output_type": "display_data"
    },
    {
     "name": "stdout",
     "output_type": "stream",
     "text": [
      "Validation Loss 1.622\n"
     ]
    },
    {
     "data": {
      "application/vnd.jupyter.widget-view+json": {
       "model_id": "d25fa7190bef4b2788e08c9e11e4d75a",
       "version_major": 2,
       "version_minor": 0
      },
      "text/plain": [
       "Evaluating in validation set:   0%|          | 0/12 [00:00<?, ?it/s]"
      ]
     },
     "metadata": {},
     "output_type": "display_data"
    },
    {
     "name": "stdout",
     "output_type": "stream",
     "text": [
      "Validation Loss 1.949\n"
     ]
    },
    {
     "data": {
      "application/vnd.jupyter.widget-view+json": {
       "model_id": "9feeae122a8946fc9645d0cee2253891",
       "version_major": 2,
       "version_minor": 0
      },
      "text/plain": [
       "Evaluating in validation set:   0%|          | 0/12 [00:00<?, ?it/s]"
      ]
     },
     "metadata": {},
     "output_type": "display_data"
    },
    {
     "name": "stdout",
     "output_type": "stream",
     "text": [
      "Validation Loss 1.518\n"
     ]
    },
    {
     "data": {
      "application/vnd.jupyter.widget-view+json": {
       "model_id": "3aa89c4ab442427ca0e6d0d7d29e962a",
       "version_major": 2,
       "version_minor": 0
      },
      "text/plain": [
       "Evaluating in validation set:   0%|          | 0/12 [00:00<?, ?it/s]"
      ]
     },
     "metadata": {},
     "output_type": "display_data"
    },
    {
     "name": "stdout",
     "output_type": "stream",
     "text": [
      "Validation Loss 1.635\n"
     ]
    },
    {
     "data": {
      "application/vnd.jupyter.widget-view+json": {
       "model_id": "d6d02a3fdf954bc5a632c91c1e810331",
       "version_major": 2,
       "version_minor": 0
      },
      "text/plain": [
       "Evaluating in validation set:   0%|          | 0/12 [00:00<?, ?it/s]"
      ]
     },
     "metadata": {},
     "output_type": "display_data"
    },
    {
     "name": "stdout",
     "output_type": "stream",
     "text": [
      "Validation Loss 1.677\n"
     ]
    },
    {
     "data": {
      "application/vnd.jupyter.widget-view+json": {
       "model_id": "839148f816564e92bef1bed361766679",
       "version_major": 2,
       "version_minor": 0
      },
      "text/plain": [
       "Evaluating in validation set:   0%|          | 0/12 [00:00<?, ?it/s]"
      ]
     },
     "metadata": {},
     "output_type": "display_data"
    },
    {
     "name": "stdout",
     "output_type": "stream",
     "text": [
      "Validation Loss 1.466\n"
     ]
    },
    {
     "data": {
      "application/vnd.jupyter.widget-view+json": {
       "model_id": "3321777984dc4fd687cff9c370776508",
       "version_major": 2,
       "version_minor": 0
      },
      "text/plain": [
       "Evaluating in validation set:   0%|          | 0/12 [00:00<?, ?it/s]"
      ]
     },
     "metadata": {},
     "output_type": "display_data"
    },
    {
     "name": "stdout",
     "output_type": "stream",
     "text": [
      "Validation Loss 1.307\n"
     ]
    },
    {
     "data": {
      "application/vnd.jupyter.widget-view+json": {
       "model_id": "de4cad15f49240cc880dec97316f5b7f",
       "version_major": 2,
       "version_minor": 0
      },
      "text/plain": [
       "Evaluating in validation set:   0%|          | 0/12 [00:00<?, ?it/s]"
      ]
     },
     "metadata": {},
     "output_type": "display_data"
    },
    {
     "name": "stdout",
     "output_type": "stream",
     "text": [
      "Validation Loss 1.431\n"
     ]
    },
    {
     "data": {
      "application/vnd.jupyter.widget-view+json": {
       "model_id": "7e306586a3334634a5382edc2fd18895",
       "version_major": 2,
       "version_minor": 0
      },
      "text/plain": [
       "Evaluating in validation set:   0%|          | 0/12 [00:00<?, ?it/s]"
      ]
     },
     "metadata": {},
     "output_type": "display_data"
    },
    {
     "name": "stdout",
     "output_type": "stream",
     "text": [
      "Validation Loss 1.446\n"
     ]
    },
    {
     "data": {
      "application/vnd.jupyter.widget-view+json": {
       "model_id": "e298dc5dc30d4b4d810cddde34fa14a6",
       "version_major": 2,
       "version_minor": 0
      },
      "text/plain": [
       "Evaluating in validation set:   0%|          | 0/12 [00:00<?, ?it/s]"
      ]
     },
     "metadata": {},
     "output_type": "display_data"
    },
    {
     "name": "stdout",
     "output_type": "stream",
     "text": [
      "Validation Loss 1.429\n"
     ]
    },
    {
     "data": {
      "application/vnd.jupyter.widget-view+json": {
       "model_id": "1698b19e79a247b2b69f1d4c58e7f07f",
       "version_major": 2,
       "version_minor": 0
      },
      "text/plain": [
       "Evaluating in validation set:   0%|          | 0/12 [00:00<?, ?it/s]"
      ]
     },
     "metadata": {},
     "output_type": "display_data"
    },
    {
     "name": "stdout",
     "output_type": "stream",
     "text": [
      "Validation Loss 1.619\n"
     ]
    },
    {
     "data": {
      "application/vnd.jupyter.widget-view+json": {
       "model_id": "16c2b3b2c6094ab7a06c754d617751dc",
       "version_major": 2,
       "version_minor": 0
      },
      "text/plain": [
       "Evaluating in validation set:   0%|          | 0/12 [00:00<?, ?it/s]"
      ]
     },
     "metadata": {},
     "output_type": "display_data"
    },
    {
     "name": "stdout",
     "output_type": "stream",
     "text": [
      "Validation Loss 1.453\n"
     ]
    },
    {
     "data": {
      "application/vnd.jupyter.widget-view+json": {
       "model_id": "b67ba291e1374d2a90948d126e91d665",
       "version_major": 2,
       "version_minor": 0
      },
      "text/plain": [
       "Evaluating in validation set:   0%|          | 0/12 [00:00<?, ?it/s]"
      ]
     },
     "metadata": {},
     "output_type": "display_data"
    },
    {
     "name": "stdout",
     "output_type": "stream",
     "text": [
      "Validation Loss 1.690\n"
     ]
    },
    {
     "data": {
      "application/vnd.jupyter.widget-view+json": {
       "model_id": "b9748715bb1746709e027fd243d8d3e6",
       "version_major": 2,
       "version_minor": 0
      },
      "text/plain": [
       "Evaluating in validation set:   0%|          | 0/12 [00:00<?, ?it/s]"
      ]
     },
     "metadata": {},
     "output_type": "display_data"
    },
    {
     "name": "stdout",
     "output_type": "stream",
     "text": [
      "Validation Loss 1.801\n"
     ]
    },
    {
     "data": {
      "application/vnd.jupyter.widget-view+json": {
       "model_id": "049f654b2cb545dbb21e4145bc2b7185",
       "version_major": 2,
       "version_minor": 0
      },
      "text/plain": [
       "Evaluating in validation set:   0%|          | 0/12 [00:00<?, ?it/s]"
      ]
     },
     "metadata": {},
     "output_type": "display_data"
    },
    {
     "name": "stdout",
     "output_type": "stream",
     "text": [
      "Validation Loss 1.914\n"
     ]
    },
    {
     "data": {
      "application/vnd.jupyter.widget-view+json": {
       "model_id": "c6fc61814a474b0798c3f62da0eb6796",
       "version_major": 2,
       "version_minor": 0
      },
      "text/plain": [
       "Evaluating in validation set:   0%|          | 0/12 [00:00<?, ?it/s]"
      ]
     },
     "metadata": {},
     "output_type": "display_data"
    },
    {
     "name": "stdout",
     "output_type": "stream",
     "text": [
      "Validation Loss 1.564\n"
     ]
    },
    {
     "data": {
      "application/vnd.jupyter.widget-view+json": {
       "model_id": "79b750639dd64d44a56f1497ff32caec",
       "version_major": 2,
       "version_minor": 0
      },
      "text/plain": [
       "Evaluating in validation set:   0%|          | 0/12 [00:00<?, ?it/s]"
      ]
     },
     "metadata": {},
     "output_type": "display_data"
    },
    {
     "name": "stdout",
     "output_type": "stream",
     "text": [
      "Validation Loss 1.706\n"
     ]
    },
    {
     "data": {
      "application/vnd.jupyter.widget-view+json": {
       "model_id": "73a9453e9bcf4f39b7d5164d5fac132e",
       "version_major": 2,
       "version_minor": 0
      },
      "text/plain": [
       "Evaluating in validation set:   0%|          | 0/12 [00:00<?, ?it/s]"
      ]
     },
     "metadata": {},
     "output_type": "display_data"
    },
    {
     "name": "stdout",
     "output_type": "stream",
     "text": [
      "Validation Loss 1.624\n"
     ]
    },
    {
     "data": {
      "application/vnd.jupyter.widget-view+json": {
       "model_id": "5ce65a6ecf1141aa8e38bec260ed47c4",
       "version_major": 2,
       "version_minor": 0
      },
      "text/plain": [
       "Evaluating in validation set:   0%|          | 0/12 [00:00<?, ?it/s]"
      ]
     },
     "metadata": {},
     "output_type": "display_data"
    },
    {
     "name": "stdout",
     "output_type": "stream",
     "text": [
      "Validation Loss 1.541\n"
     ]
    },
    {
     "data": {
      "application/vnd.jupyter.widget-view+json": {
       "model_id": "c27d3b0320804691ae85c37633fba64d",
       "version_major": 2,
       "version_minor": 0
      },
      "text/plain": [
       "Evaluating in validation set:   0%|          | 0/12 [00:00<?, ?it/s]"
      ]
     },
     "metadata": {},
     "output_type": "display_data"
    },
    {
     "name": "stdout",
     "output_type": "stream",
     "text": [
      "Validation Loss 1.662\n"
     ]
    },
    {
     "data": {
      "application/vnd.jupyter.widget-view+json": {
       "model_id": "5b63edb33d594edd8e2f302864ed4cab",
       "version_major": 2,
       "version_minor": 0
      },
      "text/plain": [
       "Evaluating in validation set:   0%|          | 0/12 [00:00<?, ?it/s]"
      ]
     },
     "metadata": {},
     "output_type": "display_data"
    },
    {
     "name": "stdout",
     "output_type": "stream",
     "text": [
      "Validation Loss 1.241\n"
     ]
    },
    {
     "data": {
      "application/vnd.jupyter.widget-view+json": {
       "model_id": "5430f5af4b384e598dab4778a2db42a8",
       "version_major": 2,
       "version_minor": 0
      },
      "text/plain": [
       "Evaluating in validation set:   0%|          | 0/12 [00:00<?, ?it/s]"
      ]
     },
     "metadata": {},
     "output_type": "display_data"
    },
    {
     "name": "stdout",
     "output_type": "stream",
     "text": [
      "Validation Loss 1.605\n"
     ]
    },
    {
     "data": {
      "application/vnd.jupyter.widget-view+json": {
       "model_id": "00a0aa81c5f444498c9730ffd66203b9",
       "version_major": 2,
       "version_minor": 0
      },
      "text/plain": [
       "Evaluating in validation set:   0%|          | 0/12 [00:00<?, ?it/s]"
      ]
     },
     "metadata": {},
     "output_type": "display_data"
    },
    {
     "name": "stdout",
     "output_type": "stream",
     "text": [
      "Validation Loss 1.319\n"
     ]
    },
    {
     "data": {
      "application/vnd.jupyter.widget-view+json": {
       "model_id": "0d3e56b5376744efb3100558c51a5e51",
       "version_major": 2,
       "version_minor": 0
      },
      "text/plain": [
       "Evaluating in validation set:   0%|          | 0/12 [00:00<?, ?it/s]"
      ]
     },
     "metadata": {},
     "output_type": "display_data"
    },
    {
     "name": "stdout",
     "output_type": "stream",
     "text": [
      "Validation Loss 1.236\n"
     ]
    },
    {
     "data": {
      "application/vnd.jupyter.widget-view+json": {
       "model_id": "1840dc09f35b4c7d82412ea12222a668",
       "version_major": 2,
       "version_minor": 0
      },
      "text/plain": [
       "Evaluating in validation set:   0%|          | 0/12 [00:00<?, ?it/s]"
      ]
     },
     "metadata": {},
     "output_type": "display_data"
    },
    {
     "name": "stdout",
     "output_type": "stream",
     "text": [
      "Validation Loss 1.449\n"
     ]
    },
    {
     "data": {
      "application/vnd.jupyter.widget-view+json": {
       "model_id": "aa30f81f74dc4f7a978cf11c48595885",
       "version_major": 2,
       "version_minor": 0
      },
      "text/plain": [
       "Evaluating in validation set:   0%|          | 0/12 [00:00<?, ?it/s]"
      ]
     },
     "metadata": {},
     "output_type": "display_data"
    },
    {
     "name": "stdout",
     "output_type": "stream",
     "text": [
      "Validation Loss 1.983\n"
     ]
    },
    {
     "data": {
      "application/vnd.jupyter.widget-view+json": {
       "model_id": "55cab6066bc24571a80903469bf8402f",
       "version_major": 2,
       "version_minor": 0
      },
      "text/plain": [
       "Evaluating in validation set:   0%|          | 0/12 [00:00<?, ?it/s]"
      ]
     },
     "metadata": {},
     "output_type": "display_data"
    },
    {
     "name": "stdout",
     "output_type": "stream",
     "text": [
      "Validation Loss 1.695\n"
     ]
    },
    {
     "data": {
      "application/vnd.jupyter.widget-view+json": {
       "model_id": "05946e67f78b4895b7024790dce6fd26",
       "version_major": 2,
       "version_minor": 0
      },
      "text/plain": [
       "Evaluating in validation set:   0%|          | 0/12 [00:00<?, ?it/s]"
      ]
     },
     "metadata": {},
     "output_type": "display_data"
    },
    {
     "name": "stdout",
     "output_type": "stream",
     "text": [
      "Validation Loss 2.032\n"
     ]
    },
    {
     "data": {
      "application/vnd.jupyter.widget-view+json": {
       "model_id": "3eaddcdf6f144572a2cc7068cbda117a",
       "version_major": 2,
       "version_minor": 0
      },
      "text/plain": [
       "Evaluating in validation set:   0%|          | 0/12 [00:00<?, ?it/s]"
      ]
     },
     "metadata": {},
     "output_type": "display_data"
    },
    {
     "name": "stdout",
     "output_type": "stream",
     "text": [
      "Validation Loss 1.575\n"
     ]
    },
    {
     "data": {
      "application/vnd.jupyter.widget-view+json": {
       "model_id": "4d9b5a334fc243a49d77c2c897454bfa",
       "version_major": 2,
       "version_minor": 0
      },
      "text/plain": [
       "Evaluating in validation set:   0%|          | 0/12 [00:00<?, ?it/s]"
      ]
     },
     "metadata": {},
     "output_type": "display_data"
    },
    {
     "name": "stdout",
     "output_type": "stream",
     "text": [
      "Validation Loss 1.760\n"
     ]
    },
    {
     "data": {
      "application/vnd.jupyter.widget-view+json": {
       "model_id": "e13caa93276c40188937c1589ff8ee1b",
       "version_major": 2,
       "version_minor": 0
      },
      "text/plain": [
       "Evaluating in validation set:   0%|          | 0/12 [00:00<?, ?it/s]"
      ]
     },
     "metadata": {},
     "output_type": "display_data"
    },
    {
     "name": "stdout",
     "output_type": "stream",
     "text": [
      "Validation Loss 1.986\n"
     ]
    },
    {
     "data": {
      "application/vnd.jupyter.widget-view+json": {
       "model_id": "8b89590f6fd74b41b08ee5094339c5e5",
       "version_major": 2,
       "version_minor": 0
      },
      "text/plain": [
       "Evaluating in validation set:   0%|          | 0/12 [00:00<?, ?it/s]"
      ]
     },
     "metadata": {},
     "output_type": "display_data"
    },
    {
     "name": "stdout",
     "output_type": "stream",
     "text": [
      "Validation Loss 1.866\n"
     ]
    },
    {
     "data": {
      "application/vnd.jupyter.widget-view+json": {
       "model_id": "31f109f8a4c1487284a0fcfac8b33b14",
       "version_major": 2,
       "version_minor": 0
      },
      "text/plain": [
       "Evaluating in validation set:   0%|          | 0/12 [00:00<?, ?it/s]"
      ]
     },
     "metadata": {},
     "output_type": "display_data"
    },
    {
     "name": "stdout",
     "output_type": "stream",
     "text": [
      "Validation Loss 1.864\n"
     ]
    },
    {
     "data": {
      "application/vnd.jupyter.widget-view+json": {
       "model_id": "ec56ea0f06e746619a0d33b427324cb5",
       "version_major": 2,
       "version_minor": 0
      },
      "text/plain": [
       "Evaluating in validation set:   0%|          | 0/12 [00:00<?, ?it/s]"
      ]
     },
     "metadata": {},
     "output_type": "display_data"
    },
    {
     "name": "stdout",
     "output_type": "stream",
     "text": [
      "Validation Loss 2.049\n"
     ]
    },
    {
     "data": {
      "application/vnd.jupyter.widget-view+json": {
       "model_id": "8f57ebb9e1dd4ee68ded959639e5859e",
       "version_major": 2,
       "version_minor": 0
      },
      "text/plain": [
       "Evaluating in validation set:   0%|          | 0/12 [00:00<?, ?it/s]"
      ]
     },
     "metadata": {},
     "output_type": "display_data"
    },
    {
     "name": "stdout",
     "output_type": "stream",
     "text": [
      "Validation Loss 1.749\n"
     ]
    },
    {
     "data": {
      "application/vnd.jupyter.widget-view+json": {
       "model_id": "f10116d0850e4a638649cceed34bce8f",
       "version_major": 2,
       "version_minor": 0
      },
      "text/plain": [
       "Evaluating in validation set:   0%|          | 0/12 [00:00<?, ?it/s]"
      ]
     },
     "metadata": {},
     "output_type": "display_data"
    },
    {
     "name": "stdout",
     "output_type": "stream",
     "text": [
      "Validation Loss 2.076\n"
     ]
    },
    {
     "data": {
      "application/vnd.jupyter.widget-view+json": {
       "model_id": "77a1e05756fc4ece8a1ebd2fefd83743",
       "version_major": 2,
       "version_minor": 0
      },
      "text/plain": [
       "Evaluating in validation set:   0%|          | 0/12 [00:00<?, ?it/s]"
      ]
     },
     "metadata": {},
     "output_type": "display_data"
    },
    {
     "name": "stdout",
     "output_type": "stream",
     "text": [
      "Validation Loss 2.135\n"
     ]
    },
    {
     "data": {
      "application/vnd.jupyter.widget-view+json": {
       "model_id": "7f209aaf1e4f4658852483d825ae4d29",
       "version_major": 2,
       "version_minor": 0
      },
      "text/plain": [
       "Evaluating in validation set:   0%|          | 0/12 [00:00<?, ?it/s]"
      ]
     },
     "metadata": {},
     "output_type": "display_data"
    },
    {
     "name": "stdout",
     "output_type": "stream",
     "text": [
      "Validation Loss 2.062\n"
     ]
    },
    {
     "data": {
      "application/vnd.jupyter.widget-view+json": {
       "model_id": "3f2d12cbd4be4915979eb9a70e788c05",
       "version_major": 2,
       "version_minor": 0
      },
      "text/plain": [
       "Evaluating in validation set:   0%|          | 0/12 [00:00<?, ?it/s]"
      ]
     },
     "metadata": {},
     "output_type": "display_data"
    },
    {
     "name": "stdout",
     "output_type": "stream",
     "text": [
      "Validation Loss 1.703\n"
     ]
    },
    {
     "data": {
      "application/vnd.jupyter.widget-view+json": {
       "model_id": "f3114aecf59f4fd79af187df01496eaa",
       "version_major": 2,
       "version_minor": 0
      },
      "text/plain": [
       "Evaluating in validation set:   0%|          | 0/12 [00:00<?, ?it/s]"
      ]
     },
     "metadata": {},
     "output_type": "display_data"
    },
    {
     "name": "stdout",
     "output_type": "stream",
     "text": [
      "Validation Loss 2.045\n"
     ]
    },
    {
     "data": {
      "application/vnd.jupyter.widget-view+json": {
       "model_id": "92ab9a4deae941d299779ea3a17c6b13",
       "version_major": 2,
       "version_minor": 0
      },
      "text/plain": [
       "Evaluating in validation set:   0%|          | 0/12 [00:00<?, ?it/s]"
      ]
     },
     "metadata": {},
     "output_type": "display_data"
    },
    {
     "name": "stdout",
     "output_type": "stream",
     "text": [
      "Validation Loss 1.910\n"
     ]
    },
    {
     "data": {
      "application/vnd.jupyter.widget-view+json": {
       "model_id": "e9ff0e420130424eb8744658756d7af2",
       "version_major": 2,
       "version_minor": 0
      },
      "text/plain": [
       "Evaluating in validation set:   0%|          | 0/12 [00:00<?, ?it/s]"
      ]
     },
     "metadata": {},
     "output_type": "display_data"
    },
    {
     "name": "stdout",
     "output_type": "stream",
     "text": [
      "Validation Loss 1.642\n"
     ]
    },
    {
     "data": {
      "application/vnd.jupyter.widget-view+json": {
       "model_id": "6952251fb16748ed9af6ed43a3c4b353",
       "version_major": 2,
       "version_minor": 0
      },
      "text/plain": [
       "Evaluating in validation set:   0%|          | 0/12 [00:00<?, ?it/s]"
      ]
     },
     "metadata": {},
     "output_type": "display_data"
    },
    {
     "name": "stdout",
     "output_type": "stream",
     "text": [
      "Validation Loss 1.931\n"
     ]
    },
    {
     "data": {
      "application/vnd.jupyter.widget-view+json": {
       "model_id": "0b81051d015f425abdd223b712b3b538",
       "version_major": 2,
       "version_minor": 0
      },
      "text/plain": [
       "Evaluating in validation set:   0%|          | 0/12 [00:00<?, ?it/s]"
      ]
     },
     "metadata": {},
     "output_type": "display_data"
    },
    {
     "name": "stdout",
     "output_type": "stream",
     "text": [
      "Validation Loss 1.751\n"
     ]
    },
    {
     "data": {
      "application/vnd.jupyter.widget-view+json": {
       "model_id": "cd86d89aaee1446987bc157d9bea486c",
       "version_major": 2,
       "version_minor": 0
      },
      "text/plain": [
       "Evaluating in validation set:   0%|          | 0/12 [00:00<?, ?it/s]"
      ]
     },
     "metadata": {},
     "output_type": "display_data"
    },
    {
     "name": "stdout",
     "output_type": "stream",
     "text": [
      "Validation Loss 1.955\n"
     ]
    },
    {
     "data": {
      "application/vnd.jupyter.widget-view+json": {
       "model_id": "22d05b62be5040659e1ee8f985118ca6",
       "version_major": 2,
       "version_minor": 0
      },
      "text/plain": [
       "Evaluating in validation set:   0%|          | 0/12 [00:00<?, ?it/s]"
      ]
     },
     "metadata": {},
     "output_type": "display_data"
    },
    {
     "name": "stdout",
     "output_type": "stream",
     "text": [
      "Validation Loss 1.703\n"
     ]
    },
    {
     "data": {
      "application/vnd.jupyter.widget-view+json": {
       "model_id": "17cb543c9570497a9b4ef2a4970a36f0",
       "version_major": 2,
       "version_minor": 0
      },
      "text/plain": [
       "Evaluating in validation set:   0%|          | 0/12 [00:00<?, ?it/s]"
      ]
     },
     "metadata": {},
     "output_type": "display_data"
    },
    {
     "name": "stdout",
     "output_type": "stream",
     "text": [
      "Validation Loss 1.584\n"
     ]
    },
    {
     "data": {
      "application/vnd.jupyter.widget-view+json": {
       "model_id": "a3f83eaa9d374628b23fb4f201c9cc01",
       "version_major": 2,
       "version_minor": 0
      },
      "text/plain": [
       "Evaluating in validation set:   0%|          | 0/12 [00:00<?, ?it/s]"
      ]
     },
     "metadata": {},
     "output_type": "display_data"
    },
    {
     "name": "stdout",
     "output_type": "stream",
     "text": [
      "Validation Loss 1.806\n"
     ]
    },
    {
     "data": {
      "application/vnd.jupyter.widget-view+json": {
       "model_id": "41a382acf1444b34add8bf00e7e9381b",
       "version_major": 2,
       "version_minor": 0
      },
      "text/plain": [
       "Evaluating in validation set:   0%|          | 0/12 [00:00<?, ?it/s]"
      ]
     },
     "metadata": {},
     "output_type": "display_data"
    },
    {
     "name": "stdout",
     "output_type": "stream",
     "text": [
      "Validation Loss 1.429\n"
     ]
    },
    {
     "data": {
      "application/vnd.jupyter.widget-view+json": {
       "model_id": "eeb1573a4c0740de956102a1ef8ec853",
       "version_major": 2,
       "version_minor": 0
      },
      "text/plain": [
       "Evaluating in validation set:   0%|          | 0/12 [00:00<?, ?it/s]"
      ]
     },
     "metadata": {},
     "output_type": "display_data"
    },
    {
     "name": "stdout",
     "output_type": "stream",
     "text": [
      "Validation Loss 1.521\n"
     ]
    },
    {
     "data": {
      "application/vnd.jupyter.widget-view+json": {
       "model_id": "d6c2847acbeb47eeb1075493db81a433",
       "version_major": 2,
       "version_minor": 0
      },
      "text/plain": [
       "Evaluating in validation set:   0%|          | 0/12 [00:00<?, ?it/s]"
      ]
     },
     "metadata": {},
     "output_type": "display_data"
    },
    {
     "name": "stdout",
     "output_type": "stream",
     "text": [
      "Validation Loss 1.325\n"
     ]
    },
    {
     "data": {
      "application/vnd.jupyter.widget-view+json": {
       "model_id": "d03c208b5b7841a1a5fb43de00fab432",
       "version_major": 2,
       "version_minor": 0
      },
      "text/plain": [
       "Evaluating in validation set:   0%|          | 0/12 [00:00<?, ?it/s]"
      ]
     },
     "metadata": {},
     "output_type": "display_data"
    },
    {
     "name": "stdout",
     "output_type": "stream",
     "text": [
      "Validation Loss 1.218\n"
     ]
    },
    {
     "data": {
      "application/vnd.jupyter.widget-view+json": {
       "model_id": "072aa525fb6245b3ae9a0b182beb326c",
       "version_major": 2,
       "version_minor": 0
      },
      "text/plain": [
       "Evaluating in validation set:   0%|          | 0/12 [00:00<?, ?it/s]"
      ]
     },
     "metadata": {},
     "output_type": "display_data"
    },
    {
     "name": "stdout",
     "output_type": "stream",
     "text": [
      "Validation Loss 1.635\n"
     ]
    },
    {
     "data": {
      "application/vnd.jupyter.widget-view+json": {
       "model_id": "75c51b308de24ede99246072204d59ef",
       "version_major": 2,
       "version_minor": 0
      },
      "text/plain": [
       "Evaluating in validation set:   0%|          | 0/12 [00:00<?, ?it/s]"
      ]
     },
     "metadata": {},
     "output_type": "display_data"
    },
    {
     "name": "stdout",
     "output_type": "stream",
     "text": [
      "Validation Loss 1.763\n"
     ]
    },
    {
     "data": {
      "application/vnd.jupyter.widget-view+json": {
       "model_id": "381509b87fc94b4fb9623a1cd5394e77",
       "version_major": 2,
       "version_minor": 0
      },
      "text/plain": [
       "Evaluating in validation set:   0%|          | 0/12 [00:00<?, ?it/s]"
      ]
     },
     "metadata": {},
     "output_type": "display_data"
    },
    {
     "name": "stdout",
     "output_type": "stream",
     "text": [
      "Validation Loss 1.160\n"
     ]
    },
    {
     "data": {
      "application/vnd.jupyter.widget-view+json": {
       "model_id": "d08327b61dad46a69f2467e7f97a8ad5",
       "version_major": 2,
       "version_minor": 0
      },
      "text/plain": [
       "Evaluating in validation set:   0%|          | 0/12 [00:00<?, ?it/s]"
      ]
     },
     "metadata": {},
     "output_type": "display_data"
    },
    {
     "name": "stdout",
     "output_type": "stream",
     "text": [
      "Validation Loss 1.292\n"
     ]
    },
    {
     "data": {
      "application/vnd.jupyter.widget-view+json": {
       "model_id": "19671c32d3df4e86a7cd964be6c2d8a9",
       "version_major": 2,
       "version_minor": 0
      },
      "text/plain": [
       "Evaluating in validation set:   0%|          | 0/12 [00:00<?, ?it/s]"
      ]
     },
     "metadata": {},
     "output_type": "display_data"
    },
    {
     "name": "stdout",
     "output_type": "stream",
     "text": [
      "Validation Loss 1.589\n"
     ]
    },
    {
     "data": {
      "application/vnd.jupyter.widget-view+json": {
       "model_id": "5d98d0cdeb0d4d028a6f8ba70d25175e",
       "version_major": 2,
       "version_minor": 0
      },
      "text/plain": [
       "Evaluating in validation set:   0%|          | 0/12 [00:00<?, ?it/s]"
      ]
     },
     "metadata": {},
     "output_type": "display_data"
    },
    {
     "name": "stdout",
     "output_type": "stream",
     "text": [
      "Validation Loss 1.469\n"
     ]
    },
    {
     "data": {
      "application/vnd.jupyter.widget-view+json": {
       "model_id": "ede94d79cda3410bb60b9170ff912c46",
       "version_major": 2,
       "version_minor": 0
      },
      "text/plain": [
       "Evaluating in validation set:   0%|          | 0/12 [00:00<?, ?it/s]"
      ]
     },
     "metadata": {},
     "output_type": "display_data"
    },
    {
     "name": "stdout",
     "output_type": "stream",
     "text": [
      "Validation Loss 1.323\n"
     ]
    },
    {
     "data": {
      "application/vnd.jupyter.widget-view+json": {
       "model_id": "d2c4b87b21184f76b66a3ec97d50503c",
       "version_major": 2,
       "version_minor": 0
      },
      "text/plain": [
       "Evaluating in validation set:   0%|          | 0/12 [00:00<?, ?it/s]"
      ]
     },
     "metadata": {},
     "output_type": "display_data"
    },
    {
     "name": "stdout",
     "output_type": "stream",
     "text": [
      "Validation Loss 1.278\n"
     ]
    },
    {
     "data": {
      "application/vnd.jupyter.widget-view+json": {
       "model_id": "9c2ba8162cba4da9a7110834a735b313",
       "version_major": 2,
       "version_minor": 0
      },
      "text/plain": [
       "Evaluating in validation set:   0%|          | 0/12 [00:00<?, ?it/s]"
      ]
     },
     "metadata": {},
     "output_type": "display_data"
    },
    {
     "name": "stdout",
     "output_type": "stream",
     "text": [
      "Validation Loss 1.387\n"
     ]
    },
    {
     "data": {
      "application/vnd.jupyter.widget-view+json": {
       "model_id": "6ac5bb9bbe6b42f0b97e368040544791",
       "version_major": 2,
       "version_minor": 0
      },
      "text/plain": [
       "Evaluating in validation set:   0%|          | 0/12 [00:00<?, ?it/s]"
      ]
     },
     "metadata": {},
     "output_type": "display_data"
    },
    {
     "name": "stdout",
     "output_type": "stream",
     "text": [
      "Validation Loss 1.677\n"
     ]
    },
    {
     "data": {
      "application/vnd.jupyter.widget-view+json": {
       "model_id": "6e47ba382f9c4cdd8552c18899c48a90",
       "version_major": 2,
       "version_minor": 0
      },
      "text/plain": [
       "Evaluating in validation set:   0%|          | 0/12 [00:00<?, ?it/s]"
      ]
     },
     "metadata": {},
     "output_type": "display_data"
    },
    {
     "name": "stdout",
     "output_type": "stream",
     "text": [
      "Validation Loss 1.539\n"
     ]
    },
    {
     "data": {
      "application/vnd.jupyter.widget-view+json": {
       "model_id": "7615e96fccd34c198c033396f7b8b507",
       "version_major": 2,
       "version_minor": 0
      },
      "text/plain": [
       "Evaluating in validation set:   0%|          | 0/12 [00:00<?, ?it/s]"
      ]
     },
     "metadata": {},
     "output_type": "display_data"
    },
    {
     "name": "stdout",
     "output_type": "stream",
     "text": [
      "Validation Loss 1.469\n"
     ]
    },
    {
     "data": {
      "application/vnd.jupyter.widget-view+json": {
       "model_id": "2b2741f1d37e40388235acac94dd584f",
       "version_major": 2,
       "version_minor": 0
      },
      "text/plain": [
       "Evaluating in validation set:   0%|          | 0/12 [00:00<?, ?it/s]"
      ]
     },
     "metadata": {},
     "output_type": "display_data"
    },
    {
     "name": "stdout",
     "output_type": "stream",
     "text": [
      "Validation Loss 1.736\n"
     ]
    },
    {
     "data": {
      "application/vnd.jupyter.widget-view+json": {
       "model_id": "f076292beae04044b8d872bb3d75fa50",
       "version_major": 2,
       "version_minor": 0
      },
      "text/plain": [
       "Evaluating in validation set:   0%|          | 0/12 [00:00<?, ?it/s]"
      ]
     },
     "metadata": {},
     "output_type": "display_data"
    },
    {
     "name": "stdout",
     "output_type": "stream",
     "text": [
      "Validation Loss 1.767\n"
     ]
    },
    {
     "data": {
      "application/vnd.jupyter.widget-view+json": {
       "model_id": "1d74468977d6487faf7eb2ef2cc49efe",
       "version_major": 2,
       "version_minor": 0
      },
      "text/plain": [
       "Evaluating in validation set:   0%|          | 0/12 [00:00<?, ?it/s]"
      ]
     },
     "metadata": {},
     "output_type": "display_data"
    },
    {
     "name": "stdout",
     "output_type": "stream",
     "text": [
      "Validation Loss 1.243\n"
     ]
    },
    {
     "data": {
      "application/vnd.jupyter.widget-view+json": {
       "model_id": "8e5949689ab74ed487c90dc139323b8b",
       "version_major": 2,
       "version_minor": 0
      },
      "text/plain": [
       "Evaluating in validation set:   0%|          | 0/12 [00:00<?, ?it/s]"
      ]
     },
     "metadata": {},
     "output_type": "display_data"
    },
    {
     "name": "stdout",
     "output_type": "stream",
     "text": [
      "Validation Loss 1.445\n"
     ]
    },
    {
     "data": {
      "application/vnd.jupyter.widget-view+json": {
       "model_id": "3ad63a7dffd544dc9273937bae9f6b34",
       "version_major": 2,
       "version_minor": 0
      },
      "text/plain": [
       "Evaluating in validation set:   0%|          | 0/12 [00:00<?, ?it/s]"
      ]
     },
     "metadata": {},
     "output_type": "display_data"
    },
    {
     "name": "stdout",
     "output_type": "stream",
     "text": [
      "Validation Loss 1.518\n"
     ]
    },
    {
     "data": {
      "application/vnd.jupyter.widget-view+json": {
       "model_id": "9207aca0a30e4bafbc8705961371477a",
       "version_major": 2,
       "version_minor": 0
      },
      "text/plain": [
       "Evaluating in validation set:   0%|          | 0/12 [00:00<?, ?it/s]"
      ]
     },
     "metadata": {},
     "output_type": "display_data"
    },
    {
     "name": "stdout",
     "output_type": "stream",
     "text": [
      "Validation Loss 1.542\n"
     ]
    },
    {
     "data": {
      "application/vnd.jupyter.widget-view+json": {
       "model_id": "6104c57c6ed84d9fb4ed54ca8df5d6d5",
       "version_major": 2,
       "version_minor": 0
      },
      "text/plain": [
       "Evaluating in validation set:   0%|          | 0/12 [00:00<?, ?it/s]"
      ]
     },
     "metadata": {},
     "output_type": "display_data"
    },
    {
     "name": "stdout",
     "output_type": "stream",
     "text": [
      "Validation Loss 1.318\n"
     ]
    },
    {
     "data": {
      "application/vnd.jupyter.widget-view+json": {
       "model_id": "da98c9c7ff0f4973a55ff0295a9864e0",
       "version_major": 2,
       "version_minor": 0
      },
      "text/plain": [
       "Evaluating in validation set:   0%|          | 0/12 [00:00<?, ?it/s]"
      ]
     },
     "metadata": {},
     "output_type": "display_data"
    },
    {
     "name": "stdout",
     "output_type": "stream",
     "text": [
      "Validation Loss 1.100\n"
     ]
    },
    {
     "data": {
      "application/vnd.jupyter.widget-view+json": {
       "model_id": "902c5006751240078e3b916073606dd4",
       "version_major": 2,
       "version_minor": 0
      },
      "text/plain": [
       "Evaluating in validation set:   0%|          | 0/12 [00:00<?, ?it/s]"
      ]
     },
     "metadata": {},
     "output_type": "display_data"
    },
    {
     "name": "stdout",
     "output_type": "stream",
     "text": [
      "Validation Loss 1.458\n"
     ]
    },
    {
     "data": {
      "application/vnd.jupyter.widget-view+json": {
       "model_id": "bc38c7799d824f03b1c7bee4c80b93fa",
       "version_major": 2,
       "version_minor": 0
      },
      "text/plain": [
       "Evaluating in validation set:   0%|          | 0/12 [00:00<?, ?it/s]"
      ]
     },
     "metadata": {},
     "output_type": "display_data"
    },
    {
     "name": "stdout",
     "output_type": "stream",
     "text": [
      "Validation Loss 1.954\n"
     ]
    },
    {
     "data": {
      "application/vnd.jupyter.widget-view+json": {
       "model_id": "f263a2c6aa7346b5b8dc8636cdfa88e6",
       "version_major": 2,
       "version_minor": 0
      },
      "text/plain": [
       "Evaluating in validation set:   0%|          | 0/12 [00:00<?, ?it/s]"
      ]
     },
     "metadata": {},
     "output_type": "display_data"
    },
    {
     "name": "stdout",
     "output_type": "stream",
     "text": [
      "Validation Loss 1.594\n"
     ]
    },
    {
     "data": {
      "application/vnd.jupyter.widget-view+json": {
       "model_id": "9ecf8200aee74b5eb1563e806c3cb1b0",
       "version_major": 2,
       "version_minor": 0
      },
      "text/plain": [
       "Evaluating in validation set:   0%|          | 0/12 [00:00<?, ?it/s]"
      ]
     },
     "metadata": {},
     "output_type": "display_data"
    },
    {
     "name": "stdout",
     "output_type": "stream",
     "text": [
      "Validation Loss 1.643\n"
     ]
    },
    {
     "data": {
      "application/vnd.jupyter.widget-view+json": {
       "model_id": "88b6f51afd204052bf4a99bb15b28ff9",
       "version_major": 2,
       "version_minor": 0
      },
      "text/plain": [
       "Evaluating in validation set:   0%|          | 0/12 [00:00<?, ?it/s]"
      ]
     },
     "metadata": {},
     "output_type": "display_data"
    },
    {
     "name": "stdout",
     "output_type": "stream",
     "text": [
      "Validation Loss 1.754\n"
     ]
    },
    {
     "data": {
      "application/vnd.jupyter.widget-view+json": {
       "model_id": "b074b9f4eb064cd1a82f35df6e115c59",
       "version_major": 2,
       "version_minor": 0
      },
      "text/plain": [
       "Evaluating in validation set:   0%|          | 0/12 [00:00<?, ?it/s]"
      ]
     },
     "metadata": {},
     "output_type": "display_data"
    },
    {
     "name": "stdout",
     "output_type": "stream",
     "text": [
      "Validation Loss 1.686\n"
     ]
    },
    {
     "data": {
      "application/vnd.jupyter.widget-view+json": {
       "model_id": "9ca604729ed74865ba6a6c98e55fb94a",
       "version_major": 2,
       "version_minor": 0
      },
      "text/plain": [
       "Evaluating in validation set:   0%|          | 0/12 [00:00<?, ?it/s]"
      ]
     },
     "metadata": {},
     "output_type": "display_data"
    },
    {
     "name": "stdout",
     "output_type": "stream",
     "text": [
      "Validation Loss 1.804\n"
     ]
    },
    {
     "data": {
      "application/vnd.jupyter.widget-view+json": {
       "model_id": "1d242fb50b4d43d78eee5552f69a3c88",
       "version_major": 2,
       "version_minor": 0
      },
      "text/plain": [
       "Evaluating in validation set:   0%|          | 0/12 [00:00<?, ?it/s]"
      ]
     },
     "metadata": {},
     "output_type": "display_data"
    },
    {
     "name": "stdout",
     "output_type": "stream",
     "text": [
      "Validation Loss 1.807\n"
     ]
    },
    {
     "data": {
      "application/vnd.jupyter.widget-view+json": {
       "model_id": "f07762ed75404344b0ba3b4a84353af2",
       "version_major": 2,
       "version_minor": 0
      },
      "text/plain": [
       "Evaluating in validation set:   0%|          | 0/12 [00:00<?, ?it/s]"
      ]
     },
     "metadata": {},
     "output_type": "display_data"
    },
    {
     "name": "stdout",
     "output_type": "stream",
     "text": [
      "Validation Loss 1.534\n"
     ]
    },
    {
     "data": {
      "application/vnd.jupyter.widget-view+json": {
       "model_id": "a57e65e464084e05b5357c9be7ba0e3e",
       "version_major": 2,
       "version_minor": 0
      },
      "text/plain": [
       "Evaluating in validation set:   0%|          | 0/12 [00:00<?, ?it/s]"
      ]
     },
     "metadata": {},
     "output_type": "display_data"
    },
    {
     "name": "stdout",
     "output_type": "stream",
     "text": [
      "Validation Loss 1.531\n"
     ]
    },
    {
     "data": {
      "application/vnd.jupyter.widget-view+json": {
       "model_id": "4f224555e27d460e90bbef14ab63c661",
       "version_major": 2,
       "version_minor": 0
      },
      "text/plain": [
       "Evaluating in validation set:   0%|          | 0/12 [00:00<?, ?it/s]"
      ]
     },
     "metadata": {},
     "output_type": "display_data"
    },
    {
     "name": "stdout",
     "output_type": "stream",
     "text": [
      "Validation Loss 1.661\n"
     ]
    },
    {
     "data": {
      "application/vnd.jupyter.widget-view+json": {
       "model_id": "e5d2b3bf337b4a6f8e81dc3739931b63",
       "version_major": 2,
       "version_minor": 0
      },
      "text/plain": [
       "Evaluating in validation set:   0%|          | 0/12 [00:00<?, ?it/s]"
      ]
     },
     "metadata": {},
     "output_type": "display_data"
    },
    {
     "name": "stdout",
     "output_type": "stream",
     "text": [
      "Validation Loss 1.552\n"
     ]
    },
    {
     "data": {
      "application/vnd.jupyter.widget-view+json": {
       "model_id": "b2486f7c562243f5b787569021801fdf",
       "version_major": 2,
       "version_minor": 0
      },
      "text/plain": [
       "Evaluating in validation set:   0%|          | 0/12 [00:00<?, ?it/s]"
      ]
     },
     "metadata": {},
     "output_type": "display_data"
    },
    {
     "name": "stdout",
     "output_type": "stream",
     "text": [
      "Validation Loss 1.551\n"
     ]
    },
    {
     "data": {
      "application/vnd.jupyter.widget-view+json": {
       "model_id": "ebdfb998a08e48989077039475da84e6",
       "version_major": 2,
       "version_minor": 0
      },
      "text/plain": [
       "Evaluating in validation set:   0%|          | 0/12 [00:00<?, ?it/s]"
      ]
     },
     "metadata": {},
     "output_type": "display_data"
    },
    {
     "name": "stdout",
     "output_type": "stream",
     "text": [
      "Validation Loss 1.264\n"
     ]
    },
    {
     "data": {
      "application/vnd.jupyter.widget-view+json": {
       "model_id": "8c31b5e8072643179dc7af51217ec853",
       "version_major": 2,
       "version_minor": 0
      },
      "text/plain": [
       "Evaluating in validation set:   0%|          | 0/12 [00:00<?, ?it/s]"
      ]
     },
     "metadata": {},
     "output_type": "display_data"
    },
    {
     "name": "stdout",
     "output_type": "stream",
     "text": [
      "Validation Loss 1.477\n"
     ]
    },
    {
     "data": {
      "application/vnd.jupyter.widget-view+json": {
       "model_id": "ae05f41c0a2f4ffbb6bc806786647fbc",
       "version_major": 2,
       "version_minor": 0
      },
      "text/plain": [
       "Evaluating in validation set:   0%|          | 0/12 [00:00<?, ?it/s]"
      ]
     },
     "metadata": {},
     "output_type": "display_data"
    },
    {
     "name": "stdout",
     "output_type": "stream",
     "text": [
      "Validation Loss 1.307\n"
     ]
    },
    {
     "data": {
      "application/vnd.jupyter.widget-view+json": {
       "model_id": "e33cbc13a71d40b29a4a0b9679a2588f",
       "version_major": 2,
       "version_minor": 0
      },
      "text/plain": [
       "Evaluating in validation set:   0%|          | 0/12 [00:00<?, ?it/s]"
      ]
     },
     "metadata": {},
     "output_type": "display_data"
    },
    {
     "name": "stdout",
     "output_type": "stream",
     "text": [
      "Validation Loss 1.562\n"
     ]
    },
    {
     "data": {
      "application/vnd.jupyter.widget-view+json": {
       "model_id": "ea67645aa8b14fa7b124b0048ce5df90",
       "version_major": 2,
       "version_minor": 0
      },
      "text/plain": [
       "Evaluating in validation set:   0%|          | 0/12 [00:00<?, ?it/s]"
      ]
     },
     "metadata": {},
     "output_type": "display_data"
    },
    {
     "name": "stdout",
     "output_type": "stream",
     "text": [
      "Validation Loss 1.688\n"
     ]
    },
    {
     "data": {
      "application/vnd.jupyter.widget-view+json": {
       "model_id": "a65774de2ba648318ba4492c673b06e3",
       "version_major": 2,
       "version_minor": 0
      },
      "text/plain": [
       "Evaluating in validation set:   0%|          | 0/12 [00:00<?, ?it/s]"
      ]
     },
     "metadata": {},
     "output_type": "display_data"
    },
    {
     "name": "stdout",
     "output_type": "stream",
     "text": [
      "Validation Loss 1.349\n"
     ]
    },
    {
     "data": {
      "application/vnd.jupyter.widget-view+json": {
       "model_id": "155ddd2fedfd4a96b391ce1a489c75dc",
       "version_major": 2,
       "version_minor": 0
      },
      "text/plain": [
       "Evaluating in validation set:   0%|          | 0/12 [00:00<?, ?it/s]"
      ]
     },
     "metadata": {},
     "output_type": "display_data"
    },
    {
     "name": "stdout",
     "output_type": "stream",
     "text": [
      "Validation Loss 1.390\n"
     ]
    },
    {
     "data": {
      "application/vnd.jupyter.widget-view+json": {
       "model_id": "7f8aceac08534df08242c41d16c47cf7",
       "version_major": 2,
       "version_minor": 0
      },
      "text/plain": [
       "Evaluating in validation set:   0%|          | 0/12 [00:00<?, ?it/s]"
      ]
     },
     "metadata": {},
     "output_type": "display_data"
    },
    {
     "name": "stdout",
     "output_type": "stream",
     "text": [
      "Validation Loss 1.408\n"
     ]
    },
    {
     "data": {
      "application/vnd.jupyter.widget-view+json": {
       "model_id": "ef50ae7e90724fd58b96b899bbf506bd",
       "version_major": 2,
       "version_minor": 0
      },
      "text/plain": [
       "Evaluating in validation set:   0%|          | 0/12 [00:00<?, ?it/s]"
      ]
     },
     "metadata": {},
     "output_type": "display_data"
    },
    {
     "name": "stdout",
     "output_type": "stream",
     "text": [
      "Validation Loss 1.544\n"
     ]
    },
    {
     "data": {
      "application/vnd.jupyter.widget-view+json": {
       "model_id": "2b357c8fe0d04e03abcda3181d1441c2",
       "version_major": 2,
       "version_minor": 0
      },
      "text/plain": [
       "Evaluating in validation set:   0%|          | 0/12 [00:00<?, ?it/s]"
      ]
     },
     "metadata": {},
     "output_type": "display_data"
    },
    {
     "name": "stdout",
     "output_type": "stream",
     "text": [
      "Validation Loss 1.825\n"
     ]
    },
    {
     "data": {
      "application/vnd.jupyter.widget-view+json": {
       "model_id": "2ec41a9d7e4040b694d74066f99413db",
       "version_major": 2,
       "version_minor": 0
      },
      "text/plain": [
       "Evaluating in validation set:   0%|          | 0/12 [00:00<?, ?it/s]"
      ]
     },
     "metadata": {},
     "output_type": "display_data"
    },
    {
     "name": "stdout",
     "output_type": "stream",
     "text": [
      "Validation Loss 1.413\n"
     ]
    },
    {
     "data": {
      "application/vnd.jupyter.widget-view+json": {
       "model_id": "3b1ad2d87dce4144ad40297294f9f327",
       "version_major": 2,
       "version_minor": 0
      },
      "text/plain": [
       "Evaluating in validation set:   0%|          | 0/12 [00:00<?, ?it/s]"
      ]
     },
     "metadata": {},
     "output_type": "display_data"
    },
    {
     "name": "stdout",
     "output_type": "stream",
     "text": [
      "Validation Loss 1.270\n"
     ]
    },
    {
     "data": {
      "application/vnd.jupyter.widget-view+json": {
       "model_id": "0b6920fa78794701a84fc5ea0a5d1383",
       "version_major": 2,
       "version_minor": 0
      },
      "text/plain": [
       "Evaluating in validation set:   0%|          | 0/12 [00:00<?, ?it/s]"
      ]
     },
     "metadata": {},
     "output_type": "display_data"
    },
    {
     "name": "stdout",
     "output_type": "stream",
     "text": [
      "Validation Loss 1.421\n"
     ]
    },
    {
     "data": {
      "application/vnd.jupyter.widget-view+json": {
       "model_id": "9f07a54eebd54b5e8ed28dbfd87bb7bd",
       "version_major": 2,
       "version_minor": 0
      },
      "text/plain": [
       "Evaluating in validation set:   0%|          | 0/12 [00:00<?, ?it/s]"
      ]
     },
     "metadata": {},
     "output_type": "display_data"
    },
    {
     "name": "stdout",
     "output_type": "stream",
     "text": [
      "Validation Loss 1.355\n"
     ]
    },
    {
     "data": {
      "application/vnd.jupyter.widget-view+json": {
       "model_id": "e0a9ba72d44441ea8fe79e219a0f6d05",
       "version_major": 2,
       "version_minor": 0
      },
      "text/plain": [
       "Evaluating in validation set:   0%|          | 0/12 [00:00<?, ?it/s]"
      ]
     },
     "metadata": {},
     "output_type": "display_data"
    },
    {
     "name": "stdout",
     "output_type": "stream",
     "text": [
      "Validation Loss 1.221\n"
     ]
    },
    {
     "data": {
      "application/vnd.jupyter.widget-view+json": {
       "model_id": "2d0cfbc7e3b64981b541db41d06f4eda",
       "version_major": 2,
       "version_minor": 0
      },
      "text/plain": [
       "Evaluating in validation set:   0%|          | 0/12 [00:00<?, ?it/s]"
      ]
     },
     "metadata": {},
     "output_type": "display_data"
    },
    {
     "name": "stdout",
     "output_type": "stream",
     "text": [
      "Validation Loss 1.688\n"
     ]
    },
    {
     "data": {
      "application/vnd.jupyter.widget-view+json": {
       "model_id": "9f34a6ed5243413e8077be1ecd56bbf9",
       "version_major": 2,
       "version_minor": 0
      },
      "text/plain": [
       "Evaluating in validation set:   0%|          | 0/12 [00:00<?, ?it/s]"
      ]
     },
     "metadata": {},
     "output_type": "display_data"
    },
    {
     "name": "stdout",
     "output_type": "stream",
     "text": [
      "Validation Loss 1.773\n"
     ]
    },
    {
     "data": {
      "application/vnd.jupyter.widget-view+json": {
       "model_id": "fb1cb0d49b12429a8e25f8e8d5cee3f2",
       "version_major": 2,
       "version_minor": 0
      },
      "text/plain": [
       "Evaluating in validation set:   0%|          | 0/12 [00:00<?, ?it/s]"
      ]
     },
     "metadata": {},
     "output_type": "display_data"
    },
    {
     "name": "stdout",
     "output_type": "stream",
     "text": [
      "Validation Loss 1.868\n"
     ]
    },
    {
     "data": {
      "application/vnd.jupyter.widget-view+json": {
       "model_id": "ad88452e6a2d46039b4b1e7198b1f926",
       "version_major": 2,
       "version_minor": 0
      },
      "text/plain": [
       "Evaluating in validation set:   0%|          | 0/12 [00:00<?, ?it/s]"
      ]
     },
     "metadata": {},
     "output_type": "display_data"
    },
    {
     "name": "stdout",
     "output_type": "stream",
     "text": [
      "Validation Loss 1.522\n"
     ]
    },
    {
     "data": {
      "application/vnd.jupyter.widget-view+json": {
       "model_id": "d2e73777d95c4bbe9e92f523536128e6",
       "version_major": 2,
       "version_minor": 0
      },
      "text/plain": [
       "Evaluating in validation set:   0%|          | 0/12 [00:00<?, ?it/s]"
      ]
     },
     "metadata": {},
     "output_type": "display_data"
    },
    {
     "name": "stdout",
     "output_type": "stream",
     "text": [
      "Validation Loss 1.717\n"
     ]
    },
    {
     "data": {
      "application/vnd.jupyter.widget-view+json": {
       "model_id": "9b257c4942f14508a30c0d2a763fdfa3",
       "version_major": 2,
       "version_minor": 0
      },
      "text/plain": [
       "Evaluating in validation set:   0%|          | 0/12 [00:00<?, ?it/s]"
      ]
     },
     "metadata": {},
     "output_type": "display_data"
    },
    {
     "name": "stdout",
     "output_type": "stream",
     "text": [
      "Validation Loss 1.494\n"
     ]
    },
    {
     "data": {
      "application/vnd.jupyter.widget-view+json": {
       "model_id": "f2d972c5924d460691d2fd0684377328",
       "version_major": 2,
       "version_minor": 0
      },
      "text/plain": [
       "Evaluating in validation set:   0%|          | 0/12 [00:00<?, ?it/s]"
      ]
     },
     "metadata": {},
     "output_type": "display_data"
    },
    {
     "name": "stdout",
     "output_type": "stream",
     "text": [
      "Validation Loss 1.888\n"
     ]
    },
    {
     "data": {
      "application/vnd.jupyter.widget-view+json": {
       "model_id": "7c9ccdbc675146b9bd86b20485172a68",
       "version_major": 2,
       "version_minor": 0
      },
      "text/plain": [
       "Evaluating in validation set:   0%|          | 0/12 [00:00<?, ?it/s]"
      ]
     },
     "metadata": {},
     "output_type": "display_data"
    },
    {
     "name": "stdout",
     "output_type": "stream",
     "text": [
      "Validation Loss 1.410\n"
     ]
    },
    {
     "data": {
      "application/vnd.jupyter.widget-view+json": {
       "model_id": "64bbcbbe7ba943dd9dc556c1e0818eda",
       "version_major": 2,
       "version_minor": 0
      },
      "text/plain": [
       "Evaluating in validation set:   0%|          | 0/12 [00:00<?, ?it/s]"
      ]
     },
     "metadata": {},
     "output_type": "display_data"
    },
    {
     "name": "stdout",
     "output_type": "stream",
     "text": [
      "Validation Loss 1.628\n"
     ]
    },
    {
     "data": {
      "application/vnd.jupyter.widget-view+json": {
       "model_id": "a01a94252f6040108c2f252a443439c9",
       "version_major": 2,
       "version_minor": 0
      },
      "text/plain": [
       "Evaluating in validation set:   0%|          | 0/12 [00:00<?, ?it/s]"
      ]
     },
     "metadata": {},
     "output_type": "display_data"
    },
    {
     "name": "stdout",
     "output_type": "stream",
     "text": [
      "Validation Loss 1.743\n"
     ]
    },
    {
     "data": {
      "application/vnd.jupyter.widget-view+json": {
       "model_id": "924aaa972deb48d8a148f52380c4810e",
       "version_major": 2,
       "version_minor": 0
      },
      "text/plain": [
       "Evaluating in validation set:   0%|          | 0/12 [00:00<?, ?it/s]"
      ]
     },
     "metadata": {},
     "output_type": "display_data"
    },
    {
     "name": "stdout",
     "output_type": "stream",
     "text": [
      "Validation Loss 1.655\n"
     ]
    },
    {
     "data": {
      "application/vnd.jupyter.widget-view+json": {
       "model_id": "0c584da53db640a5b24e0a4119135a9c",
       "version_major": 2,
       "version_minor": 0
      },
      "text/plain": [
       "Evaluating in validation set:   0%|          | 0/12 [00:00<?, ?it/s]"
      ]
     },
     "metadata": {},
     "output_type": "display_data"
    },
    {
     "name": "stdout",
     "output_type": "stream",
     "text": [
      "Validation Loss 1.766\n"
     ]
    },
    {
     "data": {
      "application/vnd.jupyter.widget-view+json": {
       "model_id": "760d64524aa04d6e97d79df457ad3dbb",
       "version_major": 2,
       "version_minor": 0
      },
      "text/plain": [
       "Evaluating in validation set:   0%|          | 0/12 [00:00<?, ?it/s]"
      ]
     },
     "metadata": {},
     "output_type": "display_data"
    },
    {
     "name": "stdout",
     "output_type": "stream",
     "text": [
      "Validation Loss 1.508\n"
     ]
    },
    {
     "data": {
      "application/vnd.jupyter.widget-view+json": {
       "model_id": "611bbd569a4c433c9e03e1ebe8df15e0",
       "version_major": 2,
       "version_minor": 0
      },
      "text/plain": [
       "Evaluating in validation set:   0%|          | 0/12 [00:00<?, ?it/s]"
      ]
     },
     "metadata": {},
     "output_type": "display_data"
    },
    {
     "name": "stdout",
     "output_type": "stream",
     "text": [
      "Validation Loss 1.667\n"
     ]
    },
    {
     "data": {
      "application/vnd.jupyter.widget-view+json": {
       "model_id": "5f8f4e89ea264882adb2d76c6647fc5f",
       "version_major": 2,
       "version_minor": 0
      },
      "text/plain": [
       "Evaluating in validation set:   0%|          | 0/12 [00:00<?, ?it/s]"
      ]
     },
     "metadata": {},
     "output_type": "display_data"
    },
    {
     "name": "stdout",
     "output_type": "stream",
     "text": [
      "Validation Loss 1.807\n"
     ]
    },
    {
     "data": {
      "application/vnd.jupyter.widget-view+json": {
       "model_id": "5656c3f3384c43a288b4259492e607df",
       "version_major": 2,
       "version_minor": 0
      },
      "text/plain": [
       "Evaluating in validation set:   0%|          | 0/12 [00:00<?, ?it/s]"
      ]
     },
     "metadata": {},
     "output_type": "display_data"
    },
    {
     "name": "stdout",
     "output_type": "stream",
     "text": [
      "Validation Loss 1.771\n"
     ]
    },
    {
     "data": {
      "application/vnd.jupyter.widget-view+json": {
       "model_id": "a5e865a2b6a84818b4945f7abeecdc8d",
       "version_major": 2,
       "version_minor": 0
      },
      "text/plain": [
       "Evaluating in validation set:   0%|          | 0/12 [00:00<?, ?it/s]"
      ]
     },
     "metadata": {},
     "output_type": "display_data"
    },
    {
     "name": "stdout",
     "output_type": "stream",
     "text": [
      "Validation Loss 2.051\n"
     ]
    },
    {
     "data": {
      "application/vnd.jupyter.widget-view+json": {
       "model_id": "9a0b5d0f247544f488f2eba6ae06600d",
       "version_major": 2,
       "version_minor": 0
      },
      "text/plain": [
       "Evaluating in validation set:   0%|          | 0/12 [00:00<?, ?it/s]"
      ]
     },
     "metadata": {},
     "output_type": "display_data"
    },
    {
     "name": "stdout",
     "output_type": "stream",
     "text": [
      "Validation Loss 1.797\n"
     ]
    },
    {
     "data": {
      "application/vnd.jupyter.widget-view+json": {
       "model_id": "eb5fcbad7b6049ad99dc120ceb220c7d",
       "version_major": 2,
       "version_minor": 0
      },
      "text/plain": [
       "Evaluating in validation set:   0%|          | 0/12 [00:00<?, ?it/s]"
      ]
     },
     "metadata": {},
     "output_type": "display_data"
    },
    {
     "name": "stdout",
     "output_type": "stream",
     "text": [
      "Validation Loss 1.783\n"
     ]
    },
    {
     "data": {
      "application/vnd.jupyter.widget-view+json": {
       "model_id": "4dc29e2e1d8a4194ac027348b6b672d5",
       "version_major": 2,
       "version_minor": 0
      },
      "text/plain": [
       "Evaluating in validation set:   0%|          | 0/12 [00:00<?, ?it/s]"
      ]
     },
     "metadata": {},
     "output_type": "display_data"
    },
    {
     "name": "stdout",
     "output_type": "stream",
     "text": [
      "Validation Loss 1.740\n"
     ]
    },
    {
     "data": {
      "application/vnd.jupyter.widget-view+json": {
       "model_id": "39f9b64d9dee49799e4b1f2ec2715dcc",
       "version_major": 2,
       "version_minor": 0
      },
      "text/plain": [
       "Evaluating in validation set:   0%|          | 0/12 [00:00<?, ?it/s]"
      ]
     },
     "metadata": {},
     "output_type": "display_data"
    },
    {
     "name": "stdout",
     "output_type": "stream",
     "text": [
      "Validation Loss 1.462\n"
     ]
    },
    {
     "data": {
      "application/vnd.jupyter.widget-view+json": {
       "model_id": "1060f40c19bc4acbb9054db3bf97cdcc",
       "version_major": 2,
       "version_minor": 0
      },
      "text/plain": [
       "Evaluating in validation set:   0%|          | 0/12 [00:00<?, ?it/s]"
      ]
     },
     "metadata": {},
     "output_type": "display_data"
    },
    {
     "name": "stdout",
     "output_type": "stream",
     "text": [
      "Validation Loss 1.484\n"
     ]
    },
    {
     "data": {
      "application/vnd.jupyter.widget-view+json": {
       "model_id": "29f58490895e4434a27bc5a8e4a19a65",
       "version_major": 2,
       "version_minor": 0
      },
      "text/plain": [
       "Evaluating in validation set:   0%|          | 0/12 [00:00<?, ?it/s]"
      ]
     },
     "metadata": {},
     "output_type": "display_data"
    },
    {
     "name": "stdout",
     "output_type": "stream",
     "text": [
      "Validation Loss 1.421\n"
     ]
    },
    {
     "data": {
      "application/vnd.jupyter.widget-view+json": {
       "model_id": "2b64a8ebeb3a497588613b866d9d018d",
       "version_major": 2,
       "version_minor": 0
      },
      "text/plain": [
       "Evaluating in validation set:   0%|          | 0/12 [00:00<?, ?it/s]"
      ]
     },
     "metadata": {},
     "output_type": "display_data"
    },
    {
     "name": "stdout",
     "output_type": "stream",
     "text": [
      "Validation Loss 1.348\n"
     ]
    },
    {
     "data": {
      "application/vnd.jupyter.widget-view+json": {
       "model_id": "fbff7a75be4941e590896646d3c8ead0",
       "version_major": 2,
       "version_minor": 0
      },
      "text/plain": [
       "Evaluating in validation set:   0%|          | 0/12 [00:00<?, ?it/s]"
      ]
     },
     "metadata": {},
     "output_type": "display_data"
    },
    {
     "name": "stdout",
     "output_type": "stream",
     "text": [
      "Validation Loss 1.435\n"
     ]
    },
    {
     "data": {
      "application/vnd.jupyter.widget-view+json": {
       "model_id": "4e86169ddc864307adec0e47a79beafc",
       "version_major": 2,
       "version_minor": 0
      },
      "text/plain": [
       "Evaluating in validation set:   0%|          | 0/12 [00:00<?, ?it/s]"
      ]
     },
     "metadata": {},
     "output_type": "display_data"
    },
    {
     "name": "stdout",
     "output_type": "stream",
     "text": [
      "Validation Loss 1.780\n"
     ]
    },
    {
     "data": {
      "application/vnd.jupyter.widget-view+json": {
       "model_id": "043e420d64c04499bad46017eae43616",
       "version_major": 2,
       "version_minor": 0
      },
      "text/plain": [
       "Evaluating in validation set:   0%|          | 0/12 [00:00<?, ?it/s]"
      ]
     },
     "metadata": {},
     "output_type": "display_data"
    },
    {
     "name": "stdout",
     "output_type": "stream",
     "text": [
      "Validation Loss 1.737\n"
     ]
    },
    {
     "data": {
      "application/vnd.jupyter.widget-view+json": {
       "model_id": "415842ff8f814033a1c6f060970afff6",
       "version_major": 2,
       "version_minor": 0
      },
      "text/plain": [
       "Evaluating in validation set:   0%|          | 0/12 [00:00<?, ?it/s]"
      ]
     },
     "metadata": {},
     "output_type": "display_data"
    },
    {
     "name": "stdout",
     "output_type": "stream",
     "text": [
      "Validation Loss 1.922\n"
     ]
    },
    {
     "data": {
      "application/vnd.jupyter.widget-view+json": {
       "model_id": "160002aa65bf4c36b4f77bda8d7e8462",
       "version_major": 2,
       "version_minor": 0
      },
      "text/plain": [
       "Evaluating in validation set:   0%|          | 0/12 [00:00<?, ?it/s]"
      ]
     },
     "metadata": {},
     "output_type": "display_data"
    },
    {
     "name": "stdout",
     "output_type": "stream",
     "text": [
      "Validation Loss 1.715\n"
     ]
    },
    {
     "data": {
      "application/vnd.jupyter.widget-view+json": {
       "model_id": "b24af50a1be44ace8917e1e0932979c9",
       "version_major": 2,
       "version_minor": 0
      },
      "text/plain": [
       "Evaluating in validation set:   0%|          | 0/12 [00:00<?, ?it/s]"
      ]
     },
     "metadata": {},
     "output_type": "display_data"
    },
    {
     "name": "stdout",
     "output_type": "stream",
     "text": [
      "Validation Loss 2.176\n"
     ]
    },
    {
     "data": {
      "application/vnd.jupyter.widget-view+json": {
       "model_id": "e6eb7851f63e4c02b5b1d08d225789e6",
       "version_major": 2,
       "version_minor": 0
      },
      "text/plain": [
       "Evaluating in validation set:   0%|          | 0/12 [00:00<?, ?it/s]"
      ]
     },
     "metadata": {},
     "output_type": "display_data"
    },
    {
     "name": "stdout",
     "output_type": "stream",
     "text": [
      "Validation Loss 1.631\n"
     ]
    },
    {
     "data": {
      "application/vnd.jupyter.widget-view+json": {
       "model_id": "f6d44d5b8b5d46a99e3eb6fb48c2b773",
       "version_major": 2,
       "version_minor": 0
      },
      "text/plain": [
       "Evaluating in validation set:   0%|          | 0/12 [00:00<?, ?it/s]"
      ]
     },
     "metadata": {},
     "output_type": "display_data"
    },
    {
     "name": "stdout",
     "output_type": "stream",
     "text": [
      "Validation Loss 2.158\n"
     ]
    },
    {
     "data": {
      "application/vnd.jupyter.widget-view+json": {
       "model_id": "d4f87b243ccb4d189e014d794be400c1",
       "version_major": 2,
       "version_minor": 0
      },
      "text/plain": [
       "Evaluating in validation set:   0%|          | 0/12 [00:00<?, ?it/s]"
      ]
     },
     "metadata": {},
     "output_type": "display_data"
    },
    {
     "name": "stdout",
     "output_type": "stream",
     "text": [
      "Validation Loss 1.747\n"
     ]
    },
    {
     "data": {
      "application/vnd.jupyter.widget-view+json": {
       "model_id": "616ed2da266d4f7ab1c0d56c8bceb5e3",
       "version_major": 2,
       "version_minor": 0
      },
      "text/plain": [
       "Evaluating in validation set:   0%|          | 0/12 [00:00<?, ?it/s]"
      ]
     },
     "metadata": {},
     "output_type": "display_data"
    },
    {
     "name": "stdout",
     "output_type": "stream",
     "text": [
      "Validation Loss 2.065\n"
     ]
    },
    {
     "data": {
      "application/vnd.jupyter.widget-view+json": {
       "model_id": "18170a89b4594aaf9c1f12890c8972f3",
       "version_major": 2,
       "version_minor": 0
      },
      "text/plain": [
       "Evaluating in validation set:   0%|          | 0/12 [00:00<?, ?it/s]"
      ]
     },
     "metadata": {},
     "output_type": "display_data"
    },
    {
     "name": "stdout",
     "output_type": "stream",
     "text": [
      "Validation Loss 2.065\n"
     ]
    },
    {
     "data": {
      "application/vnd.jupyter.widget-view+json": {
       "model_id": "1d6ee4ff4e5b44e4828c2a353fdd5b7c",
       "version_major": 2,
       "version_minor": 0
      },
      "text/plain": [
       "Evaluating in validation set:   0%|          | 0/12 [00:00<?, ?it/s]"
      ]
     },
     "metadata": {},
     "output_type": "display_data"
    },
    {
     "name": "stdout",
     "output_type": "stream",
     "text": [
      "Validation Loss 1.960\n"
     ]
    },
    {
     "data": {
      "application/vnd.jupyter.widget-view+json": {
       "model_id": "92d91525859f41faa78bfa850c15f8c5",
       "version_major": 2,
       "version_minor": 0
      },
      "text/plain": [
       "Evaluating in validation set:   0%|          | 0/12 [00:00<?, ?it/s]"
      ]
     },
     "metadata": {},
     "output_type": "display_data"
    },
    {
     "name": "stdout",
     "output_type": "stream",
     "text": [
      "Validation Loss 1.985\n"
     ]
    },
    {
     "data": {
      "application/vnd.jupyter.widget-view+json": {
       "model_id": "5dccfb52e901443faea98dd59c81f8a9",
       "version_major": 2,
       "version_minor": 0
      },
      "text/plain": [
       "Evaluating in validation set:   0%|          | 0/12 [00:00<?, ?it/s]"
      ]
     },
     "metadata": {},
     "output_type": "display_data"
    },
    {
     "name": "stdout",
     "output_type": "stream",
     "text": [
      "Validation Loss 1.769\n"
     ]
    },
    {
     "data": {
      "application/vnd.jupyter.widget-view+json": {
       "model_id": "ff747398133a442e9246279e27d1a607",
       "version_major": 2,
       "version_minor": 0
      },
      "text/plain": [
       "Evaluating in validation set:   0%|          | 0/12 [00:00<?, ?it/s]"
      ]
     },
     "metadata": {},
     "output_type": "display_data"
    },
    {
     "name": "stdout",
     "output_type": "stream",
     "text": [
      "Validation Loss 1.854\n"
     ]
    },
    {
     "data": {
      "application/vnd.jupyter.widget-view+json": {
       "model_id": "347fafd821b9441dbc5c82e10ccdb094",
       "version_major": 2,
       "version_minor": 0
      },
      "text/plain": [
       "Evaluating in validation set:   0%|          | 0/12 [00:00<?, ?it/s]"
      ]
     },
     "metadata": {},
     "output_type": "display_data"
    },
    {
     "name": "stdout",
     "output_type": "stream",
     "text": [
      "Validation Loss 1.704\n"
     ]
    },
    {
     "data": {
      "application/vnd.jupyter.widget-view+json": {
       "model_id": "cf6342dba7c34b638798f90744e8c61d",
       "version_major": 2,
       "version_minor": 0
      },
      "text/plain": [
       "Evaluating in validation set:   0%|          | 0/12 [00:00<?, ?it/s]"
      ]
     },
     "metadata": {},
     "output_type": "display_data"
    },
    {
     "name": "stdout",
     "output_type": "stream",
     "text": [
      "Validation Loss 1.736\n"
     ]
    },
    {
     "data": {
      "application/vnd.jupyter.widget-view+json": {
       "model_id": "57fe3a2df81e4c238bd329d1f15e6caf",
       "version_major": 2,
       "version_minor": 0
      },
      "text/plain": [
       "Evaluating in validation set:   0%|          | 0/12 [00:00<?, ?it/s]"
      ]
     },
     "metadata": {},
     "output_type": "display_data"
    },
    {
     "name": "stdout",
     "output_type": "stream",
     "text": [
      "Validation Loss 1.527\n"
     ]
    },
    {
     "data": {
      "application/vnd.jupyter.widget-view+json": {
       "model_id": "1fa099252ad64addb1dfb6ea2444cd84",
       "version_major": 2,
       "version_minor": 0
      },
      "text/plain": [
       "Evaluating in validation set:   0%|          | 0/12 [00:00<?, ?it/s]"
      ]
     },
     "metadata": {},
     "output_type": "display_data"
    },
    {
     "name": "stdout",
     "output_type": "stream",
     "text": [
      "Validation Loss 1.789\n"
     ]
    },
    {
     "data": {
      "application/vnd.jupyter.widget-view+json": {
       "model_id": "2cf3808438aa4dbcae7326bf3382e312",
       "version_major": 2,
       "version_minor": 0
      },
      "text/plain": [
       "Evaluating in validation set:   0%|          | 0/12 [00:00<?, ?it/s]"
      ]
     },
     "metadata": {},
     "output_type": "display_data"
    },
    {
     "name": "stdout",
     "output_type": "stream",
     "text": [
      "Validation Loss 1.966\n"
     ]
    },
    {
     "data": {
      "application/vnd.jupyter.widget-view+json": {
       "model_id": "74cf20200f624415b60954a86970c278",
       "version_major": 2,
       "version_minor": 0
      },
      "text/plain": [
       "Evaluating in validation set:   0%|          | 0/12 [00:00<?, ?it/s]"
      ]
     },
     "metadata": {},
     "output_type": "display_data"
    },
    {
     "name": "stdout",
     "output_type": "stream",
     "text": [
      "Validation Loss 1.563\n"
     ]
    },
    {
     "data": {
      "application/vnd.jupyter.widget-view+json": {
       "model_id": "4c4599aa825c4e54900810e2fa4e52aa",
       "version_major": 2,
       "version_minor": 0
      },
      "text/plain": [
       "Evaluating in validation set:   0%|          | 0/12 [00:00<?, ?it/s]"
      ]
     },
     "metadata": {},
     "output_type": "display_data"
    },
    {
     "name": "stdout",
     "output_type": "stream",
     "text": [
      "Validation Loss 2.060\n"
     ]
    },
    {
     "data": {
      "application/vnd.jupyter.widget-view+json": {
       "model_id": "0b9b66c0518b41f5af91bf44b38749bb",
       "version_major": 2,
       "version_minor": 0
      },
      "text/plain": [
       "Evaluating in validation set:   0%|          | 0/12 [00:00<?, ?it/s]"
      ]
     },
     "metadata": {},
     "output_type": "display_data"
    },
    {
     "name": "stdout",
     "output_type": "stream",
     "text": [
      "Validation Loss 1.631\n"
     ]
    },
    {
     "data": {
      "application/vnd.jupyter.widget-view+json": {
       "model_id": "a5376932b15d48c5bbc43c529d3d302c",
       "version_major": 2,
       "version_minor": 0
      },
      "text/plain": [
       "Evaluating in validation set:   0%|          | 0/12 [00:00<?, ?it/s]"
      ]
     },
     "metadata": {},
     "output_type": "display_data"
    },
    {
     "name": "stdout",
     "output_type": "stream",
     "text": [
      "Validation Loss 1.718\n"
     ]
    },
    {
     "data": {
      "application/vnd.jupyter.widget-view+json": {
       "model_id": "9246a53313b6438f8536c01610d1beae",
       "version_major": 2,
       "version_minor": 0
      },
      "text/plain": [
       "Evaluating in validation set:   0%|          | 0/12 [00:00<?, ?it/s]"
      ]
     },
     "metadata": {},
     "output_type": "display_data"
    },
    {
     "name": "stdout",
     "output_type": "stream",
     "text": [
      "Validation Loss 1.693\n"
     ]
    },
    {
     "data": {
      "application/vnd.jupyter.widget-view+json": {
       "model_id": "3595e4daa9964a219f15396163bf4701",
       "version_major": 2,
       "version_minor": 0
      },
      "text/plain": [
       "Evaluating in validation set:   0%|          | 0/12 [00:00<?, ?it/s]"
      ]
     },
     "metadata": {},
     "output_type": "display_data"
    },
    {
     "name": "stdout",
     "output_type": "stream",
     "text": [
      "Validation Loss 1.760\n"
     ]
    },
    {
     "data": {
      "application/vnd.jupyter.widget-view+json": {
       "model_id": "c847d806c64f46f19ae0c227c9d0ed10",
       "version_major": 2,
       "version_minor": 0
      },
      "text/plain": [
       "Evaluating in validation set:   0%|          | 0/12 [00:00<?, ?it/s]"
      ]
     },
     "metadata": {},
     "output_type": "display_data"
    },
    {
     "name": "stdout",
     "output_type": "stream",
     "text": [
      "Validation Loss 1.564\n"
     ]
    },
    {
     "data": {
      "application/vnd.jupyter.widget-view+json": {
       "model_id": "044eb5a11d8d4a51863c8fdcbdafaabe",
       "version_major": 2,
       "version_minor": 0
      },
      "text/plain": [
       "Evaluating in validation set:   0%|          | 0/12 [00:00<?, ?it/s]"
      ]
     },
     "metadata": {},
     "output_type": "display_data"
    },
    {
     "name": "stdout",
     "output_type": "stream",
     "text": [
      "Validation Loss 1.594\n"
     ]
    },
    {
     "data": {
      "application/vnd.jupyter.widget-view+json": {
       "model_id": "cd07b8fffb4040a0a03915fb3b373c73",
       "version_major": 2,
       "version_minor": 0
      },
      "text/plain": [
       "Evaluating in validation set:   0%|          | 0/12 [00:00<?, ?it/s]"
      ]
     },
     "metadata": {},
     "output_type": "display_data"
    },
    {
     "name": "stdout",
     "output_type": "stream",
     "text": [
      "Validation Loss 1.699\n"
     ]
    },
    {
     "data": {
      "application/vnd.jupyter.widget-view+json": {
       "model_id": "1cc96caa18ba4e14919f585cdc1f194e",
       "version_major": 2,
       "version_minor": 0
      },
      "text/plain": [
       "Evaluating in validation set:   0%|          | 0/12 [00:00<?, ?it/s]"
      ]
     },
     "metadata": {},
     "output_type": "display_data"
    },
    {
     "name": "stdout",
     "output_type": "stream",
     "text": [
      "Validation Loss 1.751\n"
     ]
    },
    {
     "data": {
      "application/vnd.jupyter.widget-view+json": {
       "model_id": "d6b83675103a435797228c6ccf3ab930",
       "version_major": 2,
       "version_minor": 0
      },
      "text/plain": [
       "Evaluating in validation set:   0%|          | 0/12 [00:00<?, ?it/s]"
      ]
     },
     "metadata": {},
     "output_type": "display_data"
    },
    {
     "name": "stdout",
     "output_type": "stream",
     "text": [
      "Validation Loss 1.802\n"
     ]
    },
    {
     "data": {
      "application/vnd.jupyter.widget-view+json": {
       "model_id": "28813dc42d9a4a9a94dac5bf1a6c9d51",
       "version_major": 2,
       "version_minor": 0
      },
      "text/plain": [
       "Evaluating in validation set:   0%|          | 0/12 [00:00<?, ?it/s]"
      ]
     },
     "metadata": {},
     "output_type": "display_data"
    },
    {
     "name": "stdout",
     "output_type": "stream",
     "text": [
      "Validation Loss 1.640\n"
     ]
    },
    {
     "data": {
      "application/vnd.jupyter.widget-view+json": {
       "model_id": "b86b163a37b047e891af5a77b743a178",
       "version_major": 2,
       "version_minor": 0
      },
      "text/plain": [
       "Evaluating in validation set:   0%|          | 0/12 [00:00<?, ?it/s]"
      ]
     },
     "metadata": {},
     "output_type": "display_data"
    },
    {
     "name": "stdout",
     "output_type": "stream",
     "text": [
      "Validation Loss 1.760\n"
     ]
    },
    {
     "data": {
      "application/vnd.jupyter.widget-view+json": {
       "model_id": "af24f5d214dd4524aa27b2ad74f89902",
       "version_major": 2,
       "version_minor": 0
      },
      "text/plain": [
       "Evaluating in validation set:   0%|          | 0/12 [00:00<?, ?it/s]"
      ]
     },
     "metadata": {},
     "output_type": "display_data"
    },
    {
     "name": "stdout",
     "output_type": "stream",
     "text": [
      "Validation Loss 2.108\n"
     ]
    },
    {
     "data": {
      "application/vnd.jupyter.widget-view+json": {
       "model_id": "8c06c9a134f54b5a859f26f3bd360423",
       "version_major": 2,
       "version_minor": 0
      },
      "text/plain": [
       "Evaluating in validation set:   0%|          | 0/12 [00:00<?, ?it/s]"
      ]
     },
     "metadata": {},
     "output_type": "display_data"
    },
    {
     "name": "stdout",
     "output_type": "stream",
     "text": [
      "Validation Loss 1.841\n"
     ]
    },
    {
     "data": {
      "application/vnd.jupyter.widget-view+json": {
       "model_id": "b7600edad7274d6f8230077af4179094",
       "version_major": 2,
       "version_minor": 0
      },
      "text/plain": [
       "Evaluating in validation set:   0%|          | 0/12 [00:00<?, ?it/s]"
      ]
     },
     "metadata": {},
     "output_type": "display_data"
    },
    {
     "name": "stdout",
     "output_type": "stream",
     "text": [
      "Validation Loss 1.976\n"
     ]
    },
    {
     "data": {
      "application/vnd.jupyter.widget-view+json": {
       "model_id": "8746ef744230489d86fa6d9f84c5ad58",
       "version_major": 2,
       "version_minor": 0
      },
      "text/plain": [
       "Evaluating in validation set:   0%|          | 0/12 [00:00<?, ?it/s]"
      ]
     },
     "metadata": {},
     "output_type": "display_data"
    },
    {
     "name": "stdout",
     "output_type": "stream",
     "text": [
      "Validation Loss 1.929\n"
     ]
    },
    {
     "data": {
      "application/vnd.jupyter.widget-view+json": {
       "model_id": "f9708266c4b248d5b8057ef12d8e2f40",
       "version_major": 2,
       "version_minor": 0
      },
      "text/plain": [
       "Evaluating in validation set:   0%|          | 0/12 [00:00<?, ?it/s]"
      ]
     },
     "metadata": {},
     "output_type": "display_data"
    },
    {
     "name": "stdout",
     "output_type": "stream",
     "text": [
      "Validation Loss 1.591\n"
     ]
    },
    {
     "data": {
      "application/vnd.jupyter.widget-view+json": {
       "model_id": "857c349c1b4d4fb5b1b5df70700c5306",
       "version_major": 2,
       "version_minor": 0
      },
      "text/plain": [
       "Evaluating in validation set:   0%|          | 0/12 [00:00<?, ?it/s]"
      ]
     },
     "metadata": {},
     "output_type": "display_data"
    },
    {
     "name": "stdout",
     "output_type": "stream",
     "text": [
      "Validation Loss 1.998\n"
     ]
    },
    {
     "data": {
      "application/vnd.jupyter.widget-view+json": {
       "model_id": "f00b808c380b475a83b697e346ba362f",
       "version_major": 2,
       "version_minor": 0
      },
      "text/plain": [
       "Evaluating in validation set:   0%|          | 0/12 [00:00<?, ?it/s]"
      ]
     },
     "metadata": {},
     "output_type": "display_data"
    },
    {
     "name": "stdout",
     "output_type": "stream",
     "text": [
      "Validation Loss 2.106\n"
     ]
    },
    {
     "data": {
      "application/vnd.jupyter.widget-view+json": {
       "model_id": "6cf37447f18a4536b41c02eb8dfcecb9",
       "version_major": 2,
       "version_minor": 0
      },
      "text/plain": [
       "Evaluating in validation set:   0%|          | 0/12 [00:00<?, ?it/s]"
      ]
     },
     "metadata": {},
     "output_type": "display_data"
    },
    {
     "name": "stdout",
     "output_type": "stream",
     "text": [
      "Validation Loss 2.049\n"
     ]
    },
    {
     "data": {
      "application/vnd.jupyter.widget-view+json": {
       "model_id": "8da81a533c344f1fab30b6951b6b898d",
       "version_major": 2,
       "version_minor": 0
      },
      "text/plain": [
       "Evaluating in validation set:   0%|          | 0/12 [00:00<?, ?it/s]"
      ]
     },
     "metadata": {},
     "output_type": "display_data"
    },
    {
     "name": "stdout",
     "output_type": "stream",
     "text": [
      "Validation Loss 1.847\n"
     ]
    },
    {
     "data": {
      "application/vnd.jupyter.widget-view+json": {
       "model_id": "ee9df2706eae409c8eae99c3cd874e4a",
       "version_major": 2,
       "version_minor": 0
      },
      "text/plain": [
       "Evaluating in validation set:   0%|          | 0/12 [00:00<?, ?it/s]"
      ]
     },
     "metadata": {},
     "output_type": "display_data"
    },
    {
     "name": "stdout",
     "output_type": "stream",
     "text": [
      "Validation Loss 2.280\n"
     ]
    },
    {
     "data": {
      "application/vnd.jupyter.widget-view+json": {
       "model_id": "a50719bf6d224cd2a89c31d7f2f75e7a",
       "version_major": 2,
       "version_minor": 0
      },
      "text/plain": [
       "Evaluating in validation set:   0%|          | 0/12 [00:00<?, ?it/s]"
      ]
     },
     "metadata": {},
     "output_type": "display_data"
    },
    {
     "name": "stdout",
     "output_type": "stream",
     "text": [
      "Validation Loss 1.698\n"
     ]
    },
    {
     "data": {
      "application/vnd.jupyter.widget-view+json": {
       "model_id": "43aef5436bee40fdbb76af446f4bfbb7",
       "version_major": 2,
       "version_minor": 0
      },
      "text/plain": [
       "Evaluating in validation set:   0%|          | 0/12 [00:00<?, ?it/s]"
      ]
     },
     "metadata": {},
     "output_type": "display_data"
    },
    {
     "name": "stdout",
     "output_type": "stream",
     "text": [
      "Validation Loss 1.865\n"
     ]
    },
    {
     "data": {
      "application/vnd.jupyter.widget-view+json": {
       "model_id": "8fdb7cae9f8146fc9348a284023f750b",
       "version_major": 2,
       "version_minor": 0
      },
      "text/plain": [
       "Evaluating in validation set:   0%|          | 0/12 [00:00<?, ?it/s]"
      ]
     },
     "metadata": {},
     "output_type": "display_data"
    },
    {
     "name": "stdout",
     "output_type": "stream",
     "text": [
      "Validation Loss 1.772\n"
     ]
    },
    {
     "data": {
      "application/vnd.jupyter.widget-view+json": {
       "model_id": "a8ce3b25d99243b18a1f953434e6db16",
       "version_major": 2,
       "version_minor": 0
      },
      "text/plain": [
       "Evaluating in validation set:   0%|          | 0/12 [00:00<?, ?it/s]"
      ]
     },
     "metadata": {},
     "output_type": "display_data"
    },
    {
     "name": "stdout",
     "output_type": "stream",
     "text": [
      "Validation Loss 1.723\n"
     ]
    },
    {
     "data": {
      "application/vnd.jupyter.widget-view+json": {
       "model_id": "2188c3f8622848989151de4f8cbf8be0",
       "version_major": 2,
       "version_minor": 0
      },
      "text/plain": [
       "Evaluating in validation set:   0%|          | 0/12 [00:00<?, ?it/s]"
      ]
     },
     "metadata": {},
     "output_type": "display_data"
    },
    {
     "name": "stdout",
     "output_type": "stream",
     "text": [
      "Validation Loss 1.833\n"
     ]
    },
    {
     "data": {
      "application/vnd.jupyter.widget-view+json": {
       "model_id": "ba952f1e70784048b5a833c5d4cfaaaa",
       "version_major": 2,
       "version_minor": 0
      },
      "text/plain": [
       "Evaluating in validation set:   0%|          | 0/12 [00:00<?, ?it/s]"
      ]
     },
     "metadata": {},
     "output_type": "display_data"
    },
    {
     "name": "stdout",
     "output_type": "stream",
     "text": [
      "Validation Loss 1.890\n"
     ]
    },
    {
     "data": {
      "application/vnd.jupyter.widget-view+json": {
       "model_id": "92a86b3a4564490e996d987221256e81",
       "version_major": 2,
       "version_minor": 0
      },
      "text/plain": [
       "Evaluating in validation set:   0%|          | 0/12 [00:00<?, ?it/s]"
      ]
     },
     "metadata": {},
     "output_type": "display_data"
    },
    {
     "name": "stdout",
     "output_type": "stream",
     "text": [
      "Validation Loss 1.850\n"
     ]
    },
    {
     "data": {
      "application/vnd.jupyter.widget-view+json": {
       "model_id": "041cf46cdbaf460d9942e5cfbe83ccaa",
       "version_major": 2,
       "version_minor": 0
      },
      "text/plain": [
       "Evaluating in validation set:   0%|          | 0/12 [00:00<?, ?it/s]"
      ]
     },
     "metadata": {},
     "output_type": "display_data"
    },
    {
     "name": "stdout",
     "output_type": "stream",
     "text": [
      "Validation Loss 1.869\n"
     ]
    },
    {
     "data": {
      "application/vnd.jupyter.widget-view+json": {
       "model_id": "d90424349f1746f8a1720e418446c55d",
       "version_major": 2,
       "version_minor": 0
      },
      "text/plain": [
       "Evaluating in validation set:   0%|          | 0/12 [00:00<?, ?it/s]"
      ]
     },
     "metadata": {},
     "output_type": "display_data"
    },
    {
     "name": "stdout",
     "output_type": "stream",
     "text": [
      "Validation Loss 2.028\n"
     ]
    },
    {
     "data": {
      "application/vnd.jupyter.widget-view+json": {
       "model_id": "ef26fde3f9ee46948e6cac0720c9201d",
       "version_major": 2,
       "version_minor": 0
      },
      "text/plain": [
       "Evaluating in validation set:   0%|          | 0/12 [00:00<?, ?it/s]"
      ]
     },
     "metadata": {},
     "output_type": "display_data"
    },
    {
     "name": "stdout",
     "output_type": "stream",
     "text": [
      "Validation Loss 1.553\n"
     ]
    },
    {
     "data": {
      "application/vnd.jupyter.widget-view+json": {
       "model_id": "c3ab9cf10d084b87a9e0c33c82c550fd",
       "version_major": 2,
       "version_minor": 0
      },
      "text/plain": [
       "Evaluating in validation set:   0%|          | 0/12 [00:00<?, ?it/s]"
      ]
     },
     "metadata": {},
     "output_type": "display_data"
    },
    {
     "name": "stdout",
     "output_type": "stream",
     "text": [
      "Validation Loss 1.559\n"
     ]
    },
    {
     "data": {
      "application/vnd.jupyter.widget-view+json": {
       "model_id": "e6d955ec169b4267acda9c2d62136379",
       "version_major": 2,
       "version_minor": 0
      },
      "text/plain": [
       "Evaluating in validation set:   0%|          | 0/12 [00:00<?, ?it/s]"
      ]
     },
     "metadata": {},
     "output_type": "display_data"
    },
    {
     "name": "stdout",
     "output_type": "stream",
     "text": [
      "Validation Loss 1.839\n"
     ]
    },
    {
     "data": {
      "application/vnd.jupyter.widget-view+json": {
       "model_id": "736a20a89c8f44dc881bd2043b1d8076",
       "version_major": 2,
       "version_minor": 0
      },
      "text/plain": [
       "Evaluating in validation set:   0%|          | 0/12 [00:00<?, ?it/s]"
      ]
     },
     "metadata": {},
     "output_type": "display_data"
    },
    {
     "name": "stdout",
     "output_type": "stream",
     "text": [
      "Validation Loss 1.637\n"
     ]
    },
    {
     "data": {
      "application/vnd.jupyter.widget-view+json": {
       "model_id": "1ad4419594bb4d819ed20869ec2a61aa",
       "version_major": 2,
       "version_minor": 0
      },
      "text/plain": [
       "Evaluating in validation set:   0%|          | 0/12 [00:00<?, ?it/s]"
      ]
     },
     "metadata": {},
     "output_type": "display_data"
    },
    {
     "name": "stdout",
     "output_type": "stream",
     "text": [
      "Validation Loss 1.517\n"
     ]
    },
    {
     "data": {
      "application/vnd.jupyter.widget-view+json": {
       "model_id": "be149ea8b9e2426aaa9cbd20a0971237",
       "version_major": 2,
       "version_minor": 0
      },
      "text/plain": [
       "Evaluating in validation set:   0%|          | 0/12 [00:00<?, ?it/s]"
      ]
     },
     "metadata": {},
     "output_type": "display_data"
    },
    {
     "name": "stdout",
     "output_type": "stream",
     "text": [
      "Validation Loss 1.808\n"
     ]
    },
    {
     "data": {
      "application/vnd.jupyter.widget-view+json": {
       "model_id": "e94fb3b4d7e34d738fb0a2d8a239c3f4",
       "version_major": 2,
       "version_minor": 0
      },
      "text/plain": [
       "Evaluating in validation set:   0%|          | 0/12 [00:00<?, ?it/s]"
      ]
     },
     "metadata": {},
     "output_type": "display_data"
    },
    {
     "name": "stdout",
     "output_type": "stream",
     "text": [
      "Validation Loss 1.204\n"
     ]
    },
    {
     "data": {
      "application/vnd.jupyter.widget-view+json": {
       "model_id": "cd13b1803b784a45934d59541f1681d8",
       "version_major": 2,
       "version_minor": 0
      },
      "text/plain": [
       "Evaluating in validation set:   0%|          | 0/12 [00:00<?, ?it/s]"
      ]
     },
     "metadata": {},
     "output_type": "display_data"
    },
    {
     "name": "stdout",
     "output_type": "stream",
     "text": [
      "Validation Loss 1.410\n"
     ]
    },
    {
     "data": {
      "application/vnd.jupyter.widget-view+json": {
       "model_id": "4edb020b6bd741fb8bdf2cfc41e21f15",
       "version_major": 2,
       "version_minor": 0
      },
      "text/plain": [
       "Evaluating in validation set:   0%|          | 0/12 [00:00<?, ?it/s]"
      ]
     },
     "metadata": {},
     "output_type": "display_data"
    },
    {
     "name": "stdout",
     "output_type": "stream",
     "text": [
      "Validation Loss 1.632\n"
     ]
    },
    {
     "data": {
      "application/vnd.jupyter.widget-view+json": {
       "model_id": "ea37c49e2b0f441a890f2081cdeda5cf",
       "version_major": 2,
       "version_minor": 0
      },
      "text/plain": [
       "Evaluating in validation set:   0%|          | 0/12 [00:00<?, ?it/s]"
      ]
     },
     "metadata": {},
     "output_type": "display_data"
    },
    {
     "name": "stdout",
     "output_type": "stream",
     "text": [
      "Validation Loss 1.877\n"
     ]
    },
    {
     "data": {
      "application/vnd.jupyter.widget-view+json": {
       "model_id": "f521046229554a08bb84008fda210472",
       "version_major": 2,
       "version_minor": 0
      },
      "text/plain": [
       "Evaluating in validation set:   0%|          | 0/12 [00:00<?, ?it/s]"
      ]
     },
     "metadata": {},
     "output_type": "display_data"
    },
    {
     "name": "stdout",
     "output_type": "stream",
     "text": [
      "Validation Loss 1.631\n"
     ]
    },
    {
     "data": {
      "application/vnd.jupyter.widget-view+json": {
       "model_id": "06989e9da81b4d228fba44d1e303830d",
       "version_major": 2,
       "version_minor": 0
      },
      "text/plain": [
       "Evaluating in validation set:   0%|          | 0/12 [00:00<?, ?it/s]"
      ]
     },
     "metadata": {},
     "output_type": "display_data"
    },
    {
     "name": "stdout",
     "output_type": "stream",
     "text": [
      "Validation Loss 1.485\n"
     ]
    },
    {
     "data": {
      "application/vnd.jupyter.widget-view+json": {
       "model_id": "482715c5bbb643b2b89bf31352ec2776",
       "version_major": 2,
       "version_minor": 0
      },
      "text/plain": [
       "Evaluating in validation set:   0%|          | 0/12 [00:00<?, ?it/s]"
      ]
     },
     "metadata": {},
     "output_type": "display_data"
    },
    {
     "name": "stdout",
     "output_type": "stream",
     "text": [
      "Validation Loss 1.792\n"
     ]
    },
    {
     "data": {
      "application/vnd.jupyter.widget-view+json": {
       "model_id": "f59ff8e260674b8499f29c0b15d3c168",
       "version_major": 2,
       "version_minor": 0
      },
      "text/plain": [
       "Evaluating in validation set:   0%|          | 0/12 [00:00<?, ?it/s]"
      ]
     },
     "metadata": {},
     "output_type": "display_data"
    },
    {
     "name": "stdout",
     "output_type": "stream",
     "text": [
      "Validation Loss 2.349\n"
     ]
    },
    {
     "data": {
      "application/vnd.jupyter.widget-view+json": {
       "model_id": "787dafc17e9347c2ba045628cf5c1b05",
       "version_major": 2,
       "version_minor": 0
      },
      "text/plain": [
       "Evaluating in validation set:   0%|          | 0/12 [00:00<?, ?it/s]"
      ]
     },
     "metadata": {},
     "output_type": "display_data"
    },
    {
     "name": "stdout",
     "output_type": "stream",
     "text": [
      "Validation Loss 1.560\n"
     ]
    },
    {
     "data": {
      "application/vnd.jupyter.widget-view+json": {
       "model_id": "306c35384bf54e8d81a43643ad1dc16b",
       "version_major": 2,
       "version_minor": 0
      },
      "text/plain": [
       "Evaluating in validation set:   0%|          | 0/12 [00:00<?, ?it/s]"
      ]
     },
     "metadata": {},
     "output_type": "display_data"
    },
    {
     "name": "stdout",
     "output_type": "stream",
     "text": [
      "Validation Loss 1.921\n"
     ]
    },
    {
     "data": {
      "application/vnd.jupyter.widget-view+json": {
       "model_id": "5bb83fa3de284125b935413e295ee570",
       "version_major": 2,
       "version_minor": 0
      },
      "text/plain": [
       "Evaluating in validation set:   0%|          | 0/12 [00:00<?, ?it/s]"
      ]
     },
     "metadata": {},
     "output_type": "display_data"
    },
    {
     "name": "stdout",
     "output_type": "stream",
     "text": [
      "Validation Loss 1.659\n"
     ]
    },
    {
     "data": {
      "application/vnd.jupyter.widget-view+json": {
       "model_id": "bed2085c3c074bcb83d75e73ad0a59e3",
       "version_major": 2,
       "version_minor": 0
      },
      "text/plain": [
       "Evaluating in validation set:   0%|          | 0/12 [00:00<?, ?it/s]"
      ]
     },
     "metadata": {},
     "output_type": "display_data"
    },
    {
     "name": "stdout",
     "output_type": "stream",
     "text": [
      "Validation Loss 1.982\n"
     ]
    },
    {
     "data": {
      "application/vnd.jupyter.widget-view+json": {
       "model_id": "ec405a10cb5a434d99dd0e114b9509c0",
       "version_major": 2,
       "version_minor": 0
      },
      "text/plain": [
       "Evaluating in validation set:   0%|          | 0/12 [00:00<?, ?it/s]"
      ]
     },
     "metadata": {},
     "output_type": "display_data"
    },
    {
     "name": "stdout",
     "output_type": "stream",
     "text": [
      "Validation Loss 1.719\n"
     ]
    },
    {
     "data": {
      "application/vnd.jupyter.widget-view+json": {
       "model_id": "b38956ecd66c42a39b0c7bc4964348a8",
       "version_major": 2,
       "version_minor": 0
      },
      "text/plain": [
       "Evaluating in validation set:   0%|          | 0/12 [00:00<?, ?it/s]"
      ]
     },
     "metadata": {},
     "output_type": "display_data"
    },
    {
     "name": "stdout",
     "output_type": "stream",
     "text": [
      "Validation Loss 1.360\n"
     ]
    },
    {
     "data": {
      "application/vnd.jupyter.widget-view+json": {
       "model_id": "3d870dc2b6944af2889116c111e2d36b",
       "version_major": 2,
       "version_minor": 0
      },
      "text/plain": [
       "Evaluating in validation set:   0%|          | 0/12 [00:00<?, ?it/s]"
      ]
     },
     "metadata": {},
     "output_type": "display_data"
    },
    {
     "name": "stdout",
     "output_type": "stream",
     "text": [
      "Validation Loss 2.017\n"
     ]
    },
    {
     "data": {
      "application/vnd.jupyter.widget-view+json": {
       "model_id": "e3b6e32db4f741a3b79dd3f86bd05b60",
       "version_major": 2,
       "version_minor": 0
      },
      "text/plain": [
       "Evaluating in validation set:   0%|          | 0/12 [00:00<?, ?it/s]"
      ]
     },
     "metadata": {},
     "output_type": "display_data"
    },
    {
     "name": "stdout",
     "output_type": "stream",
     "text": [
      "Validation Loss 1.558\n"
     ]
    },
    {
     "data": {
      "application/vnd.jupyter.widget-view+json": {
       "model_id": "c15c5e16f2f142efa3ebdc0fbfdd453b",
       "version_major": 2,
       "version_minor": 0
      },
      "text/plain": [
       "Evaluating in validation set:   0%|          | 0/12 [00:00<?, ?it/s]"
      ]
     },
     "metadata": {},
     "output_type": "display_data"
    },
    {
     "name": "stdout",
     "output_type": "stream",
     "text": [
      "Validation Loss 1.465\n"
     ]
    },
    {
     "data": {
      "application/vnd.jupyter.widget-view+json": {
       "model_id": "f0a6c2e008c841ecaf5234904b34a887",
       "version_major": 2,
       "version_minor": 0
      },
      "text/plain": [
       "Evaluating in validation set:   0%|          | 0/12 [00:00<?, ?it/s]"
      ]
     },
     "metadata": {},
     "output_type": "display_data"
    },
    {
     "name": "stdout",
     "output_type": "stream",
     "text": [
      "Validation Loss 1.790\n"
     ]
    },
    {
     "data": {
      "application/vnd.jupyter.widget-view+json": {
       "model_id": "a10545bed87042eeb7ee5eb8abb1b3ac",
       "version_major": 2,
       "version_minor": 0
      },
      "text/plain": [
       "Evaluating in validation set:   0%|          | 0/12 [00:00<?, ?it/s]"
      ]
     },
     "metadata": {},
     "output_type": "display_data"
    },
    {
     "name": "stdout",
     "output_type": "stream",
     "text": [
      "Validation Loss 1.650\n"
     ]
    },
    {
     "data": {
      "application/vnd.jupyter.widget-view+json": {
       "model_id": "85c6ca5b42004321a0e83950de9264a6",
       "version_major": 2,
       "version_minor": 0
      },
      "text/plain": [
       "Evaluating in validation set:   0%|          | 0/12 [00:00<?, ?it/s]"
      ]
     },
     "metadata": {},
     "output_type": "display_data"
    },
    {
     "name": "stdout",
     "output_type": "stream",
     "text": [
      "Validation Loss 2.091\n"
     ]
    },
    {
     "data": {
      "application/vnd.jupyter.widget-view+json": {
       "model_id": "41b7b815c5284b34bf6f1fddb1c5fe35",
       "version_major": 2,
       "version_minor": 0
      },
      "text/plain": [
       "Evaluating in validation set:   0%|          | 0/12 [00:00<?, ?it/s]"
      ]
     },
     "metadata": {},
     "output_type": "display_data"
    },
    {
     "name": "stdout",
     "output_type": "stream",
     "text": [
      "Validation Loss 1.774\n"
     ]
    },
    {
     "data": {
      "application/vnd.jupyter.widget-view+json": {
       "model_id": "1c6b0673ef7744d0ac7bc40aefe8f150",
       "version_major": 2,
       "version_minor": 0
      },
      "text/plain": [
       "Evaluating in validation set:   0%|          | 0/12 [00:00<?, ?it/s]"
      ]
     },
     "metadata": {},
     "output_type": "display_data"
    },
    {
     "name": "stdout",
     "output_type": "stream",
     "text": [
      "Validation Loss 1.587\n"
     ]
    },
    {
     "data": {
      "application/vnd.jupyter.widget-view+json": {
       "model_id": "480e01c823c9436c94afe22aec592a3d",
       "version_major": 2,
       "version_minor": 0
      },
      "text/plain": [
       "Evaluating in validation set:   0%|          | 0/12 [00:00<?, ?it/s]"
      ]
     },
     "metadata": {},
     "output_type": "display_data"
    },
    {
     "name": "stdout",
     "output_type": "stream",
     "text": [
      "Validation Loss 1.968\n"
     ]
    },
    {
     "data": {
      "application/vnd.jupyter.widget-view+json": {
       "model_id": "5622fe6bca5749129b82a69d9c6999cd",
       "version_major": 2,
       "version_minor": 0
      },
      "text/plain": [
       "Evaluating in validation set:   0%|          | 0/12 [00:00<?, ?it/s]"
      ]
     },
     "metadata": {},
     "output_type": "display_data"
    },
    {
     "name": "stdout",
     "output_type": "stream",
     "text": [
      "Validation Loss 1.688\n"
     ]
    },
    {
     "data": {
      "application/vnd.jupyter.widget-view+json": {
       "model_id": "d5dc159ecef447b595d08e39174b3984",
       "version_major": 2,
       "version_minor": 0
      },
      "text/plain": [
       "Evaluating in validation set:   0%|          | 0/12 [00:00<?, ?it/s]"
      ]
     },
     "metadata": {},
     "output_type": "display_data"
    },
    {
     "name": "stdout",
     "output_type": "stream",
     "text": [
      "Validation Loss 1.585\n"
     ]
    },
    {
     "data": {
      "application/vnd.jupyter.widget-view+json": {
       "model_id": "dd293c970ff143b999d1a9c0a60cd1ef",
       "version_major": 2,
       "version_minor": 0
      },
      "text/plain": [
       "Evaluating in validation set:   0%|          | 0/12 [00:00<?, ?it/s]"
      ]
     },
     "metadata": {},
     "output_type": "display_data"
    },
    {
     "name": "stdout",
     "output_type": "stream",
     "text": [
      "Validation Loss 1.927\n"
     ]
    },
    {
     "data": {
      "application/vnd.jupyter.widget-view+json": {
       "model_id": "a722db9365a24961921b9797c51b631c",
       "version_major": 2,
       "version_minor": 0
      },
      "text/plain": [
       "Evaluating in validation set:   0%|          | 0/12 [00:00<?, ?it/s]"
      ]
     },
     "metadata": {},
     "output_type": "display_data"
    },
    {
     "name": "stdout",
     "output_type": "stream",
     "text": [
      "Validation Loss 1.929\n",
      "TRAINING COMPLETE!\n"
     ]
    }
   ],
   "source": [
    "USE_VAE = True\n",
    "MODEL_NAME = \"vae\"\n",
    "results=train_model(N_EPOCHS,tr_dl, use_vae=USE_VAE, model_name=MODEL_NAME)"
   ]
  },
  {
   "cell_type": "code",
   "execution_count": 16,
   "id": "493b1d52",
   "metadata": {
    "execution": {
     "iopub.execute_input": "2022-10-20T00:18:11.632699Z",
     "iopub.status.busy": "2022-10-20T00:18:11.631439Z",
     "iopub.status.idle": "2022-10-20T00:18:11.927470Z",
     "shell.execute_reply": "2022-10-20T00:18:11.926599Z"
    },
    "papermill": {
     "duration": 1.959447,
     "end_time": "2022-10-20T00:18:11.929437",
     "exception": false,
     "start_time": "2022-10-20T00:18:09.969990",
     "status": "completed"
    },
    "tags": []
   },
   "outputs": [
    {
     "data": {
      "image/png": "[encoded data removed]",
      "text/plain": [
       "<Figure size 1000x600 with 1 Axes>"
      ]
     },
     "metadata": {},
     "output_type": "display_data"
    }
   ],
   "source": [
    "f,ax=plt.subplots(figsize=(10,6))\n",
    "plt.plot(results['val_loss'],label=\"validation\")\n",
    "plt.plot(results['train_loss'],label=\"train\")\n",
    "plt.legend()\n",
    "plt.suptitle(\"Training & Validation Loss during fine-tuning\");"
   ]
  }
 ],
 "metadata": {
  "kernelspec": {
   "display_name": "Python 3",
   "language": "python",
   "name": "python3"
  },
  "language_info": {
   "codemirror_mode": {
    "name": "ipython",
    "version": 3
   },
   "file_extension": ".py",
   "mimetype": "text/x-python",
   "name": "python",
   "nbconvert_exporter": "python",
   "pygments_lexer": "ipython3",
   "version": "3.11.4"
  },
  "papermill": {
   "default_parameters": {},
   "duration": 35125.472105,
   "end_time": "2022-10-20T00:18:16.308932",
   "environment_variables": {},
   "exception": null,
   "input_path": "__notebook__.ipynb",
   "output_path": "__notebook__.ipynb",
   "parameters": {},
   "start_time": "2022-10-19T14:32:50.836827",
   "version": "2.3.4"
  }
 },
 "nbformat": 4,
 "nbformat_minor": 5
}
