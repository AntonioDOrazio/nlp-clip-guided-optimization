{
 "cells": [
  {
   "cell_type": "markdown",
   "id": "0e869e62",
   "metadata": {},
   "source": [
    "Source notebook: https://github.com/statscol/clip-fine-tuning/blob/main/clip-fine-tuning.ipynb"
   ]
  },
  {
   "cell_type": "markdown",
   "id": "905f2825",
   "metadata": {
    "execution": {
     "iopub.execute_input": "2022-10-13T21:02:07.685920Z",
     "iopub.status.busy": "2022-10-13T21:02:07.685173Z",
     "iopub.status.idle": "2022-10-13T21:02:07.690292Z",
     "shell.execute_reply": "2022-10-13T21:02:07.689298Z",
     "shell.execute_reply.started": "2022-10-13T21:02:07.685882Z"
    },
    "papermill": {
     "duration": 0.005465,
     "end_time": "2022-10-19T14:32:58.594345",
     "exception": false,
     "start_time": "2022-10-19T14:32:58.588880",
     "status": "completed"
    },
    "tags": []
   },
   "source": [
    "## Fine-tuning Clip on PolyHaven dataset\n",
    "\n",
    "\n",
    "The following graph shows the approach, where basically we need an image an text encoder to compute representations on each source and compute similarities later on\n",
    "\n",
    "![image.png](https://miro.medium.com/max/786/1*tg7akErlMSyCLQxrMtQIYw.png)"
   ]
  },
  {
   "cell_type": "code",
   "execution_count": 1,
   "id": "ed3c2c3f",
   "metadata": {
    "execution": {
     "iopub.execute_input": "2022-10-19T14:33:23.072611Z",
     "iopub.status.busy": "2022-10-19T14:33:23.072255Z",
     "iopub.status.idle": "2022-10-19T14:33:26.094441Z",
     "shell.execute_reply": "2022-10-19T14:33:26.092801Z"
    },
    "papermill": {
     "duration": 3.031208,
     "end_time": "2022-10-19T14:33:26.096660",
     "exception": false,
     "start_time": "2022-10-19T14:33:23.065452",
     "status": "completed"
    },
    "tags": []
   },
   "outputs": [
    {
     "name": "stdout",
     "output_type": "stream",
     "text": [
      "Torch version: 2.0.1\n"
     ]
    }
   ],
   "source": [
    "import numpy as np\n",
    "import clip\n",
    "import torch\n",
    "from tqdm.notebook import tqdm\n",
    "from pkg_resources import packaging\n",
    "import os\n",
    "import torch\n",
    "from torchvision import datasets, transforms\n",
    "from torch.utils.data import Dataset, DataLoader\n",
    "import matplotlib.pyplot as plt\n",
    "from sklearn.model_selection import train_test_split\n",
    "import numpy as np\n",
    "from PIL import Image\n",
    "from torch.utils.data.sampler import SubsetRandomSampler\n",
    "print(\"Torch version:\", torch.__version__)"
   ]
  },
  {
   "cell_type": "markdown",
   "id": "e55df4a0",
   "metadata": {},
   "source": [
    "## Load CLIP and VAE"
   ]
  },
  {
   "cell_type": "code",
   "execution_count": 2,
   "id": "c56dd6eb",
   "metadata": {},
   "outputs": [
    {
     "name": "stdout",
     "output_type": "stream",
     "text": [
      "dummy input shape  torch.Size([4096])\n"
     ]
    },
    {
     "data": {
      "text/plain": [
       "<All keys matched successfully>"
      ]
     },
     "execution_count": 2,
     "metadata": {},
     "output_type": "execute_result"
    }
   ],
   "source": [
    "DEVICE=\"cuda:0\" if torch.cuda.is_available() else \"cpu\"\n",
    "\n",
    "from model_cond import VAE\n",
    "vae = VAE().to(DEVICE)\n",
    "\n",
    "to_tensor = transforms.ToTensor()\n",
    "\n",
    "vae_transform = transforms.Compose([\n",
    "        transforms.Normalize(\n",
    "            mean=[0.485, 0.456, 0.406],\n",
    "            std=[0.229, 0.224, 0.225])\n",
    "    ])\n",
    "\n",
    "vae.load_state_dict(torch.load(\"train_results/model_weights_final.pth\"))"
   ]
  },
  {
   "cell_type": "code",
   "execution_count": 3,
   "id": "fe67b4b4",
   "metadata": {},
   "outputs": [],
   "source": [
    "torch.cuda.empty_cache()\n",
    "model, preprocess = clip.load(\"ViT-B/32\", jit=False)"
   ]
  },
  {
   "cell_type": "code",
   "execution_count": 4,
   "id": "a962f710",
   "metadata": {},
   "outputs": [],
   "source": [
    "preprocess_tensor = transforms.Compose([\n",
    "        preprocess.transforms[0],\n",
    "        preprocess.transforms[1],\n",
    "        preprocess.transforms[4]\n",
    "])\n",
    "\n",
    "def apply_vae(img, model_vae, preprocess_fn):\n",
    "\n",
    "    img_vae = model_vae(vae_transform(img))[0]\n",
    "    return preprocess_fn(img_vae).detach()"
   ]
  },
  {
   "cell_type": "markdown",
   "id": "1b0ab759",
   "metadata": {
    "papermill": {
     "duration": 0.005363,
     "end_time": "2022-10-19T14:33:26.107979",
     "exception": false,
     "start_time": "2022-10-19T14:33:26.102616",
     "status": "completed"
    },
    "tags": []
   },
   "source": [
    "## Load Data"
   ]
  },
  {
   "cell_type": "code",
   "execution_count": 5,
   "id": "5b995613",
   "metadata": {
    "execution": {
     "iopub.execute_input": "2022-10-19T14:33:26.120568Z",
     "iopub.status.busy": "2022-10-19T14:33:26.119385Z",
     "iopub.status.idle": "2022-10-19T14:33:27.107706Z",
     "shell.execute_reply": "2022-10-19T14:33:27.106772Z"
    },
    "papermill": {
     "duration": 0.996497,
     "end_time": "2022-10-19T14:33:27.109711",
     "exception": false,
     "start_time": "2022-10-19T14:33:26.113214",
     "status": "completed"
    },
    "tags": []
   },
   "outputs": [
    {
     "data": {
      "text/html": [
       "<div>\n",
       "<style scoped>\n",
       "    .dataframe tbody tr th:only-of-type {\n",
       "        vertical-align: middle;\n",
       "    }\n",
       "\n",
       "    .dataframe tbody tr th {\n",
       "        vertical-align: top;\n",
       "    }\n",
       "\n",
       "    .dataframe thead th {\n",
       "        text-align: right;\n",
       "    }\n",
       "</style>\n",
       "<table border=\"1\" class=\"dataframe\">\n",
       "  <thead>\n",
       "    <tr style=\"text-align: right;\">\n",
       "      <th></th>\n",
       "      <th>name</th>\n",
       "      <th>tags</th>\n",
       "      <th>categories</th>\n",
       "      <th>caption</th>\n",
       "    </tr>\n",
       "  </thead>\n",
       "  <tbody>\n",
       "    <tr>\n",
       "      <th>0</th>\n",
       "      <td>abandoned_bakery_1k</td>\n",
       "      <td>[abandoned, empty, industrial, windows, bare, ...</td>\n",
       "      <td>[natural light, artificial light, urban, indoo...</td>\n",
       "      <td>[abandoned, empty, industrial, windows, bare, ...</td>\n",
       "    </tr>\n",
       "    <tr>\n",
       "      <th>1</th>\n",
       "      <td>abandoned_church_1k</td>\n",
       "      <td>[tree, autumn, church, abandoned, leaves]</td>\n",
       "      <td>[outdoor, nature, morning-afternoon, partly cl...</td>\n",
       "      <td>[tree, autumn, church, abandoned, leaves, outd...</td>\n",
       "    </tr>\n",
       "    <tr>\n",
       "      <th>2</th>\n",
       "      <td>abandoned_construction_1k</td>\n",
       "      <td>[brick, pillar, warehouse, rubble, abandoned, ...</td>\n",
       "      <td>[indoor, urban, natural light, medium contrast...</td>\n",
       "      <td>[brick, pillar, warehouse, rubble, abandoned, ...</td>\n",
       "    </tr>\n",
       "    <tr>\n",
       "      <th>3</th>\n",
       "      <td>abandoned_factory_canteen_01_1k</td>\n",
       "      <td>[hall, abandoned, fluorescent, industrial, bac...</td>\n",
       "      <td>[indoor, urban, low contrast, natural light]</td>\n",
       "      <td>[hall, abandoned, fluorescent, industrial, bac...</td>\n",
       "    </tr>\n",
       "    <tr>\n",
       "      <th>4</th>\n",
       "      <td>abandoned_factory_canteen_02_1k</td>\n",
       "      <td>[hall, abandoned, industrial, boxes, backplates]</td>\n",
       "      <td>[indoor, urban, natural light, medium contrast]</td>\n",
       "      <td>[hall, abandoned, industrial, boxes, backplate...</td>\n",
       "    </tr>\n",
       "  </tbody>\n",
       "</table>\n",
       "</div>"
      ],
      "text/plain": [
       "                              name  \\\n",
       "0              abandoned_bakery_1k   \n",
       "1              abandoned_church_1k   \n",
       "2        abandoned_construction_1k   \n",
       "3  abandoned_factory_canteen_01_1k   \n",
       "4  abandoned_factory_canteen_02_1k   \n",
       "\n",
       "                                                tags  \\\n",
       "0  [abandoned, empty, industrial, windows, bare, ...   \n",
       "1          [tree, autumn, church, abandoned, leaves]   \n",
       "2  [brick, pillar, warehouse, rubble, abandoned, ...   \n",
       "3  [hall, abandoned, fluorescent, industrial, bac...   \n",
       "4   [hall, abandoned, industrial, boxes, backplates]   \n",
       "\n",
       "                                          categories  \\\n",
       "0  [natural light, artificial light, urban, indoo...   \n",
       "1  [outdoor, nature, morning-afternoon, partly cl...   \n",
       "2  [indoor, urban, natural light, medium contrast...   \n",
       "3       [indoor, urban, low contrast, natural light]   \n",
       "4    [indoor, urban, natural light, medium contrast]   \n",
       "\n",
       "                                             caption  \n",
       "0  [abandoned, empty, industrial, windows, bare, ...  \n",
       "1  [tree, autumn, church, abandoned, leaves, outd...  \n",
       "2  [brick, pillar, warehouse, rubble, abandoned, ...  \n",
       "3  [hall, abandoned, fluorescent, industrial, bac...  \n",
       "4  [hall, abandoned, industrial, boxes, backplate...  "
      ]
     },
     "execution_count": 5,
     "metadata": {},
     "output_type": "execute_result"
    }
   ],
   "source": [
    "## Get labels\n",
    "from pathlib import Path\n",
    "import pandas as pd\n",
    "labels=pd.read_json(\"dataset/polyhaven.json\")\n",
    "labels.head()"
   ]
  },
  {
   "cell_type": "code",
   "execution_count": 6,
   "id": "ed183e55",
   "metadata": {},
   "outputs": [
    {
     "name": "stdout",
     "output_type": "stream",
     "text": [
      "(477, 4)\n"
     ]
    }
   ],
   "source": [
    "train = labels\n",
    "train.sort_values(by=\"name\", ascending=True, inplace=True)\n",
    "print(train.shape)"
   ]
  },
  {
   "cell_type": "code",
   "execution_count": 7,
   "id": "1dd043d4",
   "metadata": {
    "execution": {
     "iopub.execute_input": "2022-10-19T14:37:02.926636Z",
     "iopub.status.busy": "2022-10-19T14:37:02.926294Z",
     "iopub.status.idle": "2022-10-19T14:37:03.049287Z",
     "shell.execute_reply": "2022-10-19T14:37:03.048356Z"
    },
    "papermill": {
     "duration": 0.245791,
     "end_time": "2022-10-19T14:37:03.051592",
     "exception": false,
     "start_time": "2022-10-19T14:37:02.805801",
     "status": "completed"
    },
    "tags": []
   },
   "outputs": [],
   "source": [
    "#using datasets.ImageFolder makes loading images and preprocessing easier\n",
    "image_folder = datasets.ImageFolder(\"dataset/polyhaven_clip\",transform=to_tensor) #before transform=preprocess"
   ]
  },
  {
   "cell_type": "code",
   "execution_count": 8,
   "id": "ea0461e9",
   "metadata": {
    "execution": {
     "iopub.execute_input": "2022-10-19T14:37:03.256395Z",
     "iopub.status.busy": "2022-10-19T14:37:03.255786Z",
     "iopub.status.idle": "2022-10-19T14:37:03.267453Z",
     "shell.execute_reply": "2022-10-19T14:37:03.266555Z"
    },
    "papermill": {
     "duration": 0.115815,
     "end_time": "2022-10-19T14:37:03.270052",
     "exception": false,
     "start_time": "2022-10-19T14:37:03.154237",
     "status": "completed"
    },
    "tags": []
   },
   "outputs": [
    {
     "data": {
      "text/plain": [
       "477"
      ]
     },
     "execution_count": 8,
     "metadata": {},
     "output_type": "execute_result"
    }
   ],
   "source": [
    "## Create datasets\n",
    "class PolyHaven(Dataset):\n",
    "    def __init__(self,captions,image_tensors):\n",
    "        self.captions=captions\n",
    "        self.images=image_tensors\n",
    "        \n",
    "    def __getitem__(self,idx):\n",
    "        image_idx,_=self.images[idx]\n",
    "        caption_idx=self.captions[idx]\n",
    "        return {'image':image_idx,'caption': \" \".join(caption_idx)}\n",
    "        \n",
    "    def __len__(self):\n",
    "        return len(self.captions)\n",
    "    \n",
    "dataset = PolyHaven(train.caption.values.tolist(), image_folder)\n",
    "len(dataset)"
   ]
  },
  {
   "cell_type": "code",
   "execution_count": 9,
   "id": "9f54e00c",
   "metadata": {
    "execution": {
     "iopub.execute_input": "2022-10-19T14:37:03.472451Z",
     "iopub.status.busy": "2022-10-19T14:37:03.472023Z",
     "iopub.status.idle": "2022-10-19T14:37:03.479735Z",
     "shell.execute_reply": "2022-10-19T14:37:03.478902Z"
    },
    "papermill": {
     "duration": 0.111519,
     "end_time": "2022-10-19T14:37:03.481784",
     "exception": false,
     "start_time": "2022-10-19T14:37:03.370265",
     "status": "completed"
    },
    "tags": []
   },
   "outputs": [],
   "source": [
    "## create dataloaders\n",
    "BATCH_SIZE  =  8\n",
    "TEST_SPLIT  = .3\n",
    "RANDOM_SEED = 42\n",
    "\n",
    "dataset_size = train.shape[0]\n",
    "indices = list(range(dataset_size))\n",
    "split = int(np.floor(TEST_SPLIT * dataset_size))\n",
    "np.random.seed(RANDOM_SEED)\n",
    "np.random.shuffle(indices)\n",
    "train_indices, val_indices = indices[split:], indices[:split]\n",
    "\n",
    "# Creating PT data samplers and loaders:\n",
    "train_sampler = SubsetRandomSampler(train_indices)\n",
    "valid_sampler = SubsetRandomSampler(val_indices)\n",
    "\n",
    "tr_dl = DataLoader(dataset, batch_size=BATCH_SIZE, sampler=train_sampler)\n",
    "ts_dl = DataLoader(dataset, batch_size=BATCH_SIZE, sampler=valid_sampler)"
   ]
  },
  {
   "cell_type": "code",
   "execution_count": 10,
   "id": "5850236a",
   "metadata": {
    "execution": {
     "iopub.execute_input": "2022-10-19T14:37:03.682186Z",
     "iopub.status.busy": "2022-10-19T14:37:03.681879Z",
     "iopub.status.idle": "2022-10-19T14:37:03.689579Z",
     "shell.execute_reply": "2022-10-19T14:37:03.688578Z"
    },
    "papermill": {
     "duration": 0.1109,
     "end_time": "2022-10-19T14:37:03.691749",
     "exception": false,
     "start_time": "2022-10-19T14:37:03.580849",
     "status": "completed"
    },
    "tags": []
   },
   "outputs": [],
   "source": [
    "import torch.nn as nn\n",
    "import torch.optim as optim\n",
    "\n",
    "N_EPOCHS = 64\n",
    "loss_img = nn.CrossEntropyLoss()\n",
    "loss_caption = nn.CrossEntropyLoss()\n",
    "\n",
    "optimizer = optim.Adam(model.parameters(), lr=1e-5)\n",
    "scheduler = optim.lr_scheduler.CosineAnnealingLR(optimizer, len(tr_dl)*N_EPOCHS)"
   ]
  },
  {
   "cell_type": "markdown",
   "id": "9293d4b5",
   "metadata": {
    "papermill": {
     "duration": 0.11322,
     "end_time": "2022-10-19T14:37:03.906649",
     "exception": false,
     "start_time": "2022-10-19T14:37:03.793429",
     "status": "completed"
    },
    "tags": []
   },
   "source": [
    "## Training code"
   ]
  },
  {
   "cell_type": "code",
   "execution_count": 11,
   "id": "eebfead4",
   "metadata": {},
   "outputs": [],
   "source": [
    "DEVICE=\"cuda:0\" if torch.cuda.is_available() else \"cpu\"\n",
    "\n",
    "vae.eval()\n",
    "vae.requires_grad_(False)\n",
    "\n",
    "model.to(DEVICE)\n",
    "\n",
    "## to avoid problems with mixed precision, taken from here https://github.com/openai/CLIP/issues/57\n",
    "def convert_models_to_fp32(model): \n",
    "    for p in model.parameters(): \n",
    "        p.data = p.data.float() \n",
    "        p.grad.data = p.grad.data.float()\n",
    "\n",
    "\n",
    "def validate(test_dl, use_vae=False):\n",
    "    model.eval()\n",
    "    test_loss=0.0\n",
    "    for data in tqdm(test_dl,desc=\"Evaluating in validation set\"):\n",
    "        if use_vae == True:\n",
    "            img_batch=apply_vae(data['image'].to(DEVICE), vae, preprocess_tensor)\n",
    "        else: \n",
    "            img_batch=preprocess_tensor(data['image'].to(DEVICE))        \n",
    "        captions_batch=clip.tokenize(data['caption'],truncate=True).to(DEVICE)\n",
    "        with torch.no_grad():\n",
    "            logits_image, logits_caption = model(img_batch, captions_batch)\n",
    "        labels = torch.arange(len(img_batch)).to(DEVICE)  ## we are interested on predicting the right caption which is the caption position of every image\n",
    "        total_loss = (loss_img(logits_image,labels) + loss_caption(logits_caption,labels))/2\n",
    "        test_loss+=total_loss.item()\n",
    "    \n",
    "    test_total_loss=test_loss/len(test_dl)\n",
    "    print(f\"Validation Loss {test_total_loss:.3f}\")\n",
    "    return test_total_loss\n",
    "\n",
    "\n",
    "def train_model(n_epochs,train_dataloader,checkpoint_path:str=\"./clip_checkpoints\", use_vae=False, model_name=\"default\"):\n",
    "    if not os.path.isdir(checkpoint_path):\n",
    "        os.makedirs(checkpoint_path)\n",
    "        \n",
    "    print(f\"Using {DEVICE} for training\")\n",
    "    best_score=9999999\n",
    "    history={'train_loss':[],'val_loss':[]}\n",
    "    for epoch in tqdm(range(n_epochs)):\n",
    "        total_steps=0\n",
    "        train_loss=0.0\n",
    "        model.train()\n",
    "        for step,data in enumerate(train_dataloader,1):\n",
    "            \n",
    "            optimizer.zero_grad()\n",
    "            if use_vae == True:\n",
    "                img_batch=apply_vae(data['image'].to(DEVICE), vae, preprocess_tensor)\n",
    "            else: \n",
    "                img_batch=preprocess_tensor(data['image'].to(DEVICE))\n",
    "\n",
    "            captions_batch=clip.tokenize(data['caption'],truncate=True).to(DEVICE)\n",
    "            with torch.cuda.amp.autocast():\n",
    "                logits_image, logits_caption = model(img_batch, captions_batch)\n",
    "            labels = torch.arange(len(img_batch)).to(DEVICE)  ## we are interested on predicting the right caption which is the caption position of every image\n",
    "            img_loss=loss_img(logits_image,labels)\n",
    "            caption_loss=loss_caption(logits_caption,labels)\n",
    "            total_loss = (img_loss+caption_loss)/2\n",
    "            total_loss.backward()\n",
    "            train_loss+=total_loss.item()\n",
    "            convert_models_to_fp32(model)\n",
    "            optimizer.step()\n",
    "            torch.nn.utils.clip_grad_norm_(model.parameters(), 1.0)\n",
    "            total_steps+=1\n",
    "            scheduler.step() ##per step scheduler\n",
    "            if step%100==0:\n",
    "                print(f\"Epoch {epoch} step loss:{train_loss/total_steps}\")\n",
    "                print(f\"Lr at step {step}: {optimizer.param_groups[0]['lr']:.5f}\")\n",
    "            \n",
    "        history['train_loss'].append(train_loss/len(train_dataloader))\n",
    "        val_metrics=validate(ts_dl, use_vae=use_vae)\n",
    "        history['val_loss'].append(val_metrics)\n",
    "\n",
    "        if val_metrics<best_score:\n",
    "            print(\"Better score reached, saving checkpoint...\")\n",
    "            if os.path.exists(Path(checkpoint_path)/\"clip_finetuned_{}.pt\".format(model_name)):\n",
    "                os.remove(Path(checkpoint_path)/\"clip_finetuned_{}.pt\".format(model_name))\n",
    "            best_score=val_metrics\n",
    "            torch.save(model.state_dict(), Path(checkpoint_path)/\"clip_finetuned_{}.pt\".format(model_name))\n",
    "            \n",
    "    return history\n",
    "            \n"
   ]
  },
  {
   "cell_type": "markdown",
   "id": "f68aff24",
   "metadata": {},
   "source": [
    "## Train on the PolyHaven Dataset"
   ]
  },
  {
   "cell_type": "code",
   "execution_count": 12,
   "id": "778b2954",
   "metadata": {},
   "outputs": [
    {
     "name": "stdout",
     "output_type": "stream",
     "text": [
      "Using cuda:0 for training\n"
     ]
    },
    {
     "data": {
      "application/vnd.jupyter.widget-view+json": {
       "model_id": "47d829b078fc422fa80ffe0a99b9b229",
       "version_major": 2,
       "version_minor": 0
      },
      "text/plain": [
       "  0%|          | 0/64 [00:00<?, ?it/s]"
      ]
     },
     "metadata": {},
     "output_type": "display_data"
    },
    {
     "name": "stderr",
     "output_type": "stream",
     "text": [
      "/home/antonio/miniconda3/envs/nlp-env/lib/python3.11/site-packages/torchvision/transforms/functional.py:1603: UserWarning: The default value of the antialias parameter of all the resizing transforms (Resize(), RandomResizedCrop(), etc.) will change from None to True in v0.17, in order to be consistent across the PIL and Tensor backends. To suppress this warning, directly pass antialias=True (recommended, future default), antialias=None (current default, which means False for Tensors and True for PIL), or antialias=False (only works on Tensors - PIL will still use antialiasing). This also applies if you are using the inference transforms from the models weights: update the call to weights.transforms(antialias=True).\n",
      "  warnings.warn(\n",
      "/home/antonio/miniconda3/envs/nlp-env/lib/python3.11/site-packages/torch/nn/modules/conv.py:459: UserWarning: Applied workaround for CuDNN issue, install nvrtc.so (Triggered internally at /opt/conda/conda-bld/pytorch_1682343995622/work/aten/src/ATen/native/cudnn/Conv_v8.cpp:80.)\n",
      "  return F.conv2d(input, weight, bias, self.stride,\n"
     ]
    },
    {
     "data": {
      "application/vnd.jupyter.widget-view+json": {
       "model_id": "70bd6ddc633d4d06a9d2e914fc3351a4",
       "version_major": 2,
       "version_minor": 0
      },
      "text/plain": [
       "Evaluating in validation set:   0%|          | 0/18 [00:00<?, ?it/s]"
      ]
     },
     "metadata": {},
     "output_type": "display_data"
    },
    {
     "name": "stdout",
     "output_type": "stream",
     "text": [
      "Validation Loss 0.529\n",
      "Better score reached, saving checkpoint...\n"
     ]
    },
    {
     "data": {
      "application/vnd.jupyter.widget-view+json": {
       "model_id": "1f8298f66f6d4514bb95d642230390b1",
       "version_major": 2,
       "version_minor": 0
      },
      "text/plain": [
       "Evaluating in validation set:   0%|          | 0/18 [00:00<?, ?it/s]"
      ]
     },
     "metadata": {},
     "output_type": "display_data"
    },
    {
     "name": "stdout",
     "output_type": "stream",
     "text": [
      "Validation Loss 0.430\n",
      "Better score reached, saving checkpoint...\n"
     ]
    },
    {
     "data": {
      "application/vnd.jupyter.widget-view+json": {
       "model_id": "43147a1b0afe456dbd36b9f61003ebcc",
       "version_major": 2,
       "version_minor": 0
      },
      "text/plain": [
       "Evaluating in validation set:   0%|          | 0/18 [00:00<?, ?it/s]"
      ]
     },
     "metadata": {},
     "output_type": "display_data"
    },
    {
     "name": "stdout",
     "output_type": "stream",
     "text": [
      "Validation Loss 0.455\n"
     ]
    },
    {
     "data": {
      "application/vnd.jupyter.widget-view+json": {
       "model_id": "2a2cb71da6d8453db969f2602c79bcbd",
       "version_major": 2,
       "version_minor": 0
      },
      "text/plain": [
       "Evaluating in validation set:   0%|          | 0/18 [00:00<?, ?it/s]"
      ]
     },
     "metadata": {},
     "output_type": "display_data"
    },
    {
     "name": "stdout",
     "output_type": "stream",
     "text": [
      "Validation Loss 0.430\n"
     ]
    },
    {
     "data": {
      "application/vnd.jupyter.widget-view+json": {
       "model_id": "fe7358955c2c4891bd397249790746b1",
       "version_major": 2,
       "version_minor": 0
      },
      "text/plain": [
       "Evaluating in validation set:   0%|          | 0/18 [00:00<?, ?it/s]"
      ]
     },
     "metadata": {},
     "output_type": "display_data"
    },
    {
     "name": "stdout",
     "output_type": "stream",
     "text": [
      "Validation Loss 0.440\n"
     ]
    },
    {
     "data": {
      "application/vnd.jupyter.widget-view+json": {
       "model_id": "adb1a567290448ecad145fd6975d3d64",
       "version_major": 2,
       "version_minor": 0
      },
      "text/plain": [
       "Evaluating in validation set:   0%|          | 0/18 [00:00<?, ?it/s]"
      ]
     },
     "metadata": {},
     "output_type": "display_data"
    },
    {
     "name": "stdout",
     "output_type": "stream",
     "text": [
      "Validation Loss 0.488\n"
     ]
    },
    {
     "data": {
      "application/vnd.jupyter.widget-view+json": {
       "model_id": "6f32847c919c4611aadd7e1811fad03b",
       "version_major": 2,
       "version_minor": 0
      },
      "text/plain": [
       "Evaluating in validation set:   0%|          | 0/18 [00:00<?, ?it/s]"
      ]
     },
     "metadata": {},
     "output_type": "display_data"
    },
    {
     "name": "stdout",
     "output_type": "stream",
     "text": [
      "Validation Loss 0.375\n",
      "Better score reached, saving checkpoint...\n"
     ]
    },
    {
     "data": {
      "application/vnd.jupyter.widget-view+json": {
       "model_id": "9df588968351479d826c893f0cf8d810",
       "version_major": 2,
       "version_minor": 0
      },
      "text/plain": [
       "Evaluating in validation set:   0%|          | 0/18 [00:00<?, ?it/s]"
      ]
     },
     "metadata": {},
     "output_type": "display_data"
    },
    {
     "name": "stdout",
     "output_type": "stream",
     "text": [
      "Validation Loss 0.357\n",
      "Better score reached, saving checkpoint...\n"
     ]
    },
    {
     "data": {
      "application/vnd.jupyter.widget-view+json": {
       "model_id": "3f681c7183a1453bb6823700135b2b19",
       "version_major": 2,
       "version_minor": 0
      },
      "text/plain": [
       "Evaluating in validation set:   0%|          | 0/18 [00:00<?, ?it/s]"
      ]
     },
     "metadata": {},
     "output_type": "display_data"
    },
    {
     "name": "stdout",
     "output_type": "stream",
     "text": [
      "Validation Loss 0.358\n"
     ]
    },
    {
     "data": {
      "application/vnd.jupyter.widget-view+json": {
       "model_id": "27ddbf68ec6b4e0293f897a5866cab4c",
       "version_major": 2,
       "version_minor": 0
      },
      "text/plain": [
       "Evaluating in validation set:   0%|          | 0/18 [00:00<?, ?it/s]"
      ]
     },
     "metadata": {},
     "output_type": "display_data"
    },
    {
     "name": "stdout",
     "output_type": "stream",
     "text": [
      "Validation Loss 0.290\n",
      "Better score reached, saving checkpoint...\n"
     ]
    },
    {
     "data": {
      "application/vnd.jupyter.widget-view+json": {
       "model_id": "5f24cf92d2464ab98a217797a510817f",
       "version_major": 2,
       "version_minor": 0
      },
      "text/plain": [
       "Evaluating in validation set:   0%|          | 0/18 [00:00<?, ?it/s]"
      ]
     },
     "metadata": {},
     "output_type": "display_data"
    },
    {
     "name": "stdout",
     "output_type": "stream",
     "text": [
      "Validation Loss 0.425\n"
     ]
    },
    {
     "data": {
      "application/vnd.jupyter.widget-view+json": {
       "model_id": "b0cd094334504ce481d54b9ed5ae6c68",
       "version_major": 2,
       "version_minor": 0
      },
      "text/plain": [
       "Evaluating in validation set:   0%|          | 0/18 [00:00<?, ?it/s]"
      ]
     },
     "metadata": {},
     "output_type": "display_data"
    },
    {
     "name": "stdout",
     "output_type": "stream",
     "text": [
      "Validation Loss 0.627\n"
     ]
    },
    {
     "data": {
      "application/vnd.jupyter.widget-view+json": {
       "model_id": "74dd0f96f85a41a984f53d028911264a",
       "version_major": 2,
       "version_minor": 0
      },
      "text/plain": [
       "Evaluating in validation set:   0%|          | 0/18 [00:00<?, ?it/s]"
      ]
     },
     "metadata": {},
     "output_type": "display_data"
    },
    {
     "name": "stdout",
     "output_type": "stream",
     "text": [
      "Validation Loss 0.422\n"
     ]
    },
    {
     "data": {
      "application/vnd.jupyter.widget-view+json": {
       "model_id": "4b123fb9c82c48a2b4106da4362856ef",
       "version_major": 2,
       "version_minor": 0
      },
      "text/plain": [
       "Evaluating in validation set:   0%|          | 0/18 [00:00<?, ?it/s]"
      ]
     },
     "metadata": {},
     "output_type": "display_data"
    },
    {
     "name": "stdout",
     "output_type": "stream",
     "text": [
      "Validation Loss 0.434\n"
     ]
    },
    {
     "data": {
      "application/vnd.jupyter.widget-view+json": {
       "model_id": "a493979d13f84711b4ff9a3ca8e6eff0",
       "version_major": 2,
       "version_minor": 0
      },
      "text/plain": [
       "Evaluating in validation set:   0%|          | 0/18 [00:00<?, ?it/s]"
      ]
     },
     "metadata": {},
     "output_type": "display_data"
    },
    {
     "name": "stdout",
     "output_type": "stream",
     "text": [
      "Validation Loss 0.353\n"
     ]
    },
    {
     "data": {
      "application/vnd.jupyter.widget-view+json": {
       "model_id": "536028dde2dc4f179af83fd11f9260c6",
       "version_major": 2,
       "version_minor": 0
      },
      "text/plain": [
       "Evaluating in validation set:   0%|          | 0/18 [00:00<?, ?it/s]"
      ]
     },
     "metadata": {},
     "output_type": "display_data"
    },
    {
     "name": "stdout",
     "output_type": "stream",
     "text": [
      "Validation Loss 0.615\n"
     ]
    },
    {
     "data": {
      "application/vnd.jupyter.widget-view+json": {
       "model_id": "e1581fe8371b47be8aca05f62746e08e",
       "version_major": 2,
       "version_minor": 0
      },
      "text/plain": [
       "Evaluating in validation set:   0%|          | 0/18 [00:00<?, ?it/s]"
      ]
     },
     "metadata": {},
     "output_type": "display_data"
    },
    {
     "name": "stdout",
     "output_type": "stream",
     "text": [
      "Validation Loss 0.472\n"
     ]
    },
    {
     "data": {
      "application/vnd.jupyter.widget-view+json": {
       "model_id": "e4378dab43d94607b7ed726ce6c0bc7b",
       "version_major": 2,
       "version_minor": 0
      },
      "text/plain": [
       "Evaluating in validation set:   0%|          | 0/18 [00:00<?, ?it/s]"
      ]
     },
     "metadata": {},
     "output_type": "display_data"
    },
    {
     "name": "stdout",
     "output_type": "stream",
     "text": [
      "Validation Loss 0.363\n"
     ]
    },
    {
     "data": {
      "application/vnd.jupyter.widget-view+json": {
       "model_id": "d1f9f01fd25646fb92c21dc67acae9a7",
       "version_major": 2,
       "version_minor": 0
      },
      "text/plain": [
       "Evaluating in validation set:   0%|          | 0/18 [00:00<?, ?it/s]"
      ]
     },
     "metadata": {},
     "output_type": "display_data"
    },
    {
     "name": "stdout",
     "output_type": "stream",
     "text": [
      "Validation Loss 0.313\n"
     ]
    },
    {
     "data": {
      "application/vnd.jupyter.widget-view+json": {
       "model_id": "f26c64b27a8f4743a85e70a44f81dbcd",
       "version_major": 2,
       "version_minor": 0
      },
      "text/plain": [
       "Evaluating in validation set:   0%|          | 0/18 [00:00<?, ?it/s]"
      ]
     },
     "metadata": {},
     "output_type": "display_data"
    },
    {
     "name": "stdout",
     "output_type": "stream",
     "text": [
      "Validation Loss 0.293\n"
     ]
    },
    {
     "data": {
      "application/vnd.jupyter.widget-view+json": {
       "model_id": "c4c92ddf91254971a73d4a6cf262c655",
       "version_major": 2,
       "version_minor": 0
      },
      "text/plain": [
       "Evaluating in validation set:   0%|          | 0/18 [00:00<?, ?it/s]"
      ]
     },
     "metadata": {},
     "output_type": "display_data"
    },
    {
     "name": "stdout",
     "output_type": "stream",
     "text": [
      "Validation Loss 0.291\n"
     ]
    },
    {
     "data": {
      "application/vnd.jupyter.widget-view+json": {
       "model_id": "a3839d852b1249509a5ea24103732bdf",
       "version_major": 2,
       "version_minor": 0
      },
      "text/plain": [
       "Evaluating in validation set:   0%|          | 0/18 [00:00<?, ?it/s]"
      ]
     },
     "metadata": {},
     "output_type": "display_data"
    },
    {
     "name": "stdout",
     "output_type": "stream",
     "text": [
      "Validation Loss 0.219\n",
      "Better score reached, saving checkpoint...\n"
     ]
    },
    {
     "data": {
      "application/vnd.jupyter.widget-view+json": {
       "model_id": "71b5461225d244b09ed6f60c39e06838",
       "version_major": 2,
       "version_minor": 0
      },
      "text/plain": [
       "Evaluating in validation set:   0%|          | 0/18 [00:00<?, ?it/s]"
      ]
     },
     "metadata": {},
     "output_type": "display_data"
    },
    {
     "name": "stdout",
     "output_type": "stream",
     "text": [
      "Validation Loss 0.295\n"
     ]
    },
    {
     "data": {
      "application/vnd.jupyter.widget-view+json": {
       "model_id": "11ca010a975348ba8dcb14b4be34b80e",
       "version_major": 2,
       "version_minor": 0
      },
      "text/plain": [
       "Evaluating in validation set:   0%|          | 0/18 [00:00<?, ?it/s]"
      ]
     },
     "metadata": {},
     "output_type": "display_data"
    },
    {
     "name": "stdout",
     "output_type": "stream",
     "text": [
      "Validation Loss 0.398\n"
     ]
    },
    {
     "data": {
      "application/vnd.jupyter.widget-view+json": {
       "model_id": "16914922b6324582ab2090b6f06f7413",
       "version_major": 2,
       "version_minor": 0
      },
      "text/plain": [
       "Evaluating in validation set:   0%|          | 0/18 [00:00<?, ?it/s]"
      ]
     },
     "metadata": {},
     "output_type": "display_data"
    },
    {
     "name": "stdout",
     "output_type": "stream",
     "text": [
      "Validation Loss 0.316\n"
     ]
    },
    {
     "data": {
      "application/vnd.jupyter.widget-view+json": {
       "model_id": "28bc47d5132348dca711558d1baa89af",
       "version_major": 2,
       "version_minor": 0
      },
      "text/plain": [
       "Evaluating in validation set:   0%|          | 0/18 [00:00<?, ?it/s]"
      ]
     },
     "metadata": {},
     "output_type": "display_data"
    },
    {
     "name": "stdout",
     "output_type": "stream",
     "text": [
      "Validation Loss 0.453\n"
     ]
    },
    {
     "data": {
      "application/vnd.jupyter.widget-view+json": {
       "model_id": "bfcd59f0ca0f4130b41267b51af7bc9f",
       "version_major": 2,
       "version_minor": 0
      },
      "text/plain": [
       "Evaluating in validation set:   0%|          | 0/18 [00:00<?, ?it/s]"
      ]
     },
     "metadata": {},
     "output_type": "display_data"
    },
    {
     "name": "stdout",
     "output_type": "stream",
     "text": [
      "Validation Loss 0.302\n"
     ]
    },
    {
     "data": {
      "application/vnd.jupyter.widget-view+json": {
       "model_id": "45910140be7e451c9748286425a797ab",
       "version_major": 2,
       "version_minor": 0
      },
      "text/plain": [
       "Evaluating in validation set:   0%|          | 0/18 [00:00<?, ?it/s]"
      ]
     },
     "metadata": {},
     "output_type": "display_data"
    },
    {
     "name": "stdout",
     "output_type": "stream",
     "text": [
      "Validation Loss 0.359\n"
     ]
    },
    {
     "data": {
      "application/vnd.jupyter.widget-view+json": {
       "model_id": "13a93e794e9241fd8293530643689e55",
       "version_major": 2,
       "version_minor": 0
      },
      "text/plain": [
       "Evaluating in validation set:   0%|          | 0/18 [00:00<?, ?it/s]"
      ]
     },
     "metadata": {},
     "output_type": "display_data"
    },
    {
     "name": "stdout",
     "output_type": "stream",
     "text": [
      "Validation Loss 0.341\n"
     ]
    },
    {
     "data": {
      "application/vnd.jupyter.widget-view+json": {
       "model_id": "311c3f07a3844505881ccffbf350cf68",
       "version_major": 2,
       "version_minor": 0
      },
      "text/plain": [
       "Evaluating in validation set:   0%|          | 0/18 [00:00<?, ?it/s]"
      ]
     },
     "metadata": {},
     "output_type": "display_data"
    },
    {
     "name": "stdout",
     "output_type": "stream",
     "text": [
      "Validation Loss 0.261\n"
     ]
    },
    {
     "data": {
      "application/vnd.jupyter.widget-view+json": {
       "model_id": "0e53e2ea4e024074be488ab94f3dc667",
       "version_major": 2,
       "version_minor": 0
      },
      "text/plain": [
       "Evaluating in validation set:   0%|          | 0/18 [00:00<?, ?it/s]"
      ]
     },
     "metadata": {},
     "output_type": "display_data"
    },
    {
     "name": "stdout",
     "output_type": "stream",
     "text": [
      "Validation Loss 0.252\n"
     ]
    },
    {
     "data": {
      "application/vnd.jupyter.widget-view+json": {
       "model_id": "5f137ed1394b466d89e0efdd93cf99a7",
       "version_major": 2,
       "version_minor": 0
      },
      "text/plain": [
       "Evaluating in validation set:   0%|          | 0/18 [00:00<?, ?it/s]"
      ]
     },
     "metadata": {},
     "output_type": "display_data"
    },
    {
     "name": "stdout",
     "output_type": "stream",
     "text": [
      "Validation Loss 0.291\n"
     ]
    },
    {
     "data": {
      "application/vnd.jupyter.widget-view+json": {
       "model_id": "9509b62f2a7c448eb9abf14a3b5e04c9",
       "version_major": 2,
       "version_minor": 0
      },
      "text/plain": [
       "Evaluating in validation set:   0%|          | 0/18 [00:00<?, ?it/s]"
      ]
     },
     "metadata": {},
     "output_type": "display_data"
    },
    {
     "name": "stdout",
     "output_type": "stream",
     "text": [
      "Validation Loss 0.382\n"
     ]
    },
    {
     "data": {
      "application/vnd.jupyter.widget-view+json": {
       "model_id": "6f9e308a06c14b588ba4fe3ce7894f7e",
       "version_major": 2,
       "version_minor": 0
      },
      "text/plain": [
       "Evaluating in validation set:   0%|          | 0/18 [00:00<?, ?it/s]"
      ]
     },
     "metadata": {},
     "output_type": "display_data"
    },
    {
     "name": "stdout",
     "output_type": "stream",
     "text": [
      "Validation Loss 0.436\n"
     ]
    },
    {
     "data": {
      "application/vnd.jupyter.widget-view+json": {
       "model_id": "94cf35f1707c42dd9dc6c71720a49008",
       "version_major": 2,
       "version_minor": 0
      },
      "text/plain": [
       "Evaluating in validation set:   0%|          | 0/18 [00:00<?, ?it/s]"
      ]
     },
     "metadata": {},
     "output_type": "display_data"
    },
    {
     "name": "stdout",
     "output_type": "stream",
     "text": [
      "Validation Loss 0.344\n"
     ]
    },
    {
     "data": {
      "application/vnd.jupyter.widget-view+json": {
       "model_id": "0783a970ee6d41009539b15791b2243e",
       "version_major": 2,
       "version_minor": 0
      },
      "text/plain": [
       "Evaluating in validation set:   0%|          | 0/18 [00:00<?, ?it/s]"
      ]
     },
     "metadata": {},
     "output_type": "display_data"
    },
    {
     "name": "stdout",
     "output_type": "stream",
     "text": [
      "Validation Loss 0.287\n"
     ]
    },
    {
     "data": {
      "application/vnd.jupyter.widget-view+json": {
       "model_id": "a0a7456ff4be4fd1b3ec4010b37d462f",
       "version_major": 2,
       "version_minor": 0
      },
      "text/plain": [
       "Evaluating in validation set:   0%|          | 0/18 [00:00<?, ?it/s]"
      ]
     },
     "metadata": {},
     "output_type": "display_data"
    },
    {
     "name": "stdout",
     "output_type": "stream",
     "text": [
      "Validation Loss 0.325\n"
     ]
    },
    {
     "data": {
      "application/vnd.jupyter.widget-view+json": {
       "model_id": "b119e156105a42cd8218418e476c89bb",
       "version_major": 2,
       "version_minor": 0
      },
      "text/plain": [
       "Evaluating in validation set:   0%|          | 0/18 [00:00<?, ?it/s]"
      ]
     },
     "metadata": {},
     "output_type": "display_data"
    },
    {
     "name": "stdout",
     "output_type": "stream",
     "text": [
      "Validation Loss 0.399\n"
     ]
    },
    {
     "data": {
      "application/vnd.jupyter.widget-view+json": {
       "model_id": "414f2c4ed978491fb9fa6d097c20b3e3",
       "version_major": 2,
       "version_minor": 0
      },
      "text/plain": [
       "Evaluating in validation set:   0%|          | 0/18 [00:00<?, ?it/s]"
      ]
     },
     "metadata": {},
     "output_type": "display_data"
    },
    {
     "name": "stdout",
     "output_type": "stream",
     "text": [
      "Validation Loss 0.319\n"
     ]
    },
    {
     "data": {
      "application/vnd.jupyter.widget-view+json": {
       "model_id": "be1d6d7d9c3f415583d55147359de2b0",
       "version_major": 2,
       "version_minor": 0
      },
      "text/plain": [
       "Evaluating in validation set:   0%|          | 0/18 [00:00<?, ?it/s]"
      ]
     },
     "metadata": {},
     "output_type": "display_data"
    },
    {
     "name": "stdout",
     "output_type": "stream",
     "text": [
      "Validation Loss 0.337\n"
     ]
    },
    {
     "data": {
      "application/vnd.jupyter.widget-view+json": {
       "model_id": "42b59770d6a6453eb9d2e40af02a268b",
       "version_major": 2,
       "version_minor": 0
      },
      "text/plain": [
       "Evaluating in validation set:   0%|          | 0/18 [00:00<?, ?it/s]"
      ]
     },
     "metadata": {},
     "output_type": "display_data"
    },
    {
     "name": "stdout",
     "output_type": "stream",
     "text": [
      "Validation Loss 0.275\n"
     ]
    },
    {
     "data": {
      "application/vnd.jupyter.widget-view+json": {
       "model_id": "d204761034ae4bde86ff787962d32ba6",
       "version_major": 2,
       "version_minor": 0
      },
      "text/plain": [
       "Evaluating in validation set:   0%|          | 0/18 [00:00<?, ?it/s]"
      ]
     },
     "metadata": {},
     "output_type": "display_data"
    },
    {
     "name": "stdout",
     "output_type": "stream",
     "text": [
      "Validation Loss 0.206\n",
      "Better score reached, saving checkpoint...\n"
     ]
    },
    {
     "data": {
      "application/vnd.jupyter.widget-view+json": {
       "model_id": "939c389710d245aba2d53d0efb0d40aa",
       "version_major": 2,
       "version_minor": 0
      },
      "text/plain": [
       "Evaluating in validation set:   0%|          | 0/18 [00:00<?, ?it/s]"
      ]
     },
     "metadata": {},
     "output_type": "display_data"
    },
    {
     "name": "stdout",
     "output_type": "stream",
     "text": [
      "Validation Loss 0.242\n"
     ]
    },
    {
     "data": {
      "application/vnd.jupyter.widget-view+json": {
       "model_id": "9392d6ce0b574b218e31326388f1344f",
       "version_major": 2,
       "version_minor": 0
      },
      "text/plain": [
       "Evaluating in validation set:   0%|          | 0/18 [00:00<?, ?it/s]"
      ]
     },
     "metadata": {},
     "output_type": "display_data"
    },
    {
     "name": "stdout",
     "output_type": "stream",
     "text": [
      "Validation Loss 0.237\n"
     ]
    },
    {
     "data": {
      "application/vnd.jupyter.widget-view+json": {
       "model_id": "9ea8220da3c147729d0bc03af6f7c250",
       "version_major": 2,
       "version_minor": 0
      },
      "text/plain": [
       "Evaluating in validation set:   0%|          | 0/18 [00:00<?, ?it/s]"
      ]
     },
     "metadata": {},
     "output_type": "display_data"
    },
    {
     "name": "stdout",
     "output_type": "stream",
     "text": [
      "Validation Loss 0.256\n"
     ]
    },
    {
     "data": {
      "application/vnd.jupyter.widget-view+json": {
       "model_id": "58d522c963f444a79b640a4fa73d2dae",
       "version_major": 2,
       "version_minor": 0
      },
      "text/plain": [
       "Evaluating in validation set:   0%|          | 0/18 [00:00<?, ?it/s]"
      ]
     },
     "metadata": {},
     "output_type": "display_data"
    },
    {
     "name": "stdout",
     "output_type": "stream",
     "text": [
      "Validation Loss 0.358\n"
     ]
    },
    {
     "data": {
      "application/vnd.jupyter.widget-view+json": {
       "model_id": "f56835e070544609ac5c398a08787aac",
       "version_major": 2,
       "version_minor": 0
      },
      "text/plain": [
       "Evaluating in validation set:   0%|          | 0/18 [00:00<?, ?it/s]"
      ]
     },
     "metadata": {},
     "output_type": "display_data"
    },
    {
     "name": "stdout",
     "output_type": "stream",
     "text": [
      "Validation Loss 0.291\n"
     ]
    },
    {
     "data": {
      "application/vnd.jupyter.widget-view+json": {
       "model_id": "900786d2d7a6415287dafbcc0eee4837",
       "version_major": 2,
       "version_minor": 0
      },
      "text/plain": [
       "Evaluating in validation set:   0%|          | 0/18 [00:00<?, ?it/s]"
      ]
     },
     "metadata": {},
     "output_type": "display_data"
    },
    {
     "name": "stdout",
     "output_type": "stream",
     "text": [
      "Validation Loss 0.280\n"
     ]
    },
    {
     "data": {
      "application/vnd.jupyter.widget-view+json": {
       "model_id": "fd35ccd947174a108316f2a8bb0e066c",
       "version_major": 2,
       "version_minor": 0
      },
      "text/plain": [
       "Evaluating in validation set:   0%|          | 0/18 [00:00<?, ?it/s]"
      ]
     },
     "metadata": {},
     "output_type": "display_data"
    },
    {
     "name": "stdout",
     "output_type": "stream",
     "text": [
      "Validation Loss 0.269\n"
     ]
    },
    {
     "data": {
      "application/vnd.jupyter.widget-view+json": {
       "model_id": "7c540caff0a746afb87a03627b7d5cdf",
       "version_major": 2,
       "version_minor": 0
      },
      "text/plain": [
       "Evaluating in validation set:   0%|          | 0/18 [00:00<?, ?it/s]"
      ]
     },
     "metadata": {},
     "output_type": "display_data"
    },
    {
     "name": "stdout",
     "output_type": "stream",
     "text": [
      "Validation Loss 0.340\n"
     ]
    },
    {
     "data": {
      "application/vnd.jupyter.widget-view+json": {
       "model_id": "6c75624709284a5ab76f36c6629c5e78",
       "version_major": 2,
       "version_minor": 0
      },
      "text/plain": [
       "Evaluating in validation set:   0%|          | 0/18 [00:00<?, ?it/s]"
      ]
     },
     "metadata": {},
     "output_type": "display_data"
    },
    {
     "name": "stdout",
     "output_type": "stream",
     "text": [
      "Validation Loss 0.406\n"
     ]
    },
    {
     "data": {
      "application/vnd.jupyter.widget-view+json": {
       "model_id": "9e4673351366440b8d2aeae2b32210a8",
       "version_major": 2,
       "version_minor": 0
      },
      "text/plain": [
       "Evaluating in validation set:   0%|          | 0/18 [00:00<?, ?it/s]"
      ]
     },
     "metadata": {},
     "output_type": "display_data"
    },
    {
     "name": "stdout",
     "output_type": "stream",
     "text": [
      "Validation Loss 0.355\n"
     ]
    },
    {
     "data": {
      "application/vnd.jupyter.widget-view+json": {
       "model_id": "c5a0d69591fc4a86a85913263f6b9ccc",
       "version_major": 2,
       "version_minor": 0
      },
      "text/plain": [
       "Evaluating in validation set:   0%|          | 0/18 [00:00<?, ?it/s]"
      ]
     },
     "metadata": {},
     "output_type": "display_data"
    },
    {
     "name": "stdout",
     "output_type": "stream",
     "text": [
      "Validation Loss 0.242\n"
     ]
    },
    {
     "data": {
      "application/vnd.jupyter.widget-view+json": {
       "model_id": "27869f8517f3410186dcde4b45aad37a",
       "version_major": 2,
       "version_minor": 0
      },
      "text/plain": [
       "Evaluating in validation set:   0%|          | 0/18 [00:00<?, ?it/s]"
      ]
     },
     "metadata": {},
     "output_type": "display_data"
    },
    {
     "name": "stdout",
     "output_type": "stream",
     "text": [
      "Validation Loss 0.251\n"
     ]
    },
    {
     "data": {
      "application/vnd.jupyter.widget-view+json": {
       "model_id": "edd739ba105e4902970c861190d09326",
       "version_major": 2,
       "version_minor": 0
      },
      "text/plain": [
       "Evaluating in validation set:   0%|          | 0/18 [00:00<?, ?it/s]"
      ]
     },
     "metadata": {},
     "output_type": "display_data"
    },
    {
     "name": "stdout",
     "output_type": "stream",
     "text": [
      "Validation Loss 0.275\n"
     ]
    },
    {
     "data": {
      "application/vnd.jupyter.widget-view+json": {
       "model_id": "4bf0fd9afe7d4c29bbea31fc0fd0ff65",
       "version_major": 2,
       "version_minor": 0
      },
      "text/plain": [
       "Evaluating in validation set:   0%|          | 0/18 [00:00<?, ?it/s]"
      ]
     },
     "metadata": {},
     "output_type": "display_data"
    },
    {
     "name": "stdout",
     "output_type": "stream",
     "text": [
      "Validation Loss 0.286\n"
     ]
    },
    {
     "data": {
      "application/vnd.jupyter.widget-view+json": {
       "model_id": "80cf63341d8d4d42aab5bd0c934c7fe5",
       "version_major": 2,
       "version_minor": 0
      },
      "text/plain": [
       "Evaluating in validation set:   0%|          | 0/18 [00:00<?, ?it/s]"
      ]
     },
     "metadata": {},
     "output_type": "display_data"
    },
    {
     "name": "stdout",
     "output_type": "stream",
     "text": [
      "Validation Loss 0.305\n"
     ]
    },
    {
     "data": {
      "application/vnd.jupyter.widget-view+json": {
       "model_id": "580e6384fa5843fcb677f98395ec5f7c",
       "version_major": 2,
       "version_minor": 0
      },
      "text/plain": [
       "Evaluating in validation set:   0%|          | 0/18 [00:00<?, ?it/s]"
      ]
     },
     "metadata": {},
     "output_type": "display_data"
    },
    {
     "name": "stdout",
     "output_type": "stream",
     "text": [
      "Validation Loss 0.291\n"
     ]
    },
    {
     "data": {
      "application/vnd.jupyter.widget-view+json": {
       "model_id": "2bde12556456484e975fbf9cd0ab682c",
       "version_major": 2,
       "version_minor": 0
      },
      "text/plain": [
       "Evaluating in validation set:   0%|          | 0/18 [00:00<?, ?it/s]"
      ]
     },
     "metadata": {},
     "output_type": "display_data"
    },
    {
     "name": "stdout",
     "output_type": "stream",
     "text": [
      "Validation Loss 0.241\n"
     ]
    },
    {
     "data": {
      "application/vnd.jupyter.widget-view+json": {
       "model_id": "d442aa501dfd4c069543d5335d8fe800",
       "version_major": 2,
       "version_minor": 0
      },
      "text/plain": [
       "Evaluating in validation set:   0%|          | 0/18 [00:00<?, ?it/s]"
      ]
     },
     "metadata": {},
     "output_type": "display_data"
    },
    {
     "name": "stdout",
     "output_type": "stream",
     "text": [
      "Validation Loss 0.221\n"
     ]
    },
    {
     "data": {
      "application/vnd.jupyter.widget-view+json": {
       "model_id": "3e9008a1585b42fa9e5f5adab80fccf1",
       "version_major": 2,
       "version_minor": 0
      },
      "text/plain": [
       "Evaluating in validation set:   0%|          | 0/18 [00:00<?, ?it/s]"
      ]
     },
     "metadata": {},
     "output_type": "display_data"
    },
    {
     "name": "stdout",
     "output_type": "stream",
     "text": [
      "Validation Loss 0.263\n"
     ]
    },
    {
     "data": {
      "application/vnd.jupyter.widget-view+json": {
       "model_id": "66003ae6774a498c847049c5ea09bfc4",
       "version_major": 2,
       "version_minor": 0
      },
      "text/plain": [
       "Evaluating in validation set:   0%|          | 0/18 [00:00<?, ?it/s]"
      ]
     },
     "metadata": {},
     "output_type": "display_data"
    },
    {
     "name": "stdout",
     "output_type": "stream",
     "text": [
      "Validation Loss 0.220\n"
     ]
    },
    {
     "data": {
      "application/vnd.jupyter.widget-view+json": {
       "model_id": "4dd82568f3fb4d9e8ab26dc868e75f28",
       "version_major": 2,
       "version_minor": 0
      },
      "text/plain": [
       "Evaluating in validation set:   0%|          | 0/18 [00:00<?, ?it/s]"
      ]
     },
     "metadata": {},
     "output_type": "display_data"
    },
    {
     "name": "stdout",
     "output_type": "stream",
     "text": [
      "Validation Loss 0.302\n"
     ]
    },
    {
     "data": {
      "application/vnd.jupyter.widget-view+json": {
       "model_id": "0e2a1ae83fe548bdb99797f65bf2d59e",
       "version_major": 2,
       "version_minor": 0
      },
      "text/plain": [
       "Evaluating in validation set:   0%|          | 0/18 [00:00<?, ?it/s]"
      ]
     },
     "metadata": {},
     "output_type": "display_data"
    },
    {
     "name": "stdout",
     "output_type": "stream",
     "text": [
      "Validation Loss 0.269\n"
     ]
    }
   ],
   "source": [
    "USE_VAE = False\n",
    "MODEL_NAME = \"polyhaven\"\n",
    "results=train_model(N_EPOCHS,tr_dl, use_vae=False, model_name=MODEL_NAME)"
   ]
  },
  {
   "cell_type": "code",
   "execution_count": 13,
   "id": "9920f52d",
   "metadata": {},
   "outputs": [
    {
     "data": {
      "image/png": "[encoded data removed]",
      "text/plain": [
       "<Figure size 1000x600 with 1 Axes>"
      ]
     },
     "metadata": {},
     "output_type": "display_data"
    }
   ],
   "source": [
    "f,ax=plt.subplots(figsize=(10,6))\n",
    "plt.plot(results['val_loss'],label=\"validation\")\n",
    "plt.plot(results['train_loss'],label=\"train\")\n",
    "plt.legend()\n",
    "plt.suptitle(\"Training & Validation Loss during fine-tuning\");"
   ]
  },
  {
   "cell_type": "markdown",
   "id": "8774da98",
   "metadata": {},
   "source": [
    "## Train on the VAE's output"
   ]
  },
  {
   "cell_type": "code",
   "execution_count": 12,
   "id": "aab8aac6",
   "metadata": {},
   "outputs": [
    {
     "name": "stdout",
     "output_type": "stream",
     "text": [
      "Using cuda:0 for training\n"
     ]
    },
    {
     "data": {
      "application/vnd.jupyter.widget-view+json": {
       "model_id": "08e491fca61f4d1883923db687d117fd",
       "version_major": 2,
       "version_minor": 0
      },
      "text/plain": [
       "  0%|          | 0/64 [00:00<?, ?it/s]"
      ]
     },
     "metadata": {},
     "output_type": "display_data"
    },
    {
     "name": "stderr",
     "output_type": "stream",
     "text": [
      "/home/antonio/miniconda3/envs/nlp-env/lib/python3.11/site-packages/torch/nn/modules/conv.py:459: UserWarning: Applied workaround for CuDNN issue, install nvrtc.so (Triggered internally at /opt/conda/conda-bld/pytorch_1682343995622/work/aten/src/ATen/native/cudnn/Conv_v8.cpp:80.)\n",
      "  return F.conv2d(input, weight, bias, self.stride,\n",
      "/home/antonio/miniconda3/envs/nlp-env/lib/python3.11/site-packages/torchvision/transforms/functional.py:1603: UserWarning: The default value of the antialias parameter of all the resizing transforms (Resize(), RandomResizedCrop(), etc.) will change from None to True in v0.17, in order to be consistent across the PIL and Tensor backends. To suppress this warning, directly pass antialias=True (recommended, future default), antialias=None (current default, which means False for Tensors and True for PIL), or antialias=False (only works on Tensors - PIL will still use antialiasing). This also applies if you are using the inference transforms from the models weights: update the call to weights.transforms(antialias=True).\n",
      "  warnings.warn(\n"
     ]
    },
    {
     "data": {
      "application/vnd.jupyter.widget-view+json": {
       "model_id": "1b3d917b109b40658ed95939d6de9f6a",
       "version_major": 2,
       "version_minor": 0
      },
      "text/plain": [
       "Evaluating in validation set:   0%|          | 0/18 [00:00<?, ?it/s]"
      ]
     },
     "metadata": {},
     "output_type": "display_data"
    },
    {
     "name": "stdout",
     "output_type": "stream",
     "text": [
      "Validation Loss 1.124\n",
      "Better score reached, saving checkpoint...\n"
     ]
    },
    {
     "data": {
      "application/vnd.jupyter.widget-view+json": {
       "model_id": "b370731954d24c9cabc3743712eaf9c6",
       "version_major": 2,
       "version_minor": 0
      },
      "text/plain": [
       "Evaluating in validation set:   0%|          | 0/18 [00:00<?, ?it/s]"
      ]
     },
     "metadata": {},
     "output_type": "display_data"
    },
    {
     "name": "stdout",
     "output_type": "stream",
     "text": [
      "Validation Loss 0.942\n",
      "Better score reached, saving checkpoint...\n"
     ]
    },
    {
     "data": {
      "application/vnd.jupyter.widget-view+json": {
       "model_id": "53709f864248421bb613d4dc2e4a654c",
       "version_major": 2,
       "version_minor": 0
      },
      "text/plain": [
       "Evaluating in validation set:   0%|          | 0/18 [00:00<?, ?it/s]"
      ]
     },
     "metadata": {},
     "output_type": "display_data"
    },
    {
     "name": "stdout",
     "output_type": "stream",
     "text": [
      "Validation Loss 0.719\n",
      "Better score reached, saving checkpoint...\n"
     ]
    },
    {
     "data": {
      "application/vnd.jupyter.widget-view+json": {
       "model_id": "a7a2016caeb5413b9487285b726a172f",
       "version_major": 2,
       "version_minor": 0
      },
      "text/plain": [
       "Evaluating in validation set:   0%|          | 0/18 [00:00<?, ?it/s]"
      ]
     },
     "metadata": {},
     "output_type": "display_data"
    },
    {
     "name": "stdout",
     "output_type": "stream",
     "text": [
      "Validation Loss 0.840\n"
     ]
    },
    {
     "data": {
      "application/vnd.jupyter.widget-view+json": {
       "model_id": "de0aa8f40cb74beaa5d3f5d235cbdfc1",
       "version_major": 2,
       "version_minor": 0
      },
      "text/plain": [
       "Evaluating in validation set:   0%|          | 0/18 [00:00<?, ?it/s]"
      ]
     },
     "metadata": {},
     "output_type": "display_data"
    },
    {
     "name": "stdout",
     "output_type": "stream",
     "text": [
      "Validation Loss 0.885\n"
     ]
    },
    {
     "data": {
      "application/vnd.jupyter.widget-view+json": {
       "model_id": "5708b2961bbd4c9699c57a5863a72dc3",
       "version_major": 2,
       "version_minor": 0
      },
      "text/plain": [
       "Evaluating in validation set:   0%|          | 0/18 [00:00<?, ?it/s]"
      ]
     },
     "metadata": {},
     "output_type": "display_data"
    },
    {
     "name": "stdout",
     "output_type": "stream",
     "text": [
      "Validation Loss 0.847\n"
     ]
    },
    {
     "data": {
      "application/vnd.jupyter.widget-view+json": {
       "model_id": "7f7ee0295164435881156264166b44c3",
       "version_major": 2,
       "version_minor": 0
      },
      "text/plain": [
       "Evaluating in validation set:   0%|          | 0/18 [00:00<?, ?it/s]"
      ]
     },
     "metadata": {},
     "output_type": "display_data"
    },
    {
     "name": "stdout",
     "output_type": "stream",
     "text": [
      "Validation Loss 0.915\n"
     ]
    },
    {
     "data": {
      "application/vnd.jupyter.widget-view+json": {
       "model_id": "13063216750a43099e11cca2f432e011",
       "version_major": 2,
       "version_minor": 0
      },
      "text/plain": [
       "Evaluating in validation set:   0%|          | 0/18 [00:00<?, ?it/s]"
      ]
     },
     "metadata": {},
     "output_type": "display_data"
    },
    {
     "name": "stdout",
     "output_type": "stream",
     "text": [
      "Validation Loss 0.952\n"
     ]
    },
    {
     "data": {
      "application/vnd.jupyter.widget-view+json": {
       "model_id": "68c0cfb9f1844c0d9baba680fc2e2384",
       "version_major": 2,
       "version_minor": 0
      },
      "text/plain": [
       "Evaluating in validation set:   0%|          | 0/18 [00:00<?, ?it/s]"
      ]
     },
     "metadata": {},
     "output_type": "display_data"
    },
    {
     "name": "stdout",
     "output_type": "stream",
     "text": [
      "Validation Loss 0.935\n"
     ]
    },
    {
     "data": {
      "application/vnd.jupyter.widget-view+json": {
       "model_id": "e53ac51b258d4227892fd9828de53dee",
       "version_major": 2,
       "version_minor": 0
      },
      "text/plain": [
       "Evaluating in validation set:   0%|          | 0/18 [00:00<?, ?it/s]"
      ]
     },
     "metadata": {},
     "output_type": "display_data"
    },
    {
     "name": "stdout",
     "output_type": "stream",
     "text": [
      "Validation Loss 1.025\n"
     ]
    },
    {
     "data": {
      "application/vnd.jupyter.widget-view+json": {
       "model_id": "1b6b7a0b662646598e8b0d3590a0a935",
       "version_major": 2,
       "version_minor": 0
      },
      "text/plain": [
       "Evaluating in validation set:   0%|          | 0/18 [00:00<?, ?it/s]"
      ]
     },
     "metadata": {},
     "output_type": "display_data"
    },
    {
     "name": "stdout",
     "output_type": "stream",
     "text": [
      "Validation Loss 0.883\n"
     ]
    },
    {
     "data": {
      "application/vnd.jupyter.widget-view+json": {
       "model_id": "4dbdf7716f78413889cca48df0650372",
       "version_major": 2,
       "version_minor": 0
      },
      "text/plain": [
       "Evaluating in validation set:   0%|          | 0/18 [00:00<?, ?it/s]"
      ]
     },
     "metadata": {},
     "output_type": "display_data"
    },
    {
     "name": "stdout",
     "output_type": "stream",
     "text": [
      "Validation Loss 0.883\n"
     ]
    },
    {
     "data": {
      "application/vnd.jupyter.widget-view+json": {
       "model_id": "35c3cf5f466342b485a177269b5dcf8f",
       "version_major": 2,
       "version_minor": 0
      },
      "text/plain": [
       "Evaluating in validation set:   0%|          | 0/18 [00:00<?, ?it/s]"
      ]
     },
     "metadata": {},
     "output_type": "display_data"
    },
    {
     "name": "stdout",
     "output_type": "stream",
     "text": [
      "Validation Loss 0.830\n"
     ]
    },
    {
     "data": {
      "application/vnd.jupyter.widget-view+json": {
       "model_id": "c3a84c4e45ef4b9fb683d1a4c1613d08",
       "version_major": 2,
       "version_minor": 0
      },
      "text/plain": [
       "Evaluating in validation set:   0%|          | 0/18 [00:00<?, ?it/s]"
      ]
     },
     "metadata": {},
     "output_type": "display_data"
    },
    {
     "name": "stdout",
     "output_type": "stream",
     "text": [
      "Validation Loss 0.844\n"
     ]
    },
    {
     "data": {
      "application/vnd.jupyter.widget-view+json": {
       "model_id": "425900c677e344a68c94fbc0d8c99622",
       "version_major": 2,
       "version_minor": 0
      },
      "text/plain": [
       "Evaluating in validation set:   0%|          | 0/18 [00:00<?, ?it/s]"
      ]
     },
     "metadata": {},
     "output_type": "display_data"
    },
    {
     "name": "stdout",
     "output_type": "stream",
     "text": [
      "Validation Loss 0.876\n"
     ]
    },
    {
     "data": {
      "application/vnd.jupyter.widget-view+json": {
       "model_id": "d65e2dde9f574bb5a079bf71730340da",
       "version_major": 2,
       "version_minor": 0
      },
      "text/plain": [
       "Evaluating in validation set:   0%|          | 0/18 [00:00<?, ?it/s]"
      ]
     },
     "metadata": {},
     "output_type": "display_data"
    },
    {
     "name": "stdout",
     "output_type": "stream",
     "text": [
      "Validation Loss 0.709\n",
      "Better score reached, saving checkpoint...\n"
     ]
    },
    {
     "data": {
      "application/vnd.jupyter.widget-view+json": {
       "model_id": "4e551e64a9b74985a820a11018f0c453",
       "version_major": 2,
       "version_minor": 0
      },
      "text/plain": [
       "Evaluating in validation set:   0%|          | 0/18 [00:00<?, ?it/s]"
      ]
     },
     "metadata": {},
     "output_type": "display_data"
    },
    {
     "name": "stdout",
     "output_type": "stream",
     "text": [
      "Validation Loss 0.995\n"
     ]
    },
    {
     "data": {
      "application/vnd.jupyter.widget-view+json": {
       "model_id": "c8a4bee9e3714267aa1b8e8f3ab0cd79",
       "version_major": 2,
       "version_minor": 0
      },
      "text/plain": [
       "Evaluating in validation set:   0%|          | 0/18 [00:00<?, ?it/s]"
      ]
     },
     "metadata": {},
     "output_type": "display_data"
    },
    {
     "name": "stdout",
     "output_type": "stream",
     "text": [
      "Validation Loss 1.135\n"
     ]
    },
    {
     "data": {
      "application/vnd.jupyter.widget-view+json": {
       "model_id": "c04d065af3654021982cfa58b2fc00ed",
       "version_major": 2,
       "version_minor": 0
      },
      "text/plain": [
       "Evaluating in validation set:   0%|          | 0/18 [00:00<?, ?it/s]"
      ]
     },
     "metadata": {},
     "output_type": "display_data"
    },
    {
     "name": "stdout",
     "output_type": "stream",
     "text": [
      "Validation Loss 1.221\n"
     ]
    },
    {
     "data": {
      "application/vnd.jupyter.widget-view+json": {
       "model_id": "f5222581ba184d3298750d1ce5448466",
       "version_major": 2,
       "version_minor": 0
      },
      "text/plain": [
       "Evaluating in validation set:   0%|          | 0/18 [00:00<?, ?it/s]"
      ]
     },
     "metadata": {},
     "output_type": "display_data"
    },
    {
     "name": "stdout",
     "output_type": "stream",
     "text": [
      "Validation Loss 1.029\n"
     ]
    },
    {
     "data": {
      "application/vnd.jupyter.widget-view+json": {
       "model_id": "19f21ff9b30b4c5e8b1dc6f58e4ec2c1",
       "version_major": 2,
       "version_minor": 0
      },
      "text/plain": [
       "Evaluating in validation set:   0%|          | 0/18 [00:00<?, ?it/s]"
      ]
     },
     "metadata": {},
     "output_type": "display_data"
    },
    {
     "name": "stdout",
     "output_type": "stream",
     "text": [
      "Validation Loss 0.783\n"
     ]
    },
    {
     "data": {
      "application/vnd.jupyter.widget-view+json": {
       "model_id": "320e893c16794f91b02d5c564a6ff1fb",
       "version_major": 2,
       "version_minor": 0
      },
      "text/plain": [
       "Evaluating in validation set:   0%|          | 0/18 [00:00<?, ?it/s]"
      ]
     },
     "metadata": {},
     "output_type": "display_data"
    },
    {
     "name": "stdout",
     "output_type": "stream",
     "text": [
      "Validation Loss 0.777\n"
     ]
    },
    {
     "data": {
      "application/vnd.jupyter.widget-view+json": {
       "model_id": "29dbdfa2a21946e6b315c4fd088c4263",
       "version_major": 2,
       "version_minor": 0
      },
      "text/plain": [
       "Evaluating in validation set:   0%|          | 0/18 [00:00<?, ?it/s]"
      ]
     },
     "metadata": {},
     "output_type": "display_data"
    },
    {
     "name": "stdout",
     "output_type": "stream",
     "text": [
      "Validation Loss 0.857\n"
     ]
    },
    {
     "data": {
      "application/vnd.jupyter.widget-view+json": {
       "model_id": "0af82b4319314f3d9f9f7ca54cbe0440",
       "version_major": 2,
       "version_minor": 0
      },
      "text/plain": [
       "Evaluating in validation set:   0%|          | 0/18 [00:00<?, ?it/s]"
      ]
     },
     "metadata": {},
     "output_type": "display_data"
    },
    {
     "name": "stdout",
     "output_type": "stream",
     "text": [
      "Validation Loss 0.761\n"
     ]
    },
    {
     "data": {
      "application/vnd.jupyter.widget-view+json": {
       "model_id": "4f039f545ec4424bb5f7319478cfe60e",
       "version_major": 2,
       "version_minor": 0
      },
      "text/plain": [
       "Evaluating in validation set:   0%|          | 0/18 [00:00<?, ?it/s]"
      ]
     },
     "metadata": {},
     "output_type": "display_data"
    },
    {
     "name": "stdout",
     "output_type": "stream",
     "text": [
      "Validation Loss 0.803\n"
     ]
    },
    {
     "data": {
      "application/vnd.jupyter.widget-view+json": {
       "model_id": "66b4f2d8c97f42c89b3fcad179f2b747",
       "version_major": 2,
       "version_minor": 0
      },
      "text/plain": [
       "Evaluating in validation set:   0%|          | 0/18 [00:00<?, ?it/s]"
      ]
     },
     "metadata": {},
     "output_type": "display_data"
    },
    {
     "name": "stdout",
     "output_type": "stream",
     "text": [
      "Validation Loss 0.993\n"
     ]
    },
    {
     "data": {
      "application/vnd.jupyter.widget-view+json": {
       "model_id": "cc2670f2117a476c8dde3fe60de97439",
       "version_major": 2,
       "version_minor": 0
      },
      "text/plain": [
       "Evaluating in validation set:   0%|          | 0/18 [00:00<?, ?it/s]"
      ]
     },
     "metadata": {},
     "output_type": "display_data"
    },
    {
     "name": "stdout",
     "output_type": "stream",
     "text": [
      "Validation Loss 1.333\n"
     ]
    },
    {
     "data": {
      "application/vnd.jupyter.widget-view+json": {
       "model_id": "5a0314ffe82440c5a23e76304b44818d",
       "version_major": 2,
       "version_minor": 0
      },
      "text/plain": [
       "Evaluating in validation set:   0%|          | 0/18 [00:00<?, ?it/s]"
      ]
     },
     "metadata": {},
     "output_type": "display_data"
    },
    {
     "name": "stdout",
     "output_type": "stream",
     "text": [
      "Validation Loss 0.983\n"
     ]
    },
    {
     "data": {
      "application/vnd.jupyter.widget-view+json": {
       "model_id": "a3708451b69e4ac4b83626abbe763c40",
       "version_major": 2,
       "version_minor": 0
      },
      "text/plain": [
       "Evaluating in validation set:   0%|          | 0/18 [00:00<?, ?it/s]"
      ]
     },
     "metadata": {},
     "output_type": "display_data"
    },
    {
     "name": "stdout",
     "output_type": "stream",
     "text": [
      "Validation Loss 1.037\n"
     ]
    },
    {
     "data": {
      "application/vnd.jupyter.widget-view+json": {
       "model_id": "a3802bd41ce34f8ea3e338dc78f628e7",
       "version_major": 2,
       "version_minor": 0
      },
      "text/plain": [
       "Evaluating in validation set:   0%|          | 0/18 [00:00<?, ?it/s]"
      ]
     },
     "metadata": {},
     "output_type": "display_data"
    },
    {
     "name": "stdout",
     "output_type": "stream",
     "text": [
      "Validation Loss 0.919\n"
     ]
    },
    {
     "data": {
      "application/vnd.jupyter.widget-view+json": {
       "model_id": "35f6a2bf43524f4e9b2a81e46c487060",
       "version_major": 2,
       "version_minor": 0
      },
      "text/plain": [
       "Evaluating in validation set:   0%|          | 0/18 [00:00<?, ?it/s]"
      ]
     },
     "metadata": {},
     "output_type": "display_data"
    },
    {
     "name": "stdout",
     "output_type": "stream",
     "text": [
      "Validation Loss 0.851\n"
     ]
    },
    {
     "data": {
      "application/vnd.jupyter.widget-view+json": {
       "model_id": "5b9e9f3525394b80ab45ed702542c027",
       "version_major": 2,
       "version_minor": 0
      },
      "text/plain": [
       "Evaluating in validation set:   0%|          | 0/18 [00:00<?, ?it/s]"
      ]
     },
     "metadata": {},
     "output_type": "display_data"
    },
    {
     "name": "stdout",
     "output_type": "stream",
     "text": [
      "Validation Loss 0.925\n"
     ]
    },
    {
     "data": {
      "application/vnd.jupyter.widget-view+json": {
       "model_id": "687f19719143469c8daf7b2247eb2b34",
       "version_major": 2,
       "version_minor": 0
      },
      "text/plain": [
       "Evaluating in validation set:   0%|          | 0/18 [00:00<?, ?it/s]"
      ]
     },
     "metadata": {},
     "output_type": "display_data"
    },
    {
     "name": "stdout",
     "output_type": "stream",
     "text": [
      "Validation Loss 0.993\n"
     ]
    },
    {
     "data": {
      "application/vnd.jupyter.widget-view+json": {
       "model_id": "53464559591049ccae06f938887a16dc",
       "version_major": 2,
       "version_minor": 0
      },
      "text/plain": [
       "Evaluating in validation set:   0%|          | 0/18 [00:00<?, ?it/s]"
      ]
     },
     "metadata": {},
     "output_type": "display_data"
    },
    {
     "name": "stdout",
     "output_type": "stream",
     "text": [
      "Validation Loss 0.990\n"
     ]
    },
    {
     "data": {
      "application/vnd.jupyter.widget-view+json": {
       "model_id": "8b7c14e4a21f4033a5d0052e9772a11f",
       "version_major": 2,
       "version_minor": 0
      },
      "text/plain": [
       "Evaluating in validation set:   0%|          | 0/18 [00:00<?, ?it/s]"
      ]
     },
     "metadata": {},
     "output_type": "display_data"
    },
    {
     "name": "stdout",
     "output_type": "stream",
     "text": [
      "Validation Loss 0.937\n"
     ]
    },
    {
     "data": {
      "application/vnd.jupyter.widget-view+json": {
       "model_id": "38055f07d780460396975ee4affc4537",
       "version_major": 2,
       "version_minor": 0
      },
      "text/plain": [
       "Evaluating in validation set:   0%|          | 0/18 [00:00<?, ?it/s]"
      ]
     },
     "metadata": {},
     "output_type": "display_data"
    },
    {
     "name": "stdout",
     "output_type": "stream",
     "text": [
      "Validation Loss 0.853\n"
     ]
    },
    {
     "data": {
      "application/vnd.jupyter.widget-view+json": {
       "model_id": "0ef8da829eac4fda8691ade5ec836e5b",
       "version_major": 2,
       "version_minor": 0
      },
      "text/plain": [
       "Evaluating in validation set:   0%|          | 0/18 [00:00<?, ?it/s]"
      ]
     },
     "metadata": {},
     "output_type": "display_data"
    },
    {
     "name": "stdout",
     "output_type": "stream",
     "text": [
      "Validation Loss 0.746\n"
     ]
    },
    {
     "data": {
      "application/vnd.jupyter.widget-view+json": {
       "model_id": "25268491c9414a3eb5bcbb77b56caebe",
       "version_major": 2,
       "version_minor": 0
      },
      "text/plain": [
       "Evaluating in validation set:   0%|          | 0/18 [00:00<?, ?it/s]"
      ]
     },
     "metadata": {},
     "output_type": "display_data"
    },
    {
     "name": "stdout",
     "output_type": "stream",
     "text": [
      "Validation Loss 0.906\n"
     ]
    },
    {
     "data": {
      "application/vnd.jupyter.widget-view+json": {
       "model_id": "5edb2132982e41f7a1d6fb336f2fa95f",
       "version_major": 2,
       "version_minor": 0
      },
      "text/plain": [
       "Evaluating in validation set:   0%|          | 0/18 [00:00<?, ?it/s]"
      ]
     },
     "metadata": {},
     "output_type": "display_data"
    },
    {
     "name": "stdout",
     "output_type": "stream",
     "text": [
      "Validation Loss 0.919\n"
     ]
    },
    {
     "data": {
      "application/vnd.jupyter.widget-view+json": {
       "model_id": "e36f8cddd1d3457aa6037002f688a6a0",
       "version_major": 2,
       "version_minor": 0
      },
      "text/plain": [
       "Evaluating in validation set:   0%|          | 0/18 [00:00<?, ?it/s]"
      ]
     },
     "metadata": {},
     "output_type": "display_data"
    },
    {
     "name": "stdout",
     "output_type": "stream",
     "text": [
      "Validation Loss 0.808\n"
     ]
    },
    {
     "data": {
      "application/vnd.jupyter.widget-view+json": {
       "model_id": "936e1be66ccd488a8378af2cf389f575",
       "version_major": 2,
       "version_minor": 0
      },
      "text/plain": [
       "Evaluating in validation set:   0%|          | 0/18 [00:00<?, ?it/s]"
      ]
     },
     "metadata": {},
     "output_type": "display_data"
    },
    {
     "name": "stdout",
     "output_type": "stream",
     "text": [
      "Validation Loss 0.874\n"
     ]
    },
    {
     "data": {
      "application/vnd.jupyter.widget-view+json": {
       "model_id": "2603a88cb6e24a4eabd1222d94611ab5",
       "version_major": 2,
       "version_minor": 0
      },
      "text/plain": [
       "Evaluating in validation set:   0%|          | 0/18 [00:00<?, ?it/s]"
      ]
     },
     "metadata": {},
     "output_type": "display_data"
    },
    {
     "name": "stdout",
     "output_type": "stream",
     "text": [
      "Validation Loss 0.711\n"
     ]
    },
    {
     "data": {
      "application/vnd.jupyter.widget-view+json": {
       "model_id": "d6f874517a344c86ad94c41a215b822a",
       "version_major": 2,
       "version_minor": 0
      },
      "text/plain": [
       "Evaluating in validation set:   0%|          | 0/18 [00:00<?, ?it/s]"
      ]
     },
     "metadata": {},
     "output_type": "display_data"
    },
    {
     "name": "stdout",
     "output_type": "stream",
     "text": [
      "Validation Loss 0.746\n"
     ]
    },
    {
     "data": {
      "application/vnd.jupyter.widget-view+json": {
       "model_id": "285d58aeab0c4925900cec39dbb8896b",
       "version_major": 2,
       "version_minor": 0
      },
      "text/plain": [
       "Evaluating in validation set:   0%|          | 0/18 [00:00<?, ?it/s]"
      ]
     },
     "metadata": {},
     "output_type": "display_data"
    },
    {
     "name": "stdout",
     "output_type": "stream",
     "text": [
      "Validation Loss 0.785\n"
     ]
    },
    {
     "data": {
      "application/vnd.jupyter.widget-view+json": {
       "model_id": "c6e69f1e6adf42c1bb09ea7b710fb981",
       "version_major": 2,
       "version_minor": 0
      },
      "text/plain": [
       "Evaluating in validation set:   0%|          | 0/18 [00:00<?, ?it/s]"
      ]
     },
     "metadata": {},
     "output_type": "display_data"
    },
    {
     "name": "stdout",
     "output_type": "stream",
     "text": [
      "Validation Loss 0.973\n"
     ]
    },
    {
     "data": {
      "application/vnd.jupyter.widget-view+json": {
       "model_id": "351c335125424950af4a9550606517bd",
       "version_major": 2,
       "version_minor": 0
      },
      "text/plain": [
       "Evaluating in validation set:   0%|          | 0/18 [00:00<?, ?it/s]"
      ]
     },
     "metadata": {},
     "output_type": "display_data"
    },
    {
     "name": "stdout",
     "output_type": "stream",
     "text": [
      "Validation Loss 0.918\n"
     ]
    },
    {
     "data": {
      "application/vnd.jupyter.widget-view+json": {
       "model_id": "46d09354629942ccbafde84ddbe95736",
       "version_major": 2,
       "version_minor": 0
      },
      "text/plain": [
       "Evaluating in validation set:   0%|          | 0/18 [00:00<?, ?it/s]"
      ]
     },
     "metadata": {},
     "output_type": "display_data"
    },
    {
     "name": "stdout",
     "output_type": "stream",
     "text": [
      "Validation Loss 0.868\n"
     ]
    },
    {
     "data": {
      "application/vnd.jupyter.widget-view+json": {
       "model_id": "2821a36b17ee482eaae07838d8ffb90d",
       "version_major": 2,
       "version_minor": 0
      },
      "text/plain": [
       "Evaluating in validation set:   0%|          | 0/18 [00:00<?, ?it/s]"
      ]
     },
     "metadata": {},
     "output_type": "display_data"
    },
    {
     "name": "stdout",
     "output_type": "stream",
     "text": [
      "Validation Loss 0.809\n"
     ]
    },
    {
     "data": {
      "application/vnd.jupyter.widget-view+json": {
       "model_id": "6206a38e32614de180c0d9fd73b02a4f",
       "version_major": 2,
       "version_minor": 0
      },
      "text/plain": [
       "Evaluating in validation set:   0%|          | 0/18 [00:00<?, ?it/s]"
      ]
     },
     "metadata": {},
     "output_type": "display_data"
    },
    {
     "name": "stdout",
     "output_type": "stream",
     "text": [
      "Validation Loss 0.849\n"
     ]
    },
    {
     "data": {
      "application/vnd.jupyter.widget-view+json": {
       "model_id": "6df0d67ecb054a91b77fa68da0e9697e",
       "version_major": 2,
       "version_minor": 0
      },
      "text/plain": [
       "Evaluating in validation set:   0%|          | 0/18 [00:00<?, ?it/s]"
      ]
     },
     "metadata": {},
     "output_type": "display_data"
    },
    {
     "name": "stdout",
     "output_type": "stream",
     "text": [
      "Validation Loss 0.950\n"
     ]
    },
    {
     "data": {
      "application/vnd.jupyter.widget-view+json": {
       "model_id": "dcd525bf45c6410dac445d639585a2e6",
       "version_major": 2,
       "version_minor": 0
      },
      "text/plain": [
       "Evaluating in validation set:   0%|          | 0/18 [00:00<?, ?it/s]"
      ]
     },
     "metadata": {},
     "output_type": "display_data"
    },
    {
     "name": "stdout",
     "output_type": "stream",
     "text": [
      "Validation Loss 0.825\n"
     ]
    },
    {
     "data": {
      "application/vnd.jupyter.widget-view+json": {
       "model_id": "2e544537662d45c5b9d56e95131e0f88",
       "version_major": 2,
       "version_minor": 0
      },
      "text/plain": [
       "Evaluating in validation set:   0%|          | 0/18 [00:00<?, ?it/s]"
      ]
     },
     "metadata": {},
     "output_type": "display_data"
    },
    {
     "name": "stdout",
     "output_type": "stream",
     "text": [
      "Validation Loss 0.964\n"
     ]
    },
    {
     "data": {
      "application/vnd.jupyter.widget-view+json": {
       "model_id": "aa964f22dd55487481349c8901ae2c9a",
       "version_major": 2,
       "version_minor": 0
      },
      "text/plain": [
       "Evaluating in validation set:   0%|          | 0/18 [00:00<?, ?it/s]"
      ]
     },
     "metadata": {},
     "output_type": "display_data"
    },
    {
     "name": "stdout",
     "output_type": "stream",
     "text": [
      "Validation Loss 1.005\n"
     ]
    },
    {
     "data": {
      "application/vnd.jupyter.widget-view+json": {
       "model_id": "fa0c1859b43847a9b3b1fd4059923a84",
       "version_major": 2,
       "version_minor": 0
      },
      "text/plain": [
       "Evaluating in validation set:   0%|          | 0/18 [00:00<?, ?it/s]"
      ]
     },
     "metadata": {},
     "output_type": "display_data"
    },
    {
     "name": "stdout",
     "output_type": "stream",
     "text": [
      "Validation Loss 0.913\n"
     ]
    },
    {
     "data": {
      "application/vnd.jupyter.widget-view+json": {
       "model_id": "58b056f6fa7848b19aee6cf7601da1f5",
       "version_major": 2,
       "version_minor": 0
      },
      "text/plain": [
       "Evaluating in validation set:   0%|          | 0/18 [00:00<?, ?it/s]"
      ]
     },
     "metadata": {},
     "output_type": "display_data"
    },
    {
     "name": "stdout",
     "output_type": "stream",
     "text": [
      "Validation Loss 0.886\n"
     ]
    },
    {
     "data": {
      "application/vnd.jupyter.widget-view+json": {
       "model_id": "2a4a827f13cb484fac04da1bebeb46ef",
       "version_major": 2,
       "version_minor": 0
      },
      "text/plain": [
       "Evaluating in validation set:   0%|          | 0/18 [00:00<?, ?it/s]"
      ]
     },
     "metadata": {},
     "output_type": "display_data"
    },
    {
     "name": "stdout",
     "output_type": "stream",
     "text": [
      "Validation Loss 0.907\n"
     ]
    },
    {
     "data": {
      "application/vnd.jupyter.widget-view+json": {
       "model_id": "c2d07b18e9d24ee59cb9d85a3c2b663d",
       "version_major": 2,
       "version_minor": 0
      },
      "text/plain": [
       "Evaluating in validation set:   0%|          | 0/18 [00:00<?, ?it/s]"
      ]
     },
     "metadata": {},
     "output_type": "display_data"
    },
    {
     "name": "stdout",
     "output_type": "stream",
     "text": [
      "Validation Loss 0.942\n"
     ]
    },
    {
     "data": {
      "application/vnd.jupyter.widget-view+json": {
       "model_id": "9f50bb7f13f348b586f7891326f1dc81",
       "version_major": 2,
       "version_minor": 0
      },
      "text/plain": [
       "Evaluating in validation set:   0%|          | 0/18 [00:00<?, ?it/s]"
      ]
     },
     "metadata": {},
     "output_type": "display_data"
    },
    {
     "name": "stdout",
     "output_type": "stream",
     "text": [
      "Validation Loss 1.082\n"
     ]
    },
    {
     "data": {
      "application/vnd.jupyter.widget-view+json": {
       "model_id": "b4896671d68c4bc886de69e49662eea5",
       "version_major": 2,
       "version_minor": 0
      },
      "text/plain": [
       "Evaluating in validation set:   0%|          | 0/18 [00:00<?, ?it/s]"
      ]
     },
     "metadata": {},
     "output_type": "display_data"
    },
    {
     "name": "stdout",
     "output_type": "stream",
     "text": [
      "Validation Loss 0.748\n"
     ]
    },
    {
     "data": {
      "application/vnd.jupyter.widget-view+json": {
       "model_id": "68200520747147b2b538f07cf13bc379",
       "version_major": 2,
       "version_minor": 0
      },
      "text/plain": [
       "Evaluating in validation set:   0%|          | 0/18 [00:00<?, ?it/s]"
      ]
     },
     "metadata": {},
     "output_type": "display_data"
    },
    {
     "name": "stdout",
     "output_type": "stream",
     "text": [
      "Validation Loss 0.643\n",
      "Better score reached, saving checkpoint...\n"
     ]
    },
    {
     "data": {
      "application/vnd.jupyter.widget-view+json": {
       "model_id": "31d87fd0eebc4a5b84f028bad4dc2bcb",
       "version_major": 2,
       "version_minor": 0
      },
      "text/plain": [
       "Evaluating in validation set:   0%|          | 0/18 [00:00<?, ?it/s]"
      ]
     },
     "metadata": {},
     "output_type": "display_data"
    },
    {
     "name": "stdout",
     "output_type": "stream",
     "text": [
      "Validation Loss 0.913\n"
     ]
    },
    {
     "data": {
      "application/vnd.jupyter.widget-view+json": {
       "model_id": "12f6fa1dbcb44f6eb53bc3c329eda5e8",
       "version_major": 2,
       "version_minor": 0
      },
      "text/plain": [
       "Evaluating in validation set:   0%|          | 0/18 [00:00<?, ?it/s]"
      ]
     },
     "metadata": {},
     "output_type": "display_data"
    },
    {
     "name": "stdout",
     "output_type": "stream",
     "text": [
      "Validation Loss 0.745\n"
     ]
    },
    {
     "data": {
      "application/vnd.jupyter.widget-view+json": {
       "model_id": "dd028a8a21024826856a158d9ae1e374",
       "version_major": 2,
       "version_minor": 0
      },
      "text/plain": [
       "Evaluating in validation set:   0%|          | 0/18 [00:00<?, ?it/s]"
      ]
     },
     "metadata": {},
     "output_type": "display_data"
    },
    {
     "name": "stdout",
     "output_type": "stream",
     "text": [
      "Validation Loss 0.792\n"
     ]
    },
    {
     "data": {
      "application/vnd.jupyter.widget-view+json": {
       "model_id": "26daed0b598e404d8feccef5531085f9",
       "version_major": 2,
       "version_minor": 0
      },
      "text/plain": [
       "Evaluating in validation set:   0%|          | 0/18 [00:00<?, ?it/s]"
      ]
     },
     "metadata": {},
     "output_type": "display_data"
    },
    {
     "name": "stdout",
     "output_type": "stream",
     "text": [
      "Validation Loss 0.923\n"
     ]
    }
   ],
   "source": [
    "USE_VAE = True\n",
    "MODEL_NAME = \"vae\"\n",
    "results=train_model(N_EPOCHS,tr_dl, use_vae=USE_VAE, model_name=MODEL_NAME)"
   ]
  },
  {
   "cell_type": "code",
   "execution_count": 13,
   "id": "493b1d52",
   "metadata": {
    "execution": {
     "iopub.execute_input": "2022-10-20T00:18:11.632699Z",
     "iopub.status.busy": "2022-10-20T00:18:11.631439Z",
     "iopub.status.idle": "2022-10-20T00:18:11.927470Z",
     "shell.execute_reply": "2022-10-20T00:18:11.926599Z"
    },
    "papermill": {
     "duration": 1.959447,
     "end_time": "2022-10-20T00:18:11.929437",
     "exception": false,
     "start_time": "2022-10-20T00:18:09.969990",
     "status": "completed"
    },
    "tags": []
   },
   "outputs": [
    {
     "data": {
      "image/png": "[encoded data removed]",
      "text/plain": [
       "<Figure size 1000x600 with 1 Axes>"
      ]
     },
     "metadata": {},
     "output_type": "display_data"
    }
   ],
   "source": [
    "f,ax=plt.subplots(figsize=(10,6))\n",
    "plt.plot(results['val_loss'],label=\"validation\")\n",
    "plt.plot(results['train_loss'],label=\"train\")\n",
    "plt.legend()\n",
    "plt.suptitle(\"Training & Validation Loss during fine-tuning\");"
   ]
  }
 ],
 "metadata": {
  "kernelspec": {
   "display_name": "Python 3",
   "language": "python",
   "name": "python3"
  },
  "language_info": {
   "codemirror_mode": {
    "name": "ipython",
    "version": 3
   },
   "file_extension": ".py",
   "mimetype": "text/x-python",
   "name": "python",
   "nbconvert_exporter": "python",
   "pygments_lexer": "ipython3",
   "version": "3.11.4"
  },
  "papermill": {
   "default_parameters": {},
   "duration": 35125.472105,
   "end_time": "2022-10-20T00:18:16.308932",
   "environment_variables": {},
   "exception": null,
   "input_path": "__notebook__.ipynb",
   "output_path": "__notebook__.ipynb",
   "parameters": {},
   "start_time": "2022-10-19T14:32:50.836827",
   "version": "2.3.4"
  }
 },
 "nbformat": 4,
 "nbformat_minor": 5
}
