{
 "cells": [
  {
   "cell_type": "markdown",
   "id": "0e869e62",
   "metadata": {},
   "source": [
    "Source notebook: https://github.com/statscol/clip-fine-tuning/blob/main/clip-fine-tuning.ipynb"
   ]
  },
  {
   "cell_type": "markdown",
   "id": "905f2825",
   "metadata": {
    "execution": {
     "iopub.execute_input": "2022-10-13T21:02:07.685920Z",
     "iopub.status.busy": "2022-10-13T21:02:07.685173Z",
     "iopub.status.idle": "2022-10-13T21:02:07.690292Z",
     "shell.execute_reply": "2022-10-13T21:02:07.689298Z",
     "shell.execute_reply.started": "2022-10-13T21:02:07.685882Z"
    },
    "papermill": {
     "duration": 0.005465,
     "end_time": "2022-10-19T14:32:58.594345",
     "exception": false,
     "start_time": "2022-10-19T14:32:58.588880",
     "status": "completed"
    },
    "tags": []
   },
   "source": [
    "## Fine-tuning Clip on PolyHaven dataset\n",
    "\n",
    "\n",
    "The following graph shows the approach, where basically we need an image an text encoder to compute representations on each source and compute similarities later on\n",
    "\n",
    "![image.png](https://miro.medium.com/max/786/1*tg7akErlMSyCLQxrMtQIYw.png)"
   ]
  },
  {
   "cell_type": "code",
   "execution_count": 1,
   "id": "ed3c2c3f",
   "metadata": {
    "execution": {
     "iopub.execute_input": "2022-10-19T14:33:23.072611Z",
     "iopub.status.busy": "2022-10-19T14:33:23.072255Z",
     "iopub.status.idle": "2022-10-19T14:33:26.094441Z",
     "shell.execute_reply": "2022-10-19T14:33:26.092801Z"
    },
    "papermill": {
     "duration": 3.031208,
     "end_time": "2022-10-19T14:33:26.096660",
     "exception": false,
     "start_time": "2022-10-19T14:33:23.065452",
     "status": "completed"
    },
    "tags": []
   },
   "outputs": [
    {
     "name": "stdout",
     "output_type": "stream",
     "text": [
      "Torch version: 2.0.1\n"
     ]
    }
   ],
   "source": [
    "import numpy as np\n",
    "import clip\n",
    "import torch\n",
    "from tqdm.notebook import tqdm\n",
    "from pkg_resources import packaging\n",
    "import os\n",
    "import torch\n",
    "from torchvision import datasets, transforms\n",
    "from torch.utils.data import Dataset, DataLoader\n",
    "import matplotlib.pyplot as plt\n",
    "from sklearn.model_selection import train_test_split\n",
    "import numpy as np\n",
    "from PIL import Image\n",
    "from torch.utils.data.sampler import SubsetRandomSampler\n",
    "print(\"Torch version:\", torch.__version__)"
   ]
  },
  {
   "cell_type": "markdown",
   "id": "1b0ab759",
   "metadata": {
    "papermill": {
     "duration": 0.005363,
     "end_time": "2022-10-19T14:33:26.107979",
     "exception": false,
     "start_time": "2022-10-19T14:33:26.102616",
     "status": "completed"
    },
    "tags": []
   },
   "source": [
    "## Load Model & Data"
   ]
  },
  {
   "cell_type": "code",
   "execution_count": 2,
   "id": "5b995613",
   "metadata": {
    "execution": {
     "iopub.execute_input": "2022-10-19T14:33:26.120568Z",
     "iopub.status.busy": "2022-10-19T14:33:26.119385Z",
     "iopub.status.idle": "2022-10-19T14:33:27.107706Z",
     "shell.execute_reply": "2022-10-19T14:33:27.106772Z"
    },
    "papermill": {
     "duration": 0.996497,
     "end_time": "2022-10-19T14:33:27.109711",
     "exception": false,
     "start_time": "2022-10-19T14:33:26.113214",
     "status": "completed"
    },
    "tags": []
   },
   "outputs": [
    {
     "data": {
      "text/html": [
       "<div>\n",
       "<style scoped>\n",
       "    .dataframe tbody tr th:only-of-type {\n",
       "        vertical-align: middle;\n",
       "    }\n",
       "\n",
       "    .dataframe tbody tr th {\n",
       "        vertical-align: top;\n",
       "    }\n",
       "\n",
       "    .dataframe thead th {\n",
       "        text-align: right;\n",
       "    }\n",
       "</style>\n",
       "<table border=\"1\" class=\"dataframe\">\n",
       "  <thead>\n",
       "    <tr style=\"text-align: right;\">\n",
       "      <th></th>\n",
       "      <th>name</th>\n",
       "      <th>tags</th>\n",
       "      <th>categories</th>\n",
       "      <th>caption</th>\n",
       "    </tr>\n",
       "  </thead>\n",
       "  <tbody>\n",
       "    <tr>\n",
       "      <th>0</th>\n",
       "      <td>abandoned_bakery_1k</td>\n",
       "      <td>[abandoned, empty, industrial, windows, bare, ...</td>\n",
       "      <td>[natural light, artificial light, urban, indoo...</td>\n",
       "      <td>[abandoned, empty, industrial, windows, bare, ...</td>\n",
       "    </tr>\n",
       "    <tr>\n",
       "      <th>1</th>\n",
       "      <td>abandoned_church_1k</td>\n",
       "      <td>[tree, autumn, church, abandoned, leaves]</td>\n",
       "      <td>[outdoor, nature, morning-afternoon, partly cl...</td>\n",
       "      <td>[tree, autumn, church, abandoned, leaves, outd...</td>\n",
       "    </tr>\n",
       "    <tr>\n",
       "      <th>2</th>\n",
       "      <td>abandoned_construction_1k</td>\n",
       "      <td>[brick, pillar, warehouse, rubble, abandoned, ...</td>\n",
       "      <td>[indoor, urban, natural light, medium contrast...</td>\n",
       "      <td>[brick, pillar, warehouse, rubble, abandoned, ...</td>\n",
       "    </tr>\n",
       "    <tr>\n",
       "      <th>3</th>\n",
       "      <td>abandoned_factory_canteen_01_1k</td>\n",
       "      <td>[hall, abandoned, fluorescent, industrial, bac...</td>\n",
       "      <td>[indoor, urban, low contrast, natural light]</td>\n",
       "      <td>[hall, abandoned, fluorescent, industrial, bac...</td>\n",
       "    </tr>\n",
       "    <tr>\n",
       "      <th>4</th>\n",
       "      <td>abandoned_factory_canteen_02_1k</td>\n",
       "      <td>[hall, abandoned, industrial, boxes, backplates]</td>\n",
       "      <td>[indoor, urban, natural light, medium contrast]</td>\n",
       "      <td>[hall, abandoned, industrial, boxes, backplate...</td>\n",
       "    </tr>\n",
       "  </tbody>\n",
       "</table>\n",
       "</div>"
      ],
      "text/plain": [
       "                              name  \\\n",
       "0              abandoned_bakery_1k   \n",
       "1              abandoned_church_1k   \n",
       "2        abandoned_construction_1k   \n",
       "3  abandoned_factory_canteen_01_1k   \n",
       "4  abandoned_factory_canteen_02_1k   \n",
       "\n",
       "                                                tags  \\\n",
       "0  [abandoned, empty, industrial, windows, bare, ...   \n",
       "1          [tree, autumn, church, abandoned, leaves]   \n",
       "2  [brick, pillar, warehouse, rubble, abandoned, ...   \n",
       "3  [hall, abandoned, fluorescent, industrial, bac...   \n",
       "4   [hall, abandoned, industrial, boxes, backplates]   \n",
       "\n",
       "                                          categories  \\\n",
       "0  [natural light, artificial light, urban, indoo...   \n",
       "1  [outdoor, nature, morning-afternoon, partly cl...   \n",
       "2  [indoor, urban, natural light, medium contrast...   \n",
       "3       [indoor, urban, low contrast, natural light]   \n",
       "4    [indoor, urban, natural light, medium contrast]   \n",
       "\n",
       "                                             caption  \n",
       "0  [abandoned, empty, industrial, windows, bare, ...  \n",
       "1  [tree, autumn, church, abandoned, leaves, outd...  \n",
       "2  [brick, pillar, warehouse, rubble, abandoned, ...  \n",
       "3  [hall, abandoned, fluorescent, industrial, bac...  \n",
       "4  [hall, abandoned, industrial, boxes, backplate...  "
      ]
     },
     "execution_count": 2,
     "metadata": {},
     "output_type": "execute_result"
    }
   ],
   "source": [
    "## Get labels\n",
    "from pathlib import Path\n",
    "import pandas as pd\n",
    "labels=pd.read_json(\"dataset/polyhaven.json\")\n",
    "labels.head()"
   ]
  },
  {
   "cell_type": "code",
   "execution_count": 3,
   "id": "131f0476",
   "metadata": {
    "execution": {
     "iopub.execute_input": "2022-10-19T14:33:27.182643Z",
     "iopub.status.busy": "2022-10-19T14:33:27.181720Z",
     "iopub.status.idle": "2022-10-19T14:33:27.186694Z",
     "shell.execute_reply": "2022-10-19T14:33:27.185876Z"
    },
    "papermill": {
     "duration": 0.013224,
     "end_time": "2022-10-19T14:33:27.188642",
     "exception": false,
     "start_time": "2022-10-19T14:33:27.175418",
     "status": "completed"
    },
    "tags": []
   },
   "outputs": [],
   "source": [
    "torch.cuda.empty_cache()"
   ]
  },
  {
   "cell_type": "code",
   "execution_count": 4,
   "id": "009a74e6",
   "metadata": {
    "execution": {
     "iopub.execute_input": "2022-10-19T14:33:27.202074Z",
     "iopub.status.busy": "2022-10-19T14:33:27.201244Z",
     "iopub.status.idle": "2022-10-19T14:33:43.591608Z",
     "shell.execute_reply": "2022-10-19T14:33:43.590631Z"
    },
    "papermill": {
     "duration": 16.400002,
     "end_time": "2022-10-19T14:33:43.594057",
     "exception": false,
     "start_time": "2022-10-19T14:33:27.194055",
     "status": "completed"
    },
    "tags": []
   },
   "outputs": [],
   "source": [
    "model, preprocess = clip.load(\"ViT-B/32\", jit=False)"
   ]
  },
  {
   "cell_type": "code",
   "execution_count": 5,
   "id": "ed183e55",
   "metadata": {},
   "outputs": [
    {
     "name": "stdout",
     "output_type": "stream",
     "text": [
      "(477, 4)\n"
     ]
    }
   ],
   "source": [
    "train = labels\n",
    "train.sort_values(by=\"name\", ascending=True, inplace=True)\n",
    "print(train.shape)\n"
   ]
  },
  {
   "cell_type": "code",
   "execution_count": 7,
   "id": "1dd043d4",
   "metadata": {
    "execution": {
     "iopub.execute_input": "2022-10-19T14:37:02.926636Z",
     "iopub.status.busy": "2022-10-19T14:37:02.926294Z",
     "iopub.status.idle": "2022-10-19T14:37:03.049287Z",
     "shell.execute_reply": "2022-10-19T14:37:03.048356Z"
    },
    "papermill": {
     "duration": 0.245791,
     "end_time": "2022-10-19T14:37:03.051592",
     "exception": false,
     "start_time": "2022-10-19T14:37:02.805801",
     "status": "completed"
    },
    "tags": []
   },
   "outputs": [],
   "source": [
    "#using datasets.ImageFolder makes loading images and preprocessing easier\n",
    "image_folder = datasets.ImageFolder(\"dataset/polyhaven_clip\",transform=preprocess)"
   ]
  },
  {
   "cell_type": "code",
   "execution_count": 8,
   "id": "ea0461e9",
   "metadata": {
    "execution": {
     "iopub.execute_input": "2022-10-19T14:37:03.256395Z",
     "iopub.status.busy": "2022-10-19T14:37:03.255786Z",
     "iopub.status.idle": "2022-10-19T14:37:03.267453Z",
     "shell.execute_reply": "2022-10-19T14:37:03.266555Z"
    },
    "papermill": {
     "duration": 0.115815,
     "end_time": "2022-10-19T14:37:03.270052",
     "exception": false,
     "start_time": "2022-10-19T14:37:03.154237",
     "status": "completed"
    },
    "tags": []
   },
   "outputs": [
    {
     "data": {
      "text/plain": [
       "477"
      ]
     },
     "execution_count": 8,
     "metadata": {},
     "output_type": "execute_result"
    }
   ],
   "source": [
    "## Create datasets\n",
    "\n",
    "class PolyHaven(Dataset):\n",
    "    def __init__(self,captions,image_tensors):\n",
    "        self.captions=captions\n",
    "        self.images=image_tensors\n",
    "        \n",
    "    def __getitem__(self,idx):\n",
    "        image_idx,_=self.images[idx]\n",
    "        caption_idx=self.captions[idx]\n",
    "        return {'image':image_idx,'caption': \" \".join(caption_idx)}\n",
    "        \n",
    "    def __len__(self):\n",
    "        return len(self.captions)\n",
    "    \n",
    "dataset = PolyHaven(train.caption.values.tolist(), image_folder)\n",
    "len(dataset)\n"
   ]
  },
  {
   "cell_type": "code",
   "execution_count": 12,
   "id": "9f54e00c",
   "metadata": {
    "execution": {
     "iopub.execute_input": "2022-10-19T14:37:03.472451Z",
     "iopub.status.busy": "2022-10-19T14:37:03.472023Z",
     "iopub.status.idle": "2022-10-19T14:37:03.479735Z",
     "shell.execute_reply": "2022-10-19T14:37:03.478902Z"
    },
    "papermill": {
     "duration": 0.111519,
     "end_time": "2022-10-19T14:37:03.481784",
     "exception": false,
     "start_time": "2022-10-19T14:37:03.370265",
     "status": "completed"
    },
    "tags": []
   },
   "outputs": [],
   "source": [
    "## create dataloaders\n",
    "BATCH_SIZE  =  8\n",
    "TEST_SPLIT  = .2\n",
    "RANDOM_SEED = 42\n",
    "\n",
    "dataset_size = train.shape[0]\n",
    "indices = list(range(dataset_size))\n",
    "split = int(np.floor(TEST_SPLIT * dataset_size))\n",
    "np.random.seed(RANDOM_SEED)\n",
    "np.random.shuffle(indices)\n",
    "train_indices, val_indices = indices[split:], indices[:split]\n",
    "\n",
    "# Creating PT data samplers and loaders:\n",
    "train_sampler = SubsetRandomSampler(train_indices)\n",
    "valid_sampler = SubsetRandomSampler(val_indices)\n",
    "\n",
    "tr_dl = DataLoader(dataset, batch_size=BATCH_SIZE, sampler=train_sampler)\n",
    "ts_dl = DataLoader(dataset, batch_size=BATCH_SIZE, sampler=valid_sampler)"
   ]
  },
  {
   "cell_type": "code",
   "execution_count": 13,
   "id": "5850236a",
   "metadata": {
    "execution": {
     "iopub.execute_input": "2022-10-19T14:37:03.682186Z",
     "iopub.status.busy": "2022-10-19T14:37:03.681879Z",
     "iopub.status.idle": "2022-10-19T14:37:03.689579Z",
     "shell.execute_reply": "2022-10-19T14:37:03.688578Z"
    },
    "papermill": {
     "duration": 0.1109,
     "end_time": "2022-10-19T14:37:03.691749",
     "exception": false,
     "start_time": "2022-10-19T14:37:03.580849",
     "status": "completed"
    },
    "tags": []
   },
   "outputs": [],
   "source": [
    "import torch.nn as nn\n",
    "import torch.optim as optim\n",
    "\n",
    "N_EPOCHS = 32\n",
    "loss_img = nn.CrossEntropyLoss()\n",
    "loss_caption = nn.CrossEntropyLoss()\n",
    "\n",
    "optimizer = optim.Adam(model.parameters(), lr=1e-5)\n",
    "scheduler = optim.lr_scheduler.CosineAnnealingLR(optimizer, len(tr_dl)*N_EPOCHS)"
   ]
  },
  {
   "cell_type": "markdown",
   "id": "9293d4b5",
   "metadata": {
    "papermill": {
     "duration": 0.11322,
     "end_time": "2022-10-19T14:37:03.906649",
     "exception": false,
     "start_time": "2022-10-19T14:37:03.793429",
     "status": "completed"
    },
    "tags": []
   },
   "source": [
    "## Train Loop and validation"
   ]
  },
  {
   "cell_type": "code",
   "execution_count": 14,
   "id": "0bbe84c8",
   "metadata": {
    "execution": {
     "iopub.execute_input": "2022-10-19T14:37:04.178563Z",
     "iopub.status.busy": "2022-10-19T14:37:04.178211Z",
     "iopub.status.idle": "2022-10-20T00:18:07.684828Z",
     "shell.execute_reply": "2022-10-20T00:18:07.675828Z"
    },
    "papermill": {
     "duration": 34863.618097,
     "end_time": "2022-10-20T00:18:07.689026",
     "exception": false,
     "start_time": "2022-10-19T14:37:04.070929",
     "status": "completed"
    },
    "tags": []
   },
   "outputs": [
    {
     "name": "stdout",
     "output_type": "stream",
     "text": [
      "Using cuda:0 for training\n"
     ]
    },
    {
     "data": {
      "application/vnd.jupyter.widget-view+json": {
       "model_id": "573184081bba4fdf9d01ee1d1757aed6",
       "version_major": 2,
       "version_minor": 0
      },
      "text/plain": [
       "  0%|          | 0/1 [00:00<?, ?it/s]"
      ]
     },
     "metadata": {},
     "output_type": "display_data"
    },
    {
     "name": "stderr",
     "output_type": "stream",
     "text": [
      "/home/antonio/miniconda3/envs/nlp-env/lib/python3.11/site-packages/torch/nn/modules/conv.py:459: UserWarning: Applied workaround for CuDNN issue, install nvrtc.so (Triggered internally at /opt/conda/conda-bld/pytorch_1682343995622/work/aten/src/ATen/native/cudnn/Conv_v8.cpp:80.)\n",
      "  return F.conv2d(input, weight, bias, self.stride,\n"
     ]
    },
    {
     "data": {
      "application/vnd.jupyter.widget-view+json": {
       "model_id": "71c2f057b867439abde7fdd95c0f039b",
       "version_major": 2,
       "version_minor": 0
      },
      "text/plain": [
       "Evaluating in validation set:   0%|          | 0/12 [00:00<?, ?it/s]"
      ]
     },
     "metadata": {},
     "output_type": "display_data"
    },
    {
     "name": "stdout",
     "output_type": "stream",
     "text": [
      "Validation Loss 0.371\n",
      "Better score reached, saving checkpoint...\n"
     ]
    }
   ],
   "source": [
    "DEVICE=\"cuda:0\" if torch.cuda.is_available() else \"cpu\"\n",
    "\n",
    "model.to(DEVICE)\n",
    "\n",
    "## to avoid problems with mixed precision, taken from here https://github.com/openai/CLIP/issues/57\n",
    "def convert_models_to_fp32(model): \n",
    "    for p in model.parameters(): \n",
    "        p.data = p.data.float() \n",
    "        p.grad.data = p.grad.data.float()\n",
    "\n",
    "\n",
    "def validate(test_dl):\n",
    "    model.eval()\n",
    "    test_loss=0.0\n",
    "    for data in tqdm(test_dl,desc=\"Evaluating in validation set\"):\n",
    "        img_batch=data['image'].to(DEVICE)\n",
    "        captions_batch=clip.tokenize(data['caption'],truncate=True).to(DEVICE)\n",
    "        with torch.no_grad():\n",
    "            logits_image, logits_caption = model(img_batch, captions_batch)\n",
    "        labels = torch.arange(len(img_batch)).to(DEVICE)  ## we are interested on predicting the right caption which is the caption position of every image\n",
    "        total_loss = (loss_img(logits_image,labels) + loss_caption(logits_caption,labels))/2\n",
    "        test_loss+=total_loss.item()\n",
    "    \n",
    "    test_total_loss=test_loss/len(test_dl)\n",
    "    print(f\"Validation Loss {test_total_loss:.3f}\")\n",
    "    return test_total_loss\n",
    "\n",
    "\n",
    "def train_model(n_epochs,train_dataloader,checkpoint_path:str=\"./clip_checkpoints\"):\n",
    "    if not os.path.isdir(checkpoint_path):\n",
    "        os.makedirs(checkpoint_path)\n",
    "        \n",
    "    print(f\"Using {DEVICE} for training\")\n",
    "    best_score=9999999\n",
    "    history={'train_loss':[],'val_loss':[]}\n",
    "    for epoch in tqdm(range(n_epochs)):\n",
    "        total_steps=0\n",
    "        train_loss=0.0\n",
    "        model.train()\n",
    "        for step,data in enumerate(train_dataloader,1):\n",
    "            \n",
    "            optimizer.zero_grad()\n",
    "            \n",
    "            img_batch=data['image'].to(DEVICE)\n",
    "            captions_batch=clip.tokenize(data['caption'],truncate=True).to(DEVICE)\n",
    "            with torch.cuda.amp.autocast():\n",
    "                logits_image, logits_caption = model(img_batch, captions_batch)\n",
    "            labels = torch.arange(len(img_batch)).to(DEVICE)  ## we are interested on predicting the right caption which is the caption position of every image\n",
    "            img_loss=loss_img(logits_image,labels)\n",
    "            caption_loss=loss_caption(logits_caption,labels)\n",
    "            total_loss = (img_loss+caption_loss)/2\n",
    "            total_loss.backward()\n",
    "            train_loss+=total_loss.item()\n",
    "            convert_models_to_fp32(model)\n",
    "            optimizer.step()\n",
    "            torch.nn.utils.clip_grad_norm_(model.parameters(), 1.0)\n",
    "            total_steps+=1\n",
    "            scheduler.step() ##per step scheduler\n",
    "            if step%100==0:\n",
    "                print(f\"Epoch {epoch} step loss:{train_loss/total_steps}\")\n",
    "                print(f\"Lr at step {step}: {optimizer.param_groups[0]['lr']:.5f}\")\n",
    "            \n",
    "        history['train_loss'].append(train_loss/len(train_dataloader))\n",
    "        val_metrics=validate(ts_dl)\n",
    "        history['val_loss'].append(val_metrics)\n",
    "\n",
    "        if val_metrics<best_score:\n",
    "            print(\"Better score reached, saving checkpoint...\")\n",
    "            if os.path.exists(Path(checkpoint_path)/\"clip_finetuned_polyhaven.pt\"):\n",
    "                os.remove(Path(checkpoint_path)/\"clip_finetuned_polyhaven.pt\")\n",
    "            best_score=val_metrics\n",
    "            torch.save(model.state_dict(), Path(checkpoint_path)/\"clip_finetuned_polyhaven.pt\")\n",
    "            \n",
    "    return history\n",
    "            \n",
    "\n",
    "results=train_model(N_EPOCHS,tr_dl)"
   ]
  },
  {
   "cell_type": "markdown",
   "id": "6212287d",
   "metadata": {},
   "source": [
    "https://github.com/openai/CLIP/issues/83"
   ]
  },
  {
   "cell_type": "code",
   "execution_count": 15,
   "id": "493b1d52",
   "metadata": {
    "execution": {
     "iopub.execute_input": "2022-10-20T00:18:11.632699Z",
     "iopub.status.busy": "2022-10-20T00:18:11.631439Z",
     "iopub.status.idle": "2022-10-20T00:18:11.927470Z",
     "shell.execute_reply": "2022-10-20T00:18:11.926599Z"
    },
    "papermill": {
     "duration": 1.959447,
     "end_time": "2022-10-20T00:18:11.929437",
     "exception": false,
     "start_time": "2022-10-20T00:18:09.969990",
     "status": "completed"
    },
    "tags": []
   },
   "outputs": [
    {
     "data": {
      "image/png": "[encoded data removed]",
      "text/plain": [
       "<Figure size 1000x600 with 1 Axes>"
      ]
     },
     "metadata": {},
     "output_type": "display_data"
    }
   ],
   "source": [
    "## lets see loss\n",
    "f,ax=plt.subplots(figsize=(10,6))\n",
    "plt.plot(results['val_loss'],label=\"validation\")\n",
    "plt.plot(results['train_loss'],label=\"train\")\n",
    "plt.legend()\n",
    "plt.suptitle(\"Training & Validation Loss during fine-tuning\");"
   ]
  }
 ],
 "metadata": {
  "kernelspec": {
   "display_name": "Python 3",
   "language": "python",
   "name": "python3"
  },
  "language_info": {
   "codemirror_mode": {
    "name": "ipython",
    "version": 3
   },
   "file_extension": ".py",
   "mimetype": "text/x-python",
   "name": "python",
   "nbconvert_exporter": "python",
   "pygments_lexer": "ipython3",
   "version": "3.11.4"
  },
  "papermill": {
   "default_parameters": {},
   "duration": 35125.472105,
   "end_time": "2022-10-20T00:18:16.308932",
   "environment_variables": {},
   "exception": null,
   "input_path": "__notebook__.ipynb",
   "output_path": "__notebook__.ipynb",
   "parameters": {},
   "start_time": "2022-10-19T14:32:50.836827",
   "version": "2.3.4"
  }
 },
 "nbformat": 4,
 "nbformat_minor": 5
}
