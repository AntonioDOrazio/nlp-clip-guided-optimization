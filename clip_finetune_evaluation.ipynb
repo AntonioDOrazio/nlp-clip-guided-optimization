{
 "cells": [
  {
   "cell_type": "code",
   "execution_count": 1,
   "id": "ed3c2c3f",
   "metadata": {
    "execution": {
     "iopub.execute_input": "2022-10-19T14:33:23.072611Z",
     "iopub.status.busy": "2022-10-19T14:33:23.072255Z",
     "iopub.status.idle": "2022-10-19T14:33:26.094441Z",
     "shell.execute_reply": "2022-10-19T14:33:26.092801Z"
    },
    "papermill": {
     "duration": 3.031208,
     "end_time": "2022-10-19T14:33:26.096660",
     "exception": false,
     "start_time": "2022-10-19T14:33:23.065452",
     "status": "completed"
    },
    "tags": []
   },
   "outputs": [
    {
     "name": "stdout",
     "output_type": "stream",
     "text": [
      "Torch version: 2.0.1\n"
     ]
    }
   ],
   "source": [
    "import numpy as np\n",
    "import clip\n",
    "import torch\n",
    "from tqdm.notebook import tqdm\n",
    "from pkg_resources import packaging\n",
    "import os\n",
    "import torch\n",
    "from torchvision import datasets, transforms\n",
    "from torch.utils.data import Dataset, DataLoader\n",
    "import matplotlib.pyplot as plt\n",
    "from sklearn.model_selection import train_test_split\n",
    "import numpy as np\n",
    "from PIL import Image\n",
    "import torch.nn as nn\n",
    "from torch.utils.data.sampler import SubsetRandomSampler\n",
    "print(\"Torch version:\", torch.__version__)"
   ]
  },
  {
   "cell_type": "markdown",
   "id": "e55df4a0",
   "metadata": {},
   "source": [
    "## Load VAE"
   ]
  },
  {
   "cell_type": "code",
   "execution_count": 2,
   "id": "c56dd6eb",
   "metadata": {},
   "outputs": [
    {
     "name": "stdout",
     "output_type": "stream",
     "text": [
      "dummy input shape  torch.Size([4096])\n"
     ]
    },
    {
     "data": {
      "text/plain": [
       "<All keys matched successfully>"
      ]
     },
     "execution_count": 2,
     "metadata": {},
     "output_type": "execute_result"
    }
   ],
   "source": [
    "DEVICE=\"cuda:0\" if torch.cuda.is_available() else \"cpu\"\n",
    "\n",
    "from model import VAE\n",
    "vae = VAE().to(DEVICE)\n",
    "\n",
    "to_tensor = transforms.ToTensor()\n",
    "\n",
    "vae_transform = transforms.Compose([\n",
    "        transforms.Normalize(\n",
    "            mean=[0.485, 0.456, 0.406],\n",
    "            std=[0.229, 0.224, 0.225])\n",
    "    ])\n",
    "\n",
    "vae.load_state_dict(torch.load(\"train_results/model_weights_final.pth\"))"
   ]
  },
  {
   "cell_type": "code",
   "execution_count": 3,
   "id": "80d7ca59",
   "metadata": {},
   "outputs": [],
   "source": [
    "def apply_vae(img, model_vae):\n",
    "    img_vae = model_vae(vae_transform(img))[0]\n",
    "    return img_vae.detach()"
   ]
  },
  {
   "cell_type": "markdown",
   "id": "13c31400",
   "metadata": {},
   "source": [
    "## Load CLIP Loss"
   ]
  },
  {
   "cell_type": "code",
   "execution_count": 4,
   "id": "a962f710",
   "metadata": {},
   "outputs": [],
   "source": [
    "class CustomCLIPSimilarity(torch.nn.Module):\n",
    "\n",
    "    def __init__(self, clip_model=\"ViT-B/32\", checkpoint=None):#, resize=224):\n",
    "        super(CustomCLIPSimilarity, self).__init__()\n",
    "        self.model, clip_preprocess = clip.load(clip_model, device=\"cuda\", jit=False)\n",
    "        self.model.eval()\n",
    "\n",
    "        if checkpoint is not None:\n",
    "            # source: https://github.com/openai/CLIP/issues/83\n",
    "            ckpt = torch.load(checkpoint)\n",
    "            self.model.load_state_dict(ckpt)\n",
    "    \n",
    "        # Remove from the CLIP preprocessor the PIL related operations\n",
    "        self.preprocess = transforms.Compose([\n",
    "                clip_preprocess.transforms[0],\n",
    "                clip_preprocess.transforms[1],\n",
    "                clip_preprocess.transforms[4]\n",
    "        ])\n",
    "\n",
    "    def forward(self, image, text, crop=True):\n",
    "        image = self.preprocess(image) \n",
    "        \n",
    "        image_features = self.model.encode_image(image)\n",
    "        text_features = self.model.encode_text(text)\n",
    "        \n",
    "        similarity = torch.nn.functional.cosine_similarity(image_features, text_features)*100\n",
    "\n",
    "        return similarity"
   ]
  },
  {
   "cell_type": "markdown",
   "id": "1b0ab759",
   "metadata": {
    "papermill": {
     "duration": 0.005363,
     "end_time": "2022-10-19T14:33:26.107979",
     "exception": false,
     "start_time": "2022-10-19T14:33:26.102616",
     "status": "completed"
    },
    "tags": []
   },
   "source": [
    "## Load Data"
   ]
  },
  {
   "cell_type": "code",
   "execution_count": 5,
   "id": "5b995613",
   "metadata": {
    "execution": {
     "iopub.execute_input": "2022-10-19T14:33:26.120568Z",
     "iopub.status.busy": "2022-10-19T14:33:26.119385Z",
     "iopub.status.idle": "2022-10-19T14:33:27.107706Z",
     "shell.execute_reply": "2022-10-19T14:33:27.106772Z"
    },
    "papermill": {
     "duration": 0.996497,
     "end_time": "2022-10-19T14:33:27.109711",
     "exception": false,
     "start_time": "2022-10-19T14:33:26.113214",
     "status": "completed"
    },
    "tags": []
   },
   "outputs": [],
   "source": [
    "## Get labels\n",
    "from pathlib import Path\n",
    "import pandas as pd\n",
    "labels=pd.read_json(\"dataset/polyhaven.json\")"
   ]
  },
  {
   "cell_type": "code",
   "execution_count": 6,
   "id": "ed183e55",
   "metadata": {},
   "outputs": [],
   "source": [
    "train = labels\n",
    "train.sort_values(by=\"name\", ascending=True, inplace=True)"
   ]
  },
  {
   "cell_type": "code",
   "execution_count": 7,
   "id": "1dd043d4",
   "metadata": {
    "execution": {
     "iopub.execute_input": "2022-10-19T14:37:02.926636Z",
     "iopub.status.busy": "2022-10-19T14:37:02.926294Z",
     "iopub.status.idle": "2022-10-19T14:37:03.049287Z",
     "shell.execute_reply": "2022-10-19T14:37:03.048356Z"
    },
    "papermill": {
     "duration": 0.245791,
     "end_time": "2022-10-19T14:37:03.051592",
     "exception": false,
     "start_time": "2022-10-19T14:37:02.805801",
     "status": "completed"
    },
    "tags": []
   },
   "outputs": [],
   "source": [
    "image_folder = datasets.ImageFolder(\"dataset/polyhaven_clip\",transform=to_tensor) "
   ]
  },
  {
   "cell_type": "code",
   "execution_count": 8,
   "id": "ea0461e9",
   "metadata": {
    "execution": {
     "iopub.execute_input": "2022-10-19T14:37:03.256395Z",
     "iopub.status.busy": "2022-10-19T14:37:03.255786Z",
     "iopub.status.idle": "2022-10-19T14:37:03.267453Z",
     "shell.execute_reply": "2022-10-19T14:37:03.266555Z"
    },
    "papermill": {
     "duration": 0.115815,
     "end_time": "2022-10-19T14:37:03.270052",
     "exception": false,
     "start_time": "2022-10-19T14:37:03.154237",
     "status": "completed"
    },
    "tags": []
   },
   "outputs": [
    {
     "data": {
      "text/plain": [
       "477"
      ]
     },
     "execution_count": 8,
     "metadata": {},
     "output_type": "execute_result"
    }
   ],
   "source": [
    "## Create datasets\n",
    "class PolyHaven(Dataset):\n",
    "    def __init__(self,captions,image_tensors):\n",
    "        self.captions=captions\n",
    "        self.images=image_tensors\n",
    "        \n",
    "    def __getitem__(self,idx):\n",
    "        image_idx,_=self.images[idx]\n",
    "        caption_idx=self.captions[idx]\n",
    "        return {'image':image_idx,'caption': \" \".join(caption_idx)}\n",
    "        \n",
    "    def __len__(self):\n",
    "        return len(self.captions)\n",
    "    \n",
    "dataset = PolyHaven(train.caption.values.tolist(), image_folder)\n",
    "len(dataset)"
   ]
  },
  {
   "cell_type": "code",
   "execution_count": 9,
   "id": "9f54e00c",
   "metadata": {
    "execution": {
     "iopub.execute_input": "2022-10-19T14:37:03.472451Z",
     "iopub.status.busy": "2022-10-19T14:37:03.472023Z",
     "iopub.status.idle": "2022-10-19T14:37:03.479735Z",
     "shell.execute_reply": "2022-10-19T14:37:03.478902Z"
    },
    "papermill": {
     "duration": 0.111519,
     "end_time": "2022-10-19T14:37:03.481784",
     "exception": false,
     "start_time": "2022-10-19T14:37:03.370265",
     "status": "completed"
    },
    "tags": []
   },
   "outputs": [],
   "source": [
    "## create dataloaders\n",
    "BATCH_SIZE  =  1\n",
    "TEST_SPLIT  = .3\n",
    "RANDOM_SEED = 128#42\n",
    "\n",
    "dataset_size = train.shape[0]\n",
    "indices = list(range(dataset_size))\n",
    "split = int(np.floor(TEST_SPLIT * dataset_size))\n",
    "np.random.seed(RANDOM_SEED)\n",
    "np.random.shuffle(indices)\n",
    "\n",
    "_, val_indices = indices[split:], indices[:split]\n",
    "\n",
    "valid_sampler = SubsetRandomSampler(val_indices)\n",
    "ts_dl = DataLoader(dataset, batch_size=BATCH_SIZE, sampler=valid_sampler)"
   ]
  },
  {
   "cell_type": "markdown",
   "id": "9293d4b5",
   "metadata": {
    "papermill": {
     "duration": 0.11322,
     "end_time": "2022-10-19T14:37:03.906649",
     "exception": false,
     "start_time": "2022-10-19T14:37:03.793429",
     "status": "completed"
    },
    "tags": []
   },
   "source": [
    "## Evaluation code"
   ]
  },
  {
   "cell_type": "code",
   "execution_count": 10,
   "id": "eebfead4",
   "metadata": {},
   "outputs": [],
   "source": [
    "DEVICE=\"cuda:0\" if torch.cuda.is_available() else \"cpu\"\n",
    "\n",
    "vae.eval()\n",
    "vae.requires_grad_(False)\n",
    "\n",
    "def evaluate(test_dataloader, clip_similarity, use_vae=False):\n",
    "\n",
    "    tot_batches = 0\n",
    "    tot_similarity = 0\n",
    "    \n",
    "    for data in tqdm(test_dataloader):\n",
    "        if use_vae == True:\n",
    "            img_batch=apply_vae(data['image'].to(DEVICE), vae)\n",
    "        else: \n",
    "            img_batch=data['image'].to(DEVICE)\n",
    "\n",
    "        captions_batch = clip.tokenize(data['caption'],truncate=True).to(DEVICE)\n",
    "        \n",
    "        with torch.no_grad():\n",
    "            tot_similarity += clip_similarity(img_batch, captions_batch)\n",
    "        tot_batches +=1\n",
    "\n",
    "        del captions_batch\n",
    "        del data\n",
    "        torch.cuda.empty_cache()\n",
    "\n",
    "    return (tot_similarity/tot_batches).cpu().item()\n",
    "        "
   ]
  },
  {
   "cell_type": "markdown",
   "id": "28567245",
   "metadata": {},
   "source": [
    "## Running the Evaluation"
   ]
  },
  {
   "cell_type": "code",
   "execution_count": 11,
   "id": "8bcecb69",
   "metadata": {},
   "outputs": [],
   "source": [
    "results = {}\n",
    "clip_sim = None"
   ]
  },
  {
   "cell_type": "code",
   "execution_count": 12,
   "id": "03ec2fa5",
   "metadata": {},
   "outputs": [
    {
     "data": {
      "application/vnd.jupyter.widget-view+json": {
       "model_id": "c92e235512eb49da9990f5d1d3e2311d",
       "version_major": 2,
       "version_minor": 0
      },
      "text/plain": [
       "  0%|          | 0/143 [00:00<?, ?it/s]"
      ]
     },
     "metadata": {},
     "output_type": "display_data"
    },
    {
     "name": "stderr",
     "output_type": "stream",
     "text": [
      "/home/antonio/miniconda3/envs/nlp-env/lib/python3.11/site-packages/torchvision/transforms/functional.py:1603: UserWarning: The default value of the antialias parameter of all the resizing transforms (Resize(), RandomResizedCrop(), etc.) will change from None to True in v0.17, in order to be consistent across the PIL and Tensor backends. To suppress this warning, directly pass antialias=True (recommended, future default), antialias=None (current default, which means False for Tensors and True for PIL), or antialias=False (only works on Tensors - PIL will still use antialiasing). This also applies if you are using the inference transforms from the models weights: update the call to weights.transforms(antialias=True).\n",
      "  warnings.warn(\n",
      "/home/antonio/miniconda3/envs/nlp-env/lib/python3.11/site-packages/torch/nn/modules/conv.py:459: UserWarning: Applied workaround for CuDNN issue, install nvrtc.so (Triggered internally at /opt/conda/conda-bld/pytorch_1682343995622/work/aten/src/ATen/native/cudnn/Conv_v8.cpp:80.)\n",
      "  return F.conv2d(input, weight, bias, self.stride,\n"
     ]
    }
   ],
   "source": [
    "if clip_sim in locals():\n",
    "    del clip_sim\n",
    "    torch.cuda.empty_cache()\n",
    "\n",
    "\n",
    "clip_sim = CustomCLIPSimilarity(clip_model=\"ViT-B/32\")\n",
    "\n",
    "results[\"baseline_no_vae\"] = evaluate(test_dataloader=ts_dl, clip_similarity=clip_sim, use_vae=None)"
   ]
  },
  {
   "cell_type": "code",
   "execution_count": 13,
   "id": "05ad55cf",
   "metadata": {},
   "outputs": [
    {
     "data": {
      "application/vnd.jupyter.widget-view+json": {
       "model_id": "c0ab611dd5844bb9acad2b9b3873eb7d",
       "version_major": 2,
       "version_minor": 0
      },
      "text/plain": [
       "  0%|          | 0/143 [00:00<?, ?it/s]"
      ]
     },
     "metadata": {},
     "output_type": "display_data"
    }
   ],
   "source": [
    "if clip_sim in locals():\n",
    "    del clip_sim\n",
    "    torch.cuda.empty_cache()\n",
    "\n",
    "\n",
    "clip_sim = CustomCLIPSimilarity(clip_model=\"ViT-B/32\")\n",
    "\n",
    "results[\"baseline_vae\"] = evaluate(test_dataloader=ts_dl, clip_similarity=clip_sim, use_vae=True)"
   ]
  },
  {
   "cell_type": "code",
   "execution_count": 14,
   "id": "8f9c2267",
   "metadata": {},
   "outputs": [
    {
     "data": {
      "application/vnd.jupyter.widget-view+json": {
       "model_id": "4d0cfa48069d4daeb5628a576b938eb8",
       "version_major": 2,
       "version_minor": 0
      },
      "text/plain": [
       "  0%|          | 0/143 [00:00<?, ?it/s]"
      ]
     },
     "metadata": {},
     "output_type": "display_data"
    }
   ],
   "source": [
    "if clip_sim in locals():\n",
    "    del clip_sim\n",
    "    torch.cuda.empty_cache()\n",
    "\n",
    "clip_loss = CustomCLIPSimilarity(clip_model=\"ViT-B/32\", checkpoint=\"clip_checkpoints/clip_finetuned_polyhaven.pt\")\n",
    "results[\"ft_polyhaven_no_vae\"] = evaluate(test_dataloader=ts_dl, clip_similarity=clip_sim, use_vae=False)\n"
   ]
  },
  {
   "cell_type": "code",
   "execution_count": 15,
   "id": "d99ca633",
   "metadata": {},
   "outputs": [
    {
     "data": {
      "application/vnd.jupyter.widget-view+json": {
       "model_id": "b179239972ee48e78ca614448bc6909b",
       "version_major": 2,
       "version_minor": 0
      },
      "text/plain": [
       "  0%|          | 0/143 [00:00<?, ?it/s]"
      ]
     },
     "metadata": {},
     "output_type": "display_data"
    }
   ],
   "source": [
    "if clip_sim in locals():\n",
    "    del clip_sim\n",
    "    torch.cuda.empty_cache()\n",
    "\n",
    "clip_loss = CustomCLIPSimilarity(clip_model=\"ViT-B/32\", checkpoint=\"clip_checkpoints/clip_finetuned_polyhaven.pt\")\n",
    "results[\"ft_polyhaven_vae\"] = evaluate(test_dataloader=ts_dl, clip_similarity=clip_sim, use_vae=True)\n"
   ]
  },
  {
   "cell_type": "code",
   "execution_count": 16,
   "id": "4fed8837",
   "metadata": {},
   "outputs": [
    {
     "data": {
      "application/vnd.jupyter.widget-view+json": {
       "model_id": "0a4188d9b5c0406881a8347c1b47afed",
       "version_major": 2,
       "version_minor": 0
      },
      "text/plain": [
       "  0%|          | 0/143 [00:00<?, ?it/s]"
      ]
     },
     "metadata": {},
     "output_type": "display_data"
    }
   ],
   "source": [
    "if clip_sim in locals():\n",
    "    del clip_sim\n",
    "    torch.cuda.empty_cache()\n",
    "\n",
    "clip_loss = CustomCLIPSimilarity(clip_model=\"ViT-B/32\", checkpoint=\"clip_checkpoints/clip_finetuned_vae.pt\")\n",
    "results[\"ft_vae_no_vae\"] = evaluate(test_dataloader=ts_dl, clip_similarity=clip_sim, use_vae=False)\n"
   ]
  },
  {
   "cell_type": "code",
   "execution_count": 17,
   "id": "e9677fac",
   "metadata": {},
   "outputs": [
    {
     "data": {
      "application/vnd.jupyter.widget-view+json": {
       "model_id": "8bf32d6245744679af4c02289f465e98",
       "version_major": 2,
       "version_minor": 0
      },
      "text/plain": [
       "  0%|          | 0/143 [00:00<?, ?it/s]"
      ]
     },
     "metadata": {},
     "output_type": "display_data"
    }
   ],
   "source": [
    "if clip_sim in locals():\n",
    "    del clip_sim\n",
    "    torch.cuda.empty_cache()\n",
    "\n",
    "clip_loss = CustomCLIPSimilarity(clip_model=\"ViT-B/32\", checkpoint=\"clip_checkpoints/clip_finetuned_vae.pt\")\n",
    "results[\"ft_vae_vae\"] = evaluate(test_dataloader=ts_dl, clip_similarity=clip_sim, use_vae=True)\n"
   ]
  },
  {
   "cell_type": "markdown",
   "id": "4c56d584",
   "metadata": {},
   "source": [
    "## Results"
   ]
  },
  {
   "cell_type": "markdown",
   "id": "0f6ff151",
   "metadata": {},
   "source": [
    "#### Code"
   ]
  },
  {
   "cell_type": "code",
   "execution_count": 19,
   "id": "3bdd3d34",
   "metadata": {},
   "outputs": [],
   "source": [
    "def show_finetune_scores(results):\n",
    "\n",
    "    import matplotlib.pyplot as plt\n",
    "    import numpy as np\n",
    "\n",
    "    models = ['Baseline ViT-B/32', 'PolyHaven Finetune', 'VAE Finetune']\n",
    "    scores_polyhaven = [round(results[\"baseline_no_vae\"],3), round(results[\"ft_polyhaven_no_vae\"],3), round(results[\"ft_vae_no_vae\"],3)]\n",
    "    scores_vae = [round(results[\"baseline_vae\"],3), round(results[\"ft_polyhaven_vae\"],3),round(results[\"ft_vae_vae\"],3)]\n",
    "\n",
    "    bar_width = 0.35\n",
    "    index = np.arange(len(models))\n",
    "\n",
    "    plt.bar(index, scores_polyhaven, bar_width, label='PolyHaven Images', alpha=0.75, color='blue')\n",
    "    plt.bar(index + bar_width, scores_vae, bar_width, label='VAE Images', alpha=0.75, color='green')\n",
    "\n",
    "    plt.xlabel('Model')\n",
    "    plt.ylabel('Scores')\n",
    "    plt.title('Scores by Model and Dataset')\n",
    "    plt.xticks(index + bar_width / 2, models)\n",
    "    plt.legend(loc='lower right')\n",
    "\n",
    "    for i, val in enumerate(scores_polyhaven):\n",
    "        if val == max(scores_polyhaven):\n",
    "            plt.text(i, val + 0.1, str(val)+\"%\", ha='center', va='bottom', color='red', fontsize=8)\n",
    "        else:\n",
    "            plt.text(i, val + 0.1, str(val)+\"%\", ha='center', va='bottom', color='black', fontsize=8)\n",
    "\n",
    "    for i, val in enumerate(scores_vae):\n",
    "        if val == max(scores_vae):\n",
    "            plt.text(i + bar_width, val + 0.1, str(val)+\"%\", ha='center', va='bottom', color='red', fontsize=8)\n",
    "        else:\n",
    "            plt.text(i + bar_width, val + 0.1, str(val)+\"%\", ha='center', va='bottom', color='black', fontsize=8)\n",
    "\n",
    "    plt.show()\n"
   ]
  },
  {
   "cell_type": "markdown",
   "id": "0c370b0b",
   "metadata": {},
   "source": [
    "### Visualization"
   ]
  },
  {
   "cell_type": "code",
   "execution_count": 21,
   "id": "40c26c86",
   "metadata": {},
   "outputs": [
    {
     "data": {
      "image/png": "[encoded data removed]",
      "text/plain": [
       "<Figure size 640x480 with 1 Axes>"
      ]
     },
     "metadata": {},
     "output_type": "display_data"
    }
   ],
   "source": [
    "show_finetune_scores(results)"
   ]
  }
 ],
 "metadata": {
  "kernelspec": {
   "display_name": "Python 3",
   "language": "python",
   "name": "python3"
  },
  "language_info": {
   "codemirror_mode": {
    "name": "ipython",
    "version": 3
   },
   "file_extension": ".py",
   "mimetype": "text/x-python",
   "name": "python",
   "nbconvert_exporter": "python",
   "pygments_lexer": "ipython3",
   "version": "3.11.4"
  },
  "papermill": {
   "default_parameters": {},
   "duration": 35125.472105,
   "end_time": "2022-10-20T00:18:16.308932",
   "environment_variables": {},
   "exception": null,
   "input_path": "__notebook__.ipynb",
   "output_path": "__notebook__.ipynb",
   "parameters": {},
   "start_time": "2022-10-19T14:32:50.836827",
   "version": "2.3.4"
  }
 },
 "nbformat": 4,
 "nbformat_minor": 5
}
